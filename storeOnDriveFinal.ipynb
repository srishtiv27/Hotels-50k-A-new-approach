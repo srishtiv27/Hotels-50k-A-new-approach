{
  "cells": [
    {
      "cell_type": "markdown",
      "source": [
        "In this Colab notebook, we have the code which helps us to store all the images from our dataset to the drive.\n",
        "In our dataset, the images are provided as a URL. We are fetching the images from the URL and uploading them on drive.\n",
        "\n",
        "For our initial approach, we only uploaded the first 100k images from the training dataset."
      ],
      "metadata": {
        "id": "kn0y8y2_gr_m"
      }
    },
    {
      "cell_type": "code",
      "execution_count": null,
      "metadata": {
        "colab": {
          "base_uri": "https://localhost:8080/"
        },
        "id": "3TmzxWfVQu3b",
        "outputId": "c055347f-cde0-46e7-b232-53214a4951d9"
      },
      "outputs": [
        {
          "name": "stdout",
          "output_type": "stream",
          "text": [
            "Mounted at /content/gdrive\n"
          ]
        }
      ],
      "source": [
        "from google.colab import drive\n",
        "drive.mount('/content/gdrive')"
      ]
    },
    {
      "cell_type": "code",
      "execution_count": null,
      "metadata": {
        "colab": {
          "base_uri": "https://localhost:8080/",
          "height": 204
        },
        "id": "irnF8vsNwkdr",
        "outputId": "0953c17b-7d00-4a06-dc68-e8013534fb3b"
      },
      "outputs": [
        {
          "data": {
            "text/html": [
              "<div>\n",
              "<style scoped>\n",
              "    .dataframe tbody tr th:only-of-type {\n",
              "        vertical-align: middle;\n",
              "    }\n",
              "\n",
              "    .dataframe tbody tr th {\n",
              "        vertical-align: top;\n",
              "    }\n",
              "\n",
              "    .dataframe thead th {\n",
              "        text-align: right;\n",
              "    }\n",
              "</style>\n",
              "<table border=\"1\" class=\"dataframe\">\n",
              "  <thead>\n",
              "    <tr style=\"text-align: right;\">\n",
              "      <th></th>\n",
              "      <th>image_id</th>\n",
              "      <th>hotel_id</th>\n",
              "      <th>image_url</th>\n",
              "      <th>image_source</th>\n",
              "      <th>upload_timestamp</th>\n",
              "    </tr>\n",
              "  </thead>\n",
              "  <tbody>\n",
              "    <tr>\n",
              "      <th>0</th>\n",
              "      <td>3485</td>\n",
              "      <td>18187</td>\n",
              "      <td>https://traffickcam.com/images/2016/10/2015090...</td>\n",
              "      <td>traffickcam</td>\n",
              "      <td>##########</td>\n",
              "    </tr>\n",
              "    <tr>\n",
              "      <th>1</th>\n",
              "      <td>3486</td>\n",
              "      <td>18187</td>\n",
              "      <td>https://traffickcam.com/images/2016/10/2015090...</td>\n",
              "      <td>traffickcam</td>\n",
              "      <td>##########</td>\n",
              "    </tr>\n",
              "    <tr>\n",
              "      <th>2</th>\n",
              "      <td>3663</td>\n",
              "      <td>73224</td>\n",
              "      <td>https://traffickcam.com/images/2016/10/2015091...</td>\n",
              "      <td>traffickcam</td>\n",
              "      <td>9/17/15 19:33</td>\n",
              "    </tr>\n",
              "    <tr>\n",
              "      <th>3</th>\n",
              "      <td>2586939</td>\n",
              "      <td>86350</td>\n",
              "      <td>https://traffickcam.com/images/2017/2/20160125...</td>\n",
              "      <td>traffickcam</td>\n",
              "      <td>1/25/16 19:12</td>\n",
              "    </tr>\n",
              "    <tr>\n",
              "      <th>4</th>\n",
              "      <td>2586950</td>\n",
              "      <td>1533</td>\n",
              "      <td>https://traffickcam.com/images/2017/2/20160125...</td>\n",
              "      <td>traffickcam</td>\n",
              "      <td>1/25/16 17:23</td>\n",
              "    </tr>\n",
              "  </tbody>\n",
              "</table>\n",
              "</div>"
            ],
            "text/plain": [
              "   image_id  hotel_id  ... image_source upload_timestamp\n",
              "0      3485     18187  ...  traffickcam       ##########\n",
              "1      3486     18187  ...  traffickcam       ##########\n",
              "2      3663     73224  ...  traffickcam    9/17/15 19:33\n",
              "3   2586939     86350  ...  traffickcam    1/25/16 19:12\n",
              "4   2586950      1533  ...  traffickcam    1/25/16 17:23\n",
              "\n",
              "[5 rows x 5 columns]"
            ]
          },
          "execution_count": 2,
          "metadata": {},
          "output_type": "execute_result"
        }
      ],
      "source": [
        "# Storing the dataset into a pandas dataframe\n",
        "import pandas as pd\n",
        "\n",
        "# Get this dataset from this link: https://drive.google.com/file/d/1K3EGKEOgF9KosIgl2jt_g-cywIQHbZny/view?usp=sharing\n",
        "# We are uploading the 100k subset\n",
        "hotels = pd.read_csv(\"/content/gdrive/MyDrive/AI Sem 5/AI Project/Datasets/hotels_subset_100K.csv\")\n",
        "\n",
        "# Displaying the dataset\n",
        "hotels.head()"
      ]
    },
    {
      "cell_type": "markdown",
      "source": [
        "In our dataset, some of the links were no longer operational. So we decided to write the serial number of the missing images in a text file."
      ],
      "metadata": {
        "id": "JdihF2dDiMUn"
      }
    },
    {
      "cell_type": "code",
      "execution_count": null,
      "metadata": {
        "id": "TM2vBXgovtJA"
      },
      "outputs": [],
      "source": [
        "# Creating a new file object in append mode\n",
        "\n",
        "file_object = open('/content/gdrive/MyDrive/AI Sem 5/AI Project/missing_images.txt', 'a')"
      ]
    },
    {
      "cell_type": "code",
      "execution_count": null,
      "metadata": {
        "id": "Qqr5zd9JHGlt"
      },
      "outputs": [],
      "source": [
        "# Used to the bypass the security check for the traffickcam website\n",
        "\n",
        "import ssl\n",
        "ssl._create_default_https_context = ssl._create_unverified_context"
      ]
    },
    {
      "cell_type": "code",
      "execution_count": null,
      "metadata": {
        "id": "lTy2POTkSjRO"
      },
      "outputs": [],
      "source": [
        "import urllib.request\n",
        "\n",
        "# Loads image from a url\n",
        "def loadImage(URL, image_num):\n",
        "  try:\n",
        "    with urllib.request.urlopen(URL) as url:\n",
        "      with open(f'/content/gdrive/MyDrive/AI Sem 5/AI Project/Hotel Images/img{image_num}.jpg', 'wb') as f:\n",
        "        f.write(url.read())\n",
        "  except:\n",
        "    file_object.write(f'{image_num}, ')"
      ]
    },
    {
      "cell_type": "code",
      "execution_count": null,
      "metadata": {
        "colab": {
          "background_save": true
        },
        "id": "RVX_1_niyhFi"
      },
      "outputs": [],
      "source": [
        "# Uploading the images to drive\n",
        "\n",
        "for i in range(0, len(hotels['hotel_id'])):\n",
        "    image_url = all_hotels['image_url'][i]\n",
        "    loadImage(image_url, i)"
      ]
    }
  ],
  "metadata": {
    "colab": {
      "collapsed_sections": [],
      "name": "storeOnDriveFinal.ipynb",
      "provenance": []
    },
    "kernelspec": {
      "display_name": "Python 3",
      "name": "python3"
    },
    "language_info": {
      "name": "python"
    }
  },
  "nbformat": 4,
  "nbformat_minor": 0
}