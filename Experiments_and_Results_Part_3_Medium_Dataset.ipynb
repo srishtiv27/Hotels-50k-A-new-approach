{
  "nbformat": 4,
  "nbformat_minor": 0,
  "metadata": {
    "colab": {
      "name": "Experiments and Results Part 3: Medium Dataset.ipynb",
      "provenance": []
    },
    "kernelspec": {
      "name": "python3",
      "display_name": "Python 3"
    },
    "language_info": {
      "name": "python"
    },
    "accelerator": "GPU"
  },
  "cells": [
    {
      "cell_type": "code",
      "execution_count": null,
      "metadata": {
        "colab": {
          "base_uri": "https://localhost:8080/"
        },
        "id": "YebTTKb5lWjb",
        "outputId": "36504485-8cbc-4cd4-8f2d-78edde24e6cc"
      },
      "outputs": [
        {
          "output_type": "stream",
          "name": "stdout",
          "text": [
            "Drive already mounted at /content/gdrive; to attempt to forcibly remount, call drive.mount(\"/content/gdrive\", force_remount=True).\n"
          ]
        }
      ],
      "source": [
        "from google.colab import drive\n",
        "drive.mount('/content/gdrive')"
      ]
    },
    {
      "cell_type": "code",
      "source": [
        "import pandas as pd\n",
        "\n",
        "# Get the all_hotels dataset from this link:  https://drive.google.com/file/d/1RBJrf-cugclChTt7FYNNRgtZY7ES0SPa/view?usp=sharing\n",
        "all_hotels = pd.read_csv(\"/content/gdrive/MyDrive/AI/datasets/project dataset/train_set.csv\", names=[\"image_id\", \"hotel_id\", \"image_url\", \"image_source\", \"upload_timestamp\"])\n",
        "# Displaying the dataset\n",
        "all_hotels.head()"
      ],
      "metadata": {
        "id": "2z1To3eRlo8J",
        "colab": {
          "base_uri": "https://localhost:8080/",
          "height": 206
        },
        "outputId": "316d4a5c-3ba9-463a-d9ea-08611c98a4b9"
      },
      "execution_count": null,
      "outputs": [
        {
          "output_type": "execute_result",
          "data": {
            "text/html": [
              "<div>\n",
              "<style scoped>\n",
              "    .dataframe tbody tr th:only-of-type {\n",
              "        vertical-align: middle;\n",
              "    }\n",
              "\n",
              "    .dataframe tbody tr th {\n",
              "        vertical-align: top;\n",
              "    }\n",
              "\n",
              "    .dataframe thead th {\n",
              "        text-align: right;\n",
              "    }\n",
              "</style>\n",
              "<table border=\"1\" class=\"dataframe\">\n",
              "  <thead>\n",
              "    <tr style=\"text-align: right;\">\n",
              "      <th></th>\n",
              "      <th>image_id</th>\n",
              "      <th>hotel_id</th>\n",
              "      <th>image_url</th>\n",
              "      <th>image_source</th>\n",
              "      <th>upload_timestamp</th>\n",
              "    </tr>\n",
              "  </thead>\n",
              "  <tbody>\n",
              "    <tr>\n",
              "      <th>0</th>\n",
              "      <td>3485</td>\n",
              "      <td>18187</td>\n",
              "      <td>https://traffickcam.com/images/2016/10/2015090...</td>\n",
              "      <td>traffickcam</td>\n",
              "      <td>9/9/15 17:23</td>\n",
              "    </tr>\n",
              "    <tr>\n",
              "      <th>1</th>\n",
              "      <td>3486</td>\n",
              "      <td>18187</td>\n",
              "      <td>https://traffickcam.com/images/2016/10/2015090...</td>\n",
              "      <td>traffickcam</td>\n",
              "      <td>9/9/15 17:23</td>\n",
              "    </tr>\n",
              "    <tr>\n",
              "      <th>2</th>\n",
              "      <td>3663</td>\n",
              "      <td>73224</td>\n",
              "      <td>https://traffickcam.com/images/2016/10/2015091...</td>\n",
              "      <td>traffickcam</td>\n",
              "      <td>9/17/15 19:33</td>\n",
              "    </tr>\n",
              "    <tr>\n",
              "      <th>3</th>\n",
              "      <td>2586939</td>\n",
              "      <td>86350</td>\n",
              "      <td>https://traffickcam.com/images/2017/2/20160125...</td>\n",
              "      <td>traffickcam</td>\n",
              "      <td>1/25/16 19:12</td>\n",
              "    </tr>\n",
              "    <tr>\n",
              "      <th>4</th>\n",
              "      <td>2586950</td>\n",
              "      <td>1533</td>\n",
              "      <td>https://traffickcam.com/images/2017/2/20160125...</td>\n",
              "      <td>traffickcam</td>\n",
              "      <td>1/25/16 17:23</td>\n",
              "    </tr>\n",
              "  </tbody>\n",
              "</table>\n",
              "</div>"
            ],
            "text/plain": [
              "   image_id  hotel_id  ... image_source upload_timestamp\n",
              "0      3485     18187  ...  traffickcam     9/9/15 17:23\n",
              "1      3486     18187  ...  traffickcam     9/9/15 17:23\n",
              "2      3663     73224  ...  traffickcam    9/17/15 19:33\n",
              "3   2586939     86350  ...  traffickcam    1/25/16 19:12\n",
              "4   2586950      1533  ...  traffickcam    1/25/16 17:23\n",
              "\n",
              "[5 rows x 5 columns]"
            ]
          },
          "metadata": {},
          "execution_count": 2
        }
      ]
    },
    {
      "cell_type": "code",
      "source": [
        "# Get the hotels dataset from this link:  https://drive.google.com/file/d/1on3NRztK5KdGxiaC_L_ogOJl7VeuaFqe/view?usp=sharing\n",
        "hotels = pd.read_csv('/content/gdrive/MyDrive/AI/datasets/170k/hotels_subset_170k_without_missing_final.csv')"
      ],
      "metadata": {
        "id": "p6WfmE6e5CjT"
      },
      "execution_count": null,
      "outputs": []
    },
    {
      "cell_type": "code",
      "source": [
        "hotels"
      ],
      "metadata": {
        "colab": {
          "base_uri": "https://localhost:8080/",
          "height": 424
        },
        "id": "xcFS7SSm5m5Z",
        "outputId": "7d98e260-fe41-4241-ca52-84b7245234ae"
      },
      "execution_count": null,
      "outputs": [
        {
          "output_type": "execute_result",
          "data": {
            "text/html": [
              "<div>\n",
              "<style scoped>\n",
              "    .dataframe tbody tr th:only-of-type {\n",
              "        vertical-align: middle;\n",
              "    }\n",
              "\n",
              "    .dataframe tbody tr th {\n",
              "        vertical-align: top;\n",
              "    }\n",
              "\n",
              "    .dataframe thead th {\n",
              "        text-align: right;\n",
              "    }\n",
              "</style>\n",
              "<table border=\"1\" class=\"dataframe\">\n",
              "  <thead>\n",
              "    <tr style=\"text-align: right;\">\n",
              "      <th></th>\n",
              "      <th>image_id</th>\n",
              "      <th>hotel_id</th>\n",
              "      <th>image_url</th>\n",
              "      <th>image_source</th>\n",
              "      <th>upload_timestamp</th>\n",
              "      <th>serial_number</th>\n",
              "    </tr>\n",
              "  </thead>\n",
              "  <tbody>\n",
              "    <tr>\n",
              "      <th>0</th>\n",
              "      <td>3485</td>\n",
              "      <td>18187</td>\n",
              "      <td>https://traffickcam.com/images/2016/10/2015090...</td>\n",
              "      <td>traffickcam</td>\n",
              "      <td>9/9/15 17:23</td>\n",
              "      <td>0</td>\n",
              "    </tr>\n",
              "    <tr>\n",
              "      <th>1</th>\n",
              "      <td>3486</td>\n",
              "      <td>18187</td>\n",
              "      <td>https://traffickcam.com/images/2016/10/2015090...</td>\n",
              "      <td>traffickcam</td>\n",
              "      <td>9/9/15 17:23</td>\n",
              "      <td>1</td>\n",
              "    </tr>\n",
              "    <tr>\n",
              "      <th>2</th>\n",
              "      <td>3663</td>\n",
              "      <td>73224</td>\n",
              "      <td>https://traffickcam.com/images/2016/10/2015091...</td>\n",
              "      <td>traffickcam</td>\n",
              "      <td>9/17/15 19:33</td>\n",
              "      <td>2</td>\n",
              "    </tr>\n",
              "    <tr>\n",
              "      <th>3</th>\n",
              "      <td>2586939</td>\n",
              "      <td>86350</td>\n",
              "      <td>https://traffickcam.com/images/2017/2/20160125...</td>\n",
              "      <td>traffickcam</td>\n",
              "      <td>1/25/16 19:12</td>\n",
              "      <td>3</td>\n",
              "    </tr>\n",
              "    <tr>\n",
              "      <th>4</th>\n",
              "      <td>2586950</td>\n",
              "      <td>1533</td>\n",
              "      <td>https://traffickcam.com/images/2017/2/20160125...</td>\n",
              "      <td>traffickcam</td>\n",
              "      <td>1/25/16 17:23</td>\n",
              "      <td>4</td>\n",
              "    </tr>\n",
              "    <tr>\n",
              "      <th>...</th>\n",
              "      <td>...</td>\n",
              "      <td>...</td>\n",
              "      <td>...</td>\n",
              "      <td>...</td>\n",
              "      <td>...</td>\n",
              "      <td>...</td>\n",
              "    </tr>\n",
              "    <tr>\n",
              "      <th>160046</th>\n",
              "      <td>7057086</td>\n",
              "      <td>7671</td>\n",
              "      <td>https://i.travelapi.com/hotels/1000000/50000/4...</td>\n",
              "      <td>travel_website</td>\n",
              "      <td>2019-12-19 20:39:39</td>\n",
              "      <td>169994</td>\n",
              "    </tr>\n",
              "    <tr>\n",
              "      <th>160047</th>\n",
              "      <td>7057087</td>\n",
              "      <td>7671</td>\n",
              "      <td>https://i.travelapi.com/hotels/1000000/50000/4...</td>\n",
              "      <td>travel_website</td>\n",
              "      <td>2019-12-19 20:39:39</td>\n",
              "      <td>169995</td>\n",
              "    </tr>\n",
              "    <tr>\n",
              "      <th>160048</th>\n",
              "      <td>7057088</td>\n",
              "      <td>7671</td>\n",
              "      <td>https://i.travelapi.com/hotels/1000000/50000/4...</td>\n",
              "      <td>travel_website</td>\n",
              "      <td>2019-12-19 20:39:39</td>\n",
              "      <td>169996</td>\n",
              "    </tr>\n",
              "    <tr>\n",
              "      <th>160049</th>\n",
              "      <td>7057089</td>\n",
              "      <td>7671</td>\n",
              "      <td>https://i.travelapi.com/hotels/1000000/50000/4...</td>\n",
              "      <td>travel_website</td>\n",
              "      <td>2019-12-19 20:39:39</td>\n",
              "      <td>169997</td>\n",
              "    </tr>\n",
              "    <tr>\n",
              "      <th>160050</th>\n",
              "      <td>7057090</td>\n",
              "      <td>7671</td>\n",
              "      <td>https://i.travelapi.com/hotels/1000000/50000/4...</td>\n",
              "      <td>travel_website</td>\n",
              "      <td>2019-12-19 20:39:39</td>\n",
              "      <td>169998</td>\n",
              "    </tr>\n",
              "  </tbody>\n",
              "</table>\n",
              "<p>160051 rows × 6 columns</p>\n",
              "</div>"
            ],
            "text/plain": [
              "        image_id  hotel_id  ...     upload_timestamp serial_number\n",
              "0           3485     18187  ...         9/9/15 17:23             0\n",
              "1           3486     18187  ...         9/9/15 17:23             1\n",
              "2           3663     73224  ...        9/17/15 19:33             2\n",
              "3        2586939     86350  ...        1/25/16 19:12             3\n",
              "4        2586950      1533  ...        1/25/16 17:23             4\n",
              "...          ...       ...  ...                  ...           ...\n",
              "160046   7057086      7671  ...  2019-12-19 20:39:39        169994\n",
              "160047   7057087      7671  ...  2019-12-19 20:39:39        169995\n",
              "160048   7057088      7671  ...  2019-12-19 20:39:39        169996\n",
              "160049   7057089      7671  ...  2019-12-19 20:39:39        169997\n",
              "160050   7057090      7671  ...  2019-12-19 20:39:39        169998\n",
              "\n",
              "[160051 rows x 6 columns]"
            ]
          },
          "metadata": {},
          "execution_count": 4
        }
      ]
    },
    {
      "cell_type": "code",
      "source": [
        "hotels_id_dist = pd.DataFrame(hotels['hotel_id'].value_counts()).reset_index()"
      ],
      "metadata": {
        "id": "WKRKb-HlM8m9"
      },
      "execution_count": null,
      "outputs": []
    },
    {
      "cell_type": "code",
      "source": [
        "hotels_id_dist.rename(columns={'index': 'hotel_id', 'hotel_id': 'count'}, inplace=True)"
      ],
      "metadata": {
        "id": "lbRJSYE7M_tY"
      },
      "execution_count": null,
      "outputs": []
    },
    {
      "cell_type": "code",
      "source": [
        "hotels_id_dist"
      ],
      "metadata": {
        "colab": {
          "base_uri": "https://localhost:8080/",
          "height": 424
        },
        "id": "tmBXdaV5NBhS",
        "outputId": "8cd85f2d-0bd2-49af-cc2a-d2f74102550f"
      },
      "execution_count": null,
      "outputs": [
        {
          "output_type": "execute_result",
          "data": {
            "text/html": [
              "<div>\n",
              "<style scoped>\n",
              "    .dataframe tbody tr th:only-of-type {\n",
              "        vertical-align: middle;\n",
              "    }\n",
              "\n",
              "    .dataframe tbody tr th {\n",
              "        vertical-align: top;\n",
              "    }\n",
              "\n",
              "    .dataframe thead th {\n",
              "        text-align: right;\n",
              "    }\n",
              "</style>\n",
              "<table border=\"1\" class=\"dataframe\">\n",
              "  <thead>\n",
              "    <tr style=\"text-align: right;\">\n",
              "      <th></th>\n",
              "      <th>hotel_id</th>\n",
              "      <th>count</th>\n",
              "    </tr>\n",
              "  </thead>\n",
              "  <tbody>\n",
              "    <tr>\n",
              "      <th>0</th>\n",
              "      <td>6798</td>\n",
              "      <td>328</td>\n",
              "    </tr>\n",
              "    <tr>\n",
              "      <th>1</th>\n",
              "      <td>1240</td>\n",
              "      <td>258</td>\n",
              "    </tr>\n",
              "    <tr>\n",
              "      <th>2</th>\n",
              "      <td>873</td>\n",
              "      <td>244</td>\n",
              "    </tr>\n",
              "    <tr>\n",
              "      <th>3</th>\n",
              "      <td>5201</td>\n",
              "      <td>166</td>\n",
              "    </tr>\n",
              "    <tr>\n",
              "      <th>4</th>\n",
              "      <td>6611</td>\n",
              "      <td>165</td>\n",
              "    </tr>\n",
              "    <tr>\n",
              "      <th>...</th>\n",
              "      <td>...</td>\n",
              "      <td>...</td>\n",
              "    </tr>\n",
              "    <tr>\n",
              "      <th>15315</th>\n",
              "      <td>7832</td>\n",
              "      <td>1</td>\n",
              "    </tr>\n",
              "    <tr>\n",
              "      <th>15316</th>\n",
              "      <td>34443</td>\n",
              "      <td>1</td>\n",
              "    </tr>\n",
              "    <tr>\n",
              "      <th>15317</th>\n",
              "      <td>70134</td>\n",
              "      <td>1</td>\n",
              "    </tr>\n",
              "    <tr>\n",
              "      <th>15318</th>\n",
              "      <td>36205</td>\n",
              "      <td>1</td>\n",
              "    </tr>\n",
              "    <tr>\n",
              "      <th>15319</th>\n",
              "      <td>76601</td>\n",
              "      <td>1</td>\n",
              "    </tr>\n",
              "  </tbody>\n",
              "</table>\n",
              "<p>15320 rows × 2 columns</p>\n",
              "</div>"
            ],
            "text/plain": [
              "       hotel_id  count\n",
              "0          6798    328\n",
              "1          1240    258\n",
              "2           873    244\n",
              "3          5201    166\n",
              "4          6611    165\n",
              "...         ...    ...\n",
              "15315      7832      1\n",
              "15316     34443      1\n",
              "15317     70134      1\n",
              "15318     36205      1\n",
              "15319     76601      1\n",
              "\n",
              "[15320 rows x 2 columns]"
            ]
          },
          "metadata": {},
          "execution_count": 7
        }
      ]
    },
    {
      "cell_type": "markdown",
      "source": [
        "# **Medium Dataset**"
      ],
      "metadata": {
        "id": "sWzcHpr9ufcM"
      }
    },
    {
      "cell_type": "markdown",
      "source": [
        "To create the medium dataset, we decided to choose hotels which have between 48-50 images. We felt that this was a good intermediate between over 100 images per hotel in the easy dataset and only a few images per hotel in the difficult dataset."
      ],
      "metadata": {
        "id": "WQ3qIosPM6Kh"
      }
    },
    {
      "cell_type": "code",
      "source": [
        "medium_dataset_dist = hotels_id_dist[hotels_id_dist['count'] >= 48][hotels_id_dist['count'] <= 50]"
      ],
      "metadata": {
        "id": "7-hrRTcPtinI",
        "colab": {
          "base_uri": "https://localhost:8080/"
        },
        "outputId": "e69c2fb3-24d1-4b04-d6f6-36c2132c764b"
      },
      "execution_count": null,
      "outputs": [
        {
          "output_type": "stream",
          "name": "stderr",
          "text": [
            "/usr/local/lib/python3.7/dist-packages/ipykernel_launcher.py:1: UserWarning: Boolean Series key will be reindexed to match DataFrame index.\n",
            "  \"\"\"Entry point for launching an IPython kernel.\n"
          ]
        }
      ]
    },
    {
      "cell_type": "code",
      "source": [
        "medium_dataset_dist"
      ],
      "metadata": {
        "colab": {
          "base_uri": "https://localhost:8080/",
          "height": 424
        },
        "id": "p8R2lj4buRz9",
        "outputId": "0af912c4-0e07-4d41-dce7-147d6d971df4"
      },
      "execution_count": null,
      "outputs": [
        {
          "output_type": "execute_result",
          "data": {
            "text/html": [
              "<div>\n",
              "<style scoped>\n",
              "    .dataframe tbody tr th:only-of-type {\n",
              "        vertical-align: middle;\n",
              "    }\n",
              "\n",
              "    .dataframe tbody tr th {\n",
              "        vertical-align: top;\n",
              "    }\n",
              "\n",
              "    .dataframe thead th {\n",
              "        text-align: right;\n",
              "    }\n",
              "</style>\n",
              "<table border=\"1\" class=\"dataframe\">\n",
              "  <thead>\n",
              "    <tr style=\"text-align: right;\">\n",
              "      <th></th>\n",
              "      <th>hotel_id</th>\n",
              "      <th>count</th>\n",
              "    </tr>\n",
              "  </thead>\n",
              "  <tbody>\n",
              "    <tr>\n",
              "      <th>309</th>\n",
              "      <td>5328</td>\n",
              "      <td>50</td>\n",
              "    </tr>\n",
              "    <tr>\n",
              "      <th>310</th>\n",
              "      <td>7606</td>\n",
              "      <td>50</td>\n",
              "    </tr>\n",
              "    <tr>\n",
              "      <th>311</th>\n",
              "      <td>6226</td>\n",
              "      <td>50</td>\n",
              "    </tr>\n",
              "    <tr>\n",
              "      <th>312</th>\n",
              "      <td>6276</td>\n",
              "      <td>50</td>\n",
              "    </tr>\n",
              "    <tr>\n",
              "      <th>313</th>\n",
              "      <td>3418</td>\n",
              "      <td>50</td>\n",
              "    </tr>\n",
              "    <tr>\n",
              "      <th>...</th>\n",
              "      <td>...</td>\n",
              "      <td>...</td>\n",
              "    </tr>\n",
              "    <tr>\n",
              "      <th>370</th>\n",
              "      <td>3979</td>\n",
              "      <td>48</td>\n",
              "    </tr>\n",
              "    <tr>\n",
              "      <th>371</th>\n",
              "      <td>6439</td>\n",
              "      <td>48</td>\n",
              "    </tr>\n",
              "    <tr>\n",
              "      <th>372</th>\n",
              "      <td>3275</td>\n",
              "      <td>48</td>\n",
              "    </tr>\n",
              "    <tr>\n",
              "      <th>373</th>\n",
              "      <td>1188</td>\n",
              "      <td>48</td>\n",
              "    </tr>\n",
              "    <tr>\n",
              "      <th>374</th>\n",
              "      <td>4070</td>\n",
              "      <td>48</td>\n",
              "    </tr>\n",
              "  </tbody>\n",
              "</table>\n",
              "<p>66 rows × 2 columns</p>\n",
              "</div>"
            ],
            "text/plain": [
              "     hotel_id  count\n",
              "309      5328     50\n",
              "310      7606     50\n",
              "311      6226     50\n",
              "312      6276     50\n",
              "313      3418     50\n",
              "..        ...    ...\n",
              "370      3979     48\n",
              "371      6439     48\n",
              "372      3275     48\n",
              "373      1188     48\n",
              "374      4070     48\n",
              "\n",
              "[66 rows x 2 columns]"
            ]
          },
          "metadata": {},
          "execution_count": 16
        }
      ]
    },
    {
      "cell_type": "code",
      "source": [
        "medium_hotels_dist = medium_dataset_dist['hotel_id']"
      ],
      "metadata": {
        "id": "e0MjU6y1uois"
      },
      "execution_count": null,
      "outputs": []
    },
    {
      "cell_type": "code",
      "source": [
        "medium_hotels_dist = list(medium_hotels_dist)"
      ],
      "metadata": {
        "id": "L68tA2fAu7rs"
      },
      "execution_count": null,
      "outputs": []
    },
    {
      "cell_type": "code",
      "source": [
        "medium_dataset_hotels = pd.DataFrame(columns=['image_id','hotel_id','image_url','image_source','upload_timestamp', 'serial_number'])"
      ],
      "metadata": {
        "id": "GSM1rByAvIob"
      },
      "execution_count": null,
      "outputs": []
    },
    {
      "cell_type": "code",
      "source": [
        "for i in range(0, len(hotels['hotel_id'])):\n",
        "  if hotels['hotel_id'][i] in medium_hotels_dist:\n",
        "      medium_dataset_hotels.loc[len(medium_dataset_hotels)] = [hotels['image_id'][i], hotels['hotel_id'][i],\n",
        "                                               hotels['image_url'][i], hotels['image_source'][i],\n",
        "                                               hotels['upload_timestamp'][i], hotels['serial_number'][i]]"
      ],
      "metadata": {
        "id": "08MDUONxvU2X"
      },
      "execution_count": null,
      "outputs": []
    },
    {
      "cell_type": "code",
      "source": [
        "medium_dataset_hotels"
      ],
      "metadata": {
        "colab": {
          "base_uri": "https://localhost:8080/",
          "height": 424
        },
        "id": "-sqyjcPIvhEH",
        "outputId": "ddf8778e-38d8-47c2-ab76-41f5b9080a9f"
      },
      "execution_count": null,
      "outputs": [
        {
          "output_type": "execute_result",
          "data": {
            "text/html": [
              "<div>\n",
              "<style scoped>\n",
              "    .dataframe tbody tr th:only-of-type {\n",
              "        vertical-align: middle;\n",
              "    }\n",
              "\n",
              "    .dataframe tbody tr th {\n",
              "        vertical-align: top;\n",
              "    }\n",
              "\n",
              "    .dataframe thead th {\n",
              "        text-align: right;\n",
              "    }\n",
              "</style>\n",
              "<table border=\"1\" class=\"dataframe\">\n",
              "  <thead>\n",
              "    <tr style=\"text-align: right;\">\n",
              "      <th></th>\n",
              "      <th>image_id</th>\n",
              "      <th>hotel_id</th>\n",
              "      <th>image_url</th>\n",
              "      <th>image_source</th>\n",
              "      <th>upload_timestamp</th>\n",
              "      <th>serial_number</th>\n",
              "    </tr>\n",
              "  </thead>\n",
              "  <tbody>\n",
              "    <tr>\n",
              "      <th>0</th>\n",
              "      <td>2593671</td>\n",
              "      <td>29934</td>\n",
              "      <td>https://traffickcam.com/images/2017/7/20160625...</td>\n",
              "      <td>traffickcam</td>\n",
              "      <td>6/25/16 18:05</td>\n",
              "      <td>1237</td>\n",
              "    </tr>\n",
              "    <tr>\n",
              "      <th>1</th>\n",
              "      <td>2594074</td>\n",
              "      <td>29934</td>\n",
              "      <td>https://traffickcam.com/images/2017/7/20160625...</td>\n",
              "      <td>traffickcam</td>\n",
              "      <td>6/25/16 20:22</td>\n",
              "      <td>1316</td>\n",
              "    </tr>\n",
              "    <tr>\n",
              "      <th>2</th>\n",
              "      <td>2596975</td>\n",
              "      <td>1324</td>\n",
              "      <td>https://traffickcam.com/images/2017/7/20160626...</td>\n",
              "      <td>traffickcam</td>\n",
              "      <td>6/26/16 18:19</td>\n",
              "      <td>1888</td>\n",
              "    </tr>\n",
              "    <tr>\n",
              "      <th>3</th>\n",
              "      <td>2596976</td>\n",
              "      <td>1324</td>\n",
              "      <td>https://traffickcam.com/images/2017/7/20160626...</td>\n",
              "      <td>traffickcam</td>\n",
              "      <td>6/26/16 18:19</td>\n",
              "      <td>1889</td>\n",
              "    </tr>\n",
              "    <tr>\n",
              "      <th>4</th>\n",
              "      <td>2597016</td>\n",
              "      <td>4241</td>\n",
              "      <td>https://traffickcam.com/images/2017/7/20160626...</td>\n",
              "      <td>traffickcam</td>\n",
              "      <td>6/26/16 18:36</td>\n",
              "      <td>1895</td>\n",
              "    </tr>\n",
              "    <tr>\n",
              "      <th>...</th>\n",
              "      <td>...</td>\n",
              "      <td>...</td>\n",
              "      <td>...</td>\n",
              "      <td>...</td>\n",
              "      <td>...</td>\n",
              "      <td>...</td>\n",
              "    </tr>\n",
              "    <tr>\n",
              "      <th>3234</th>\n",
              "      <td>6021862</td>\n",
              "      <td>7606</td>\n",
              "      <td>https://i.travelapi.com/hotels/1000000/20000/1...</td>\n",
              "      <td>travel_website</td>\n",
              "      <td>2019-12-18 19:37:53</td>\n",
              "      <td>168950</td>\n",
              "    </tr>\n",
              "    <tr>\n",
              "      <th>3235</th>\n",
              "      <td>6021863</td>\n",
              "      <td>7606</td>\n",
              "      <td>https://i.travelapi.com/hotels/1000000/20000/1...</td>\n",
              "      <td>travel_website</td>\n",
              "      <td>2019-12-18 19:37:53</td>\n",
              "      <td>168951</td>\n",
              "    </tr>\n",
              "    <tr>\n",
              "      <th>3236</th>\n",
              "      <td>6021864</td>\n",
              "      <td>7606</td>\n",
              "      <td>https://i.travelapi.com/hotels/1000000/20000/1...</td>\n",
              "      <td>travel_website</td>\n",
              "      <td>2019-12-18 19:37:53</td>\n",
              "      <td>168952</td>\n",
              "    </tr>\n",
              "    <tr>\n",
              "      <th>3237</th>\n",
              "      <td>6021865</td>\n",
              "      <td>7606</td>\n",
              "      <td>https://i.travelapi.com/hotels/1000000/20000/1...</td>\n",
              "      <td>travel_website</td>\n",
              "      <td>2019-12-18 19:37:53</td>\n",
              "      <td>168953</td>\n",
              "    </tr>\n",
              "    <tr>\n",
              "      <th>3238</th>\n",
              "      <td>6021866</td>\n",
              "      <td>7606</td>\n",
              "      <td>https://i.travelapi.com/hotels/1000000/20000/1...</td>\n",
              "      <td>travel_website</td>\n",
              "      <td>2019-12-18 19:37:53</td>\n",
              "      <td>168954</td>\n",
              "    </tr>\n",
              "  </tbody>\n",
              "</table>\n",
              "<p>3239 rows × 6 columns</p>\n",
              "</div>"
            ],
            "text/plain": [
              "     image_id hotel_id  ...     upload_timestamp serial_number\n",
              "0     2593671    29934  ...        6/25/16 18:05          1237\n",
              "1     2594074    29934  ...        6/25/16 20:22          1316\n",
              "2     2596975     1324  ...        6/26/16 18:19          1888\n",
              "3     2596976     1324  ...        6/26/16 18:19          1889\n",
              "4     2597016     4241  ...        6/26/16 18:36          1895\n",
              "...       ...      ...  ...                  ...           ...\n",
              "3234  6021862     7606  ...  2019-12-18 19:37:53        168950\n",
              "3235  6021863     7606  ...  2019-12-18 19:37:53        168951\n",
              "3236  6021864     7606  ...  2019-12-18 19:37:53        168952\n",
              "3237  6021865     7606  ...  2019-12-18 19:37:53        168953\n",
              "3238  6021866     7606  ...  2019-12-18 19:37:53        168954\n",
              "\n",
              "[3239 rows x 6 columns]"
            ]
          },
          "metadata": {},
          "execution_count": 22
        }
      ]
    },
    {
      "cell_type": "code",
      "source": [
        "from sklearn import preprocessing\n",
        "\n",
        "label_encoder = preprocessing.LabelEncoder()\n",
        "medium_dataset_hotels['new_hotel_id'] = label_encoder.fit_transform(medium_dataset_hotels['hotel_id'])\n",
        "medium_dataset_hotels.head()"
      ],
      "metadata": {
        "colab": {
          "base_uri": "https://localhost:8080/",
          "height": 206
        },
        "id": "N7bDZSdCy-Nc",
        "outputId": "9cddc784-ad42-4812-85dc-7f7dfa081dd7"
      },
      "execution_count": null,
      "outputs": [
        {
          "output_type": "execute_result",
          "data": {
            "text/html": [
              "<div>\n",
              "<style scoped>\n",
              "    .dataframe tbody tr th:only-of-type {\n",
              "        vertical-align: middle;\n",
              "    }\n",
              "\n",
              "    .dataframe tbody tr th {\n",
              "        vertical-align: top;\n",
              "    }\n",
              "\n",
              "    .dataframe thead th {\n",
              "        text-align: right;\n",
              "    }\n",
              "</style>\n",
              "<table border=\"1\" class=\"dataframe\">\n",
              "  <thead>\n",
              "    <tr style=\"text-align: right;\">\n",
              "      <th></th>\n",
              "      <th>image_id</th>\n",
              "      <th>hotel_id</th>\n",
              "      <th>image_url</th>\n",
              "      <th>image_source</th>\n",
              "      <th>upload_timestamp</th>\n",
              "      <th>serial_number</th>\n",
              "      <th>new_hotel_id</th>\n",
              "    </tr>\n",
              "  </thead>\n",
              "  <tbody>\n",
              "    <tr>\n",
              "      <th>0</th>\n",
              "      <td>2593671</td>\n",
              "      <td>29934</td>\n",
              "      <td>https://traffickcam.com/images/2017/7/20160625...</td>\n",
              "      <td>traffickcam</td>\n",
              "      <td>6/25/16 18:05</td>\n",
              "      <td>1237</td>\n",
              "      <td>65</td>\n",
              "    </tr>\n",
              "    <tr>\n",
              "      <th>1</th>\n",
              "      <td>2594074</td>\n",
              "      <td>29934</td>\n",
              "      <td>https://traffickcam.com/images/2017/7/20160625...</td>\n",
              "      <td>traffickcam</td>\n",
              "      <td>6/25/16 20:22</td>\n",
              "      <td>1316</td>\n",
              "      <td>65</td>\n",
              "    </tr>\n",
              "    <tr>\n",
              "      <th>2</th>\n",
              "      <td>2596975</td>\n",
              "      <td>1324</td>\n",
              "      <td>https://traffickcam.com/images/2017/7/20160626...</td>\n",
              "      <td>traffickcam</td>\n",
              "      <td>6/26/16 18:19</td>\n",
              "      <td>1888</td>\n",
              "      <td>9</td>\n",
              "    </tr>\n",
              "    <tr>\n",
              "      <th>3</th>\n",
              "      <td>2596976</td>\n",
              "      <td>1324</td>\n",
              "      <td>https://traffickcam.com/images/2017/7/20160626...</td>\n",
              "      <td>traffickcam</td>\n",
              "      <td>6/26/16 18:19</td>\n",
              "      <td>1889</td>\n",
              "      <td>9</td>\n",
              "    </tr>\n",
              "    <tr>\n",
              "      <th>4</th>\n",
              "      <td>2597016</td>\n",
              "      <td>4241</td>\n",
              "      <td>https://traffickcam.com/images/2017/7/20160626...</td>\n",
              "      <td>traffickcam</td>\n",
              "      <td>6/26/16 18:36</td>\n",
              "      <td>1895</td>\n",
              "      <td>42</td>\n",
              "    </tr>\n",
              "  </tbody>\n",
              "</table>\n",
              "</div>"
            ],
            "text/plain": [
              "  image_id hotel_id  ... serial_number new_hotel_id\n",
              "0  2593671    29934  ...          1237           65\n",
              "1  2594074    29934  ...          1316           65\n",
              "2  2596975     1324  ...          1888            9\n",
              "3  2596976     1324  ...          1889            9\n",
              "4  2597016     4241  ...          1895           42\n",
              "\n",
              "[5 rows x 7 columns]"
            ]
          },
          "metadata": {},
          "execution_count": 23
        }
      ]
    },
    {
      "cell_type": "code",
      "source": [
        "medium_dataset_hotels_20perc = medium_dataset_hotels.groupby('hotel_id', group_keys=False).apply(lambda x: x.sample(frac=0.2))"
      ],
      "metadata": {
        "id": "WziUleV6wQyT"
      },
      "execution_count": null,
      "outputs": []
    },
    {
      "cell_type": "code",
      "source": [
        "medium_dataset_hotels_20perc"
      ],
      "metadata": {
        "colab": {
          "base_uri": "https://localhost:8080/",
          "height": 424
        },
        "id": "Mg8A-9f6wij7",
        "outputId": "9b8a395a-68ea-41d4-df9d-aa3d13c5a4f3"
      },
      "execution_count": null,
      "outputs": [
        {
          "output_type": "execute_result",
          "data": {
            "text/html": [
              "<div>\n",
              "<style scoped>\n",
              "    .dataframe tbody tr th:only-of-type {\n",
              "        vertical-align: middle;\n",
              "    }\n",
              "\n",
              "    .dataframe tbody tr th {\n",
              "        vertical-align: top;\n",
              "    }\n",
              "\n",
              "    .dataframe thead th {\n",
              "        text-align: right;\n",
              "    }\n",
              "</style>\n",
              "<table border=\"1\" class=\"dataframe\">\n",
              "  <thead>\n",
              "    <tr style=\"text-align: right;\">\n",
              "      <th></th>\n",
              "      <th>image_id</th>\n",
              "      <th>hotel_id</th>\n",
              "      <th>image_url</th>\n",
              "      <th>image_source</th>\n",
              "      <th>upload_timestamp</th>\n",
              "      <th>serial_number</th>\n",
              "      <th>new_hotel_id</th>\n",
              "    </tr>\n",
              "  </thead>\n",
              "  <tbody>\n",
              "    <tr>\n",
              "      <th>172</th>\n",
              "      <td>7165261</td>\n",
              "      <td>468</td>\n",
              "      <td>https://i.travelapi.com/hotels/1000000/120000/...</td>\n",
              "      <td>travel_website</td>\n",
              "      <td>2019-12-19 23:37:38</td>\n",
              "      <td>46303</td>\n",
              "      <td>0</td>\n",
              "    </tr>\n",
              "    <tr>\n",
              "      <th>187</th>\n",
              "      <td>7165278</td>\n",
              "      <td>468</td>\n",
              "      <td>https://i.travelapi.com/hotels/1000000/120000/...</td>\n",
              "      <td>travel_website</td>\n",
              "      <td>2019-12-19 23:37:38</td>\n",
              "      <td>46318</td>\n",
              "      <td>0</td>\n",
              "    </tr>\n",
              "    <tr>\n",
              "      <th>166</th>\n",
              "      <td>7165255</td>\n",
              "      <td>468</td>\n",
              "      <td>https://i.travelapi.com/hotels/1000000/120000/...</td>\n",
              "      <td>travel_website</td>\n",
              "      <td>2019-12-19 23:37:38</td>\n",
              "      <td>46297</td>\n",
              "      <td>0</td>\n",
              "    </tr>\n",
              "    <tr>\n",
              "      <th>194</th>\n",
              "      <td>7165285</td>\n",
              "      <td>468</td>\n",
              "      <td>https://i.travelapi.com/hotels/1000000/120000/...</td>\n",
              "      <td>travel_website</td>\n",
              "      <td>2019-12-19 23:37:38</td>\n",
              "      <td>46325</td>\n",
              "      <td>0</td>\n",
              "    </tr>\n",
              "    <tr>\n",
              "      <th>181</th>\n",
              "      <td>7165272</td>\n",
              "      <td>468</td>\n",
              "      <td>https://i.travelapi.com/hotels/1000000/120000/...</td>\n",
              "      <td>travel_website</td>\n",
              "      <td>2019-12-19 23:37:38</td>\n",
              "      <td>46312</td>\n",
              "      <td>0</td>\n",
              "    </tr>\n",
              "    <tr>\n",
              "      <th>...</th>\n",
              "      <td>...</td>\n",
              "      <td>...</td>\n",
              "      <td>...</td>\n",
              "      <td>...</td>\n",
              "      <td>...</td>\n",
              "      <td>...</td>\n",
              "      <td>...</td>\n",
              "    </tr>\n",
              "    <tr>\n",
              "      <th>38</th>\n",
              "      <td>2647483</td>\n",
              "      <td>29934</td>\n",
              "      <td>https://traffickcam.com/images/2017/10/2016090...</td>\n",
              "      <td>traffickcam</td>\n",
              "      <td>9/5/16 12:01</td>\n",
              "      <td>10517</td>\n",
              "      <td>65</td>\n",
              "    </tr>\n",
              "    <tr>\n",
              "      <th>20</th>\n",
              "      <td>2623415</td>\n",
              "      <td>29934</td>\n",
              "      <td>https://traffickcam.com/images/2017/8/20160719...</td>\n",
              "      <td>traffickcam</td>\n",
              "      <td>7/19/16 1:16</td>\n",
              "      <td>6801</td>\n",
              "      <td>65</td>\n",
              "    </tr>\n",
              "    <tr>\n",
              "      <th>85</th>\n",
              "      <td>3834199</td>\n",
              "      <td>29934</td>\n",
              "      <td>https://traffickcam.com/images/2018/4/20170319...</td>\n",
              "      <td>traffickcam</td>\n",
              "      <td>3/19/17 21:39</td>\n",
              "      <td>21433</td>\n",
              "      <td>65</td>\n",
              "    </tr>\n",
              "    <tr>\n",
              "      <th>149</th>\n",
              "      <td>3960165</td>\n",
              "      <td>29934</td>\n",
              "      <td>https://traffickcam.com/images/2019/9/20180820...</td>\n",
              "      <td>traffickcam</td>\n",
              "      <td>8/20/18 15:43</td>\n",
              "      <td>44335</td>\n",
              "      <td>65</td>\n",
              "    </tr>\n",
              "    <tr>\n",
              "      <th>54</th>\n",
              "      <td>2661152</td>\n",
              "      <td>29934</td>\n",
              "      <td>https://traffickcam.com/images/2017/11/2016101...</td>\n",
              "      <td>traffickcam</td>\n",
              "      <td>10/18/16 23:43</td>\n",
              "      <td>13191</td>\n",
              "      <td>65</td>\n",
              "    </tr>\n",
              "  </tbody>\n",
              "</table>\n",
              "<p>660 rows × 7 columns</p>\n",
              "</div>"
            ],
            "text/plain": [
              "    image_id hotel_id  ... serial_number new_hotel_id\n",
              "172  7165261      468  ...         46303            0\n",
              "187  7165278      468  ...         46318            0\n",
              "166  7165255      468  ...         46297            0\n",
              "194  7165285      468  ...         46325            0\n",
              "181  7165272      468  ...         46312            0\n",
              "..       ...      ...  ...           ...          ...\n",
              "38   2647483    29934  ...         10517           65\n",
              "20   2623415    29934  ...          6801           65\n",
              "85   3834199    29934  ...         21433           65\n",
              "149  3960165    29934  ...         44335           65\n",
              "54   2661152    29934  ...         13191           65\n",
              "\n",
              "[660 rows x 7 columns]"
            ]
          },
          "metadata": {},
          "execution_count": 25
        }
      ]
    },
    {
      "cell_type": "code",
      "source": [
        "medium_dataset_hotels_validation = medium_dataset_hotels_20perc.groupby('hotel_id', group_keys=False).apply(lambda x: x.sample(frac=0.5))"
      ],
      "metadata": {
        "id": "OvcMMSIaw_DR"
      },
      "execution_count": null,
      "outputs": []
    },
    {
      "cell_type": "code",
      "source": [
        "medium_dataset_hotels_validation"
      ],
      "metadata": {
        "colab": {
          "base_uri": "https://localhost:8080/",
          "height": 424
        },
        "id": "2V1S9xuBxHgB",
        "outputId": "79233e84-c01e-46d3-d8f5-34e409fae00c"
      },
      "execution_count": null,
      "outputs": [
        {
          "output_type": "execute_result",
          "data": {
            "text/html": [
              "<div>\n",
              "<style scoped>\n",
              "    .dataframe tbody tr th:only-of-type {\n",
              "        vertical-align: middle;\n",
              "    }\n",
              "\n",
              "    .dataframe tbody tr th {\n",
              "        vertical-align: top;\n",
              "    }\n",
              "\n",
              "    .dataframe thead th {\n",
              "        text-align: right;\n",
              "    }\n",
              "</style>\n",
              "<table border=\"1\" class=\"dataframe\">\n",
              "  <thead>\n",
              "    <tr style=\"text-align: right;\">\n",
              "      <th></th>\n",
              "      <th>image_id</th>\n",
              "      <th>hotel_id</th>\n",
              "      <th>image_url</th>\n",
              "      <th>image_source</th>\n",
              "      <th>upload_timestamp</th>\n",
              "      <th>serial_number</th>\n",
              "      <th>new_hotel_id</th>\n",
              "    </tr>\n",
              "  </thead>\n",
              "  <tbody>\n",
              "    <tr>\n",
              "      <th>194</th>\n",
              "      <td>7165285</td>\n",
              "      <td>468</td>\n",
              "      <td>https://i.travelapi.com/hotels/1000000/120000/...</td>\n",
              "      <td>travel_website</td>\n",
              "      <td>2019-12-19 23:37:38</td>\n",
              "      <td>46325</td>\n",
              "      <td>0</td>\n",
              "    </tr>\n",
              "    <tr>\n",
              "      <th>166</th>\n",
              "      <td>7165255</td>\n",
              "      <td>468</td>\n",
              "      <td>https://i.travelapi.com/hotels/1000000/120000/...</td>\n",
              "      <td>travel_website</td>\n",
              "      <td>2019-12-19 23:37:38</td>\n",
              "      <td>46297</td>\n",
              "      <td>0</td>\n",
              "    </tr>\n",
              "    <tr>\n",
              "      <th>153</th>\n",
              "      <td>7165242</td>\n",
              "      <td>468</td>\n",
              "      <td>https://i.travelapi.com/hotels/1000000/120000/...</td>\n",
              "      <td>travel_website</td>\n",
              "      <td>2019-12-19 23:37:38</td>\n",
              "      <td>46284</td>\n",
              "      <td>0</td>\n",
              "    </tr>\n",
              "    <tr>\n",
              "      <th>178</th>\n",
              "      <td>7165267</td>\n",
              "      <td>468</td>\n",
              "      <td>https://i.travelapi.com/hotels/1000000/120000/...</td>\n",
              "      <td>travel_website</td>\n",
              "      <td>2019-12-19 23:37:38</td>\n",
              "      <td>46309</td>\n",
              "      <td>0</td>\n",
              "    </tr>\n",
              "    <tr>\n",
              "      <th>155</th>\n",
              "      <td>7165244</td>\n",
              "      <td>468</td>\n",
              "      <td>https://i.travelapi.com/hotels/1000000/120000/...</td>\n",
              "      <td>travel_website</td>\n",
              "      <td>2019-12-19 23:37:38</td>\n",
              "      <td>46286</td>\n",
              "      <td>0</td>\n",
              "    </tr>\n",
              "    <tr>\n",
              "      <th>...</th>\n",
              "      <td>...</td>\n",
              "      <td>...</td>\n",
              "      <td>...</td>\n",
              "      <td>...</td>\n",
              "      <td>...</td>\n",
              "      <td>...</td>\n",
              "      <td>...</td>\n",
              "    </tr>\n",
              "    <tr>\n",
              "      <th>125</th>\n",
              "      <td>3914081</td>\n",
              "      <td>29934</td>\n",
              "      <td>https://traffickcam.com/images/2019/2/20180103...</td>\n",
              "      <td>traffickcam</td>\n",
              "      <td>1/3/18 23:17</td>\n",
              "      <td>35960</td>\n",
              "      <td>65</td>\n",
              "    </tr>\n",
              "    <tr>\n",
              "      <th>66</th>\n",
              "      <td>2673130</td>\n",
              "      <td>29934</td>\n",
              "      <td>https://traffickcam.com/images/2017/12/2016112...</td>\n",
              "      <td>traffickcam</td>\n",
              "      <td>11/28/16 23:16</td>\n",
              "      <td>15464</td>\n",
              "      <td>65</td>\n",
              "    </tr>\n",
              "    <tr>\n",
              "      <th>85</th>\n",
              "      <td>3834199</td>\n",
              "      <td>29934</td>\n",
              "      <td>https://traffickcam.com/images/2018/4/20170319...</td>\n",
              "      <td>traffickcam</td>\n",
              "      <td>3/19/17 21:39</td>\n",
              "      <td>21433</td>\n",
              "      <td>65</td>\n",
              "    </tr>\n",
              "    <tr>\n",
              "      <th>38</th>\n",
              "      <td>2647483</td>\n",
              "      <td>29934</td>\n",
              "      <td>https://traffickcam.com/images/2017/10/2016090...</td>\n",
              "      <td>traffickcam</td>\n",
              "      <td>9/5/16 12:01</td>\n",
              "      <td>10517</td>\n",
              "      <td>65</td>\n",
              "    </tr>\n",
              "    <tr>\n",
              "      <th>77</th>\n",
              "      <td>2683009</td>\n",
              "      <td>29934</td>\n",
              "      <td>https://traffickcam.com/images/2018/2/20170105...</td>\n",
              "      <td>traffickcam</td>\n",
              "      <td>1/5/17 22:36</td>\n",
              "      <td>17217</td>\n",
              "      <td>65</td>\n",
              "    </tr>\n",
              "  </tbody>\n",
              "</table>\n",
              "<p>330 rows × 7 columns</p>\n",
              "</div>"
            ],
            "text/plain": [
              "    image_id hotel_id  ... serial_number new_hotel_id\n",
              "194  7165285      468  ...         46325            0\n",
              "166  7165255      468  ...         46297            0\n",
              "153  7165242      468  ...         46284            0\n",
              "178  7165267      468  ...         46309            0\n",
              "155  7165244      468  ...         46286            0\n",
              "..       ...      ...  ...           ...          ...\n",
              "125  3914081    29934  ...         35960           65\n",
              "66   2673130    29934  ...         15464           65\n",
              "85   3834199    29934  ...         21433           65\n",
              "38   2647483    29934  ...         10517           65\n",
              "77   2683009    29934  ...         17217           65\n",
              "\n",
              "[330 rows x 7 columns]"
            ]
          },
          "metadata": {},
          "execution_count": 27
        }
      ]
    },
    {
      "cell_type": "code",
      "source": [
        "medium_dataset_hotels_test = pd.DataFrame(columns=['image_id','hotel_id','image_url','image_source','upload_timestamp', 'serial_number', 'new_hotel_id'])"
      ],
      "metadata": {
        "id": "W6fEYuQfyT8f"
      },
      "execution_count": null,
      "outputs": []
    },
    {
      "cell_type": "code",
      "source": [
        "for i in range(0, len(medium_dataset_hotels_20perc['hotel_id'])):\n",
        "    if medium_dataset_hotels_20perc.iloc[i]['serial_number'] not in list(medium_dataset_hotels_validation['serial_number']):\n",
        "      medium_dataset_hotels_test.loc[len(medium_dataset_hotels_test)] = [medium_dataset_hotels_20perc.iloc[i]['image_id'], medium_dataset_hotels_20perc.iloc[i]['hotel_id'],\n",
        "                                                       medium_dataset_hotels_20perc.iloc[i]['image_url'], medium_dataset_hotels_20perc.iloc[i]['image_source'],\n",
        "                                                        medium_dataset_hotels_20perc.iloc[i]['upload_timestamp'], medium_dataset_hotels_20perc.iloc[i]['serial_number'],\n",
        "                                                       medium_dataset_hotels_20perc.iloc[i]['new_hotel_id']]"
      ],
      "metadata": {
        "id": "UaTm3mmJyhEY"
      },
      "execution_count": null,
      "outputs": []
    },
    {
      "cell_type": "code",
      "source": [
        "medium_dataset_hotels_test"
      ],
      "metadata": {
        "colab": {
          "base_uri": "https://localhost:8080/",
          "height": 424
        },
        "id": "JQezMN9-zNEz",
        "outputId": "0e122d40-49be-4caf-cc91-31edb4a5d9f3"
      },
      "execution_count": null,
      "outputs": [
        {
          "output_type": "execute_result",
          "data": {
            "text/html": [
              "<div>\n",
              "<style scoped>\n",
              "    .dataframe tbody tr th:only-of-type {\n",
              "        vertical-align: middle;\n",
              "    }\n",
              "\n",
              "    .dataframe tbody tr th {\n",
              "        vertical-align: top;\n",
              "    }\n",
              "\n",
              "    .dataframe thead th {\n",
              "        text-align: right;\n",
              "    }\n",
              "</style>\n",
              "<table border=\"1\" class=\"dataframe\">\n",
              "  <thead>\n",
              "    <tr style=\"text-align: right;\">\n",
              "      <th></th>\n",
              "      <th>image_id</th>\n",
              "      <th>hotel_id</th>\n",
              "      <th>image_url</th>\n",
              "      <th>image_source</th>\n",
              "      <th>upload_timestamp</th>\n",
              "      <th>serial_number</th>\n",
              "      <th>new_hotel_id</th>\n",
              "    </tr>\n",
              "  </thead>\n",
              "  <tbody>\n",
              "    <tr>\n",
              "      <th>0</th>\n",
              "      <td>7165261</td>\n",
              "      <td>468</td>\n",
              "      <td>https://i.travelapi.com/hotels/1000000/120000/...</td>\n",
              "      <td>travel_website</td>\n",
              "      <td>2019-12-19 23:37:38</td>\n",
              "      <td>46303</td>\n",
              "      <td>0</td>\n",
              "    </tr>\n",
              "    <tr>\n",
              "      <th>1</th>\n",
              "      <td>7165278</td>\n",
              "      <td>468</td>\n",
              "      <td>https://i.travelapi.com/hotels/1000000/120000/...</td>\n",
              "      <td>travel_website</td>\n",
              "      <td>2019-12-19 23:37:38</td>\n",
              "      <td>46318</td>\n",
              "      <td>0</td>\n",
              "    </tr>\n",
              "    <tr>\n",
              "      <th>2</th>\n",
              "      <td>7165272</td>\n",
              "      <td>468</td>\n",
              "      <td>https://i.travelapi.com/hotels/1000000/120000/...</td>\n",
              "      <td>travel_website</td>\n",
              "      <td>2019-12-19 23:37:38</td>\n",
              "      <td>46312</td>\n",
              "      <td>0</td>\n",
              "    </tr>\n",
              "    <tr>\n",
              "      <th>3</th>\n",
              "      <td>7165288</td>\n",
              "      <td>468</td>\n",
              "      <td>https://i.travelapi.com/hotels/1000000/120000/...</td>\n",
              "      <td>travel_website</td>\n",
              "      <td>2019-12-19 23:37:38</td>\n",
              "      <td>46328</td>\n",
              "      <td>0</td>\n",
              "    </tr>\n",
              "    <tr>\n",
              "      <th>4</th>\n",
              "      <td>7165282</td>\n",
              "      <td>468</td>\n",
              "      <td>https://i.travelapi.com/hotels/1000000/120000/...</td>\n",
              "      <td>travel_website</td>\n",
              "      <td>2019-12-19 23:37:38</td>\n",
              "      <td>46322</td>\n",
              "      <td>0</td>\n",
              "    </tr>\n",
              "    <tr>\n",
              "      <th>...</th>\n",
              "      <td>...</td>\n",
              "      <td>...</td>\n",
              "      <td>...</td>\n",
              "      <td>...</td>\n",
              "      <td>...</td>\n",
              "      <td>...</td>\n",
              "      <td>...</td>\n",
              "    </tr>\n",
              "    <tr>\n",
              "      <th>325</th>\n",
              "      <td>3960167</td>\n",
              "      <td>29934</td>\n",
              "      <td>https://traffickcam.com/images/2019/9/20180820...</td>\n",
              "      <td>traffickcam</td>\n",
              "      <td>8/20/18 15:43</td>\n",
              "      <td>44337</td>\n",
              "      <td>65</td>\n",
              "    </tr>\n",
              "    <tr>\n",
              "      <th>326</th>\n",
              "      <td>2652101</td>\n",
              "      <td>29934</td>\n",
              "      <td>https://traffickcam.com/images/2017/10/2016091...</td>\n",
              "      <td>traffickcam</td>\n",
              "      <td>9/19/16 19:05</td>\n",
              "      <td>11447</td>\n",
              "      <td>65</td>\n",
              "    </tr>\n",
              "    <tr>\n",
              "      <th>327</th>\n",
              "      <td>2623415</td>\n",
              "      <td>29934</td>\n",
              "      <td>https://traffickcam.com/images/2017/8/20160719...</td>\n",
              "      <td>traffickcam</td>\n",
              "      <td>7/19/16 1:16</td>\n",
              "      <td>6801</td>\n",
              "      <td>65</td>\n",
              "    </tr>\n",
              "    <tr>\n",
              "      <th>328</th>\n",
              "      <td>3960165</td>\n",
              "      <td>29934</td>\n",
              "      <td>https://traffickcam.com/images/2019/9/20180820...</td>\n",
              "      <td>traffickcam</td>\n",
              "      <td>8/20/18 15:43</td>\n",
              "      <td>44335</td>\n",
              "      <td>65</td>\n",
              "    </tr>\n",
              "    <tr>\n",
              "      <th>329</th>\n",
              "      <td>2661152</td>\n",
              "      <td>29934</td>\n",
              "      <td>https://traffickcam.com/images/2017/11/2016101...</td>\n",
              "      <td>traffickcam</td>\n",
              "      <td>10/18/16 23:43</td>\n",
              "      <td>13191</td>\n",
              "      <td>65</td>\n",
              "    </tr>\n",
              "  </tbody>\n",
              "</table>\n",
              "<p>330 rows × 7 columns</p>\n",
              "</div>"
            ],
            "text/plain": [
              "    image_id hotel_id  ... serial_number new_hotel_id\n",
              "0    7165261      468  ...         46303            0\n",
              "1    7165278      468  ...         46318            0\n",
              "2    7165272      468  ...         46312            0\n",
              "3    7165288      468  ...         46328            0\n",
              "4    7165282      468  ...         46322            0\n",
              "..       ...      ...  ...           ...          ...\n",
              "325  3960167    29934  ...         44337           65\n",
              "326  2652101    29934  ...         11447           65\n",
              "327  2623415    29934  ...          6801           65\n",
              "328  3960165    29934  ...         44335           65\n",
              "329  2661152    29934  ...         13191           65\n",
              "\n",
              "[330 rows x 7 columns]"
            ]
          },
          "metadata": {},
          "execution_count": 31
        }
      ]
    },
    {
      "cell_type": "code",
      "source": [
        "medium_dataset_hotels_train = pd.DataFrame(columns=['image_id','hotel_id','image_url','image_source','upload_timestamp', 'serial_number', 'new_hotel_id'])"
      ],
      "metadata": {
        "id": "8VMFMoitzURF"
      },
      "execution_count": null,
      "outputs": []
    },
    {
      "cell_type": "code",
      "source": [
        "for i in range(0, len(medium_dataset_hotels['hotel_id'])):\n",
        "    if medium_dataset_hotels.iloc[i]['serial_number'] not in list(medium_dataset_hotels_20perc['serial_number']):\n",
        "      medium_dataset_hotels_train.loc[len(medium_dataset_hotels_train)] = [medium_dataset_hotels.iloc[i]['image_id'], medium_dataset_hotels.iloc[i]['hotel_id'],\n",
        "                                                           medium_dataset_hotels.iloc[i]['image_url'], medium_dataset_hotels.iloc[i]['image_source'],\n",
        "                                                           medium_dataset_hotels.iloc[i]['upload_timestamp'], medium_dataset_hotels.iloc[i]['serial_number'],\n",
        "                                                           medium_dataset_hotels.iloc[i]['new_hotel_id']]"
      ],
      "metadata": {
        "id": "H0EBg02hzcWb"
      },
      "execution_count": null,
      "outputs": []
    },
    {
      "cell_type": "code",
      "source": [
        "medium_dataset_hotels_train"
      ],
      "metadata": {
        "colab": {
          "base_uri": "https://localhost:8080/",
          "height": 424
        },
        "id": "W7-eQu9a0DXt",
        "outputId": "cab131c6-8895-4eb2-991b-9cb4b4cfcf39"
      },
      "execution_count": null,
      "outputs": [
        {
          "output_type": "execute_result",
          "data": {
            "text/html": [
              "<div>\n",
              "<style scoped>\n",
              "    .dataframe tbody tr th:only-of-type {\n",
              "        vertical-align: middle;\n",
              "    }\n",
              "\n",
              "    .dataframe tbody tr th {\n",
              "        vertical-align: top;\n",
              "    }\n",
              "\n",
              "    .dataframe thead th {\n",
              "        text-align: right;\n",
              "    }\n",
              "</style>\n",
              "<table border=\"1\" class=\"dataframe\">\n",
              "  <thead>\n",
              "    <tr style=\"text-align: right;\">\n",
              "      <th></th>\n",
              "      <th>image_id</th>\n",
              "      <th>hotel_id</th>\n",
              "      <th>image_url</th>\n",
              "      <th>image_source</th>\n",
              "      <th>upload_timestamp</th>\n",
              "      <th>serial_number</th>\n",
              "      <th>new_hotel_id</th>\n",
              "    </tr>\n",
              "  </thead>\n",
              "  <tbody>\n",
              "    <tr>\n",
              "      <th>0</th>\n",
              "      <td>2593671</td>\n",
              "      <td>29934</td>\n",
              "      <td>https://traffickcam.com/images/2017/7/20160625...</td>\n",
              "      <td>traffickcam</td>\n",
              "      <td>6/25/16 18:05</td>\n",
              "      <td>1237</td>\n",
              "      <td>65</td>\n",
              "    </tr>\n",
              "    <tr>\n",
              "      <th>1</th>\n",
              "      <td>2594074</td>\n",
              "      <td>29934</td>\n",
              "      <td>https://traffickcam.com/images/2017/7/20160625...</td>\n",
              "      <td>traffickcam</td>\n",
              "      <td>6/25/16 20:22</td>\n",
              "      <td>1316</td>\n",
              "      <td>65</td>\n",
              "    </tr>\n",
              "    <tr>\n",
              "      <th>2</th>\n",
              "      <td>2596975</td>\n",
              "      <td>1324</td>\n",
              "      <td>https://traffickcam.com/images/2017/7/20160626...</td>\n",
              "      <td>traffickcam</td>\n",
              "      <td>6/26/16 18:19</td>\n",
              "      <td>1888</td>\n",
              "      <td>9</td>\n",
              "    </tr>\n",
              "    <tr>\n",
              "      <th>3</th>\n",
              "      <td>2596976</td>\n",
              "      <td>1324</td>\n",
              "      <td>https://traffickcam.com/images/2017/7/20160626...</td>\n",
              "      <td>traffickcam</td>\n",
              "      <td>6/26/16 18:19</td>\n",
              "      <td>1889</td>\n",
              "      <td>9</td>\n",
              "    </tr>\n",
              "    <tr>\n",
              "      <th>4</th>\n",
              "      <td>2598281</td>\n",
              "      <td>6461</td>\n",
              "      <td>https://traffickcam.com/images/2017/7/20160627...</td>\n",
              "      <td>traffickcam</td>\n",
              "      <td>6/27/16 5:38</td>\n",
              "      <td>2127</td>\n",
              "      <td>60</td>\n",
              "    </tr>\n",
              "    <tr>\n",
              "      <th>...</th>\n",
              "      <td>...</td>\n",
              "      <td>...</td>\n",
              "      <td>...</td>\n",
              "      <td>...</td>\n",
              "      <td>...</td>\n",
              "      <td>...</td>\n",
              "      <td>...</td>\n",
              "    </tr>\n",
              "    <tr>\n",
              "      <th>2574</th>\n",
              "      <td>6021862</td>\n",
              "      <td>7606</td>\n",
              "      <td>https://i.travelapi.com/hotels/1000000/20000/1...</td>\n",
              "      <td>travel_website</td>\n",
              "      <td>2019-12-18 19:37:53</td>\n",
              "      <td>168950</td>\n",
              "      <td>64</td>\n",
              "    </tr>\n",
              "    <tr>\n",
              "      <th>2575</th>\n",
              "      <td>6021863</td>\n",
              "      <td>7606</td>\n",
              "      <td>https://i.travelapi.com/hotels/1000000/20000/1...</td>\n",
              "      <td>travel_website</td>\n",
              "      <td>2019-12-18 19:37:53</td>\n",
              "      <td>168951</td>\n",
              "      <td>64</td>\n",
              "    </tr>\n",
              "    <tr>\n",
              "      <th>2576</th>\n",
              "      <td>6021864</td>\n",
              "      <td>7606</td>\n",
              "      <td>https://i.travelapi.com/hotels/1000000/20000/1...</td>\n",
              "      <td>travel_website</td>\n",
              "      <td>2019-12-18 19:37:53</td>\n",
              "      <td>168952</td>\n",
              "      <td>64</td>\n",
              "    </tr>\n",
              "    <tr>\n",
              "      <th>2577</th>\n",
              "      <td>6021865</td>\n",
              "      <td>7606</td>\n",
              "      <td>https://i.travelapi.com/hotels/1000000/20000/1...</td>\n",
              "      <td>travel_website</td>\n",
              "      <td>2019-12-18 19:37:53</td>\n",
              "      <td>168953</td>\n",
              "      <td>64</td>\n",
              "    </tr>\n",
              "    <tr>\n",
              "      <th>2578</th>\n",
              "      <td>6021866</td>\n",
              "      <td>7606</td>\n",
              "      <td>https://i.travelapi.com/hotels/1000000/20000/1...</td>\n",
              "      <td>travel_website</td>\n",
              "      <td>2019-12-18 19:37:53</td>\n",
              "      <td>168954</td>\n",
              "      <td>64</td>\n",
              "    </tr>\n",
              "  </tbody>\n",
              "</table>\n",
              "<p>2579 rows × 7 columns</p>\n",
              "</div>"
            ],
            "text/plain": [
              "     image_id hotel_id  ... serial_number new_hotel_id\n",
              "0     2593671    29934  ...          1237           65\n",
              "1     2594074    29934  ...          1316           65\n",
              "2     2596975     1324  ...          1888            9\n",
              "3     2596976     1324  ...          1889            9\n",
              "4     2598281     6461  ...          2127           60\n",
              "...       ...      ...  ...           ...          ...\n",
              "2574  6021862     7606  ...        168950           64\n",
              "2575  6021863     7606  ...        168951           64\n",
              "2576  6021864     7606  ...        168952           64\n",
              "2577  6021865     7606  ...        168953           64\n",
              "2578  6021866     7606  ...        168954           64\n",
              "\n",
              "[2579 rows x 7 columns]"
            ]
          },
          "metadata": {},
          "execution_count": 35
        }
      ]
    },
    {
      "cell_type": "markdown",
      "source": [
        "Note: In case you do not want to perform all this preprocessing to get the datasets, we have saved these datasets in csvs for ready use.\n",
        "The links are as follows:\n",
        "\n",
        "*   medium_dataset_hotels: https://drive.google.com/file/d/1e8mX57OZfcOumel7S3sKK_12Bbou-Mb1/view?usp=sharing\n",
        "*   medium_dataset_hotels_train: https://drive.google.com/file/d/1-hDnt4C94U8VcUW1asr_-OZq_7bV1aNw/view?usp=sharing\n",
        "*   medium_dataset_hotels_test: https://drive.google.com/file/d/1pRhVFNefdZoTzC6EyeH0ikBDiy13rsfn/view?usp=sharing\n",
        "*   medium_dataset_hotels_validation: https://drive.google.com/file/d/1Fxs0VswUE1XbVbVDzsdkpKAy6KNFujij/view?usp=sharing"
      ],
      "metadata": {
        "id": "ZV7l0wr_NE0O"
      }
    },
    {
      "cell_type": "code",
      "source": [
        "import urllib.request\n",
        "\n",
        "# Loads image from a url\n",
        "def loadImage(URL, image_num):\n",
        "  with urllib.request.urlopen(URL) as url:\n",
        "    with open(f'/content/gdrive/MyDrive/AI/Medium Dataset Hotel Images/img{image_num}.jpg', 'wb') as f:\n",
        "      f.write(url.read())"
      ],
      "metadata": {
        "id": "4xbU3lwF0m7k"
      },
      "execution_count": null,
      "outputs": []
    },
    {
      "cell_type": "markdown",
      "source": [
        "Uploading images in medium_dataset_hotels to drive.\n",
        "The i values printed in the exception correspond to those images whose links have become disfunctional"
      ],
      "metadata": {
        "id": "b2PGDcrvNtzm"
      }
    },
    {
      "cell_type": "code",
      "source": [
        "import ssl\n",
        "ssl._create_default_https_context = ssl._create_unverified_context\n",
        "\n",
        "from keras.preprocessing.image import load_img\n",
        "\n",
        "for i in range(len(medium_dataset_hotels['image_url'])):\n",
        "    try: \n",
        "      image_url = medium_dataset_hotels['image_url'][i]\n",
        "      serial_number = medium_dataset_hotels['serial_number'][i]\n",
        "      loadImage(image_url, serial_number)\n",
        "    except:\n",
        "      print(i)"
      ],
      "metadata": {
        "id": "zprkuh7M0tzB",
        "colab": {
          "base_uri": "https://localhost:8080/"
        },
        "outputId": "46c80b81-b353-4c94-cba3-900aabd64778"
      },
      "execution_count": null,
      "outputs": [
        {
          "output_type": "stream",
          "name": "stdout",
          "text": [
            "594\n",
            "598\n",
            "602\n",
            "612\n",
            "616\n",
            "925\n",
            "931\n",
            "937\n",
            "945\n",
            "956\n",
            "958\n",
            "1347\n",
            "1348\n",
            "1350\n",
            "1351\n"
          ]
        }
      ]
    },
    {
      "cell_type": "markdown",
      "source": [
        "To remove the missing images from our three datasets, we are first mapping the i value to the serial number and storing the serial numbers in a list.\n",
        "We are also storing the class corresponding to the serial number in the train, validation and test lists if they belong there. "
      ],
      "metadata": {
        "id": "pCeTS6RVOPUI"
      }
    },
    {
      "cell_type": "code",
      "source": [
        "missing_images_i = [594,598,602,612,616,925,931,937,945,956,958,1347,1348,1350,1351]\n",
        "missing_images_serial_number = []\n",
        "missing_images_class = []\n",
        "missing_images_class_train = []\n",
        "missing_images_class_test = []\n",
        "missing_images_class_validation = []"
      ],
      "metadata": {
        "id": "wWhzKmwWFxle"
      },
      "execution_count": null,
      "outputs": []
    },
    {
      "cell_type": "code",
      "source": [
        "for i in missing_images_i:\n",
        "  serial_number = medium_dataset_hotels['serial_number'][i]\n",
        "  missing_images_serial_number.append(serial_number)\n",
        "  if serial_number in list(medium_dataset_hotels_train['serial_number']):\n",
        "    missing_images_class_train.append(medium_dataset_hotels['new_hotel_id'][i])\n",
        "  elif serial_number in list(medium_dataset_hotels_test['serial_number']):\n",
        "    missing_images_class_test.append(medium_dataset_hotels['new_hotel_id'][i])\n",
        "  elif serial_number in list(medium_dataset_hotels_validation['serial_number']):\n",
        "    missing_images_class_validation.append(medium_dataset_hotels['new_hotel_id'][i])\n",
        "  \n",
        "  missing_images_class.append(medium_dataset_hotels['new_hotel_id'][i])"
      ],
      "metadata": {
        "id": "9JF8Z5JaHbQE"
      },
      "execution_count": null,
      "outputs": []
    },
    {
      "cell_type": "markdown",
      "source": [
        "# **We will apply our three models to the medium dataset**"
      ],
      "metadata": {
        "id": "MmdDolShH78A"
      }
    },
    {
      "cell_type": "code",
      "source": [
        "from tensorflow.keras.applications.resnet50 import preprocess_input\n",
        "from tensorflow.keras.applications.resnet50 import decode_predictions\n",
        "from keras.preprocessing.image import load_img\n",
        "from keras.preprocessing.image import img_to_array\n",
        "train_imgs = []\n",
        "for i in range(0, len(medium_dataset_hotels_train['hotel_id'])):\n",
        "  serial_number =  medium_dataset_hotels_train['serial_number'][i]\n",
        "  # If the image is missing, skip it\n",
        "  if serial_number in missing_images_serial_number:\n",
        "    continue\n",
        "  image = img_to_array(load_img(f'/content/gdrive/MyDrive/AI/Medium Dataset Hotel Images/img{serial_number}.jpg', target_size=(224, 224)))\n",
        "  image = preprocess_input(image)\n",
        "  train_imgs.append(image)\n",
        "\n",
        "  if (i % 1000 == 0):\n",
        "    print(i)"
      ],
      "metadata": {
        "colab": {
          "base_uri": "https://localhost:8080/"
        },
        "id": "9uFMhu3CH4Ys",
        "outputId": "1409a2b1-1a08-445e-9571-b5dcfe0483d1"
      },
      "execution_count": null,
      "outputs": [
        {
          "output_type": "stream",
          "name": "stdout",
          "text": [
            "0\n",
            "1000\n",
            "2000\n"
          ]
        }
      ]
    },
    {
      "cell_type": "code",
      "source": [
        "validation_imgs = []\n",
        "for i in range(0, len(medium_dataset_hotels_validation['hotel_id'])):\n",
        "  serial_number = medium_dataset_hotels_validation.iloc[i]['serial_number']\n",
        "  # If the image is missing, skip it\n",
        "  if serial_number in missing_images_serial_number:\n",
        "    continue\n",
        "  image = img_to_array(load_img(f'/content/gdrive/MyDrive/AI/Medium Dataset Hotel Images/img{serial_number}.jpg', target_size=(224, 224)))\n",
        "  image = preprocess_input(image)\n",
        "  validation_imgs.append(image)\n",
        "  \n",
        "  if (i % 100 == 0):\n",
        "    print(i)"
      ],
      "metadata": {
        "colab": {
          "base_uri": "https://localhost:8080/"
        },
        "id": "H793pn2UISo9",
        "outputId": "d03c6804-e2c9-4ef7-e7b3-098b2ed2fab0"
      },
      "execution_count": null,
      "outputs": [
        {
          "output_type": "stream",
          "name": "stdout",
          "text": [
            "0\n",
            "100\n",
            "200\n",
            "300\n"
          ]
        }
      ]
    },
    {
      "cell_type": "code",
      "source": [
        "test_imgs = []\n",
        "for i in range(0, len(medium_dataset_hotels_test['hotel_id'])):\n",
        "  serial_number = medium_dataset_hotels_test['serial_number'][i]\n",
        "  # If the image is missing, skip it\n",
        "  if serial_number in missing_images_serial_number:\n",
        "    continue\n",
        "  image = img_to_array(load_img(f'/content/gdrive/MyDrive/AI/Medium Dataset Hotel Images/img{serial_number}.jpg', target_size=(224, 224)))\n",
        "  image = preprocess_input(image)\n",
        "  test_imgs.append(image)\n",
        "  \n",
        "  if (i % 100 == 0):\n",
        "    print(i)"
      ],
      "metadata": {
        "colab": {
          "base_uri": "https://localhost:8080/"
        },
        "id": "Ucn2Gpi2Idhk",
        "outputId": "4339f3c7-24e8-4cf0-b14a-aebc39de9c5a"
      },
      "execution_count": null,
      "outputs": [
        {
          "output_type": "stream",
          "name": "stdout",
          "text": [
            "0\n",
            "100\n",
            "200\n",
            "300\n"
          ]
        }
      ]
    },
    {
      "cell_type": "code",
      "source": [
        "import numpy as np\n",
        "\n",
        "train_imgs = np.array(train_imgs)\n",
        "validation_imgs = np.array(validation_imgs)\n",
        "test_imgs = np.array(test_imgs)"
      ],
      "metadata": {
        "id": "2_Nmt0rEInjW"
      },
      "execution_count": null,
      "outputs": []
    },
    {
      "cell_type": "code",
      "source": [
        "train_labels = list(medium_dataset_hotels_train['new_hotel_id'])\n",
        "validation_labels = list(medium_dataset_hotels_validation['new_hotel_id'])\n",
        "test_labels = list(medium_dataset_hotels_test['new_hotel_id'])"
      ],
      "metadata": {
        "id": "wk0t9g0vI1MM"
      },
      "execution_count": null,
      "outputs": []
    },
    {
      "cell_type": "code",
      "source": [
        "# Removing the class corresponding to the missing images from the\n",
        "# labels list of train, test and validation\n",
        "for missing_class in missing_images_class_train:\n",
        "  train_labels.remove(missing_class)\n",
        "\n",
        "for missing_class in missing_images_class_validation:\n",
        "  validation_labels.remove(missing_class)\n",
        "\n",
        "for missing_class in missing_images_class_test:\n",
        "  test_labels.remove(missing_class)"
      ],
      "metadata": {
        "id": "UhXDNFiCI9qO"
      },
      "execution_count": null,
      "outputs": []
    },
    {
      "cell_type": "code",
      "source": [
        "from tensorflow.keras.utils import to_categorical\n",
        "\n",
        "train_labels = to_categorical(train_labels)\n",
        "test_labels = to_categorical(test_labels)\n",
        "validation_labels = to_categorical(validation_labels)"
      ],
      "metadata": {
        "id": "d90CW8NDJAfv"
      },
      "execution_count": null,
      "outputs": []
    },
    {
      "cell_type": "markdown",
      "source": [
        "The medium dataset has 66 classes."
      ],
      "metadata": {
        "id": "L2mF4PWjPL23"
      }
    },
    {
      "cell_type": "code",
      "source": [
        "train_labels.shape"
      ],
      "metadata": {
        "colab": {
          "base_uri": "https://localhost:8080/"
        },
        "id": "vwYZMyDXJCwQ",
        "outputId": "9d76c5d5-2a17-4d30-a259-7404dbaac6b5"
      },
      "execution_count": null,
      "outputs": [
        {
          "output_type": "execute_result",
          "data": {
            "text/plain": [
              "(2566, 66)"
            ]
          },
          "metadata": {},
          "execution_count": 18
        }
      ]
    },
    {
      "cell_type": "code",
      "source": [
        "test_labels.shape"
      ],
      "metadata": {
        "colab": {
          "base_uri": "https://localhost:8080/"
        },
        "id": "d2u4XD5hJFYS",
        "outputId": "39c1b66c-ae86-4100-983e-6b9d0a675e02"
      },
      "execution_count": null,
      "outputs": [
        {
          "output_type": "execute_result",
          "data": {
            "text/plain": [
              "(328, 66)"
            ]
          },
          "metadata": {},
          "execution_count": 19
        }
      ]
    },
    {
      "cell_type": "code",
      "source": [
        "validation_labels.shape"
      ],
      "metadata": {
        "colab": {
          "base_uri": "https://localhost:8080/"
        },
        "id": "z2tVZnRdJH2v",
        "outputId": "d9dccf85-f147-448e-aa5e-392b46edd254"
      },
      "execution_count": null,
      "outputs": [
        {
          "output_type": "execute_result",
          "data": {
            "text/plain": [
              "(330, 66)"
            ]
          },
          "metadata": {},
          "execution_count": 20
        }
      ]
    },
    {
      "cell_type": "markdown",
      "source": [
        "# **Plotting Graph**"
      ],
      "metadata": {
        "id": "CE-2wL7XKP_Y"
      }
    },
    {
      "cell_type": "code",
      "source": [
        "from matplotlib import pyplot\n",
        "\n",
        "def summarize_model(history):\n",
        "\t# plot loss during training\n",
        "  pyplot.figure(figsize=(8,6))\n",
        "  pyplot.subplot(211)\n",
        "  pyplot.title('Loss')\n",
        "  pyplot.plot(history.history['loss'], label='train')\n",
        "  pyplot.plot(history.history['val_loss'], label='test')\n",
        "  pyplot.legend()\n",
        "  # plot accuracy during training\n",
        "  pyplot.subplot(212)\n",
        "  pyplot.title('Accuracy')\n",
        "  pyplot.plot(history.history['accuracy'], label='train')\n",
        "  pyplot.plot(history.history['val_accuracy'], label='test')\n",
        "  pyplot.legend()\n",
        "  pyplot.show()"
      ],
      "metadata": {
        "id": "cnMbGHcYKX6A"
      },
      "execution_count": null,
      "outputs": []
    },
    {
      "cell_type": "markdown",
      "source": [
        "# **Model 1**"
      ],
      "metadata": {
        "id": "ZQN9i65uiVdA"
      }
    },
    {
      "cell_type": "code",
      "source": [
        "from tensorflow.keras.applications.resnet50 import ResNet50\n",
        "from tensorflow.keras.models import Model\n",
        "from tensorflow.keras.layers import Dense\n",
        "from tensorflow.keras.layers import Flatten\n",
        "from tensorflow.keras.layers import Conv2D, MaxPooling2D, Flatten, Dense, Dropout, InputLayer\n",
        "from tensorflow.keras.models import Sequential\n",
        "from tensorflow.keras import Input\n",
        "from tensorflow.keras import optimizers\n",
        "import keras\n",
        "\n",
        "model_1 = Sequential()\n",
        "input_t = Input(shape = (224,224,3))\n",
        "pretrained_model= ResNet50(include_top=False,\n",
        "                           input_tensor=input_t, \n",
        "                   pooling='avg',classes= 50,\n",
        "                   weights='imagenet')\n",
        "for layer in pretrained_model.layers:\n",
        "        layer.trainable=False\n",
        "model_1.add(pretrained_model)\n",
        "model_1.add(Flatten())\n",
        "model_1.add(Dense(512, activation='relu', input_dim = (224,224,3)))\n",
        "output = model_1.add(Dense(66, activation='softmax'))\n",
        "model_1.summary()"
      ],
      "metadata": {
        "colab": {
          "base_uri": "https://localhost:8080/"
        },
        "id": "V0FHm2jDiSxW",
        "outputId": "6bc89580-e05c-4e09-8e6f-9f02b05ff52e"
      },
      "execution_count": null,
      "outputs": [
        {
          "output_type": "stream",
          "name": "stdout",
          "text": [
            "Model: \"sequential_2\"\n",
            "_________________________________________________________________\n",
            " Layer (type)                Output Shape              Param #   \n",
            "=================================================================\n",
            " resnet50 (Functional)       (None, 2048)              23587712  \n",
            "                                                                 \n",
            " flatten_2 (Flatten)         (None, 2048)              0         \n",
            "                                                                 \n",
            " dense_4 (Dense)             (None, 512)               1049088   \n",
            "                                                                 \n",
            " dense_5 (Dense)             (None, 66)                33858     \n",
            "                                                                 \n",
            "=================================================================\n",
            "Total params: 24,670,658\n",
            "Trainable params: 1,082,946\n",
            "Non-trainable params: 23,587,712\n",
            "_________________________________________________________________\n"
          ]
        }
      ]
    },
    {
      "cell_type": "code",
      "source": [
        "model_1.compile(loss='categorical_crossentropy',\n",
        "              optimizer='adam',\n",
        "              metrics=['accuracy'])"
      ],
      "metadata": {
        "id": "Oje10GB_iYre"
      },
      "execution_count": null,
      "outputs": []
    },
    {
      "cell_type": "code",
      "source": [
        "history_1_10 = model_1.fit(x = train_imgs, y = train_labels, validation_data=(validation_imgs, validation_labels), steps_per_epoch=10, epochs=10, verbose=1)"
      ],
      "metadata": {
        "colab": {
          "base_uri": "https://localhost:8080/"
        },
        "id": "NBrEF3yQicAE",
        "outputId": "dbb57738-814e-4d88-aee4-f0cdcab1f2a3"
      },
      "execution_count": null,
      "outputs": [
        {
          "output_type": "stream",
          "name": "stdout",
          "text": [
            "Epoch 1/10\n",
            "10/10 [==============================] - 43s 3s/step - loss: 4.2041 - accuracy: 0.0729 - val_loss: 3.6268 - val_accuracy: 0.1485\n",
            "Epoch 2/10\n",
            "10/10 [==============================] - 16s 2s/step - loss: 2.8793 - accuracy: 0.3648 - val_loss: 2.8789 - val_accuracy: 0.3697\n",
            "Epoch 3/10\n",
            "10/10 [==============================] - 17s 2s/step - loss: 1.9641 - accuracy: 0.5678 - val_loss: 2.3827 - val_accuracy: 0.4545\n",
            "Epoch 4/10\n",
            "10/10 [==============================] - 16s 2s/step - loss: 1.3670 - accuracy: 0.7089 - val_loss: 2.0934 - val_accuracy: 0.5152\n",
            "Epoch 5/10\n",
            "10/10 [==============================] - 17s 2s/step - loss: 0.9602 - accuracy: 0.8110 - val_loss: 1.8830 - val_accuracy: 0.5455\n",
            "Epoch 6/10\n",
            "10/10 [==============================] - 16s 2s/step - loss: 0.6902 - accuracy: 0.8807 - val_loss: 1.8391 - val_accuracy: 0.5606\n",
            "Epoch 7/10\n",
            "10/10 [==============================] - 16s 2s/step - loss: 0.5255 - accuracy: 0.9178 - val_loss: 1.7849 - val_accuracy: 0.5848\n",
            "Epoch 8/10\n",
            "10/10 [==============================] - 16s 2s/step - loss: 0.3729 - accuracy: 0.9567 - val_loss: 1.6297 - val_accuracy: 0.6182\n",
            "Epoch 9/10\n",
            "10/10 [==============================] - 16s 2s/step - loss: 0.2774 - accuracy: 0.9754 - val_loss: 1.6143 - val_accuracy: 0.6091\n",
            "Epoch 10/10\n",
            "10/10 [==============================] - 17s 2s/step - loss: 0.2112 - accuracy: 0.9871 - val_loss: 1.5840 - val_accuracy: 0.6212\n"
          ]
        }
      ]
    },
    {
      "cell_type": "code",
      "source": [
        "testLoss, testAccuracy = model_1.evaluate(test_imgs, test_labels)"
      ],
      "metadata": {
        "colab": {
          "base_uri": "https://localhost:8080/"
        },
        "id": "YVOLWgqvJ8zK",
        "outputId": "4b8cac2c-198f-484a-a767-011d67e3fbc7"
      },
      "execution_count": null,
      "outputs": [
        {
          "output_type": "stream",
          "name": "stdout",
          "text": [
            "11/11 [==============================] - 3s 258ms/step - loss: 1.5894 - accuracy: 0.6402\n"
          ]
        }
      ]
    },
    {
      "cell_type": "code",
      "source": [
        "summarize_model(history_1_10)"
      ],
      "metadata": {
        "id": "W3wS8zeFifJO",
        "colab": {
          "base_uri": "https://localhost:8080/",
          "height": 390
        },
        "outputId": "e279698b-1c9f-4942-d4b9-70b75000927b"
      },
      "execution_count": null,
      "outputs": [
        {
          "output_type": "display_data",
          "data": {
            "image/png": "[encoded data removed]",
            "text/plain": [
              "<Figure size 576x432 with 2 Axes>"
            ]
          },
          "metadata": {
            "needs_background": "light"
          }
        }
      ]
    },
    {
      "cell_type": "code",
      "source": [
        "history_1_20 = model_1.fit(x = train_imgs, y = train_labels, validation_data=(validation_imgs, validation_labels), steps_per_epoch=10, epochs=20, verbose=1)"
      ],
      "metadata": {
        "colab": {
          "base_uri": "https://localhost:8080/"
        },
        "id": "cgUK5m3UKlgk",
        "outputId": "8f98af6a-026c-49f7-9cd7-e79f17d664c2"
      },
      "execution_count": null,
      "outputs": [
        {
          "output_type": "stream",
          "name": "stdout",
          "text": [
            "Epoch 1/20\n",
            "10/10 [==============================] - 25s 2s/step - loss: 4.1366 - accuracy: 0.0799 - val_loss: 3.5356 - val_accuracy: 0.2212\n",
            "Epoch 2/20\n",
            "10/10 [==============================] - 16s 2s/step - loss: 2.8319 - accuracy: 0.3827 - val_loss: 2.8304 - val_accuracy: 0.3485\n",
            "Epoch 3/20\n",
            "10/10 [==============================] - 16s 2s/step - loss: 1.9461 - accuracy: 0.5838 - val_loss: 2.3595 - val_accuracy: 0.4818\n",
            "Epoch 4/20\n",
            "10/10 [==============================] - 17s 2s/step - loss: 1.3976 - accuracy: 0.7097 - val_loss: 2.0879 - val_accuracy: 0.5182\n",
            "Epoch 5/20\n",
            "10/10 [==============================] - 16s 2s/step - loss: 0.9758 - accuracy: 0.8114 - val_loss: 1.8818 - val_accuracy: 0.5515\n",
            "Epoch 6/20\n",
            "10/10 [==============================] - 16s 2s/step - loss: 0.7195 - accuracy: 0.8745 - val_loss: 1.7763 - val_accuracy: 0.5818\n",
            "Epoch 7/20\n",
            "10/10 [==============================] - 16s 2s/step - loss: 0.5452 - accuracy: 0.9162 - val_loss: 1.6826 - val_accuracy: 0.6121\n",
            "Epoch 8/20\n",
            "10/10 [==============================] - 16s 2s/step - loss: 0.4115 - accuracy: 0.9415 - val_loss: 1.6176 - val_accuracy: 0.6242\n",
            "Epoch 9/20\n",
            "10/10 [==============================] - 16s 2s/step - loss: 0.3018 - accuracy: 0.9696 - val_loss: 1.6085 - val_accuracy: 0.6212\n",
            "Epoch 10/20\n",
            "10/10 [==============================] - 16s 2s/step - loss: 0.2325 - accuracy: 0.9825 - val_loss: 1.5531 - val_accuracy: 0.6273\n",
            "Epoch 11/20\n",
            "10/10 [==============================] - 16s 2s/step - loss: 0.1765 - accuracy: 0.9938 - val_loss: 1.5427 - val_accuracy: 0.6515\n",
            "Epoch 12/20\n",
            "10/10 [==============================] - 16s 2s/step - loss: 0.1358 - accuracy: 0.9969 - val_loss: 1.5168 - val_accuracy: 0.6333\n",
            "Epoch 13/20\n",
            "10/10 [==============================] - 16s 2s/step - loss: 0.1062 - accuracy: 0.9981 - val_loss: 1.4745 - val_accuracy: 0.6667\n",
            "Epoch 14/20\n",
            "10/10 [==============================] - 16s 2s/step - loss: 0.0851 - accuracy: 0.9984 - val_loss: 1.4570 - val_accuracy: 0.6636\n",
            "Epoch 15/20\n",
            "10/10 [==============================] - 16s 2s/step - loss: 0.0711 - accuracy: 0.9988 - val_loss: 1.4548 - val_accuracy: 0.6667\n",
            "Epoch 16/20\n",
            "10/10 [==============================] - 16s 2s/step - loss: 0.0598 - accuracy: 0.9992 - val_loss: 1.4493 - val_accuracy: 0.6515\n",
            "Epoch 17/20\n",
            "10/10 [==============================] - 16s 2s/step - loss: 0.0514 - accuracy: 0.9992 - val_loss: 1.4412 - val_accuracy: 0.6606\n",
            "Epoch 18/20\n",
            "10/10 [==============================] - 16s 2s/step - loss: 0.0444 - accuracy: 0.9996 - val_loss: 1.4329 - val_accuracy: 0.6697\n",
            "Epoch 19/20\n",
            "10/10 [==============================] - 16s 2s/step - loss: 0.0409 - accuracy: 0.9996 - val_loss: 1.4432 - val_accuracy: 0.6606\n",
            "Epoch 20/20\n",
            "10/10 [==============================] - 16s 2s/step - loss: 0.0366 - accuracy: 0.9992 - val_loss: 1.4208 - val_accuracy: 0.6758\n"
          ]
        }
      ]
    },
    {
      "cell_type": "code",
      "source": [
        "testLoss, testAccuracy = model_1.evaluate(test_imgs, test_labels)"
      ],
      "metadata": {
        "colab": {
          "base_uri": "https://localhost:8080/"
        },
        "id": "Vs3YquQQKty-",
        "outputId": "491fe428-aeaa-408f-cb00-654e67ba79fa"
      },
      "execution_count": null,
      "outputs": [
        {
          "output_type": "stream",
          "name": "stdout",
          "text": [
            "11/11 [==============================] - 2s 204ms/step - loss: 1.5068 - accuracy: 0.6402\n"
          ]
        }
      ]
    },
    {
      "cell_type": "code",
      "source": [
        "summarize_model(history_1_20)"
      ],
      "metadata": {
        "colab": {
          "base_uri": "https://localhost:8080/",
          "height": 390
        },
        "id": "QJs8h991MPcE",
        "outputId": "0566c84f-673b-44c8-be42-e664effe562f"
      },
      "execution_count": null,
      "outputs": [
        {
          "output_type": "display_data",
          "data": {
            "image/png": "[encoded data removed]",
            "text/plain": [
              "<Figure size 576x432 with 2 Axes>"
            ]
          },
          "metadata": {
            "needs_background": "light"
          }
        }
      ]
    },
    {
      "cell_type": "markdown",
      "source": [
        "# **Model 2**"
      ],
      "metadata": {
        "id": "e4SY5UEZMnBz"
      }
    },
    {
      "cell_type": "code",
      "source": [
        "from tensorflow.keras.applications.resnet50 import ResNet50\n",
        "from tensorflow.keras.models import Model\n",
        "from tensorflow.keras.layers import Dense\n",
        "from tensorflow.keras.layers import Flatten\n",
        "from tensorflow.keras.layers import Conv2D, MaxPooling2D, Flatten, Dense, Dropout, InputLayer\n",
        "from tensorflow.keras.models import Sequential\n",
        "from tensorflow.keras import Input\n",
        "from tensorflow.keras import optimizers\n",
        "import keras\n",
        "\n",
        "model_2 = Sequential()\n",
        "input_t = Input(shape = (224,224,3))\n",
        "pretrained_model= ResNet50(include_top=False,\n",
        "                           input_tensor=input_t, \n",
        "                   pooling='avg',classes= 50,\n",
        "                   weights='imagenet')\n",
        "for layer in pretrained_model.layers:\n",
        "        layer.trainable=False\n",
        "model_2.add(pretrained_model)\n",
        "model_2.add(Flatten())\n",
        "model_2.add(Dense(512, activation='relu'))\n",
        "model_2.add(Dense(1024, activation='relu', input_dim = (224,224,3)))\n",
        "output = model_2.add(Dense(66, activation='softmax'))\n",
        "model_2.summary()"
      ],
      "metadata": {
        "colab": {
          "base_uri": "https://localhost:8080/"
        },
        "id": "A5JvCPsDMUWI",
        "outputId": "04cd4d70-53df-4d40-98ab-e8aa3da45a53"
      },
      "execution_count": null,
      "outputs": [
        {
          "output_type": "stream",
          "name": "stdout",
          "text": [
            "Model: \"sequential\"\n",
            "_________________________________________________________________\n",
            " Layer (type)                Output Shape              Param #   \n",
            "=================================================================\n",
            " resnet50 (Functional)       (None, 2048)              23587712  \n",
            "                                                                 \n",
            " flatten (Flatten)           (None, 2048)              0         \n",
            "                                                                 \n",
            " dense (Dense)               (None, 512)               1049088   \n",
            "                                                                 \n",
            " dense_1 (Dense)             (None, 1024)              525312    \n",
            "                                                                 \n",
            " dense_2 (Dense)             (None, 66)                67650     \n",
            "                                                                 \n",
            "=================================================================\n",
            "Total params: 25,229,762\n",
            "Trainable params: 1,642,050\n",
            "Non-trainable params: 23,587,712\n",
            "_________________________________________________________________\n"
          ]
        }
      ]
    },
    {
      "cell_type": "code",
      "source": [
        "model_2.compile(loss='categorical_crossentropy',\n",
        "              optimizer='adam',\n",
        "              metrics=['accuracy'])"
      ],
      "metadata": {
        "id": "8AWTi4LHMuYX"
      },
      "execution_count": null,
      "outputs": []
    },
    {
      "cell_type": "code",
      "source": [
        "history_2_10 = model_2.fit(x = train_imgs, y = train_labels, validation_data=(validation_imgs, validation_labels), steps_per_epoch=10, epochs=10, verbose=1)"
      ],
      "metadata": {
        "id": "lYM62RpCMwgd",
        "colab": {
          "base_uri": "https://localhost:8080/"
        },
        "outputId": "547996d0-ab46-4df9-d60e-72125efc5dcd"
      },
      "execution_count": null,
      "outputs": [
        {
          "output_type": "stream",
          "name": "stdout",
          "text": [
            "Epoch 1/10\n",
            "10/10 [==============================] - 42s 3s/step - loss: 4.0797 - accuracy: 0.0826 - val_loss: 3.5989 - val_accuracy: 0.2030\n",
            "Epoch 2/10\n",
            "10/10 [==============================] - 16s 2s/step - loss: 2.9099 - accuracy: 0.3445 - val_loss: 2.7541 - val_accuracy: 0.3848\n",
            "Epoch 3/10\n",
            "10/10 [==============================] - 16s 2s/step - loss: 1.8935 - accuracy: 0.5472 - val_loss: 2.3327 - val_accuracy: 0.4364\n",
            "Epoch 4/10\n",
            "10/10 [==============================] - 16s 2s/step - loss: 1.2632 - accuracy: 0.6984 - val_loss: 1.9792 - val_accuracy: 0.5182\n",
            "Epoch 5/10\n",
            "10/10 [==============================] - 16s 2s/step - loss: 0.8605 - accuracy: 0.8020 - val_loss: 1.8895 - val_accuracy: 0.5424\n",
            "Epoch 6/10\n",
            "10/10 [==============================] - 16s 2s/step - loss: 0.5655 - accuracy: 0.8800 - val_loss: 1.7640 - val_accuracy: 0.5636\n",
            "Epoch 7/10\n",
            "10/10 [==============================] - 16s 2s/step - loss: 0.3713 - accuracy: 0.9299 - val_loss: 1.6982 - val_accuracy: 0.5727\n",
            "Epoch 8/10\n",
            "10/10 [==============================] - 16s 2s/step - loss: 0.2451 - accuracy: 0.9626 - val_loss: 1.7917 - val_accuracy: 0.5697\n",
            "Epoch 9/10\n",
            "10/10 [==============================] - 16s 2s/step - loss: 0.1649 - accuracy: 0.9805 - val_loss: 1.7046 - val_accuracy: 0.5848\n",
            "Epoch 10/10\n",
            "10/10 [==============================] - 16s 2s/step - loss: 0.1038 - accuracy: 0.9903 - val_loss: 1.6831 - val_accuracy: 0.6212\n"
          ]
        }
      ]
    },
    {
      "cell_type": "code",
      "source": [
        "testLoss, testAccuracy = model_2.evaluate(test_imgs, test_labels)"
      ],
      "metadata": {
        "id": "x6Pp-dCHM0o-",
        "colab": {
          "base_uri": "https://localhost:8080/"
        },
        "outputId": "d0e3e414-b578-44a8-c189-54284390ed88"
      },
      "execution_count": null,
      "outputs": [
        {
          "output_type": "stream",
          "name": "stdout",
          "text": [
            "11/11 [==============================] - 3s 259ms/step - loss: 1.7579 - accuracy: 0.6006\n"
          ]
        }
      ]
    },
    {
      "cell_type": "code",
      "source": [
        "summarize_model(history_2_10)"
      ],
      "metadata": {
        "colab": {
          "base_uri": "https://localhost:8080/",
          "height": 390
        },
        "id": "bvjz0wy1QfD1",
        "outputId": "941f632d-e990-435a-8da0-d379f38480ae"
      },
      "execution_count": null,
      "outputs": [
        {
          "output_type": "display_data",
          "data": {
            "image/png": "[encoded data removed]",
            "text/plain": [
              "<Figure size 576x432 with 2 Axes>"
            ]
          },
          "metadata": {
            "needs_background": "light"
          }
        }
      ]
    },
    {
      "cell_type": "code",
      "source": [
        "history_2_20 = model_2.fit(x = train_imgs, y = train_labels, validation_data=(validation_imgs, validation_labels), steps_per_epoch=10, epochs=20, verbose=1)"
      ],
      "metadata": {
        "colab": {
          "base_uri": "https://localhost:8080/"
        },
        "id": "rvf0Dh6AQhEf",
        "outputId": "b4d0730f-34ec-4833-c84a-24644bf3b062"
      },
      "execution_count": null,
      "outputs": [
        {
          "output_type": "stream",
          "name": "stdout",
          "text": [
            "Epoch 1/20\n",
            "10/10 [==============================] - 16s 2s/step - loss: 0.0645 - accuracy: 0.9988 - val_loss: 1.6505 - val_accuracy: 0.6394\n",
            "Epoch 2/20\n",
            "10/10 [==============================] - 16s 2s/step - loss: 0.0413 - accuracy: 0.9992 - val_loss: 1.6432 - val_accuracy: 0.6182\n",
            "Epoch 3/20\n",
            "10/10 [==============================] - 16s 2s/step - loss: 0.0290 - accuracy: 0.9992 - val_loss: 1.6678 - val_accuracy: 0.6303\n",
            "Epoch 4/20\n",
            "10/10 [==============================] - 16s 2s/step - loss: 0.0237 - accuracy: 0.9992 - val_loss: 1.6660 - val_accuracy: 0.6273\n",
            "Epoch 5/20\n",
            "10/10 [==============================] - 16s 2s/step - loss: 0.0209 - accuracy: 0.9992 - val_loss: 1.6999 - val_accuracy: 0.6394\n",
            "Epoch 6/20\n",
            "10/10 [==============================] - 16s 2s/step - loss: 0.0142 - accuracy: 0.9992 - val_loss: 1.6509 - val_accuracy: 0.6364\n",
            "Epoch 7/20\n",
            "10/10 [==============================] - 16s 2s/step - loss: 0.0117 - accuracy: 0.9996 - val_loss: 1.6648 - val_accuracy: 0.6303\n",
            "Epoch 8/20\n",
            "10/10 [==============================] - 16s 2s/step - loss: 0.0105 - accuracy: 0.9992 - val_loss: 1.6699 - val_accuracy: 0.6455\n",
            "Epoch 9/20\n",
            "10/10 [==============================] - 17s 2s/step - loss: 0.0114 - accuracy: 0.9992 - val_loss: 1.7163 - val_accuracy: 0.6273\n",
            "Epoch 10/20\n",
            "10/10 [==============================] - 16s 2s/step - loss: 0.0123 - accuracy: 0.9996 - val_loss: 1.6869 - val_accuracy: 0.6364\n",
            "Epoch 11/20\n",
            "10/10 [==============================] - 16s 2s/step - loss: 0.0128 - accuracy: 0.9996 - val_loss: 1.6888 - val_accuracy: 0.6303\n",
            "Epoch 12/20\n",
            "10/10 [==============================] - 16s 2s/step - loss: 0.0091 - accuracy: 0.9996 - val_loss: 1.7017 - val_accuracy: 0.6303\n",
            "Epoch 13/20\n",
            "10/10 [==============================] - 16s 2s/step - loss: 0.0124 - accuracy: 0.9988 - val_loss: 1.7020 - val_accuracy: 0.6424\n",
            "Epoch 14/20\n",
            "10/10 [==============================] - 16s 2s/step - loss: 0.0095 - accuracy: 0.9992 - val_loss: 1.7240 - val_accuracy: 0.6303\n",
            "Epoch 15/20\n",
            "10/10 [==============================] - 16s 2s/step - loss: 0.0089 - accuracy: 0.9996 - val_loss: 1.7480 - val_accuracy: 0.6455\n",
            "Epoch 16/20\n",
            "10/10 [==============================] - 16s 2s/step - loss: 0.0068 - accuracy: 0.9996 - val_loss: 1.7207 - val_accuracy: 0.6333\n",
            "Epoch 17/20\n",
            "10/10 [==============================] - 16s 2s/step - loss: 0.0084 - accuracy: 0.9992 - val_loss: 1.7215 - val_accuracy: 0.6333\n",
            "Epoch 18/20\n",
            "10/10 [==============================] - 16s 2s/step - loss: 0.0060 - accuracy: 0.9996 - val_loss: 1.7215 - val_accuracy: 0.6515\n",
            "Epoch 19/20\n",
            "10/10 [==============================] - 16s 2s/step - loss: 0.0075 - accuracy: 0.9996 - val_loss: 1.7288 - val_accuracy: 0.6364\n",
            "Epoch 20/20\n",
            "10/10 [==============================] - 16s 2s/step - loss: 0.0053 - accuracy: 0.9996 - val_loss: 1.7401 - val_accuracy: 0.6485\n"
          ]
        }
      ]
    },
    {
      "cell_type": "code",
      "source": [
        "testLoss, testAccuracy = model_2.evaluate(test_imgs, test_labels)"
      ],
      "metadata": {
        "colab": {
          "base_uri": "https://localhost:8080/"
        },
        "id": "3-cPjjRFQjh3",
        "outputId": "0ecd4122-9c6d-406a-fa62-f07c44e721b9"
      },
      "execution_count": null,
      "outputs": [
        {
          "output_type": "stream",
          "name": "stdout",
          "text": [
            "11/11 [==============================] - 2s 195ms/step - loss: 1.7770 - accuracy: 0.6524\n"
          ]
        }
      ]
    },
    {
      "cell_type": "code",
      "source": [
        "summarize_model(history_2_20)"
      ],
      "metadata": {
        "colab": {
          "base_uri": "https://localhost:8080/",
          "height": 390
        },
        "id": "eA-60t4_Q8h7",
        "outputId": "9b9a9fcf-5ec8-4031-b7db-b75cbbb86640"
      },
      "execution_count": null,
      "outputs": [
        {
          "output_type": "display_data",
          "data": {
            "image/png": "[encoded data removed]",
            "text/plain": [
              "<Figure size 576x432 with 2 Axes>"
            ]
          },
          "metadata": {
            "needs_background": "light"
          }
        }
      ]
    }
  ]
}