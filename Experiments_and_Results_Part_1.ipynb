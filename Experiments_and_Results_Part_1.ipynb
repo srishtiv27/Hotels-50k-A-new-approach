{
  "nbformat": 4,
  "nbformat_minor": 0,
  "metadata": {
    "accelerator": "GPU",
    "colab": {
      "name": "Experiments and Results Part 1.ipynb",
      "provenance": [],
      "collapsed_sections": []
    },
    "kernelspec": {
      "display_name": "Python 3",
      "name": "python3"
    },
    "language_info": {
      "name": "python"
    }
  },
  "cells": [
    {
      "cell_type": "code",
      "metadata": {
        "colab": {
          "base_uri": "https://localhost:8080/"
        },
        "id": "8zzIi4r7pyTR",
        "outputId": "a555f088-be8b-40a6-a944-87f10c597ec1"
      },
      "source": [
        "# Mounting google drive\n",
        "\n",
        "from google.colab import drive\n",
        "drive.mount('/content/drive')"
      ],
      "execution_count": null,
      "outputs": [
        {
          "output_type": "stream",
          "name": "stdout",
          "text": [
            "Mounted at /content/drive\n"
          ]
        }
      ]
    },
    {
      "cell_type": "markdown",
      "source": [
        "# **A note about the Dataset**\n",
        "\n",
        "Our initial dataset contained 1,027,871 images. Since it was hard to load the .csv file and work with a huge dataset. \n",
        "For this approach, we have taken\n",
        "1200 images for our initial train, validation and test datasets.\n",
        "\t\t\t\t\n",
        "In order to divide our data into train, test and validation sets, we had to manually divide our subset into three new sets. The final division was as follows:\n",
        "Train set = 1000 rows \n",
        "Test Set = 100 rows \n",
        "Validation Set = 100 rows "
      ],
      "metadata": {
        "id": "R--rY9hFruuN"
      }
    },
    {
      "cell_type": "code",
      "metadata": {
        "colab": {
          "base_uri": "https://localhost:8080/",
          "height": 206
        },
        "id": "gzxDi_OkYXuC",
        "outputId": "32bb45ea-cdee-4593-a3ed-cbeed2946cae"
      },
      "source": [
        "# Storing the dataset into a pandas dataframe\n",
        "import pandas as pd\n",
        "\n",
        "# Get this dataset from this link: https://drive.google.com/file/d/1HzxTfdZ9zbYy1tQVOQ7ZiGCCbA8W0AfG/view?usp=sharing\n",
        "hotels_train = pd.read_csv(\"/content/drive/MyDrive/AI/datasets/train_set_1k.csv\")\n",
        "# Displaying the dataset\n",
        "hotels_train.head()"
      ],
      "execution_count": null,
      "outputs": [
        {
          "output_type": "execute_result",
          "data": {
            "text/html": [
              "<div>\n",
              "<style scoped>\n",
              "    .dataframe tbody tr th:only-of-type {\n",
              "        vertical-align: middle;\n",
              "    }\n",
              "\n",
              "    .dataframe tbody tr th {\n",
              "        vertical-align: top;\n",
              "    }\n",
              "\n",
              "    .dataframe thead th {\n",
              "        text-align: right;\n",
              "    }\n",
              "</style>\n",
              "<table border=\"1\" class=\"dataframe\">\n",
              "  <thead>\n",
              "    <tr style=\"text-align: right;\">\n",
              "      <th></th>\n",
              "      <th>image_id</th>\n",
              "      <th>hotel_id</th>\n",
              "      <th>image_url</th>\n",
              "      <th>image_source</th>\n",
              "      <th>upload_timestamp</th>\n",
              "    </tr>\n",
              "  </thead>\n",
              "  <tbody>\n",
              "    <tr>\n",
              "      <th>0</th>\n",
              "      <td>3485</td>\n",
              "      <td>18187</td>\n",
              "      <td>https://traffickcam.com/images/2016/10/2015090...</td>\n",
              "      <td>traffickcam</td>\n",
              "      <td>##########</td>\n",
              "    </tr>\n",
              "    <tr>\n",
              "      <th>1</th>\n",
              "      <td>3486</td>\n",
              "      <td>18187</td>\n",
              "      <td>https://traffickcam.com/images/2016/10/2015090...</td>\n",
              "      <td>traffickcam</td>\n",
              "      <td>##########</td>\n",
              "    </tr>\n",
              "    <tr>\n",
              "      <th>2</th>\n",
              "      <td>3663</td>\n",
              "      <td>73224</td>\n",
              "      <td>https://traffickcam.com/images/2016/10/2015091...</td>\n",
              "      <td>traffickcam</td>\n",
              "      <td>9/17/15 19:33</td>\n",
              "    </tr>\n",
              "    <tr>\n",
              "      <th>3</th>\n",
              "      <td>2586939</td>\n",
              "      <td>86350</td>\n",
              "      <td>https://traffickcam.com/images/2017/2/20160125...</td>\n",
              "      <td>traffickcam</td>\n",
              "      <td>1/25/16 19:12</td>\n",
              "    </tr>\n",
              "    <tr>\n",
              "      <th>4</th>\n",
              "      <td>2586950</td>\n",
              "      <td>1533</td>\n",
              "      <td>https://traffickcam.com/images/2017/2/20160125...</td>\n",
              "      <td>traffickcam</td>\n",
              "      <td>1/25/16 17:23</td>\n",
              "    </tr>\n",
              "  </tbody>\n",
              "</table>\n",
              "</div>"
            ],
            "text/plain": [
              "   image_id  hotel_id  ... image_source upload_timestamp\n",
              "0      3485     18187  ...  traffickcam       ##########\n",
              "1      3486     18187  ...  traffickcam       ##########\n",
              "2      3663     73224  ...  traffickcam    9/17/15 19:33\n",
              "3   2586939     86350  ...  traffickcam    1/25/16 19:12\n",
              "4   2586950      1533  ...  traffickcam    1/25/16 17:23\n",
              "\n",
              "[5 rows x 5 columns]"
            ]
          },
          "metadata": {},
          "execution_count": 11
        }
      ]
    },
    {
      "cell_type": "code",
      "metadata": {
        "colab": {
          "base_uri": "https://localhost:8080/",
          "height": 206
        },
        "id": "mKOP82LFZUR2",
        "outputId": "955f6729-ab06-44b4-b4ee-3128efa07f04"
      },
      "source": [
        "# Get this dataset from this link: https://drive.google.com/file/d/1FpoPtKSGkeE6ypw1A9T-UiHW3rdM42_k/view?usp=sharing\n",
        "hotels_test = pd.read_csv(\"/content/drive/MyDrive/AI/datasets/test_set_1k.csv\")\n",
        "hotels_test.head()"
      ],
      "execution_count": null,
      "outputs": [
        {
          "output_type": "execute_result",
          "data": {
            "text/html": [
              "<div>\n",
              "<style scoped>\n",
              "    .dataframe tbody tr th:only-of-type {\n",
              "        vertical-align: middle;\n",
              "    }\n",
              "\n",
              "    .dataframe tbody tr th {\n",
              "        vertical-align: top;\n",
              "    }\n",
              "\n",
              "    .dataframe thead th {\n",
              "        text-align: right;\n",
              "    }\n",
              "</style>\n",
              "<table border=\"1\" class=\"dataframe\">\n",
              "  <thead>\n",
              "    <tr style=\"text-align: right;\">\n",
              "      <th></th>\n",
              "      <th>image_id</th>\n",
              "      <th>hotel_id</th>\n",
              "      <th>image_url</th>\n",
              "      <th>image_source</th>\n",
              "      <th>upload_timestamp</th>\n",
              "    </tr>\n",
              "  </thead>\n",
              "  <tbody>\n",
              "    <tr>\n",
              "      <th>0</th>\n",
              "      <td>2586951</td>\n",
              "      <td>1533</td>\n",
              "      <td>https://traffickcam.com/images/2017/2/20160125...</td>\n",
              "      <td>traffickcam</td>\n",
              "      <td>1/25/16 17:23</td>\n",
              "    </tr>\n",
              "    <tr>\n",
              "      <th>1</th>\n",
              "      <td>2587024</td>\n",
              "      <td>86350</td>\n",
              "      <td>https://traffickcam.com/images/2017/2/20160126...</td>\n",
              "      <td>traffickcam</td>\n",
              "      <td>1/26/16 0:36</td>\n",
              "    </tr>\n",
              "    <tr>\n",
              "      <th>2</th>\n",
              "      <td>2587068</td>\n",
              "      <td>81814</td>\n",
              "      <td>https://traffickcam.com/images/2017/2/20160127...</td>\n",
              "      <td>traffickcam</td>\n",
              "      <td>1/27/16 22:06</td>\n",
              "    </tr>\n",
              "    <tr>\n",
              "      <th>3</th>\n",
              "      <td>2587091</td>\n",
              "      <td>94664</td>\n",
              "      <td>https://traffickcam.com/images/2017/2/20160130...</td>\n",
              "      <td>traffickcam</td>\n",
              "      <td>1/30/16 23:22</td>\n",
              "    </tr>\n",
              "    <tr>\n",
              "      <th>4</th>\n",
              "      <td>2587555</td>\n",
              "      <td>76756</td>\n",
              "      <td>https://traffickcam.com/images/2017/3/20160218...</td>\n",
              "      <td>traffickcam</td>\n",
              "      <td>2/18/16 4:42</td>\n",
              "    </tr>\n",
              "  </tbody>\n",
              "</table>\n",
              "</div>"
            ],
            "text/plain": [
              "   image_id  hotel_id  ... image_source upload_timestamp\n",
              "0   2586951      1533  ...  traffickcam    1/25/16 17:23\n",
              "1   2587024     86350  ...  traffickcam     1/26/16 0:36\n",
              "2   2587068     81814  ...  traffickcam    1/27/16 22:06\n",
              "3   2587091     94664  ...  traffickcam    1/30/16 23:22\n",
              "4   2587555     76756  ...  traffickcam     2/18/16 4:42\n",
              "\n",
              "[5 rows x 5 columns]"
            ]
          },
          "metadata": {},
          "execution_count": 12
        }
      ]
    },
    {
      "cell_type": "code",
      "metadata": {
        "colab": {
          "base_uri": "https://localhost:8080/",
          "height": 206
        },
        "id": "WDsWNvM5Ze65",
        "outputId": "216aabcd-3ac6-42f5-db40-20ed20d40feb"
      },
      "source": [
        "# Get this dataset from this link: https://drive.google.com/file/d/1I8JSY7g3wburwvOSkX7tDA7TwufTqKQV/view?usp=sharing\n",
        "hotels_validation = pd.read_csv(\"/content/drive/MyDrive/AI/datasets/validation_set_1k.csv\")\n",
        "hotels_validation.head()"
      ],
      "execution_count": null,
      "outputs": [
        {
          "output_type": "execute_result",
          "data": {
            "text/html": [
              "<div>\n",
              "<style scoped>\n",
              "    .dataframe tbody tr th:only-of-type {\n",
              "        vertical-align: middle;\n",
              "    }\n",
              "\n",
              "    .dataframe tbody tr th {\n",
              "        vertical-align: top;\n",
              "    }\n",
              "\n",
              "    .dataframe thead th {\n",
              "        text-align: right;\n",
              "    }\n",
              "</style>\n",
              "<table border=\"1\" class=\"dataframe\">\n",
              "  <thead>\n",
              "    <tr style=\"text-align: right;\">\n",
              "      <th></th>\n",
              "      <th>image_id</th>\n",
              "      <th>hotel_id</th>\n",
              "      <th>image_url</th>\n",
              "      <th>image_source</th>\n",
              "      <th>upload_timestamp</th>\n",
              "    </tr>\n",
              "  </thead>\n",
              "  <tbody>\n",
              "    <tr>\n",
              "      <th>0</th>\n",
              "      <td>2586952</td>\n",
              "      <td>1533</td>\n",
              "      <td>https://traffickcam.com/images/2017/2/20160125...</td>\n",
              "      <td>traffickcam</td>\n",
              "      <td>1/25/16 17:23</td>\n",
              "    </tr>\n",
              "    <tr>\n",
              "      <th>1</th>\n",
              "      <td>2587026</td>\n",
              "      <td>86350</td>\n",
              "      <td>https://traffickcam.com/images/2017/2/20160126...</td>\n",
              "      <td>traffickcam</td>\n",
              "      <td>1/26/16 0:36</td>\n",
              "    </tr>\n",
              "    <tr>\n",
              "      <th>2</th>\n",
              "      <td>2587068</td>\n",
              "      <td>81814</td>\n",
              "      <td>https://traffickcam.com/images/2017/2/20160127...</td>\n",
              "      <td>traffickcam</td>\n",
              "      <td>1/27/16 22:06</td>\n",
              "    </tr>\n",
              "    <tr>\n",
              "      <th>3</th>\n",
              "      <td>2587093</td>\n",
              "      <td>94664</td>\n",
              "      <td>https://traffickcam.com/images/2017/2/20160130...</td>\n",
              "      <td>traffickcam</td>\n",
              "      <td>1/30/16 23:22</td>\n",
              "    </tr>\n",
              "    <tr>\n",
              "      <th>4</th>\n",
              "      <td>2587556</td>\n",
              "      <td>76756</td>\n",
              "      <td>https://traffickcam.com/images/2017/3/20160218...</td>\n",
              "      <td>traffickcam</td>\n",
              "      <td>2/18/16 4:42</td>\n",
              "    </tr>\n",
              "  </tbody>\n",
              "</table>\n",
              "</div>"
            ],
            "text/plain": [
              "   image_id  hotel_id  ... image_source upload_timestamp\n",
              "0   2586952      1533  ...  traffickcam    1/25/16 17:23\n",
              "1   2587026     86350  ...  traffickcam     1/26/16 0:36\n",
              "2   2587068     81814  ...  traffickcam    1/27/16 22:06\n",
              "3   2587093     94664  ...  traffickcam    1/30/16 23:22\n",
              "4   2587556     76756  ...  traffickcam     2/18/16 4:42\n",
              "\n",
              "[5 rows x 5 columns]"
            ]
          },
          "metadata": {},
          "execution_count": 13
        }
      ]
    },
    {
      "cell_type": "markdown",
      "source": [
        "**Why did we need to label encode our hotel_id column?**\n",
        "\n",
        "Initially, we thought that since our hotel_id was a numeric attribute, we do not need label encoding. However, we noticed that the hotel_ids weren’t starting from 0 and were placed in a random order. Some very large numbers in the range of 100,000 were also used as hotel_ids. So, if we had performed one hot vector encoding without label encoding then the length of the one hot vector would have been equal to the largest hotel id (in the 100,000 range), even though the number of unique classes were just 554.\n",
        "\n",
        "Hence, we decided to perform label encoding, transforming the range of the hotel_ids to 0 - 554.\n"
      ],
      "metadata": {
        "id": "qUDCp8fjljJD"
      }
    },
    {
      "cell_type": "code",
      "metadata": {
        "colab": {
          "base_uri": "https://localhost:8080/",
          "height": 206
        },
        "id": "2Elt8UpZxa0K",
        "outputId": "6aaabe36-a898-4612-a535-e89e64cbeb0e"
      },
      "source": [
        "from sklearn import preprocessing\n",
        "\n",
        "label_encoder = preprocessing.LabelEncoder()\n",
        "hotels_train['new_hotel_id'] = label_encoder.fit_transform(hotels_train['hotel_id'])\n",
        "hotels_train.head()"
      ],
      "execution_count": null,
      "outputs": [
        {
          "output_type": "execute_result",
          "data": {
            "text/html": [
              "<div>\n",
              "<style scoped>\n",
              "    .dataframe tbody tr th:only-of-type {\n",
              "        vertical-align: middle;\n",
              "    }\n",
              "\n",
              "    .dataframe tbody tr th {\n",
              "        vertical-align: top;\n",
              "    }\n",
              "\n",
              "    .dataframe thead th {\n",
              "        text-align: right;\n",
              "    }\n",
              "</style>\n",
              "<table border=\"1\" class=\"dataframe\">\n",
              "  <thead>\n",
              "    <tr style=\"text-align: right;\">\n",
              "      <th></th>\n",
              "      <th>image_id</th>\n",
              "      <th>hotel_id</th>\n",
              "      <th>image_url</th>\n",
              "      <th>image_source</th>\n",
              "      <th>upload_timestamp</th>\n",
              "      <th>new_hotel_id</th>\n",
              "    </tr>\n",
              "  </thead>\n",
              "  <tbody>\n",
              "    <tr>\n",
              "      <th>0</th>\n",
              "      <td>3485</td>\n",
              "      <td>18187</td>\n",
              "      <td>https://traffickcam.com/images/2016/10/2015090...</td>\n",
              "      <td>traffickcam</td>\n",
              "      <td>##########</td>\n",
              "      <td>168</td>\n",
              "    </tr>\n",
              "    <tr>\n",
              "      <th>1</th>\n",
              "      <td>3486</td>\n",
              "      <td>18187</td>\n",
              "      <td>https://traffickcam.com/images/2016/10/2015090...</td>\n",
              "      <td>traffickcam</td>\n",
              "      <td>##########</td>\n",
              "      <td>168</td>\n",
              "    </tr>\n",
              "    <tr>\n",
              "      <th>2</th>\n",
              "      <td>3663</td>\n",
              "      <td>73224</td>\n",
              "      <td>https://traffickcam.com/images/2016/10/2015091...</td>\n",
              "      <td>traffickcam</td>\n",
              "      <td>9/17/15 19:33</td>\n",
              "      <td>369</td>\n",
              "    </tr>\n",
              "    <tr>\n",
              "      <th>3</th>\n",
              "      <td>2586939</td>\n",
              "      <td>86350</td>\n",
              "      <td>https://traffickcam.com/images/2017/2/20160125...</td>\n",
              "      <td>traffickcam</td>\n",
              "      <td>1/25/16 19:12</td>\n",
              "      <td>443</td>\n",
              "    </tr>\n",
              "    <tr>\n",
              "      <th>4</th>\n",
              "      <td>2586950</td>\n",
              "      <td>1533</td>\n",
              "      <td>https://traffickcam.com/images/2017/2/20160125...</td>\n",
              "      <td>traffickcam</td>\n",
              "      <td>1/25/16 17:23</td>\n",
              "      <td>12</td>\n",
              "    </tr>\n",
              "  </tbody>\n",
              "</table>\n",
              "</div>"
            ],
            "text/plain": [
              "   image_id  hotel_id  ... upload_timestamp new_hotel_id\n",
              "0      3485     18187  ...       ##########          168\n",
              "1      3486     18187  ...       ##########          168\n",
              "2      3663     73224  ...    9/17/15 19:33          369\n",
              "3   2586939     86350  ...    1/25/16 19:12          443\n",
              "4   2586950      1533  ...    1/25/16 17:23           12\n",
              "\n",
              "[5 rows x 6 columns]"
            ]
          },
          "metadata": {},
          "execution_count": 14
        }
      ]
    },
    {
      "cell_type": "markdown",
      "source": [
        "Although we transformed the hotel_id range in the train_set, the test set and validation set still had incorrect hotel_id labels falling in the range of 100,000. In order to correct this we constructed a dictionary using the train dataset and mapped our old hotel ids to the transformed hotel ids. Using this dictionary we were able to transform the hotel ids for the validation and test sets."
      ],
      "metadata": {
        "id": "bg367DOglwy8"
      }
    },
    {
      "cell_type": "code",
      "metadata": {
        "id": "_klUc4ykxoio"
      },
      "source": [
        "hotel_id_mapping = {}\n",
        "\n",
        "# Creating a dictionary to map the old hotel ids to the new hotel ids\n",
        "for i in range(1000):\n",
        "  hotel_id_mapping[hotels_train['hotel_id'][i]] = hotels_train['new_hotel_id'][i]"
      ],
      "execution_count": null,
      "outputs": []
    },
    {
      "cell_type": "code",
      "metadata": {
        "colab": {
          "base_uri": "https://localhost:8080/"
        },
        "id": "FAp46StFyZXA",
        "outputId": "62eb92cb-3383-420e-e97d-32b116ae2c13"
      },
      "source": [
        "# Checking the number of unique classes (hotel_ids) in the dataset\n",
        "len(hotel_id_mapping.keys())"
      ],
      "execution_count": null,
      "outputs": [
        {
          "output_type": "execute_result",
          "data": {
            "text/plain": [
              "554"
            ]
          },
          "metadata": {},
          "execution_count": 16
        }
      ]
    },
    {
      "cell_type": "code",
      "metadata": {
        "id": "tfbVnuJByeRv"
      },
      "source": [
        "hotels_test_new_hotel_id = []\n",
        "hotels_validation_new_hotel_id = []\n",
        "\n",
        "# Using the dictionary we created in the previous step to add \n",
        "# the new_hotel_id column to the hotels_test and hotels_validation dataset\n",
        "\n",
        "for i in range(100):\n",
        "  hotels_test_new_hotel_id.append(hotel_id_mapping[hotels_test['hotel_id'][i]])\n",
        "  hotels_validation_new_hotel_id.append(hotel_id_mapping[hotels_validation['hotel_id'][i]])\n",
        "hotels_test['new_hotel_id'] = hotels_test_new_hotel_id\n",
        "hotels_validation['new_hotel_id'] = hotels_validation_new_hotel_id"
      ],
      "execution_count": null,
      "outputs": []
    },
    {
      "cell_type": "code",
      "metadata": {
        "colab": {
          "base_uri": "https://localhost:8080/",
          "height": 206
        },
        "id": "j7t3IaSKzch6",
        "outputId": "bd890ee9-418a-4079-fad1-fbf4e41492ba"
      },
      "source": [
        "# Displaying the hotel_test dataset to confirm that the new_hotel_id column has been added\n",
        "hotels_test.head()"
      ],
      "execution_count": null,
      "outputs": [
        {
          "output_type": "execute_result",
          "data": {
            "text/html": [
              "<div>\n",
              "<style scoped>\n",
              "    .dataframe tbody tr th:only-of-type {\n",
              "        vertical-align: middle;\n",
              "    }\n",
              "\n",
              "    .dataframe tbody tr th {\n",
              "        vertical-align: top;\n",
              "    }\n",
              "\n",
              "    .dataframe thead th {\n",
              "        text-align: right;\n",
              "    }\n",
              "</style>\n",
              "<table border=\"1\" class=\"dataframe\">\n",
              "  <thead>\n",
              "    <tr style=\"text-align: right;\">\n",
              "      <th></th>\n",
              "      <th>image_id</th>\n",
              "      <th>hotel_id</th>\n",
              "      <th>image_url</th>\n",
              "      <th>image_source</th>\n",
              "      <th>upload_timestamp</th>\n",
              "      <th>new_hotel_id</th>\n",
              "    </tr>\n",
              "  </thead>\n",
              "  <tbody>\n",
              "    <tr>\n",
              "      <th>0</th>\n",
              "      <td>2586951</td>\n",
              "      <td>1533</td>\n",
              "      <td>https://traffickcam.com/images/2017/2/20160125...</td>\n",
              "      <td>traffickcam</td>\n",
              "      <td>1/25/16 17:23</td>\n",
              "      <td>12</td>\n",
              "    </tr>\n",
              "    <tr>\n",
              "      <th>1</th>\n",
              "      <td>2587024</td>\n",
              "      <td>86350</td>\n",
              "      <td>https://traffickcam.com/images/2017/2/20160126...</td>\n",
              "      <td>traffickcam</td>\n",
              "      <td>1/26/16 0:36</td>\n",
              "      <td>443</td>\n",
              "    </tr>\n",
              "    <tr>\n",
              "      <th>2</th>\n",
              "      <td>2587068</td>\n",
              "      <td>81814</td>\n",
              "      <td>https://traffickcam.com/images/2017/2/20160127...</td>\n",
              "      <td>traffickcam</td>\n",
              "      <td>1/27/16 22:06</td>\n",
              "      <td>420</td>\n",
              "    </tr>\n",
              "    <tr>\n",
              "      <th>3</th>\n",
              "      <td>2587091</td>\n",
              "      <td>94664</td>\n",
              "      <td>https://traffickcam.com/images/2017/2/20160130...</td>\n",
              "      <td>traffickcam</td>\n",
              "      <td>1/30/16 23:22</td>\n",
              "      <td>493</td>\n",
              "    </tr>\n",
              "    <tr>\n",
              "      <th>4</th>\n",
              "      <td>2587555</td>\n",
              "      <td>76756</td>\n",
              "      <td>https://traffickcam.com/images/2017/3/20160218...</td>\n",
              "      <td>traffickcam</td>\n",
              "      <td>2/18/16 4:42</td>\n",
              "      <td>392</td>\n",
              "    </tr>\n",
              "  </tbody>\n",
              "</table>\n",
              "</div>"
            ],
            "text/plain": [
              "   image_id  hotel_id  ... upload_timestamp new_hotel_id\n",
              "0   2586951      1533  ...    1/25/16 17:23           12\n",
              "1   2587024     86350  ...     1/26/16 0:36          443\n",
              "2   2587068     81814  ...    1/27/16 22:06          420\n",
              "3   2587091     94664  ...    1/30/16 23:22          493\n",
              "4   2587555     76756  ...     2/18/16 4:42          392\n",
              "\n",
              "[5 rows x 6 columns]"
            ]
          },
          "metadata": {},
          "execution_count": 18
        }
      ]
    },
    {
      "cell_type": "code",
      "metadata": {
        "colab": {
          "base_uri": "https://localhost:8080/",
          "height": 206
        },
        "id": "zXNUn2GDzgar",
        "outputId": "a547f8bd-712a-45a6-99a7-522cf3352655"
      },
      "source": [
        "# Displaying the hotel_validation dataset to confirm that the new_hotel_id column has been added\n",
        "hotels_validation.head()"
      ],
      "execution_count": null,
      "outputs": [
        {
          "output_type": "execute_result",
          "data": {
            "text/html": [
              "<div>\n",
              "<style scoped>\n",
              "    .dataframe tbody tr th:only-of-type {\n",
              "        vertical-align: middle;\n",
              "    }\n",
              "\n",
              "    .dataframe tbody tr th {\n",
              "        vertical-align: top;\n",
              "    }\n",
              "\n",
              "    .dataframe thead th {\n",
              "        text-align: right;\n",
              "    }\n",
              "</style>\n",
              "<table border=\"1\" class=\"dataframe\">\n",
              "  <thead>\n",
              "    <tr style=\"text-align: right;\">\n",
              "      <th></th>\n",
              "      <th>image_id</th>\n",
              "      <th>hotel_id</th>\n",
              "      <th>image_url</th>\n",
              "      <th>image_source</th>\n",
              "      <th>upload_timestamp</th>\n",
              "      <th>new_hotel_id</th>\n",
              "    </tr>\n",
              "  </thead>\n",
              "  <tbody>\n",
              "    <tr>\n",
              "      <th>0</th>\n",
              "      <td>2586952</td>\n",
              "      <td>1533</td>\n",
              "      <td>https://traffickcam.com/images/2017/2/20160125...</td>\n",
              "      <td>traffickcam</td>\n",
              "      <td>1/25/16 17:23</td>\n",
              "      <td>12</td>\n",
              "    </tr>\n",
              "    <tr>\n",
              "      <th>1</th>\n",
              "      <td>2587026</td>\n",
              "      <td>86350</td>\n",
              "      <td>https://traffickcam.com/images/2017/2/20160126...</td>\n",
              "      <td>traffickcam</td>\n",
              "      <td>1/26/16 0:36</td>\n",
              "      <td>443</td>\n",
              "    </tr>\n",
              "    <tr>\n",
              "      <th>2</th>\n",
              "      <td>2587068</td>\n",
              "      <td>81814</td>\n",
              "      <td>https://traffickcam.com/images/2017/2/20160127...</td>\n",
              "      <td>traffickcam</td>\n",
              "      <td>1/27/16 22:06</td>\n",
              "      <td>420</td>\n",
              "    </tr>\n",
              "    <tr>\n",
              "      <th>3</th>\n",
              "      <td>2587093</td>\n",
              "      <td>94664</td>\n",
              "      <td>https://traffickcam.com/images/2017/2/20160130...</td>\n",
              "      <td>traffickcam</td>\n",
              "      <td>1/30/16 23:22</td>\n",
              "      <td>493</td>\n",
              "    </tr>\n",
              "    <tr>\n",
              "      <th>4</th>\n",
              "      <td>2587556</td>\n",
              "      <td>76756</td>\n",
              "      <td>https://traffickcam.com/images/2017/3/20160218...</td>\n",
              "      <td>traffickcam</td>\n",
              "      <td>2/18/16 4:42</td>\n",
              "      <td>392</td>\n",
              "    </tr>\n",
              "  </tbody>\n",
              "</table>\n",
              "</div>"
            ],
            "text/plain": [
              "   image_id  hotel_id  ... upload_timestamp new_hotel_id\n",
              "0   2586952      1533  ...    1/25/16 17:23           12\n",
              "1   2587026     86350  ...     1/26/16 0:36          443\n",
              "2   2587068     81814  ...    1/27/16 22:06          420\n",
              "3   2587093     94664  ...    1/30/16 23:22          493\n",
              "4   2587556     76756  ...     2/18/16 4:42          392\n",
              "\n",
              "[5 rows x 6 columns]"
            ]
          },
          "metadata": {},
          "execution_count": 19
        }
      ]
    },
    {
      "cell_type": "markdown",
      "source": [
        "**Adding serial numbers**\n",
        "\n",
        "Since we manually constructed new datasets, the order in which we had to fetch images from our drive also changed. Hence we had to map our new train, test and validation dataset with the correct images from our drive where we had previously stored the images. The added serial_numbers column in each of our datasets maps each row to its correct corresponding image number from the drive."
      ],
      "metadata": {
        "id": "OMn8-iAYm1zB"
      }
    },
    {
      "cell_type": "code",
      "metadata": {
        "id": "VLQpLfmXzpDk"
      },
      "source": [
        "# Adding serial number column to hotels\n",
        "serial_numbers = [*range(0, 100000)]\n",
        "hotels['serial_numbers'] = serial_numbers"
      ],
      "execution_count": null,
      "outputs": []
    },
    {
      "cell_type": "code",
      "metadata": {
        "id": "eKOexl061kto"
      },
      "source": [
        "serial_number_mapping = {}\n",
        "for i in range(4000):\n",
        "  serial_number_mapping[hotels['image_id'][i]] = hotels['serial_numbers'][i] "
      ],
      "execution_count": null,
      "outputs": []
    },
    {
      "cell_type": "code",
      "metadata": {
        "id": "O5YLhb5b14XP"
      },
      "source": [
        "train_serial_numbers = []\n",
        "for i in range(1000):\n",
        "  train_serial_numbers.append(serial_number_mapping[hotels_train['image_id'][i]])\n",
        "hotels_train['serial_numbers'] = train_serial_numbers"
      ],
      "execution_count": null,
      "outputs": []
    },
    {
      "cell_type": "code",
      "metadata": {
        "id": "s56NmzIR2Pwg"
      },
      "source": [
        "test_serial_numbers = []\n",
        "validation_serial_numbers = []\n",
        "for i in range(100):\n",
        "  test_serial_numbers.append(serial_number_mapping[hotels_test['image_id'][i]])\n",
        "  validation_serial_numbers.append(serial_number_mapping[hotels_validation['image_id'][i]])\n",
        "hotels_test['serial_numbers'] = test_serial_numbers\n",
        "hotels_validation['serial_numbers'] = validation_serial_numbers"
      ],
      "execution_count": null,
      "outputs": []
    },
    {
      "cell_type": "code",
      "metadata": {
        "colab": {
          "base_uri": "https://localhost:8080/"
        },
        "id": "4fqHm2aX3cvR",
        "outputId": "f7ed9d70-4941-4fa0-9701-1bb535512f13"
      },
      "source": [
        "from tensorflow.keras.applications.resnet50 import preprocess_input\n",
        "from tensorflow.keras.applications.resnet50 import decode_predictions\n",
        "from keras.preprocessing.image import load_img\n",
        "from keras.preprocessing.image import img_to_array\n",
        "\n",
        "# Creating the list of training images to feed in our model (X_train)\n",
        "train_imgs = []\n",
        "for i in range(0, 1000):\n",
        "  serial_number = hotels_train['serial_numbers'][i]\n",
        "  image = img_to_array(load_img(f'/content/drive/MyDrive/AI/images/img{serial_number}.jpg', target_size=(224, 224)))\n",
        "  image = preprocess_input(image)\n",
        "  train_imgs.append(image)\n",
        "  if (i % 100 == 0):\n",
        "    print(i)"
      ],
      "execution_count": null,
      "outputs": [
        {
          "output_type": "stream",
          "name": "stdout",
          "text": [
            "0\n",
            "100\n",
            "200\n",
            "300\n",
            "400\n",
            "500\n",
            "600\n",
            "700\n",
            "800\n",
            "900\n"
          ]
        }
      ]
    },
    {
      "cell_type": "code",
      "metadata": {
        "colab": {
          "base_uri": "https://localhost:8080/"
        },
        "id": "8yns3xHG4cih",
        "outputId": "39c82a6e-af73-442f-874f-6ee9e4e67e1f"
      },
      "source": [
        "# Creating the list of validation images to feed in our model (X_val)\n",
        "validation_imgs = []\n",
        "for i in range(100):\n",
        "  serial_number = hotels_validation['serial_numbers'][i]\n",
        "  image = img_to_array(load_img(f'/content/drive/MyDrive/AI/images/img{serial_number}.jpg', target_size=(224, 224)))\n",
        "  image = preprocess_input(image)\n",
        "  validation_imgs.append(image)\n",
        "  if (i % 100 == 0):\n",
        "    print(i)"
      ],
      "execution_count": null,
      "outputs": [
        {
          "output_type": "stream",
          "name": "stdout",
          "text": [
            "0\n"
          ]
        }
      ]
    },
    {
      "cell_type": "code",
      "metadata": {
        "colab": {
          "base_uri": "https://localhost:8080/"
        },
        "id": "Vm9Zi1AQ5QHy",
        "outputId": "de3be540-1f74-4305-ecb5-79dd0447ca88"
      },
      "source": [
        "# Creating the list of test images to feed in our model (X_test)\n",
        "test_imgs = []\n",
        "for i in range(100):\n",
        "  serial_number = hotels_test['serial_numbers'][i]\n",
        "  image = img_to_array(load_img(f'/content/drive/MyDrive/AI/images/img{serial_number}.jpg', target_size=(224, 224)))\n",
        "  image = preprocess_input(image)\n",
        "  test_imgs.append(image)\n",
        "  if (i % 100 == 0):\n",
        "    print(i)"
      ],
      "execution_count": null,
      "outputs": [
        {
          "output_type": "stream",
          "name": "stdout",
          "text": [
            "0\n"
          ]
        }
      ]
    },
    {
      "cell_type": "code",
      "metadata": {
        "id": "WazID9wB5m3y"
      },
      "source": [
        "import numpy as np\n",
        "\n",
        "# Converting the list into a numpy array before feeding it into the model\n",
        "train_imgs = np.array(train_imgs)\n",
        "validation_imgs = np.array(validation_imgs)\n",
        "test_imgs = np.array(test_imgs)"
      ],
      "execution_count": null,
      "outputs": []
    },
    {
      "cell_type": "code",
      "metadata": {
        "id": "I1OQbvUg56zJ"
      },
      "source": [
        "# Getting the train_labels (y_train), validation_labels (y_val)\n",
        "# and test labels(y_test) from the dataset to feed in the model\n",
        "\n",
        "train_labels = list(hotels_train['new_hotel_id'])\n",
        "validation_labels = list(hotels_validation['new_hotel_id'])\n",
        "test_labels = list(hotels_test['new_hotel_id'])"
      ],
      "execution_count": null,
      "outputs": []
    },
    {
      "cell_type": "code",
      "metadata": {
        "id": "QL3olAxm6Kqb"
      },
      "source": [
        "from tensorflow.keras.utils import to_categorical\n",
        "\n",
        "# Converting the labels into one hot vectors (with 554 classes) to feed in the model\n",
        "\n",
        "train_labels = to_categorical(train_labels, 554)\n",
        "test_labels = to_categorical(test_labels, 554)\n",
        "validation_labels = to_categorical(validation_labels, 554)"
      ],
      "execution_count": null,
      "outputs": []
    },
    {
      "cell_type": "markdown",
      "source": [
        "# **Function to plot learning curves**"
      ],
      "metadata": {
        "id": "yOvVcb-QpB4C"
      }
    },
    {
      "cell_type": "code",
      "metadata": {
        "id": "xwwhWO3-CZGS"
      },
      "source": [
        "from matplotlib import pyplot\n",
        "\n",
        "def summarize_model(history):\n",
        "\t# plot loss during training\n",
        "  pyplot.figure(figsize=(8,6))\n",
        "  pyplot.subplot(211)\n",
        "  pyplot.title('Loss')\n",
        "  pyplot.plot(history.history['loss'], label='train')\n",
        "  pyplot.plot(history.history['val_loss'], label='test')\n",
        "  pyplot.legend()\n",
        "  # plot accuracy during training\n",
        "  pyplot.subplot(212)\n",
        "  pyplot.title('Accuracy')\n",
        "  pyplot.plot(history.history['accuracy'], label='train')\n",
        "  pyplot.plot(history.history['val_accuracy'], label='test')\n",
        "  pyplot.legend()\n",
        "  pyplot.show()"
      ],
      "execution_count": null,
      "outputs": []
    },
    {
      "cell_type": "markdown",
      "metadata": {
        "id": "0G2YdJEz9O5q"
      },
      "source": [
        "# **Model 1**"
      ]
    },
    {
      "cell_type": "code",
      "metadata": {
        "colab": {
          "base_uri": "https://localhost:8080/"
        },
        "id": "ocP4ouWbHuJf",
        "outputId": "5909d4b9-fe69-4aa1-fa02-3d0f8a0e02ec"
      },
      "source": [
        "# Creating model 1 by applying transfer learning on ResNet50\n",
        "\n",
        "from tensorflow.keras.applications.resnet50 import ResNet50\n",
        "from tensorflow.keras.models import Model\n",
        "from tensorflow.keras.layers import Dense\n",
        "from tensorflow.keras.layers import Flatten\n",
        "from tensorflow.keras.layers import Conv2D, MaxPooling2D, Flatten, Dense, Dropout, InputLayer\n",
        "from tensorflow.keras.models import Sequential\n",
        "from tensorflow.keras import Input\n",
        "from tensorflow.keras import optimizers\n",
        "import keras\n",
        "\n",
        "model_1 = Sequential()\n",
        "input_t = Input(shape = (224,224,3))\n",
        "pretrained_model= ResNet50(include_top=False,\n",
        "                           input_tensor=input_t, \n",
        "                   pooling='avg',classes= 554,\n",
        "                   weights='imagenet')\n",
        "for layer in pretrained_model.layers:\n",
        "        layer.trainable=False\n",
        "model_1.add(pretrained_model)\n",
        "model_1.add(Flatten())\n",
        "model_1.add(Dense(512, activation='relu', input_dim = (224,224,3)))\n",
        "output = model_1.add(Dense(554, activation='softmax'))\n",
        "model_1.summary()"
      ],
      "execution_count": null,
      "outputs": [
        {
          "output_type": "stream",
          "name": "stdout",
          "text": [
            "Model: \"sequential_8\"\n",
            "_________________________________________________________________\n",
            " Layer (type)                Output Shape              Param #   \n",
            "=================================================================\n",
            " resnet50 (Functional)       (None, 2048)              23587712  \n",
            "                                                                 \n",
            " flatten_7 (Flatten)         (None, 2048)              0         \n",
            "                                                                 \n",
            " dense_18 (Dense)            (None, 512)               1049088   \n",
            "                                                                 \n",
            " dense_19 (Dense)            (None, 554)               284202    \n",
            "                                                                 \n",
            "=================================================================\n",
            "Total params: 24,921,002\n",
            "Trainable params: 1,333,290\n",
            "Non-trainable params: 23,587,712\n",
            "_________________________________________________________________\n"
          ]
        }
      ]
    },
    {
      "cell_type": "code",
      "metadata": {
        "id": "b2LvAZiyqI_E"
      },
      "source": [
        "# Compiling model 1\n",
        "\n",
        "model_1.compile(loss='categorical_crossentropy',\n",
        "              optimizer='adam',\n",
        "              metrics=['accuracy'])"
      ],
      "execution_count": null,
      "outputs": []
    },
    {
      "cell_type": "code",
      "metadata": {
        "colab": {
          "base_uri": "https://localhost:8080/"
        },
        "id": "q14Z2byK3Ay3",
        "outputId": "8e30ffcf-9ca7-4c2d-fb9e-bb88006e1156"
      },
      "source": [
        "# Training model 1 with 10 epochs \n",
        "\n",
        "history_1_10 = model_1.fit(x = train_imgs, y = train_labels, validation_data=(validation_imgs, validation_labels), steps_per_epoch=10, epochs=10, verbose=1)"
      ],
      "execution_count": null,
      "outputs": [
        {
          "output_type": "stream",
          "name": "stdout",
          "text": [
            "Epoch 1/10\n",
            "10/10 [==============================] - 12s 855ms/step - loss: 6.5528 - accuracy: 0.0370 - val_loss: 6.3062 - val_accuracy: 0.0200\n",
            "Epoch 2/10\n",
            "10/10 [==============================] - 6s 658ms/step - loss: 5.6711 - accuracy: 0.0670 - val_loss: 6.6726 - val_accuracy: 0.0200\n",
            "Epoch 3/10\n",
            "10/10 [==============================] - 7s 663ms/step - loss: 4.9542 - accuracy: 0.1300 - val_loss: 6.7916 - val_accuracy: 0.0200\n",
            "Epoch 4/10\n",
            "10/10 [==============================] - 7s 659ms/step - loss: 4.1388 - accuracy: 0.2420 - val_loss: 6.9228 - val_accuracy: 0.0500\n",
            "Epoch 5/10\n",
            "10/10 [==============================] - 7s 666ms/step - loss: 3.2546 - accuracy: 0.4370 - val_loss: 6.9593 - val_accuracy: 0.0800\n",
            "Epoch 6/10\n",
            "10/10 [==============================] - 7s 663ms/step - loss: 2.3542 - accuracy: 0.6840 - val_loss: 6.9798 - val_accuracy: 0.0800\n",
            "Epoch 7/10\n",
            "10/10 [==============================] - 7s 669ms/step - loss: 1.5582 - accuracy: 0.8650 - val_loss: 7.0835 - val_accuracy: 0.0800\n",
            "Epoch 8/10\n",
            "10/10 [==============================] - 7s 664ms/step - loss: 0.9678 - accuracy: 0.9510 - val_loss: 7.5016 - val_accuracy: 0.0800\n",
            "Epoch 9/10\n",
            "10/10 [==============================] - 7s 672ms/step - loss: 0.5685 - accuracy: 0.9750 - val_loss: 7.8625 - val_accuracy: 0.0800\n",
            "Epoch 10/10\n",
            "10/10 [==============================] - 7s 667ms/step - loss: 0.3276 - accuracy: 0.9930 - val_loss: 8.1183 - val_accuracy: 0.0700\n"
          ]
        }
      ]
    },
    {
      "cell_type": "code",
      "source": [
        "# Testing model 1 with 10 epochs \n",
        "\n",
        "testLoss, testAccuracy = model_1.evaluate(test_imgs, test_labels)"
      ],
      "metadata": {
        "id": "GM6yk9fqqC74"
      },
      "execution_count": null,
      "outputs": []
    },
    {
      "cell_type": "code",
      "metadata": {
        "colab": {
          "base_uri": "https://localhost:8080/",
          "height": 390
        },
        "id": "q5ZZ-htedhYQ",
        "outputId": "e97bccf8-fce2-46bb-8b0c-5e188aea470e"
      },
      "source": [
        "# Plotting learning curve for model 1 with 10 epochs \n",
        "\n",
        "summarize_model(history_1_10)"
      ],
      "execution_count": null,
      "outputs": [
        {
          "output_type": "display_data",
          "data": {
            "image/png": "[encoded data removed]",
            "text/plain": [
              "<Figure size 576x432 with 2 Axes>"
            ]
          },
          "metadata": {
            "needs_background": "light"
          }
        }
      ]
    },
    {
      "cell_type": "code",
      "metadata": {
        "colab": {
          "base_uri": "https://localhost:8080/"
        },
        "id": "wz5lhelxhMLq",
        "outputId": "f42e2cbb-535d-4f76-db25-6818e885fb81"
      },
      "source": [
        "# Training model 1 with 20 epochs \n",
        "\n",
        "history_1_20 = model_1.fit(x = train_imgs, y = train_labels, validation_data=(validation_imgs, validation_labels), steps_per_epoch=10, epochs=20, verbose=1)"
      ],
      "execution_count": null,
      "outputs": [
        {
          "output_type": "stream",
          "name": "stdout",
          "text": [
            "Epoch 1/20\n",
            "10/10 [==============================] - 55s 802ms/step - loss: 0.5719 - accuracy: 0.9610 - val_loss: 8.0519 - val_accuracy: 0.0800\n",
            "Epoch 2/20\n",
            "10/10 [==============================] - 7s 662ms/step - loss: 0.2555 - accuracy: 0.9930 - val_loss: 8.3343 - val_accuracy: 0.1100\n",
            "Epoch 3/20\n",
            "10/10 [==============================] - 7s 666ms/step - loss: 0.0994 - accuracy: 0.9990 - val_loss: 8.8011 - val_accuracy: 0.1000\n",
            "Epoch 4/20\n",
            "10/10 [==============================] - 7s 664ms/step - loss: 0.0432 - accuracy: 1.0000 - val_loss: 9.0904 - val_accuracy: 0.0900\n",
            "Epoch 5/20\n",
            "10/10 [==============================] - 7s 672ms/step - loss: 0.0245 - accuracy: 1.0000 - val_loss: 9.1880 - val_accuracy: 0.0900\n",
            "Epoch 6/20\n",
            "10/10 [==============================] - 7s 668ms/step - loss: 0.0173 - accuracy: 1.0000 - val_loss: 9.3045 - val_accuracy: 0.0900\n",
            "Epoch 7/20\n",
            "10/10 [==============================] - 7s 674ms/step - loss: 0.0132 - accuracy: 1.0000 - val_loss: 9.2798 - val_accuracy: 0.0900\n",
            "Epoch 8/20\n",
            "10/10 [==============================] - 7s 671ms/step - loss: 0.0109 - accuracy: 1.0000 - val_loss: 9.3068 - val_accuracy: 0.1000\n",
            "Epoch 9/20\n",
            "10/10 [==============================] - 7s 678ms/step - loss: 0.0096 - accuracy: 1.0000 - val_loss: 9.3377 - val_accuracy: 0.1000\n",
            "Epoch 10/20\n",
            "10/10 [==============================] - 7s 670ms/step - loss: 0.0085 - accuracy: 1.0000 - val_loss: 9.3605 - val_accuracy: 0.0900\n",
            "Epoch 11/20\n",
            "10/10 [==============================] - 7s 674ms/step - loss: 0.0076 - accuracy: 1.0000 - val_loss: 9.4082 - val_accuracy: 0.0900\n",
            "Epoch 12/20\n",
            "10/10 [==============================] - 7s 672ms/step - loss: 0.0069 - accuracy: 1.0000 - val_loss: 9.4353 - val_accuracy: 0.0900\n",
            "Epoch 13/20\n",
            "10/10 [==============================] - 7s 674ms/step - loss: 0.0063 - accuracy: 1.0000 - val_loss: 9.4568 - val_accuracy: 0.0900\n",
            "Epoch 14/20\n",
            "10/10 [==============================] - 7s 670ms/step - loss: 0.0058 - accuracy: 1.0000 - val_loss: 9.4771 - val_accuracy: 0.0900\n",
            "Epoch 15/20\n",
            "10/10 [==============================] - 7s 673ms/step - loss: 0.0054 - accuracy: 1.0000 - val_loss: 9.5024 - val_accuracy: 0.0900\n",
            "Epoch 16/20\n",
            "10/10 [==============================] - 7s 671ms/step - loss: 0.0050 - accuracy: 1.0000 - val_loss: 9.5420 - val_accuracy: 0.0900\n",
            "Epoch 17/20\n",
            "10/10 [==============================] - 7s 673ms/step - loss: 0.0046 - accuracy: 1.0000 - val_loss: 9.5657 - val_accuracy: 0.0900\n",
            "Epoch 18/20\n",
            "10/10 [==============================] - 7s 668ms/step - loss: 0.0043 - accuracy: 1.0000 - val_loss: 9.5791 - val_accuracy: 0.0900\n",
            "Epoch 19/20\n",
            "10/10 [==============================] - 7s 676ms/step - loss: 0.0040 - accuracy: 1.0000 - val_loss: 9.6014 - val_accuracy: 0.0900\n",
            "Epoch 20/20\n",
            "10/10 [==============================] - 7s 666ms/step - loss: 0.0037 - accuracy: 1.0000 - val_loss: 9.6342 - val_accuracy: 0.0900\n"
          ]
        }
      ]
    },
    {
      "cell_type": "code",
      "metadata": {
        "colab": {
          "base_uri": "https://localhost:8080/",
          "height": 390
        },
        "id": "KAJ_QYdYe7S2",
        "outputId": "e13c2a20-f99f-4d87-fc45-2a5b3166edb6"
      },
      "source": [
        "# Plotting learning curve for model 1 with 20 epochs \n",
        "\n",
        "summarize_model(history_1_20)"
      ],
      "execution_count": null,
      "outputs": [
        {
          "output_type": "display_data",
          "data": {
            "image/png": "[encoded data removed]",
            "text/plain": [
              "<Figure size 576x432 with 2 Axes>"
            ]
          },
          "metadata": {
            "needs_background": "light"
          }
        }
      ]
    },
    {
      "cell_type": "code",
      "metadata": {
        "colab": {
          "base_uri": "https://localhost:8080/"
        },
        "id": "YtBEFzi-gKbg",
        "outputId": "544419ee-a6db-4b9d-b3f2-6e82890eb8bc"
      },
      "source": [
        "# Testing model 1 with 20 epochs \n",
        "\n",
        "testLoss, testAccuracy = model_1.evaluate(test_imgs, test_labels)"
      ],
      "execution_count": null,
      "outputs": [
        {
          "output_type": "stream",
          "name": "stdout",
          "text": [
            "4/4 [==============================] - 1s 159ms/step - loss: 7.6903 - accuracy: 0.1100\n"
          ]
        }
      ]
    },
    {
      "cell_type": "markdown",
      "metadata": {
        "id": "M8hGpm_aDqqY"
      },
      "source": [
        "# **Model 2**"
      ]
    },
    {
      "cell_type": "code",
      "metadata": {
        "colab": {
          "base_uri": "https://localhost:8080/"
        },
        "id": "fTVmBUUqDoie",
        "outputId": "912f589e-9a36-4c74-e331-7fa5a70e20d8"
      },
      "source": [
        "# Creating model 2 by applying transfer learning on ResNet50\n",
        "\n",
        "from tensorflow.keras.applications.resnet50 import ResNet50\n",
        "from tensorflow.keras.models import Model\n",
        "from tensorflow.keras.layers import Dense\n",
        "from tensorflow.keras.layers import Flatten\n",
        "from tensorflow.keras.layers import Conv2D, MaxPooling2D, Flatten, Dense, Dropout, InputLayer\n",
        "from tensorflow.keras.models import Sequential\n",
        "from tensorflow.keras import Input\n",
        "from tensorflow.keras import optimizers\n",
        "import keras\n",
        "\n",
        "model_2 = Sequential()\n",
        "input_t = Input(shape = (224,224,3))\n",
        "pretrained_model= ResNet50(include_top=False,\n",
        "                           input_tensor=input_t, \n",
        "                   pooling='avg',classes= 554,\n",
        "                   weights='imagenet')\n",
        "for layer in pretrained_model.layers:\n",
        "        layer.trainable=False\n",
        "model_2.add(pretrained_model)\n",
        "model_2.add(Flatten())\n",
        "model_2.add(Dense(512, activation='relu'))\n",
        "model_2.add(Dense(1024, activation='relu', input_dim = (224,224,3)))\n",
        "output = model_2.add(Dense(554, activation='softmax'))\n",
        "model_2.summary()"
      ],
      "execution_count": null,
      "outputs": [
        {
          "output_type": "stream",
          "name": "stdout",
          "text": [
            "Model: \"sequential_10\"\n",
            "_________________________________________________________________\n",
            " Layer (type)                Output Shape              Param #   \n",
            "=================================================================\n",
            " resnet50 (Functional)       (None, 2048)              23587712  \n",
            "                                                                 \n",
            " flatten_9 (Flatten)         (None, 2048)              0         \n",
            "                                                                 \n",
            " dense_23 (Dense)            (None, 512)               1049088   \n",
            "                                                                 \n",
            " dense_24 (Dense)            (None, 1024)              525312    \n",
            "                                                                 \n",
            " dense_25 (Dense)            (None, 554)               567850    \n",
            "                                                                 \n",
            "=================================================================\n",
            "Total params: 25,729,962\n",
            "Trainable params: 2,142,250\n",
            "Non-trainable params: 23,587,712\n",
            "_________________________________________________________________\n"
          ]
        }
      ]
    },
    {
      "cell_type": "code",
      "metadata": {
        "id": "ZniEZDvaESvE"
      },
      "source": [
        "# Compiling model 2\n",
        "\n",
        "model_2.compile(loss='categorical_crossentropy',\n",
        "              optimizer='adam',\n",
        "              metrics=['accuracy'])"
      ],
      "execution_count": null,
      "outputs": []
    },
    {
      "cell_type": "code",
      "metadata": {
        "colab": {
          "base_uri": "https://localhost:8080/"
        },
        "id": "aD7fhuT_EZQa",
        "outputId": "bf28f147-ffd9-4148-d790-bae1028a424e"
      },
      "source": [
        "# Training model 2 with 10 epochs\n",
        "\n",
        "history_2_10 = model_2.fit(x = train_imgs, y = train_labels, validation_data=(validation_imgs, validation_labels), steps_per_epoch=10, epochs=10, verbose=1)"
      ],
      "execution_count": null,
      "outputs": [
        {
          "output_type": "stream",
          "name": "stdout",
          "text": [
            "Epoch 1/10\n",
            "10/10 [==============================] - 11s 798ms/step - loss: 6.4979 - accuracy: 0.0320 - val_loss: 6.3963 - val_accuracy: 0.0200\n",
            "Epoch 2/10\n",
            "10/10 [==============================] - 7s 662ms/step - loss: 5.8432 - accuracy: 0.0530 - val_loss: 6.5597 - val_accuracy: 0.0200\n",
            "Epoch 3/10\n",
            "10/10 [==============================] - 7s 663ms/step - loss: 5.2240 - accuracy: 0.0790 - val_loss: 6.9387 - val_accuracy: 0.0300\n",
            "Epoch 4/10\n",
            "10/10 [==============================] - 7s 664ms/step - loss: 4.2960 - accuracy: 0.1980 - val_loss: 7.1903 - val_accuracy: 0.0500\n",
            "Epoch 5/10\n",
            "10/10 [==============================] - 7s 665ms/step - loss: 3.0334 - accuracy: 0.4530 - val_loss: 7.5616 - val_accuracy: 0.0700\n",
            "Epoch 6/10\n",
            "10/10 [==============================] - 7s 670ms/step - loss: 1.7404 - accuracy: 0.7260 - val_loss: 7.8254 - val_accuracy: 0.0600\n",
            "Epoch 7/10\n",
            "10/10 [==============================] - 7s 666ms/step - loss: 0.9080 - accuracy: 0.8710 - val_loss: 8.9717 - val_accuracy: 0.0800\n",
            "Epoch 8/10\n",
            "10/10 [==============================] - 7s 666ms/step - loss: 0.3945 - accuracy: 0.9630 - val_loss: 9.1984 - val_accuracy: 0.0900\n",
            "Epoch 9/10\n",
            "10/10 [==============================] - 7s 668ms/step - loss: 0.1544 - accuracy: 0.9880 - val_loss: 9.4975 - val_accuracy: 0.1000\n",
            "Epoch 10/10\n",
            "10/10 [==============================] - 7s 667ms/step - loss: 0.0609 - accuracy: 0.9990 - val_loss: 9.9891 - val_accuracy: 0.1000\n"
          ]
        }
      ]
    },
    {
      "cell_type": "code",
      "metadata": {
        "colab": {
          "base_uri": "https://localhost:8080/",
          "height": 390
        },
        "id": "cQQFclIIgUy6",
        "outputId": "ce9f7477-b5ca-46bc-f6fe-346a25157b3c"
      },
      "source": [
        "# Plotting learning curve for model 2 with 10 epochs\n",
        "\n",
        "summarize_model(history_2_10)"
      ],
      "execution_count": null,
      "outputs": [
        {
          "output_type": "display_data",
          "data": {
            "image/png": "[encoded data removed]",
            "text/plain": [
              "<Figure size 576x432 with 2 Axes>"
            ]
          },
          "metadata": {
            "needs_background": "light"
          }
        }
      ]
    },
    {
      "cell_type": "code",
      "metadata": {
        "colab": {
          "base_uri": "https://localhost:8080/"
        },
        "id": "Jvk_tsbHFD6-",
        "outputId": "75350106-984d-4a12-a272-60354c9b486d"
      },
      "source": [
        "# Testing model 2 with 10 epochs\n",
        "\n",
        "testLoss, testAccuracy = model_2.evaluate(test_imgs, test_labels)"
      ],
      "execution_count": null,
      "outputs": [
        {
          "output_type": "stream",
          "name": "stdout",
          "text": [
            "4/4 [==============================] - 1s 168ms/step - loss: 8.6426 - accuracy: 0.0800\n"
          ]
        }
      ]
    },
    {
      "cell_type": "code",
      "metadata": {
        "colab": {
          "base_uri": "https://localhost:8080/"
        },
        "id": "qe8zR5-fVBVS",
        "outputId": "3246ce01-aef6-4aa7-b4e3-d9250c139809"
      },
      "source": [
        "# Training model 2 with 20 epochs\n",
        "\n",
        "history_2_20 = model_2.fit(x = train_imgs, y = train_labels, validation_data=(validation_imgs, validation_labels), steps_per_epoch=10, epochs=20, verbose=1)"
      ],
      "execution_count": null,
      "outputs": [
        {
          "output_type": "stream",
          "name": "stdout",
          "text": [
            "Epoch 1/20\n",
            "10/10 [==============================] - 12s 801ms/step - loss: 6.4843 - accuracy: 0.0370 - val_loss: 6.3461 - val_accuracy: 0.0200\n",
            "Epoch 2/20\n",
            "10/10 [==============================] - 7s 664ms/step - loss: 5.8524 - accuracy: 0.0550 - val_loss: 6.4877 - val_accuracy: 0.0200\n",
            "Epoch 3/20\n",
            "10/10 [==============================] - 7s 666ms/step - loss: 5.1969 - accuracy: 0.0910 - val_loss: 6.8395 - val_accuracy: 0.0400\n",
            "Epoch 4/20\n",
            "10/10 [==============================] - 7s 669ms/step - loss: 4.2390 - accuracy: 0.2020 - val_loss: 6.9869 - val_accuracy: 0.0600\n",
            "Epoch 5/20\n",
            "10/10 [==============================] - 7s 667ms/step - loss: 2.9650 - accuracy: 0.4510 - val_loss: 7.1550 - val_accuracy: 0.0700\n",
            "Epoch 6/20\n",
            "10/10 [==============================] - 7s 671ms/step - loss: 1.7758 - accuracy: 0.7160 - val_loss: 7.5466 - val_accuracy: 0.0700\n",
            "Epoch 7/20\n",
            "10/10 [==============================] - 7s 670ms/step - loss: 0.9009 - accuracy: 0.8820 - val_loss: 8.5962 - val_accuracy: 0.0900\n",
            "Epoch 8/20\n",
            "10/10 [==============================] - 7s 673ms/step - loss: 0.3997 - accuracy: 0.9570 - val_loss: 9.0253 - val_accuracy: 0.1000\n",
            "Epoch 9/20\n",
            "10/10 [==============================] - 7s 677ms/step - loss: 0.1635 - accuracy: 0.9830 - val_loss: 9.4913 - val_accuracy: 0.1000\n",
            "Epoch 10/20\n",
            "10/10 [==============================] - 7s 675ms/step - loss: 0.0695 - accuracy: 0.9990 - val_loss: 9.7228 - val_accuracy: 0.1000\n",
            "Epoch 11/20\n",
            "10/10 [==============================] - 7s 677ms/step - loss: 0.0275 - accuracy: 1.0000 - val_loss: 10.1023 - val_accuracy: 0.1300\n",
            "Epoch 12/20\n",
            "10/10 [==============================] - 7s 675ms/step - loss: 0.0149 - accuracy: 1.0000 - val_loss: 10.2144 - val_accuracy: 0.1200\n",
            "Epoch 13/20\n",
            "10/10 [==============================] - 7s 678ms/step - loss: 0.0094 - accuracy: 1.0000 - val_loss: 10.3357 - val_accuracy: 0.1000\n",
            "Epoch 14/20\n",
            "10/10 [==============================] - 7s 746ms/step - loss: 0.0067 - accuracy: 1.0000 - val_loss: 10.3706 - val_accuracy: 0.1000\n",
            "Epoch 15/20\n",
            "10/10 [==============================] - 7s 745ms/step - loss: 0.0054 - accuracy: 1.0000 - val_loss: 10.4234 - val_accuracy: 0.1100\n",
            "Epoch 16/20\n",
            "10/10 [==============================] - 7s 677ms/step - loss: 0.0047 - accuracy: 1.0000 - val_loss: 10.5084 - val_accuracy: 0.1100\n",
            "Epoch 17/20\n",
            "10/10 [==============================] - 7s 678ms/step - loss: 0.0042 - accuracy: 1.0000 - val_loss: 10.5537 - val_accuracy: 0.1100\n",
            "Epoch 18/20\n",
            "10/10 [==============================] - 7s 679ms/step - loss: 0.0039 - accuracy: 1.0000 - val_loss: 10.5861 - val_accuracy: 0.1100\n",
            "Epoch 19/20\n",
            "10/10 [==============================] - 7s 679ms/step - loss: 0.0036 - accuracy: 1.0000 - val_loss: 10.6321 - val_accuracy: 0.1100\n",
            "Epoch 20/20\n",
            "10/10 [==============================] - 7s 741ms/step - loss: 0.0034 - accuracy: 1.0000 - val_loss: 10.6662 - val_accuracy: 0.1100\n"
          ]
        }
      ]
    },
    {
      "cell_type": "code",
      "metadata": {
        "colab": {
          "base_uri": "https://localhost:8080/",
          "height": 390
        },
        "id": "WnB_iBV8hIGK",
        "outputId": "ed2067ca-d725-4304-ac36-ca89cdfff7a0"
      },
      "source": [
        "# Plotting learning curve for model 2 with 20 epochs\n",
        "\n",
        "summarize_model(history_2_20)"
      ],
      "execution_count": null,
      "outputs": [
        {
          "output_type": "display_data",
          "data": {
            "image/png": "[encoded data removed]",
            "text/plain": [
              "<Figure size 576x432 with 2 Axes>"
            ]
          },
          "metadata": {
            "needs_background": "light"
          }
        }
      ]
    },
    {
      "cell_type": "code",
      "metadata": {
        "colab": {
          "base_uri": "https://localhost:8080/"
        },
        "id": "JD0kz5a_Vcc-",
        "outputId": "c96d6642-1151-473c-d220-5d9c27548c4b"
      },
      "source": [
        "# Testing model 2 with 20 epochs\n",
        "\n",
        "testLoss, testAccuracy = model_2.evaluate(test_imgs, test_labels)"
      ],
      "execution_count": null,
      "outputs": [
        {
          "output_type": "stream",
          "name": "stdout",
          "text": [
            "4/4 [==============================] - 1s 160ms/step - loss: 9.6226 - accuracy: 0.1000\n"
          ]
        }
      ]
    },
    {
      "cell_type": "markdown",
      "metadata": {
        "id": "rl8mlN4MF8ZW"
      },
      "source": [
        "# **Model 3**"
      ]
    },
    {
      "cell_type": "code",
      "metadata": {
        "colab": {
          "base_uri": "https://localhost:8080/"
        },
        "id": "JwN5ZhPLF5af",
        "outputId": "51c7afda-ee87-4450-8cf9-66307f11ff82"
      },
      "source": [
        "# Creating model 3 by applying transfer learning on ResNet50\n",
        "\n",
        "from tensorflow.keras.applications.resnet50 import ResNet50\n",
        "from tensorflow.keras.models import Model\n",
        "from tensorflow.keras.layers import Dense\n",
        "from tensorflow.keras.layers import Flatten\n",
        "from tensorflow.keras.layers import Conv2D, MaxPooling2D, Flatten, Dense, Dropout, InputLayer\n",
        "from tensorflow.keras.models import Sequential\n",
        "from tensorflow.keras import Input\n",
        "from tensorflow.keras import optimizers\n",
        "import keras\n",
        "\n",
        "model_3 = Sequential()\n",
        "input_t = Input(shape = (224,224,3))\n",
        "pretrained_model= ResNet50(include_top=False,\n",
        "                           input_tensor=input_t, \n",
        "                   pooling='avg',classes= 554,\n",
        "                   weights='imagenet')\n",
        "\n",
        "for i in range(30):\n",
        "  pretrained_model.get_layer(index = i).trainable = False\n",
        "\n",
        "model_3.add(pretrained_model)\n",
        "model_3.add(Flatten())\n",
        "model_3.add(Dense(512, activation='relu'))\n",
        "model_3.add(Dense(1024, activation='relu', input_dim = (224,224,3)))\n",
        "output = model_3.add(Dense(554, activation='softmax'))\n",
        "model_3.summary()\n"
      ],
      "execution_count": null,
      "outputs": [
        {
          "output_type": "stream",
          "name": "stdout",
          "text": [
            "Model: \"sequential_12\"\n",
            "_________________________________________________________________\n",
            " Layer (type)                Output Shape              Param #   \n",
            "=================================================================\n",
            " resnet50 (Functional)       (None, 2048)              23587712  \n",
            "                                                                 \n",
            " flatten_11 (Flatten)        (None, 2048)              0         \n",
            "                                                                 \n",
            " dense_29 (Dense)            (None, 512)               1049088   \n",
            "                                                                 \n",
            " dense_30 (Dense)            (None, 1024)              525312    \n",
            "                                                                 \n",
            " dense_31 (Dense)            (None, 554)               567850    \n",
            "                                                                 \n",
            "=================================================================\n",
            "Total params: 25,729,962\n",
            "Trainable params: 25,504,362\n",
            "Non-trainable params: 225,600\n",
            "_________________________________________________________________\n"
          ]
        }
      ]
    },
    {
      "cell_type": "code",
      "metadata": {
        "id": "Oi-XMBMVHevq"
      },
      "source": [
        "# Compiling model 3\n",
        "\n",
        "model_3.compile(loss='categorical_crossentropy',\n",
        "              optimizer='adam',\n",
        "              metrics=['accuracy'])"
      ],
      "execution_count": null,
      "outputs": []
    },
    {
      "cell_type": "code",
      "metadata": {
        "colab": {
          "base_uri": "https://localhost:8080/"
        },
        "id": "Mv9qzAPaHjiD",
        "outputId": "7830eaa1-e520-4960-8f69-10ad08ff13c5"
      },
      "source": [
        "# Training model 3 with 10 epochs\n",
        "\n",
        "history_3_10 = model_3.fit(x = train_imgs, y = train_labels, validation_data=(validation_imgs, validation_labels), steps_per_epoch=10, epochs=10, verbose=1)"
      ],
      "execution_count": null,
      "outputs": [
        {
          "output_type": "stream",
          "name": "stdout",
          "text": [
            "Epoch 1/10\n",
            "10/10 [==============================] - 24s 2s/step - loss: 6.3507 - accuracy: 0.0390 - val_loss: 32.6145 - val_accuracy: 0.0000e+00\n",
            "Epoch 2/10\n",
            "10/10 [==============================] - 17s 2s/step - loss: 5.9058 - accuracy: 0.0530 - val_loss: 40.9040 - val_accuracy: 0.0200\n",
            "Epoch 3/10\n",
            "10/10 [==============================] - 17s 2s/step - loss: 5.3095 - accuracy: 0.0900 - val_loss: 54.7226 - val_accuracy: 0.0200\n",
            "Epoch 4/10\n",
            "10/10 [==============================] - 17s 2s/step - loss: 4.2141 - accuracy: 0.2050 - val_loss: 25.4740 - val_accuracy: 0.0000e+00\n",
            "Epoch 5/10\n",
            "10/10 [==============================] - 17s 2s/step - loss: 2.7616 - accuracy: 0.4290 - val_loss: 13.0736 - val_accuracy: 0.0200\n",
            "Epoch 6/10\n",
            "10/10 [==============================] - 17s 2s/step - loss: 1.4696 - accuracy: 0.6580 - val_loss: 10.6903 - val_accuracy: 0.0000e+00\n",
            "Epoch 7/10\n",
            "10/10 [==============================] - 17s 2s/step - loss: 0.7233 - accuracy: 0.8340 - val_loss: 13.2844 - val_accuracy: 0.0000e+00\n",
            "Epoch 8/10\n",
            "10/10 [==============================] - 17s 2s/step - loss: 0.4530 - accuracy: 0.8990 - val_loss: 9.2451 - val_accuracy: 0.0200\n",
            "Epoch 9/10\n",
            "10/10 [==============================] - 17s 2s/step - loss: 0.3612 - accuracy: 0.9070 - val_loss: 12.9750 - val_accuracy: 0.0000e+00\n",
            "Epoch 10/10\n",
            "10/10 [==============================] - 16s 2s/step - loss: 0.2128 - accuracy: 0.9440 - val_loss: 12.1739 - val_accuracy: 0.0200\n"
          ]
        }
      ]
    },
    {
      "cell_type": "code",
      "metadata": {
        "colab": {
          "base_uri": "https://localhost:8080/",
          "height": 390
        },
        "id": "UFjxxI7fiI3Z",
        "outputId": "b6c5fed3-78c6-4900-d1e5-fc53a2f74945"
      },
      "source": [
        "# Plotting learning curve with model 3 with 10 epochs\n",
        "\n",
        "summarize_model(history_3_10)"
      ],
      "execution_count": null,
      "outputs": [
        {
          "output_type": "display_data",
          "data": {
            "image/png": "[encoded data removed]",
            "text/plain": [
              "<Figure size 576x432 with 2 Axes>"
            ]
          },
          "metadata": {
            "needs_background": "light"
          }
        }
      ]
    },
    {
      "cell_type": "code",
      "metadata": {
        "colab": {
          "base_uri": "https://localhost:8080/"
        },
        "id": "-GXCbTPsIkjX",
        "outputId": "b4e4ae55-ba5d-40df-a01d-b89b6f730c87"
      },
      "source": [
        "# Testing model 3 with 10 epochs\n",
        "\n",
        "testLoss, testAccuracy = model_3.evaluate(test_imgs, test_labels)"
      ],
      "execution_count": null,
      "outputs": [
        {
          "output_type": "stream",
          "name": "stdout",
          "text": [
            "4/4 [==============================] - 3s 153ms/step - loss: 6.3824 - accuracy: 0.0000e+00\n"
          ]
        }
      ]
    },
    {
      "cell_type": "code",
      "metadata": {
        "colab": {
          "base_uri": "https://localhost:8080/"
        },
        "id": "Rq8ogGxOIW98",
        "outputId": "d8ac1fb7-f1c8-408f-da56-51bf6a9d9ffe"
      },
      "source": [
        "# Training model 3 with 25 epochs\n",
        "\n",
        "history_3_25 = model_3.fit(x = train_imgs, y = train_labels, validation_data=(validation_imgs, validation_labels), steps_per_epoch=10, epochs=25, verbose=1)"
      ],
      "execution_count": null,
      "outputs": [
        {
          "output_type": "stream",
          "name": "stdout",
          "text": [
            "Epoch 1/25\n",
            "10/10 [==============================] - 24s 2s/step - loss: 6.3575 - accuracy: 0.0350 - val_loss: 391.8464 - val_accuracy: 0.0200\n",
            "Epoch 2/25\n",
            "10/10 [==============================] - 17s 2s/step - loss: 6.1126 - accuracy: 0.0510 - val_loss: 2107.4868 - val_accuracy: 0.0000e+00\n",
            "Epoch 3/25\n",
            "10/10 [==============================] - 16s 2s/step - loss: 5.8168 - accuracy: 0.0600 - val_loss: 41724.3242 - val_accuracy: 0.0000e+00\n",
            "Epoch 4/25\n",
            "10/10 [==============================] - 16s 2s/step - loss: 5.4569 - accuracy: 0.0730 - val_loss: 2784.0823 - val_accuracy: 0.0000e+00\n",
            "Epoch 5/25\n",
            "10/10 [==============================] - 16s 2s/step - loss: 4.7847 - accuracy: 0.1260 - val_loss: 1028.4548 - val_accuracy: 0.0000e+00\n",
            "Epoch 6/25\n",
            "10/10 [==============================] - 16s 2s/step - loss: 3.8459 - accuracy: 0.2320 - val_loss: 689.8018 - val_accuracy: 0.0000e+00\n",
            "Epoch 7/25\n",
            "10/10 [==============================] - 16s 2s/step - loss: 2.7187 - accuracy: 0.3930 - val_loss: 178.6913 - val_accuracy: 0.0000e+00\n",
            "Epoch 8/25\n",
            "10/10 [==============================] - 16s 2s/step - loss: 1.8251 - accuracy: 0.5660 - val_loss: 39.6413 - val_accuracy: 0.0000e+00\n",
            "Epoch 9/25\n",
            "10/10 [==============================] - 16s 2s/step - loss: 0.9869 - accuracy: 0.7600 - val_loss: 78.3487 - val_accuracy: 0.0200\n",
            "Epoch 10/25\n",
            "10/10 [==============================] - 16s 2s/step - loss: 0.4915 - accuracy: 0.8730 - val_loss: 48.9135 - val_accuracy: 0.0100\n",
            "Epoch 11/25\n",
            "10/10 [==============================] - 16s 2s/step - loss: 0.3317 - accuracy: 0.9130 - val_loss: 184.9936 - val_accuracy: 0.0100\n",
            "Epoch 12/25\n",
            "10/10 [==============================] - 16s 2s/step - loss: 0.2515 - accuracy: 0.9320 - val_loss: 60.4609 - val_accuracy: 0.0200\n",
            "Epoch 13/25\n",
            "10/10 [==============================] - 16s 2s/step - loss: 0.1470 - accuracy: 0.9680 - val_loss: 40.2217 - val_accuracy: 0.0200\n",
            "Epoch 14/25\n",
            "10/10 [==============================] - 16s 2s/step - loss: 0.1411 - accuracy: 0.9650 - val_loss: 18.0798 - val_accuracy: 0.0400\n",
            "Epoch 15/25\n",
            "10/10 [==============================] - 16s 2s/step - loss: 0.1439 - accuracy: 0.9720 - val_loss: 43.8186 - val_accuracy: 0.0300\n",
            "Epoch 16/25\n",
            "10/10 [==============================] - 16s 2s/step - loss: 0.1029 - accuracy: 0.9760 - val_loss: 20.9106 - val_accuracy: 0.0400\n",
            "Epoch 17/25\n",
            "10/10 [==============================] - 16s 2s/step - loss: 0.0831 - accuracy: 0.9880 - val_loss: 19.1339 - val_accuracy: 0.0500\n",
            "Epoch 18/25\n",
            "10/10 [==============================] - 16s 2s/step - loss: 0.0597 - accuracy: 0.9840 - val_loss: 19.2921 - val_accuracy: 0.0400\n",
            "Epoch 19/25\n",
            "10/10 [==============================] - 17s 2s/step - loss: 0.0575 - accuracy: 0.9810 - val_loss: 13.0234 - val_accuracy: 0.0500\n",
            "Epoch 20/25\n",
            "10/10 [==============================] - 16s 2s/step - loss: 0.0759 - accuracy: 0.9840 - val_loss: 13.8723 - val_accuracy: 0.0800\n",
            "Epoch 21/25\n",
            "10/10 [==============================] - 16s 2s/step - loss: 0.0647 - accuracy: 0.9840 - val_loss: 15.4815 - val_accuracy: 0.0800\n",
            "Epoch 22/25\n",
            "10/10 [==============================] - 16s 2s/step - loss: 0.0539 - accuracy: 0.9860 - val_loss: 17.8465 - val_accuracy: 0.0800\n",
            "Epoch 23/25\n",
            "10/10 [==============================] - 16s 2s/step - loss: 0.0702 - accuracy: 0.9840 - val_loss: 17.0725 - val_accuracy: 0.0600\n",
            "Epoch 24/25\n",
            "10/10 [==============================] - 16s 2s/step - loss: 0.0848 - accuracy: 0.9850 - val_loss: 14.6229 - val_accuracy: 0.0600\n",
            "Epoch 25/25\n",
            "10/10 [==============================] - 17s 2s/step - loss: 0.0602 - accuracy: 0.9880 - val_loss: 13.6309 - val_accuracy: 0.0600\n"
          ]
        }
      ]
    },
    {
      "cell_type": "code",
      "metadata": {
        "colab": {
          "base_uri": "https://localhost:8080/",
          "height": 390
        },
        "id": "mrSXXvYzkI5H",
        "outputId": "43192083-3634-4965-d6a0-5815640ed9dc"
      },
      "source": [
        "# Plotting learning curve for model 3 with 25 epochs\n",
        "\n",
        "summarize_model(history_3_25)"
      ],
      "execution_count": null,
      "outputs": [
        {
          "output_type": "display_data",
          "data": {
            "image/png": "[encoded data removed]",
            "text/plain": [
              "<Figure size 576x432 with 2 Axes>"
            ]
          },
          "metadata": {
            "needs_background": "light"
          }
        }
      ]
    },
    {
      "cell_type": "code",
      "metadata": {
        "colab": {
          "base_uri": "https://localhost:8080/"
        },
        "id": "moh3iLjPK0bs",
        "outputId": "e9621352-8e93-4ca0-ac1c-8f8ca179645c"
      },
      "source": [
        "# Testing model 3 with 25 epochs\n",
        "\n",
        "testLoss, testAccuracy = model_3.evaluate(test_imgs, test_labels)"
      ],
      "execution_count": null,
      "outputs": [
        {
          "output_type": "stream",
          "name": "stdout",
          "text": [
            "4/4 [==============================] - 1s 168ms/step - loss: 12.4264 - accuracy: 0.0600\n"
          ]
        }
      ]
    }
  ]
}