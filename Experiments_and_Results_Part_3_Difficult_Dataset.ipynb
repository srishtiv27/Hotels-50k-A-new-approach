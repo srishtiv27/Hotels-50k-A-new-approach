{
  "nbformat": 4,
  "nbformat_minor": 0,
  "metadata": {
    "colab": {
      "name": "Experiments and Results Part 3: Difficult Dataset.ipynb",
      "provenance": []
    },
    "kernelspec": {
      "name": "python3",
      "display_name": "Python 3"
    },
    "language_info": {
      "name": "python"
    },
    "accelerator": "GPU"
  },
  "cells": [
    {
      "cell_type": "code",
      "execution_count": null,
      "metadata": {
        "colab": {
          "base_uri": "https://localhost:8080/"
        },
        "id": "YebTTKb5lWjb",
        "outputId": "3c6b9f86-723c-49d1-f518-e5fec1b84d8c"
      },
      "outputs": [
        {
          "output_type": "stream",
          "name": "stdout",
          "text": [
            "Drive already mounted at /content/gdrive; to attempt to forcibly remount, call drive.mount(\"/content/gdrive\", force_remount=True).\n"
          ]
        }
      ],
      "source": [
        "from google.colab import drive\n",
        "drive.mount('/content/gdrive')"
      ]
    },
    {
      "cell_type": "code",
      "source": [
        "import pandas as pd\n",
        "\n",
        "# Get the all_hotels dataset from this link:  https://drive.google.com/file/d/1hdC7zXODlanrQHRrqSNAoLPU5XJwmapb/view?usp=sharing\n",
        "\n",
        "all_hotels = pd.read_csv(\"/content/gdrive/MyDrive/AI Sem 5/AI Project/Datasets/train_set.csv\", names=[\"image_id\", \"hotel_id\", \"image_url\", \"image_source\", \"upload_timestamp\"])\n",
        "# Displaying the dataset\n",
        "all_hotels.head()"
      ],
      "metadata": {
        "id": "2z1To3eRlo8J",
        "colab": {
          "base_uri": "https://localhost:8080/",
          "height": 206
        },
        "outputId": "a128c38e-c9eb-4a05-b3c5-30f8cb7d4535"
      },
      "execution_count": null,
      "outputs": [
        {
          "output_type": "execute_result",
          "data": {
            "text/html": [
              "<div>\n",
              "<style scoped>\n",
              "    .dataframe tbody tr th:only-of-type {\n",
              "        vertical-align: middle;\n",
              "    }\n",
              "\n",
              "    .dataframe tbody tr th {\n",
              "        vertical-align: top;\n",
              "    }\n",
              "\n",
              "    .dataframe thead th {\n",
              "        text-align: right;\n",
              "    }\n",
              "</style>\n",
              "<table border=\"1\" class=\"dataframe\">\n",
              "  <thead>\n",
              "    <tr style=\"text-align: right;\">\n",
              "      <th></th>\n",
              "      <th>image_id</th>\n",
              "      <th>hotel_id</th>\n",
              "      <th>image_url</th>\n",
              "      <th>image_source</th>\n",
              "      <th>upload_timestamp</th>\n",
              "    </tr>\n",
              "  </thead>\n",
              "  <tbody>\n",
              "    <tr>\n",
              "      <th>0</th>\n",
              "      <td>3485</td>\n",
              "      <td>18187</td>\n",
              "      <td>https://traffickcam.com/images/2016/10/2015090...</td>\n",
              "      <td>traffickcam</td>\n",
              "      <td>9/9/15 17:23</td>\n",
              "    </tr>\n",
              "    <tr>\n",
              "      <th>1</th>\n",
              "      <td>3486</td>\n",
              "      <td>18187</td>\n",
              "      <td>https://traffickcam.com/images/2016/10/2015090...</td>\n",
              "      <td>traffickcam</td>\n",
              "      <td>9/9/15 17:23</td>\n",
              "    </tr>\n",
              "    <tr>\n",
              "      <th>2</th>\n",
              "      <td>3663</td>\n",
              "      <td>73224</td>\n",
              "      <td>https://traffickcam.com/images/2016/10/2015091...</td>\n",
              "      <td>traffickcam</td>\n",
              "      <td>9/17/15 19:33</td>\n",
              "    </tr>\n",
              "    <tr>\n",
              "      <th>3</th>\n",
              "      <td>2586939</td>\n",
              "      <td>86350</td>\n",
              "      <td>https://traffickcam.com/images/2017/2/20160125...</td>\n",
              "      <td>traffickcam</td>\n",
              "      <td>1/25/16 19:12</td>\n",
              "    </tr>\n",
              "    <tr>\n",
              "      <th>4</th>\n",
              "      <td>2586950</td>\n",
              "      <td>1533</td>\n",
              "      <td>https://traffickcam.com/images/2017/2/20160125...</td>\n",
              "      <td>traffickcam</td>\n",
              "      <td>1/25/16 17:23</td>\n",
              "    </tr>\n",
              "  </tbody>\n",
              "</table>\n",
              "</div>"
            ],
            "text/plain": [
              "   image_id  hotel_id  ... image_source upload_timestamp\n",
              "0      3485     18187  ...  traffickcam     9/9/15 17:23\n",
              "1      3486     18187  ...  traffickcam     9/9/15 17:23\n",
              "2      3663     73224  ...  traffickcam    9/17/15 19:33\n",
              "3   2586939     86350  ...  traffickcam    1/25/16 19:12\n",
              "4   2586950      1533  ...  traffickcam    1/25/16 17:23\n",
              "\n",
              "[5 rows x 5 columns]"
            ]
          },
          "metadata": {},
          "execution_count": 2
        }
      ]
    },
    {
      "cell_type": "code",
      "source": [
        "# Get the hotels dataset from this link:  https://drive.google.com/file/d/1GIvgQtYeXapDIGpfdd_czVrIcVfN_xy1/view?usp=sharing\n",
        "\n",
        "hotels = pd.read_csv('/content/gdrive/MyDrive/AI/datasets/170k/hotels_subset_170k_without_missing_final.csv')"
      ],
      "metadata": {
        "id": "P3U009cyQog4"
      },
      "execution_count": null,
      "outputs": []
    },
    {
      "cell_type": "code",
      "source": [
        "hotels_id_dist = pd.DataFrame(hotels['hotel_id'].value_counts()).reset_index()"
      ],
      "metadata": {
        "id": "WKRKb-HlM8m9"
      },
      "execution_count": null,
      "outputs": []
    },
    {
      "cell_type": "code",
      "source": [
        "hotels_id_dist.rename(columns={'index': 'hotel_id', 'hotel_id': 'count'}, inplace=True)"
      ],
      "metadata": {
        "id": "lbRJSYE7M_tY"
      },
      "execution_count": null,
      "outputs": []
    },
    {
      "cell_type": "code",
      "source": [
        "hotels_id_dist"
      ],
      "metadata": {
        "colab": {
          "base_uri": "https://localhost:8080/",
          "height": 423
        },
        "id": "tmBXdaV5NBhS",
        "outputId": "9659566f-4fed-4171-fbc5-76264b93127c"
      },
      "execution_count": null,
      "outputs": [
        {
          "output_type": "execute_result",
          "data": {
            "text/html": [
              "<div>\n",
              "<style scoped>\n",
              "    .dataframe tbody tr th:only-of-type {\n",
              "        vertical-align: middle;\n",
              "    }\n",
              "\n",
              "    .dataframe tbody tr th {\n",
              "        vertical-align: top;\n",
              "    }\n",
              "\n",
              "    .dataframe thead th {\n",
              "        text-align: right;\n",
              "    }\n",
              "</style>\n",
              "<table border=\"1\" class=\"dataframe\">\n",
              "  <thead>\n",
              "    <tr style=\"text-align: right;\">\n",
              "      <th></th>\n",
              "      <th>hotel_id</th>\n",
              "      <th>count</th>\n",
              "    </tr>\n",
              "  </thead>\n",
              "  <tbody>\n",
              "    <tr>\n",
              "      <th>0</th>\n",
              "      <td>6798</td>\n",
              "      <td>328</td>\n",
              "    </tr>\n",
              "    <tr>\n",
              "      <th>1</th>\n",
              "      <td>1240</td>\n",
              "      <td>258</td>\n",
              "    </tr>\n",
              "    <tr>\n",
              "      <th>2</th>\n",
              "      <td>873</td>\n",
              "      <td>244</td>\n",
              "    </tr>\n",
              "    <tr>\n",
              "      <th>3</th>\n",
              "      <td>5201</td>\n",
              "      <td>166</td>\n",
              "    </tr>\n",
              "    <tr>\n",
              "      <th>4</th>\n",
              "      <td>6611</td>\n",
              "      <td>165</td>\n",
              "    </tr>\n",
              "    <tr>\n",
              "      <th>...</th>\n",
              "      <td>...</td>\n",
              "      <td>...</td>\n",
              "    </tr>\n",
              "    <tr>\n",
              "      <th>15315</th>\n",
              "      <td>12080</td>\n",
              "      <td>1</td>\n",
              "    </tr>\n",
              "    <tr>\n",
              "      <th>15316</th>\n",
              "      <td>12068</td>\n",
              "      <td>1</td>\n",
              "    </tr>\n",
              "    <tr>\n",
              "      <th>15317</th>\n",
              "      <td>12064</td>\n",
              "      <td>1</td>\n",
              "    </tr>\n",
              "    <tr>\n",
              "      <th>15318</th>\n",
              "      <td>26906</td>\n",
              "      <td>1</td>\n",
              "    </tr>\n",
              "    <tr>\n",
              "      <th>15319</th>\n",
              "      <td>131072</td>\n",
              "      <td>1</td>\n",
              "    </tr>\n",
              "  </tbody>\n",
              "</table>\n",
              "<p>15320 rows × 2 columns</p>\n",
              "</div>"
            ],
            "text/plain": [
              "       hotel_id  count\n",
              "0          6798    328\n",
              "1          1240    258\n",
              "2           873    244\n",
              "3          5201    166\n",
              "4          6611    165\n",
              "...         ...    ...\n",
              "15315     12080      1\n",
              "15316     12068      1\n",
              "15317     12064      1\n",
              "15318     26906      1\n",
              "15319    131072      1\n",
              "\n",
              "[15320 rows x 2 columns]"
            ]
          },
          "metadata": {},
          "execution_count": 56
        }
      ]
    },
    {
      "cell_type": "markdown",
      "source": [
        "# **Difficult Dataset**"
      ],
      "metadata": {
        "id": "sWzcHpr9ufcM"
      }
    },
    {
      "cell_type": "markdown",
      "source": [
        "To create the difficult dataset, we first thought of taking hotels which only have one image per hotel. However, we decided against this because we weren’t able to create the test and validation datasets using stratified sampling. This was because stratified sampling is unable to split the dataset proportionately if there is only one image per hotel. \n",
        "To do the 80-10-10 (train-validation-test) split, we needed a minimum of 10 images per hotel. \n",
        "\n",
        "Hence, we decided to make the dataset using hotels which have 10 images each.\n"
      ],
      "metadata": {
        "id": "XhpkL1m3REx4"
      }
    },
    {
      "cell_type": "code",
      "source": [
        "difficult_dataset_dist = hotels_id_dist[hotels_id_dist['count'] == 10]"
      ],
      "metadata": {
        "id": "7-hrRTcPtinI"
      },
      "execution_count": null,
      "outputs": []
    },
    {
      "cell_type": "code",
      "source": [
        "difficult_dataset_dist"
      ],
      "metadata": {
        "colab": {
          "base_uri": "https://localhost:8080/",
          "height": 423
        },
        "id": "p8R2lj4buRz9",
        "outputId": "88e9a646-0b0c-499b-e253-e4201efa4480"
      },
      "execution_count": null,
      "outputs": [
        {
          "output_type": "execute_result",
          "data": {
            "text/html": [
              "<div>\n",
              "<style scoped>\n",
              "    .dataframe tbody tr th:only-of-type {\n",
              "        vertical-align: middle;\n",
              "    }\n",
              "\n",
              "    .dataframe tbody tr th {\n",
              "        vertical-align: top;\n",
              "    }\n",
              "\n",
              "    .dataframe thead th {\n",
              "        text-align: right;\n",
              "    }\n",
              "</style>\n",
              "<table border=\"1\" class=\"dataframe\">\n",
              "  <thead>\n",
              "    <tr style=\"text-align: right;\">\n",
              "      <th></th>\n",
              "      <th>hotel_id</th>\n",
              "      <th>count</th>\n",
              "    </tr>\n",
              "  </thead>\n",
              "  <tbody>\n",
              "    <tr>\n",
              "      <th>4873</th>\n",
              "      <td>5189</td>\n",
              "      <td>10</td>\n",
              "    </tr>\n",
              "    <tr>\n",
              "      <th>4874</th>\n",
              "      <td>8325</td>\n",
              "      <td>10</td>\n",
              "    </tr>\n",
              "    <tr>\n",
              "      <th>4875</th>\n",
              "      <td>6458</td>\n",
              "      <td>10</td>\n",
              "    </tr>\n",
              "    <tr>\n",
              "      <th>4876</th>\n",
              "      <td>81853</td>\n",
              "      <td>10</td>\n",
              "    </tr>\n",
              "    <tr>\n",
              "      <th>4877</th>\n",
              "      <td>4138</td>\n",
              "      <td>10</td>\n",
              "    </tr>\n",
              "    <tr>\n",
              "      <th>...</th>\n",
              "      <td>...</td>\n",
              "      <td>...</td>\n",
              "    </tr>\n",
              "    <tr>\n",
              "      <th>5197</th>\n",
              "      <td>1024</td>\n",
              "      <td>10</td>\n",
              "    </tr>\n",
              "    <tr>\n",
              "      <th>5198</th>\n",
              "      <td>85511</td>\n",
              "      <td>10</td>\n",
              "    </tr>\n",
              "    <tr>\n",
              "      <th>5199</th>\n",
              "      <td>4387</td>\n",
              "      <td>10</td>\n",
              "    </tr>\n",
              "    <tr>\n",
              "      <th>5200</th>\n",
              "      <td>1412</td>\n",
              "      <td>10</td>\n",
              "    </tr>\n",
              "    <tr>\n",
              "      <th>5201</th>\n",
              "      <td>75660</td>\n",
              "      <td>10</td>\n",
              "    </tr>\n",
              "  </tbody>\n",
              "</table>\n",
              "<p>329 rows × 2 columns</p>\n",
              "</div>"
            ],
            "text/plain": [
              "      hotel_id  count\n",
              "4873      5189     10\n",
              "4874      8325     10\n",
              "4875      6458     10\n",
              "4876     81853     10\n",
              "4877      4138     10\n",
              "...        ...    ...\n",
              "5197      1024     10\n",
              "5198     85511     10\n",
              "5199      4387     10\n",
              "5200      1412     10\n",
              "5201     75660     10\n",
              "\n",
              "[329 rows x 2 columns]"
            ]
          },
          "metadata": {},
          "execution_count": 132
        }
      ]
    },
    {
      "cell_type": "code",
      "source": [
        "difficult_dataset_dist = difficult_dataset_dist['hotel_id']"
      ],
      "metadata": {
        "id": "e0MjU6y1uois"
      },
      "execution_count": null,
      "outputs": []
    },
    {
      "cell_type": "code",
      "source": [
        "difficult_dataset_dist = list(difficult_dataset_dist)"
      ],
      "metadata": {
        "id": "L68tA2fAu7rs"
      },
      "execution_count": null,
      "outputs": []
    },
    {
      "cell_type": "code",
      "source": [
        "difficult_dataset_hotels = pd.DataFrame(columns=['image_id','hotel_id','image_url','image_source','upload_timestamp', 'serial_number'])"
      ],
      "metadata": {
        "id": "GSM1rByAvIob"
      },
      "execution_count": null,
      "outputs": []
    },
    {
      "cell_type": "code",
      "source": [
        "for i in range(0, len(hotels['hotel_id'])):\n",
        "  try:\n",
        "    if hotels['hotel_id'][i] in difficult_hotels_dist:\n",
        "      difficult_dataset_hotels.loc[len(difficult_dataset_hotels)] = [hotels['image_id'][i], hotels['hotel_id'][i],\n",
        "                                               hotels['image_url'][i], hotels['image_source'][i],\n",
        "                                               hotels['upload_timestamp'][i], hotels['serial_number'][i]] \n",
        "  except:\n",
        "    print(i)"
      ],
      "metadata": {
        "id": "08MDUONxvU2X"
      },
      "execution_count": null,
      "outputs": []
    },
    {
      "cell_type": "code",
      "source": [
        "difficult_dataset_hotels"
      ],
      "metadata": {
        "colab": {
          "base_uri": "https://localhost:8080/",
          "height": 423
        },
        "id": "-sqyjcPIvhEH",
        "outputId": "273b8c7e-132d-4823-d445-c5f55e2afdda"
      },
      "execution_count": null,
      "outputs": [
        {
          "output_type": "execute_result",
          "data": {
            "text/html": [
              "<div>\n",
              "<style scoped>\n",
              "    .dataframe tbody tr th:only-of-type {\n",
              "        vertical-align: middle;\n",
              "    }\n",
              "\n",
              "    .dataframe tbody tr th {\n",
              "        vertical-align: top;\n",
              "    }\n",
              "\n",
              "    .dataframe thead th {\n",
              "        text-align: right;\n",
              "    }\n",
              "</style>\n",
              "<table border=\"1\" class=\"dataframe\">\n",
              "  <thead>\n",
              "    <tr style=\"text-align: right;\">\n",
              "      <th></th>\n",
              "      <th>image_id</th>\n",
              "      <th>hotel_id</th>\n",
              "      <th>image_url</th>\n",
              "      <th>image_source</th>\n",
              "      <th>upload_timestamp</th>\n",
              "      <th>serial_number</th>\n",
              "    </tr>\n",
              "  </thead>\n",
              "  <tbody>\n",
              "    <tr>\n",
              "      <th>0</th>\n",
              "      <td>2586939</td>\n",
              "      <td>86350</td>\n",
              "      <td>https://traffickcam.com/images/2017/2/20160125...</td>\n",
              "      <td>traffickcam</td>\n",
              "      <td>1/25/16 19:12</td>\n",
              "      <td>3</td>\n",
              "    </tr>\n",
              "    <tr>\n",
              "      <th>1</th>\n",
              "      <td>2587023</td>\n",
              "      <td>86350</td>\n",
              "      <td>https://traffickcam.com/images/2017/2/20160126...</td>\n",
              "      <td>traffickcam</td>\n",
              "      <td>1/26/16 0:36</td>\n",
              "      <td>10</td>\n",
              "    </tr>\n",
              "    <tr>\n",
              "      <th>2</th>\n",
              "      <td>2587024</td>\n",
              "      <td>86350</td>\n",
              "      <td>https://traffickcam.com/images/2017/2/20160126...</td>\n",
              "      <td>traffickcam</td>\n",
              "      <td>1/26/16 0:36</td>\n",
              "      <td>11</td>\n",
              "    </tr>\n",
              "    <tr>\n",
              "      <th>3</th>\n",
              "      <td>2587026</td>\n",
              "      <td>86350</td>\n",
              "      <td>https://traffickcam.com/images/2017/2/20160126...</td>\n",
              "      <td>traffickcam</td>\n",
              "      <td>1/26/16 0:36</td>\n",
              "      <td>12</td>\n",
              "    </tr>\n",
              "    <tr>\n",
              "      <th>4</th>\n",
              "      <td>2587554</td>\n",
              "      <td>76756</td>\n",
              "      <td>https://traffickcam.com/images/2017/3/20160218...</td>\n",
              "      <td>traffickcam</td>\n",
              "      <td>2/18/16 4:40</td>\n",
              "      <td>32</td>\n",
              "    </tr>\n",
              "    <tr>\n",
              "      <th>...</th>\n",
              "      <td>...</td>\n",
              "      <td>...</td>\n",
              "      <td>...</td>\n",
              "      <td>...</td>\n",
              "      <td>...</td>\n",
              "      <td>...</td>\n",
              "    </tr>\n",
              "    <tr>\n",
              "      <th>3285</th>\n",
              "      <td>7412755</td>\n",
              "      <td>7664</td>\n",
              "      <td>https://i.travelapi.com/hotels/3000000/2810000...</td>\n",
              "      <td>travel_website</td>\n",
              "      <td>2019-12-20 10:55:27</td>\n",
              "      <td>169734</td>\n",
              "    </tr>\n",
              "    <tr>\n",
              "      <th>3286</th>\n",
              "      <td>7412756</td>\n",
              "      <td>7664</td>\n",
              "      <td>https://i.travelapi.com/hotels/3000000/2810000...</td>\n",
              "      <td>travel_website</td>\n",
              "      <td>2019-12-20 10:55:27</td>\n",
              "      <td>169735</td>\n",
              "    </tr>\n",
              "    <tr>\n",
              "      <th>3287</th>\n",
              "      <td>7412757</td>\n",
              "      <td>7664</td>\n",
              "      <td>https://i.travelapi.com/hotels/3000000/2810000...</td>\n",
              "      <td>travel_website</td>\n",
              "      <td>2019-12-20 10:55:27</td>\n",
              "      <td>169736</td>\n",
              "    </tr>\n",
              "    <tr>\n",
              "      <th>3288</th>\n",
              "      <td>7412758</td>\n",
              "      <td>7664</td>\n",
              "      <td>https://i.travelapi.com/hotels/3000000/2810000...</td>\n",
              "      <td>travel_website</td>\n",
              "      <td>2019-12-20 10:55:27</td>\n",
              "      <td>169737</td>\n",
              "    </tr>\n",
              "    <tr>\n",
              "      <th>3289</th>\n",
              "      <td>7412759</td>\n",
              "      <td>7664</td>\n",
              "      <td>https://i.travelapi.com/hotels/3000000/2810000...</td>\n",
              "      <td>travel_website</td>\n",
              "      <td>2019-12-20 10:55:27</td>\n",
              "      <td>169738</td>\n",
              "    </tr>\n",
              "  </tbody>\n",
              "</table>\n",
              "<p>3290 rows × 6 columns</p>\n",
              "</div>"
            ],
            "text/plain": [
              "     image_id hotel_id  ...     upload_timestamp serial_number\n",
              "0     2586939    86350  ...        1/25/16 19:12             3\n",
              "1     2587023    86350  ...         1/26/16 0:36            10\n",
              "2     2587024    86350  ...         1/26/16 0:36            11\n",
              "3     2587026    86350  ...         1/26/16 0:36            12\n",
              "4     2587554    76756  ...         2/18/16 4:40            32\n",
              "...       ...      ...  ...                  ...           ...\n",
              "3285  7412755     7664  ...  2019-12-20 10:55:27        169734\n",
              "3286  7412756     7664  ...  2019-12-20 10:55:27        169735\n",
              "3287  7412757     7664  ...  2019-12-20 10:55:27        169736\n",
              "3288  7412758     7664  ...  2019-12-20 10:55:27        169737\n",
              "3289  7412759     7664  ...  2019-12-20 10:55:27        169738\n",
              "\n",
              "[3290 rows x 6 columns]"
            ]
          },
          "metadata": {},
          "execution_count": 138
        }
      ]
    },
    {
      "cell_type": "code",
      "source": [
        "from sklearn import preprocessing\n",
        "\n",
        "label_encoder = preprocessing.LabelEncoder()\n",
        "difficult_dataset_hotels['new_hotel_id'] = label_encoder.fit_transform(difficult_dataset_hotels['hotel_id'])\n",
        "difficult_dataset_hotels.head()"
      ],
      "metadata": {
        "colab": {
          "base_uri": "https://localhost:8080/",
          "height": 206
        },
        "id": "N7bDZSdCy-Nc",
        "outputId": "de8dd085-71fb-4468-b985-3ab91fb9ba96"
      },
      "execution_count": null,
      "outputs": [
        {
          "output_type": "execute_result",
          "data": {
            "text/html": [
              "<div>\n",
              "<style scoped>\n",
              "    .dataframe tbody tr th:only-of-type {\n",
              "        vertical-align: middle;\n",
              "    }\n",
              "\n",
              "    .dataframe tbody tr th {\n",
              "        vertical-align: top;\n",
              "    }\n",
              "\n",
              "    .dataframe thead th {\n",
              "        text-align: right;\n",
              "    }\n",
              "</style>\n",
              "<table border=\"1\" class=\"dataframe\">\n",
              "  <thead>\n",
              "    <tr style=\"text-align: right;\">\n",
              "      <th></th>\n",
              "      <th>image_id</th>\n",
              "      <th>hotel_id</th>\n",
              "      <th>image_url</th>\n",
              "      <th>image_source</th>\n",
              "      <th>upload_timestamp</th>\n",
              "      <th>serial_number</th>\n",
              "      <th>new_hotel_id</th>\n",
              "    </tr>\n",
              "  </thead>\n",
              "  <tbody>\n",
              "    <tr>\n",
              "      <th>0</th>\n",
              "      <td>2586939</td>\n",
              "      <td>86350</td>\n",
              "      <td>https://traffickcam.com/images/2017/2/20160125...</td>\n",
              "      <td>traffickcam</td>\n",
              "      <td>1/25/16 19:12</td>\n",
              "      <td>3</td>\n",
              "      <td>302</td>\n",
              "    </tr>\n",
              "    <tr>\n",
              "      <th>1</th>\n",
              "      <td>2587023</td>\n",
              "      <td>86350</td>\n",
              "      <td>https://traffickcam.com/images/2017/2/20160126...</td>\n",
              "      <td>traffickcam</td>\n",
              "      <td>1/26/16 0:36</td>\n",
              "      <td>10</td>\n",
              "      <td>302</td>\n",
              "    </tr>\n",
              "    <tr>\n",
              "      <th>2</th>\n",
              "      <td>2587024</td>\n",
              "      <td>86350</td>\n",
              "      <td>https://traffickcam.com/images/2017/2/20160126...</td>\n",
              "      <td>traffickcam</td>\n",
              "      <td>1/26/16 0:36</td>\n",
              "      <td>11</td>\n",
              "      <td>302</td>\n",
              "    </tr>\n",
              "    <tr>\n",
              "      <th>3</th>\n",
              "      <td>2587026</td>\n",
              "      <td>86350</td>\n",
              "      <td>https://traffickcam.com/images/2017/2/20160126...</td>\n",
              "      <td>traffickcam</td>\n",
              "      <td>1/26/16 0:36</td>\n",
              "      <td>12</td>\n",
              "      <td>302</td>\n",
              "    </tr>\n",
              "    <tr>\n",
              "      <th>4</th>\n",
              "      <td>2587554</td>\n",
              "      <td>76756</td>\n",
              "      <td>https://traffickcam.com/images/2017/3/20160218...</td>\n",
              "      <td>traffickcam</td>\n",
              "      <td>2/18/16 4:40</td>\n",
              "      <td>32</td>\n",
              "      <td>277</td>\n",
              "    </tr>\n",
              "  </tbody>\n",
              "</table>\n",
              "</div>"
            ],
            "text/plain": [
              "  image_id hotel_id  ... serial_number new_hotel_id\n",
              "0  2586939    86350  ...             3          302\n",
              "1  2587023    86350  ...            10          302\n",
              "2  2587024    86350  ...            11          302\n",
              "3  2587026    86350  ...            12          302\n",
              "4  2587554    76756  ...            32          277\n",
              "\n",
              "[5 rows x 7 columns]"
            ]
          },
          "metadata": {},
          "execution_count": 145
        }
      ]
    },
    {
      "cell_type": "code",
      "source": [
        "difficult_dataset_hotels_20perc = difficult_dataset_hotels.groupby('hotel_id', group_keys=False).apply(lambda x: x.sample(frac=0.2))"
      ],
      "metadata": {
        "id": "WziUleV6wQyT"
      },
      "execution_count": null,
      "outputs": []
    },
    {
      "cell_type": "code",
      "source": [
        "difficult_dataset_hotels_20perc"
      ],
      "metadata": {
        "colab": {
          "base_uri": "https://localhost:8080/",
          "height": 423
        },
        "id": "Mg8A-9f6wij7",
        "outputId": "062d005d-ecf9-4dd7-9a42-60e8fa8ab88d"
      },
      "execution_count": null,
      "outputs": [
        {
          "output_type": "execute_result",
          "data": {
            "text/html": [
              "<div>\n",
              "<style scoped>\n",
              "    .dataframe tbody tr th:only-of-type {\n",
              "        vertical-align: middle;\n",
              "    }\n",
              "\n",
              "    .dataframe tbody tr th {\n",
              "        vertical-align: top;\n",
              "    }\n",
              "\n",
              "    .dataframe thead th {\n",
              "        text-align: right;\n",
              "    }\n",
              "</style>\n",
              "<table border=\"1\" class=\"dataframe\">\n",
              "  <thead>\n",
              "    <tr style=\"text-align: right;\">\n",
              "      <th></th>\n",
              "      <th>image_id</th>\n",
              "      <th>hotel_id</th>\n",
              "      <th>image_url</th>\n",
              "      <th>image_source</th>\n",
              "      <th>upload_timestamp</th>\n",
              "      <th>serial_number</th>\n",
              "      <th>new_hotel_id</th>\n",
              "    </tr>\n",
              "  </thead>\n",
              "  <tbody>\n",
              "    <tr>\n",
              "      <th>1258</th>\n",
              "      <td>7064758</td>\n",
              "      <td>405</td>\n",
              "      <td>https://i.travelapi.com/hotels/2000000/1500000...</td>\n",
              "      <td>travel_website</td>\n",
              "      <td>2019-12-19 20:50:26</td>\n",
              "      <td>44839</td>\n",
              "      <td>0</td>\n",
              "    </tr>\n",
              "    <tr>\n",
              "      <th>1264</th>\n",
              "      <td>7064764</td>\n",
              "      <td>405</td>\n",
              "      <td>https://i.travelapi.com/hotels/2000000/1500000...</td>\n",
              "      <td>travel_website</td>\n",
              "      <td>2019-12-19 20:50:26</td>\n",
              "      <td>44845</td>\n",
              "      <td>0</td>\n",
              "    </tr>\n",
              "    <tr>\n",
              "      <th>1266</th>\n",
              "      <td>7034288</td>\n",
              "      <td>502</td>\n",
              "      <td>https://i.travelapi.com/hotels/2000000/1810000...</td>\n",
              "      <td>travel_website</td>\n",
              "      <td>2019-12-19 20:02:30</td>\n",
              "      <td>47016</td>\n",
              "      <td>1</td>\n",
              "    </tr>\n",
              "    <tr>\n",
              "      <th>1267</th>\n",
              "      <td>7034289</td>\n",
              "      <td>502</td>\n",
              "      <td>https://i.travelapi.com/hotels/2000000/1810000...</td>\n",
              "      <td>travel_website</td>\n",
              "      <td>2019-12-19 20:02:30</td>\n",
              "      <td>47017</td>\n",
              "      <td>1</td>\n",
              "    </tr>\n",
              "    <tr>\n",
              "      <th>1277</th>\n",
              "      <td>8557791</td>\n",
              "      <td>523</td>\n",
              "      <td>https://i.travelapi.com/hotels/1000000/10000/3...</td>\n",
              "      <td>travel_website</td>\n",
              "      <td>2019-12-22 10:05:47</td>\n",
              "      <td>47303</td>\n",
              "      <td>2</td>\n",
              "    </tr>\n",
              "    <tr>\n",
              "      <th>...</th>\n",
              "      <td>...</td>\n",
              "      <td>...</td>\n",
              "      <td>...</td>\n",
              "      <td>...</td>\n",
              "      <td>...</td>\n",
              "      <td>...</td>\n",
              "      <td>...</td>\n",
              "    </tr>\n",
              "    <tr>\n",
              "      <th>860</th>\n",
              "      <td>3893274</td>\n",
              "      <td>203768</td>\n",
              "      <td>https://traffickcam.com/images/2018/10/2017092...</td>\n",
              "      <td>traffickcam</td>\n",
              "      <td>9/27/17 20:56</td>\n",
              "      <td>32129</td>\n",
              "      <td>326</td>\n",
              "    </tr>\n",
              "    <tr>\n",
              "      <th>1112</th>\n",
              "      <td>3934986</td>\n",
              "      <td>204289</td>\n",
              "      <td>https://traffickcam.com/images/2019/5/20180418...</td>\n",
              "      <td>traffickcam</td>\n",
              "      <td>4/18/18 20:59</td>\n",
              "      <td>39792</td>\n",
              "      <td>327</td>\n",
              "    </tr>\n",
              "    <tr>\n",
              "      <th>617</th>\n",
              "      <td>3841209</td>\n",
              "      <td>204289</td>\n",
              "      <td>https://traffickcam.com/images/2018/5/20170403...</td>\n",
              "      <td>traffickcam</td>\n",
              "      <td>4/3/17 5:24</td>\n",
              "      <td>22748</td>\n",
              "      <td>327</td>\n",
              "    </tr>\n",
              "    <tr>\n",
              "      <th>1000</th>\n",
              "      <td>3916653</td>\n",
              "      <td>207689</td>\n",
              "      <td>https://traffickcam.com/images/2019/2/20180118...</td>\n",
              "      <td>traffickcam</td>\n",
              "      <td>1/18/18 20:45</td>\n",
              "      <td>36406</td>\n",
              "      <td>328</td>\n",
              "    </tr>\n",
              "    <tr>\n",
              "      <th>586</th>\n",
              "      <td>3835421</td>\n",
              "      <td>207689</td>\n",
              "      <td>https://traffickcam.com/images/2018/4/20170322...</td>\n",
              "      <td>traffickcam</td>\n",
              "      <td>3/22/17 6:50</td>\n",
              "      <td>21645</td>\n",
              "      <td>328</td>\n",
              "    </tr>\n",
              "  </tbody>\n",
              "</table>\n",
              "<p>658 rows × 7 columns</p>\n",
              "</div>"
            ],
            "text/plain": [
              "     image_id hotel_id  ... serial_number new_hotel_id\n",
              "1258  7064758      405  ...         44839            0\n",
              "1264  7064764      405  ...         44845            0\n",
              "1266  7034288      502  ...         47016            1\n",
              "1267  7034289      502  ...         47017            1\n",
              "1277  8557791      523  ...         47303            2\n",
              "...       ...      ...  ...           ...          ...\n",
              "860   3893274   203768  ...         32129          326\n",
              "1112  3934986   204289  ...         39792          327\n",
              "617   3841209   204289  ...         22748          327\n",
              "1000  3916653   207689  ...         36406          328\n",
              "586   3835421   207689  ...         21645          328\n",
              "\n",
              "[658 rows x 7 columns]"
            ]
          },
          "metadata": {},
          "execution_count": 147
        }
      ]
    },
    {
      "cell_type": "code",
      "source": [
        "difficult_dataset_hotels_validation = difficult_dataset_hotels_20perc.groupby('hotel_id', group_keys=False).apply(lambda x: x.sample(frac=0.5))"
      ],
      "metadata": {
        "id": "OvcMMSIaw_DR"
      },
      "execution_count": null,
      "outputs": []
    },
    {
      "cell_type": "code",
      "source": [
        "difficult_dataset_hotels_validation"
      ],
      "metadata": {
        "colab": {
          "base_uri": "https://localhost:8080/",
          "height": 423
        },
        "id": "2V1S9xuBxHgB",
        "outputId": "b7f72413-5b8e-406a-f2c7-b1425b64fbe4"
      },
      "execution_count": null,
      "outputs": [
        {
          "output_type": "execute_result",
          "data": {
            "text/html": [
              "<div>\n",
              "<style scoped>\n",
              "    .dataframe tbody tr th:only-of-type {\n",
              "        vertical-align: middle;\n",
              "    }\n",
              "\n",
              "    .dataframe tbody tr th {\n",
              "        vertical-align: top;\n",
              "    }\n",
              "\n",
              "    .dataframe thead th {\n",
              "        text-align: right;\n",
              "    }\n",
              "</style>\n",
              "<table border=\"1\" class=\"dataframe\">\n",
              "  <thead>\n",
              "    <tr style=\"text-align: right;\">\n",
              "      <th></th>\n",
              "      <th>image_id</th>\n",
              "      <th>hotel_id</th>\n",
              "      <th>image_url</th>\n",
              "      <th>image_source</th>\n",
              "      <th>upload_timestamp</th>\n",
              "      <th>serial_number</th>\n",
              "      <th>new_hotel_id</th>\n",
              "    </tr>\n",
              "  </thead>\n",
              "  <tbody>\n",
              "    <tr>\n",
              "      <th>1258</th>\n",
              "      <td>7064758</td>\n",
              "      <td>405</td>\n",
              "      <td>https://i.travelapi.com/hotels/2000000/1500000...</td>\n",
              "      <td>travel_website</td>\n",
              "      <td>2019-12-19 20:50:26</td>\n",
              "      <td>44839</td>\n",
              "      <td>0</td>\n",
              "    </tr>\n",
              "    <tr>\n",
              "      <th>1267</th>\n",
              "      <td>7034289</td>\n",
              "      <td>502</td>\n",
              "      <td>https://i.travelapi.com/hotels/2000000/1810000...</td>\n",
              "      <td>travel_website</td>\n",
              "      <td>2019-12-19 20:02:30</td>\n",
              "      <td>47017</td>\n",
              "      <td>1</td>\n",
              "    </tr>\n",
              "    <tr>\n",
              "      <th>1275</th>\n",
              "      <td>8557789</td>\n",
              "      <td>523</td>\n",
              "      <td>https://i.travelapi.com/hotels/1000000/10000/3...</td>\n",
              "      <td>travel_website</td>\n",
              "      <td>2019-12-22 10:05:47</td>\n",
              "      <td>47301</td>\n",
              "      <td>2</td>\n",
              "    </tr>\n",
              "    <tr>\n",
              "      <th>1282</th>\n",
              "      <td>6788395</td>\n",
              "      <td>569</td>\n",
              "      <td>https://i.travelapi.com/hotels/2000000/1190000...</td>\n",
              "      <td>travel_website</td>\n",
              "      <td>2019-12-19 13:42:25</td>\n",
              "      <td>48186</td>\n",
              "      <td>3</td>\n",
              "    </tr>\n",
              "    <tr>\n",
              "      <th>1296</th>\n",
              "      <td>6790357</td>\n",
              "      <td>581</td>\n",
              "      <td>https://i.travelapi.com/hotels/2000000/1100000...</td>\n",
              "      <td>travel_website</td>\n",
              "      <td>2019-12-19 13:45:34</td>\n",
              "      <td>48324</td>\n",
              "      <td>4</td>\n",
              "    </tr>\n",
              "    <tr>\n",
              "      <th>...</th>\n",
              "      <td>...</td>\n",
              "      <td>...</td>\n",
              "      <td>...</td>\n",
              "      <td>...</td>\n",
              "      <td>...</td>\n",
              "      <td>...</td>\n",
              "      <td>...</td>\n",
              "    </tr>\n",
              "    <tr>\n",
              "      <th>559</th>\n",
              "      <td>2775397</td>\n",
              "      <td>144729</td>\n",
              "      <td>https://traffickcam.com/images/2018/4/20170311...</td>\n",
              "      <td>traffickcam</td>\n",
              "      <td>3/11/17 18:47</td>\n",
              "      <td>20851</td>\n",
              "      <td>324</td>\n",
              "    </tr>\n",
              "    <tr>\n",
              "      <th>820</th>\n",
              "      <td>3888430</td>\n",
              "      <td>203103</td>\n",
              "      <td>https://traffickcam.com/images/2018/10/2017090...</td>\n",
              "      <td>traffickcam</td>\n",
              "      <td>9/5/17 19:53</td>\n",
              "      <td>31186</td>\n",
              "      <td>325</td>\n",
              "    </tr>\n",
              "    <tr>\n",
              "      <th>917</th>\n",
              "      <td>3901259</td>\n",
              "      <td>203768</td>\n",
              "      <td>https://traffickcam.com/images/2018/11/2017102...</td>\n",
              "      <td>traffickcam</td>\n",
              "      <td>10/29/17 3:37</td>\n",
              "      <td>33542</td>\n",
              "      <td>326</td>\n",
              "    </tr>\n",
              "    <tr>\n",
              "      <th>1112</th>\n",
              "      <td>3934986</td>\n",
              "      <td>204289</td>\n",
              "      <td>https://traffickcam.com/images/2019/5/20180418...</td>\n",
              "      <td>traffickcam</td>\n",
              "      <td>4/18/18 20:59</td>\n",
              "      <td>39792</td>\n",
              "      <td>327</td>\n",
              "    </tr>\n",
              "    <tr>\n",
              "      <th>586</th>\n",
              "      <td>3835421</td>\n",
              "      <td>207689</td>\n",
              "      <td>https://traffickcam.com/images/2018/4/20170322...</td>\n",
              "      <td>traffickcam</td>\n",
              "      <td>3/22/17 6:50</td>\n",
              "      <td>21645</td>\n",
              "      <td>328</td>\n",
              "    </tr>\n",
              "  </tbody>\n",
              "</table>\n",
              "<p>329 rows × 7 columns</p>\n",
              "</div>"
            ],
            "text/plain": [
              "     image_id hotel_id  ... serial_number new_hotel_id\n",
              "1258  7064758      405  ...         44839            0\n",
              "1267  7034289      502  ...         47017            1\n",
              "1275  8557789      523  ...         47301            2\n",
              "1282  6788395      569  ...         48186            3\n",
              "1296  6790357      581  ...         48324            4\n",
              "...       ...      ...  ...           ...          ...\n",
              "559   2775397   144729  ...         20851          324\n",
              "820   3888430   203103  ...         31186          325\n",
              "917   3901259   203768  ...         33542          326\n",
              "1112  3934986   204289  ...         39792          327\n",
              "586   3835421   207689  ...         21645          328\n",
              "\n",
              "[329 rows x 7 columns]"
            ]
          },
          "metadata": {},
          "execution_count": 149
        }
      ]
    },
    {
      "cell_type": "code",
      "source": [
        "difficult_dataset_hotels_test = pd.DataFrame(columns=['image_id','hotel_id','image_url','image_source','upload_timestamp', 'serial_number', 'new_hotel_id'])"
      ],
      "metadata": {
        "id": "W6fEYuQfyT8f"
      },
      "execution_count": null,
      "outputs": []
    },
    {
      "cell_type": "code",
      "source": [
        "for i in range(0, len(difficult_dataset_hotels_20perc['hotel_id'])):\n",
        "    if difficult_dataset_hotels_20perc.iloc[i]['serial_number'] not in list(difficult_dataset_hotels_validation['serial_number']):\n",
        "      difficult_dataset_hotels_test.loc[len(difficult_dataset_hotels_test)] = [difficult_dataset_hotels_20perc.iloc[i]['image_id'], difficult_dataset_hotels_20perc.iloc[i]['hotel_id'],\n",
        "                                                        difficult_dataset_hotels_20perc.iloc[i]['image_url'], difficult_dataset_hotels_20perc.iloc[i]['image_source'],\n",
        "                                                        difficult_dataset_hotels_20perc.iloc[i]['upload_timestamp'], difficult_dataset_hotels_20perc.iloc[i]['serial_number'],\n",
        "                                                        difficult_dataset_hotels_20perc.iloc[i]['new_hotel_id']]"
      ],
      "metadata": {
        "id": "UaTm3mmJyhEY"
      },
      "execution_count": null,
      "outputs": []
    },
    {
      "cell_type": "code",
      "source": [
        "difficult_dataset_hotels_test"
      ],
      "metadata": {
        "colab": {
          "base_uri": "https://localhost:8080/",
          "height": 423
        },
        "id": "JQezMN9-zNEz",
        "outputId": "68440f06-fb38-4aab-943c-4812845b2b6e"
      },
      "execution_count": null,
      "outputs": [
        {
          "output_type": "execute_result",
          "data": {
            "text/html": [
              "<div>\n",
              "<style scoped>\n",
              "    .dataframe tbody tr th:only-of-type {\n",
              "        vertical-align: middle;\n",
              "    }\n",
              "\n",
              "    .dataframe tbody tr th {\n",
              "        vertical-align: top;\n",
              "    }\n",
              "\n",
              "    .dataframe thead th {\n",
              "        text-align: right;\n",
              "    }\n",
              "</style>\n",
              "<table border=\"1\" class=\"dataframe\">\n",
              "  <thead>\n",
              "    <tr style=\"text-align: right;\">\n",
              "      <th></th>\n",
              "      <th>image_id</th>\n",
              "      <th>hotel_id</th>\n",
              "      <th>image_url</th>\n",
              "      <th>image_source</th>\n",
              "      <th>upload_timestamp</th>\n",
              "      <th>serial_number</th>\n",
              "      <th>new_hotel_id</th>\n",
              "    </tr>\n",
              "  </thead>\n",
              "  <tbody>\n",
              "    <tr>\n",
              "      <th>0</th>\n",
              "      <td>7064764</td>\n",
              "      <td>405</td>\n",
              "      <td>https://i.travelapi.com/hotels/2000000/1500000...</td>\n",
              "      <td>travel_website</td>\n",
              "      <td>2019-12-19 20:50:26</td>\n",
              "      <td>44845</td>\n",
              "      <td>0</td>\n",
              "    </tr>\n",
              "    <tr>\n",
              "      <th>1</th>\n",
              "      <td>7034288</td>\n",
              "      <td>502</td>\n",
              "      <td>https://i.travelapi.com/hotels/2000000/1810000...</td>\n",
              "      <td>travel_website</td>\n",
              "      <td>2019-12-19 20:02:30</td>\n",
              "      <td>47016</td>\n",
              "      <td>1</td>\n",
              "    </tr>\n",
              "    <tr>\n",
              "      <th>2</th>\n",
              "      <td>8557791</td>\n",
              "      <td>523</td>\n",
              "      <td>https://i.travelapi.com/hotels/1000000/10000/3...</td>\n",
              "      <td>travel_website</td>\n",
              "      <td>2019-12-22 10:05:47</td>\n",
              "      <td>47303</td>\n",
              "      <td>2</td>\n",
              "    </tr>\n",
              "    <tr>\n",
              "      <th>3</th>\n",
              "      <td>6788398</td>\n",
              "      <td>569</td>\n",
              "      <td>https://i.travelapi.com/hotels/2000000/1190000...</td>\n",
              "      <td>travel_website</td>\n",
              "      <td>2019-12-19 13:42:25</td>\n",
              "      <td>48189</td>\n",
              "      <td>3</td>\n",
              "    </tr>\n",
              "    <tr>\n",
              "      <th>4</th>\n",
              "      <td>6790356</td>\n",
              "      <td>581</td>\n",
              "      <td>https://i.travelapi.com/hotels/2000000/1100000...</td>\n",
              "      <td>travel_website</td>\n",
              "      <td>2019-12-19 13:45:34</td>\n",
              "      <td>48323</td>\n",
              "      <td>4</td>\n",
              "    </tr>\n",
              "    <tr>\n",
              "      <th>...</th>\n",
              "      <td>...</td>\n",
              "      <td>...</td>\n",
              "      <td>...</td>\n",
              "      <td>...</td>\n",
              "      <td>...</td>\n",
              "      <td>...</td>\n",
              "      <td>...</td>\n",
              "    </tr>\n",
              "    <tr>\n",
              "      <th>324</th>\n",
              "      <td>2681304</td>\n",
              "      <td>144729</td>\n",
              "      <td>https://traffickcam.com/images/2017/13/2016122...</td>\n",
              "      <td>traffickcam</td>\n",
              "      <td>12/29/16 6:38</td>\n",
              "      <td>16861</td>\n",
              "      <td>324</td>\n",
              "    </tr>\n",
              "    <tr>\n",
              "      <th>325</th>\n",
              "      <td>3931017</td>\n",
              "      <td>203103</td>\n",
              "      <td>https://traffickcam.com/images/2019/5/20180401...</td>\n",
              "      <td>traffickcam</td>\n",
              "      <td>4/1/18 2:40</td>\n",
              "      <td>39044</td>\n",
              "      <td>325</td>\n",
              "    </tr>\n",
              "    <tr>\n",
              "      <th>326</th>\n",
              "      <td>3893274</td>\n",
              "      <td>203768</td>\n",
              "      <td>https://traffickcam.com/images/2018/10/2017092...</td>\n",
              "      <td>traffickcam</td>\n",
              "      <td>9/27/17 20:56</td>\n",
              "      <td>32129</td>\n",
              "      <td>326</td>\n",
              "    </tr>\n",
              "    <tr>\n",
              "      <th>327</th>\n",
              "      <td>3841209</td>\n",
              "      <td>204289</td>\n",
              "      <td>https://traffickcam.com/images/2018/5/20170403...</td>\n",
              "      <td>traffickcam</td>\n",
              "      <td>4/3/17 5:24</td>\n",
              "      <td>22748</td>\n",
              "      <td>327</td>\n",
              "    </tr>\n",
              "    <tr>\n",
              "      <th>328</th>\n",
              "      <td>3916653</td>\n",
              "      <td>207689</td>\n",
              "      <td>https://traffickcam.com/images/2019/2/20180118...</td>\n",
              "      <td>traffickcam</td>\n",
              "      <td>1/18/18 20:45</td>\n",
              "      <td>36406</td>\n",
              "      <td>328</td>\n",
              "    </tr>\n",
              "  </tbody>\n",
              "</table>\n",
              "<p>329 rows × 7 columns</p>\n",
              "</div>"
            ],
            "text/plain": [
              "    image_id hotel_id  ... serial_number new_hotel_id\n",
              "0    7064764      405  ...         44845            0\n",
              "1    7034288      502  ...         47016            1\n",
              "2    8557791      523  ...         47303            2\n",
              "3    6788398      569  ...         48189            3\n",
              "4    6790356      581  ...         48323            4\n",
              "..       ...      ...  ...           ...          ...\n",
              "324  2681304   144729  ...         16861          324\n",
              "325  3931017   203103  ...         39044          325\n",
              "326  3893274   203768  ...         32129          326\n",
              "327  3841209   204289  ...         22748          327\n",
              "328  3916653   207689  ...         36406          328\n",
              "\n",
              "[329 rows x 7 columns]"
            ]
          },
          "metadata": {},
          "execution_count": 152
        }
      ]
    },
    {
      "cell_type": "code",
      "source": [
        "difficult_dataset_hotels_train = pd.DataFrame(columns=['image_id','hotel_id','image_url','image_source','upload_timestamp', 'serial_number', 'new_hotel_id'])"
      ],
      "metadata": {
        "id": "8VMFMoitzURF"
      },
      "execution_count": null,
      "outputs": []
    },
    {
      "cell_type": "code",
      "source": [
        "for i in range(0, len(difficult_dataset_hotels['hotel_id'])):\n",
        "    if difficult_dataset_hotels.iloc[i]['serial_number'] not in list(difficult_dataset_hotels_20perc['serial_number']):\n",
        "      difficult_dataset_hotels_train.loc[len(difficult_dataset_hotels_train)] = [difficult_dataset_hotels.iloc[i]['image_id'], difficult_dataset_hotels.iloc[i]['hotel_id'],\n",
        "                                                           difficult_dataset_hotels.iloc[i]['image_url'], difficult_dataset_hotels.iloc[i]['image_source'],\n",
        "                                                           difficult_dataset_hotels.iloc[i]['upload_timestamp'], difficult_dataset_hotels.iloc[i]['serial_number'],\n",
        "                                                           difficult_dataset_hotels.iloc[i]['new_hotel_id']]"
      ],
      "metadata": {
        "id": "H0EBg02hzcWb"
      },
      "execution_count": null,
      "outputs": []
    },
    {
      "cell_type": "code",
      "source": [
        "difficult_dataset_hotels_train"
      ],
      "metadata": {
        "colab": {
          "base_uri": "https://localhost:8080/",
          "height": 423
        },
        "id": "W7-eQu9a0DXt",
        "outputId": "2d91039d-3a1f-4752-8b48-ff39296dca9c"
      },
      "execution_count": null,
      "outputs": [
        {
          "output_type": "execute_result",
          "data": {
            "text/html": [
              "<div>\n",
              "<style scoped>\n",
              "    .dataframe tbody tr th:only-of-type {\n",
              "        vertical-align: middle;\n",
              "    }\n",
              "\n",
              "    .dataframe tbody tr th {\n",
              "        vertical-align: top;\n",
              "    }\n",
              "\n",
              "    .dataframe thead th {\n",
              "        text-align: right;\n",
              "    }\n",
              "</style>\n",
              "<table border=\"1\" class=\"dataframe\">\n",
              "  <thead>\n",
              "    <tr style=\"text-align: right;\">\n",
              "      <th></th>\n",
              "      <th>image_id</th>\n",
              "      <th>hotel_id</th>\n",
              "      <th>image_url</th>\n",
              "      <th>image_source</th>\n",
              "      <th>upload_timestamp</th>\n",
              "      <th>serial_number</th>\n",
              "      <th>new_hotel_id</th>\n",
              "    </tr>\n",
              "  </thead>\n",
              "  <tbody>\n",
              "    <tr>\n",
              "      <th>0</th>\n",
              "      <td>2586939</td>\n",
              "      <td>86350</td>\n",
              "      <td>https://traffickcam.com/images/2017/2/20160125...</td>\n",
              "      <td>traffickcam</td>\n",
              "      <td>1/25/16 19:12</td>\n",
              "      <td>3</td>\n",
              "      <td>302</td>\n",
              "    </tr>\n",
              "    <tr>\n",
              "      <th>1</th>\n",
              "      <td>2587023</td>\n",
              "      <td>86350</td>\n",
              "      <td>https://traffickcam.com/images/2017/2/20160126...</td>\n",
              "      <td>traffickcam</td>\n",
              "      <td>1/26/16 0:36</td>\n",
              "      <td>10</td>\n",
              "      <td>302</td>\n",
              "    </tr>\n",
              "    <tr>\n",
              "      <th>2</th>\n",
              "      <td>2587026</td>\n",
              "      <td>86350</td>\n",
              "      <td>https://traffickcam.com/images/2017/2/20160126...</td>\n",
              "      <td>traffickcam</td>\n",
              "      <td>1/26/16 0:36</td>\n",
              "      <td>12</td>\n",
              "      <td>302</td>\n",
              "    </tr>\n",
              "    <tr>\n",
              "      <th>3</th>\n",
              "      <td>2587554</td>\n",
              "      <td>76756</td>\n",
              "      <td>https://traffickcam.com/images/2017/3/20160218...</td>\n",
              "      <td>traffickcam</td>\n",
              "      <td>2/18/16 4:40</td>\n",
              "      <td>32</td>\n",
              "      <td>277</td>\n",
              "    </tr>\n",
              "    <tr>\n",
              "      <th>4</th>\n",
              "      <td>2587555</td>\n",
              "      <td>76756</td>\n",
              "      <td>https://traffickcam.com/images/2017/3/20160218...</td>\n",
              "      <td>traffickcam</td>\n",
              "      <td>2/18/16 4:42</td>\n",
              "      <td>33</td>\n",
              "      <td>277</td>\n",
              "    </tr>\n",
              "    <tr>\n",
              "      <th>...</th>\n",
              "      <td>...</td>\n",
              "      <td>...</td>\n",
              "      <td>...</td>\n",
              "      <td>...</td>\n",
              "      <td>...</td>\n",
              "      <td>...</td>\n",
              "      <td>...</td>\n",
              "    </tr>\n",
              "    <tr>\n",
              "      <th>2627</th>\n",
              "      <td>7412754</td>\n",
              "      <td>7664</td>\n",
              "      <td>https://i.travelapi.com/hotels/3000000/2810000...</td>\n",
              "      <td>travel_website</td>\n",
              "      <td>2019-12-20 10:55:27</td>\n",
              "      <td>169733</td>\n",
              "      <td>210</td>\n",
              "    </tr>\n",
              "    <tr>\n",
              "      <th>2628</th>\n",
              "      <td>7412755</td>\n",
              "      <td>7664</td>\n",
              "      <td>https://i.travelapi.com/hotels/3000000/2810000...</td>\n",
              "      <td>travel_website</td>\n",
              "      <td>2019-12-20 10:55:27</td>\n",
              "      <td>169734</td>\n",
              "      <td>210</td>\n",
              "    </tr>\n",
              "    <tr>\n",
              "      <th>2629</th>\n",
              "      <td>7412756</td>\n",
              "      <td>7664</td>\n",
              "      <td>https://i.travelapi.com/hotels/3000000/2810000...</td>\n",
              "      <td>travel_website</td>\n",
              "      <td>2019-12-20 10:55:27</td>\n",
              "      <td>169735</td>\n",
              "      <td>210</td>\n",
              "    </tr>\n",
              "    <tr>\n",
              "      <th>2630</th>\n",
              "      <td>7412758</td>\n",
              "      <td>7664</td>\n",
              "      <td>https://i.travelapi.com/hotels/3000000/2810000...</td>\n",
              "      <td>travel_website</td>\n",
              "      <td>2019-12-20 10:55:27</td>\n",
              "      <td>169737</td>\n",
              "      <td>210</td>\n",
              "    </tr>\n",
              "    <tr>\n",
              "      <th>2631</th>\n",
              "      <td>7412759</td>\n",
              "      <td>7664</td>\n",
              "      <td>https://i.travelapi.com/hotels/3000000/2810000...</td>\n",
              "      <td>travel_website</td>\n",
              "      <td>2019-12-20 10:55:27</td>\n",
              "      <td>169738</td>\n",
              "      <td>210</td>\n",
              "    </tr>\n",
              "  </tbody>\n",
              "</table>\n",
              "<p>2632 rows × 7 columns</p>\n",
              "</div>"
            ],
            "text/plain": [
              "     image_id hotel_id  ... serial_number new_hotel_id\n",
              "0     2586939    86350  ...             3          302\n",
              "1     2587023    86350  ...            10          302\n",
              "2     2587026    86350  ...            12          302\n",
              "3     2587554    76756  ...            32          277\n",
              "4     2587555    76756  ...            33          277\n",
              "...       ...      ...  ...           ...          ...\n",
              "2627  7412754     7664  ...        169733          210\n",
              "2628  7412755     7664  ...        169734          210\n",
              "2629  7412756     7664  ...        169735          210\n",
              "2630  7412758     7664  ...        169737          210\n",
              "2631  7412759     7664  ...        169738          210\n",
              "\n",
              "[2632 rows x 7 columns]"
            ]
          },
          "metadata": {},
          "execution_count": 156
        }
      ]
    },
    {
      "cell_type": "markdown",
      "source": [
        "Note: In case you do not want to perform all this preprocessing to get the datasets, we have saved these datasets in csvs for ready use.\n",
        "The links are as follows:\n",
        "\n",
        "*   difficult_dataset_hotels: https://drive.google.com/file/d/1t1-r-rB-R5HE-WVmIAan3cLJnrV8Uy3r/view?usp=sharing\n",
        "*   difficult_dataset_hotels_train: https://drive.google.com/file/d/1XRaxZPpEg6_ElJl-mbU4FkBKm9-6pkcl/view?usp=sharing\n",
        "*   difficult_dataset_hotels_test: https://drive.google.com/file/d/1_3d7Rfr3wzXOHJt_-MyPP8lvn016W-n-/view?usp=sharing\n",
        "*   difficult_dataset_hotels_validation: https://drive.google.com/file/d/1OdxNh91bqeylhZexvnGnAGJIKOASCdtE/view?usp=sharing"
      ],
      "metadata": {
        "id": "xWRIUwneSOVl"
      }
    },
    {
      "cell_type": "code",
      "source": [
        "import urllib.request\n",
        "\n",
        "# Loads image from a url\n",
        "def loadImage(URL, image_num):\n",
        "  with urllib.request.urlopen(URL) as url:\n",
        "    with open(f'/content/gdrive/MyDrive/AI Sem 5/AI Project/difficult Dataset Hotel Images/img{image_num}.jpg', 'wb') as f:\n",
        "      f.write(url.read())"
      ],
      "metadata": {
        "id": "4xbU3lwF0m7k"
      },
      "execution_count": null,
      "outputs": []
    },
    {
      "cell_type": "markdown",
      "source": [
        "Uploading images in difficult_dataset_hotels to drive.\n",
        "The i values printed in the exception correspond to those images whose links have become disfunctional"
      ],
      "metadata": {
        "id": "pFCT8j3PSz-y"
      }
    },
    {
      "cell_type": "code",
      "source": [
        "import ssl\n",
        "ssl._create_default_https_context = ssl._create_unverified_context\n",
        "\n",
        "from keras.preprocessing.image import load_img\n",
        "\n",
        "for i in range(len(difficult_dataset_hotels['image_url'])):\n",
        "    try: \n",
        "      image_url = difficult_dataset_hotels['image_url'][i]\n",
        "      serial_number = difficult_dataset_hotels['serial_number'][i]\n",
        "      loadImage(image_url, serial_number)\n",
        "    except:\n",
        "      print(i)"
      ],
      "metadata": {
        "colab": {
          "base_uri": "https://localhost:8080/"
        },
        "id": "zprkuh7M0tzB",
        "outputId": "2f36c9a9-35e2-4eda-9ea1-425535b33b47"
      },
      "execution_count": null,
      "outputs": [
        {
          "output_type": "stream",
          "name": "stdout",
          "text": [
            "1342\n",
            "1346\n",
            "1545\n",
            "1550\n",
            "1625\n",
            "1628\n",
            "1629\n",
            "1631\n",
            "1811\n",
            "1815\n",
            "1818\n",
            "1890\n",
            "1918\n",
            "1922\n",
            "1924\n",
            "1925\n",
            "1940\n",
            "1942\n",
            "1975\n",
            "2379\n",
            "2398\n",
            "2544\n"
          ]
        }
      ]
    },
    {
      "cell_type": "markdown",
      "source": [
        "To remove the missing images from our three datasets, we are first mapping the i value to the serial number and storing the serial numbers in a list.\n",
        "We are also storing the class corresponding to the serial number in the train, validation and test lists if they belong there. "
      ],
      "metadata": {
        "id": "ZLYk8YpYS5No"
      }
    },
    {
      "cell_type": "code",
      "source": [
        "missing_images_i = [1342,1346,1545,1550,1625,1628,1629,1631,1811,1815,1818,1890,1918,1922,1924,1925,1940,1942,1975,2379,2398,2544]\n",
        "missing_images_serial_number = []\n",
        "missing_images_class = []\n",
        "missing_images_class_train = []\n",
        "missing_images_class_test = []\n",
        "missing_images_class_validation = []"
      ],
      "metadata": {
        "id": "t-4xCG_Q-1dB"
      },
      "execution_count": null,
      "outputs": []
    },
    {
      "cell_type": "code",
      "source": [
        "for i in missing_images_i:\n",
        "  serial_number = difficult_dataset_hotels['serial_number'][i]\n",
        "  missing_images_serial_number.append(serial_number)\n",
        "  if serial_number in list(difficult_dataset_hotels_train['serial_number']):\n",
        "    missing_images_class_train.append(difficult_dataset_hotels['new_hotel_id'][i])\n",
        "  elif serial_number in list(difficult_dataset_hotels_test['serial_number']):\n",
        "    missing_images_class_test.append(difficult_dataset_hotels['new_hotel_id'][i])\n",
        "  elif serial_number in list(difficult_dataset_hotels_validation['serial_number']):\n",
        "    missing_images_class_validation.append(difficult_dataset_hotels['new_hotel_id'][i])\n",
        "  \n",
        "  missing_images_class.append(difficult_dataset_hotels['new_hotel_id'][i])"
      ],
      "metadata": {
        "id": "gfiroOv2_Zwc"
      },
      "execution_count": null,
      "outputs": []
    },
    {
      "cell_type": "markdown",
      "source": [
        "# **We will apply our three models to the difficult dataset**"
      ],
      "metadata": {
        "id": "wtQHkfMmAWTq"
      }
    },
    {
      "cell_type": "code",
      "source": [
        "from tensorflow.keras.applications.resnet50 import preprocess_input\n",
        "from tensorflow.keras.applications.resnet50 import decode_predictions\n",
        "from keras.preprocessing.image import load_img\n",
        "from keras.preprocessing.image import img_to_array\n",
        "train_imgs = []\n",
        "for i in range(0, len(difficult_dataset_hotels_train['hotel_id'])):\n",
        "  serial_number = difficult_dataset_hotels_train['serial_number'][i]\n",
        "  if serial_number in missing_images_serial_number:\n",
        "    continue\n",
        "  image = img_to_array(load_img(f'/content/gdrive/MyDrive/AI Sem 5/AI Project/difficult Dataset Hotel Images/img{serial_number}.jpg', target_size=(224, 224)))\n",
        "  image = preprocess_input(image)\n",
        "  train_imgs.append(image)\n",
        "\n",
        "  if (i % 1000 == 0):\n",
        "    print(i)"
      ],
      "metadata": {
        "colab": {
          "base_uri": "https://localhost:8080/"
        },
        "id": "PUyVFLTwAgS-",
        "outputId": "2da52604-0334-4e04-fa46-f14a52ff3edf"
      },
      "execution_count": null,
      "outputs": [
        {
          "output_type": "stream",
          "name": "stdout",
          "text": [
            "0\n",
            "1000\n",
            "2000\n"
          ]
        }
      ]
    },
    {
      "cell_type": "code",
      "source": [
        "validation_imgs = []\n",
        "for i in range(0, len(difficult_dataset_hotels_validation['hotel_id'])):\n",
        "  serial_number = difficult_dataset_hotels_validation.iloc[i]['serial_number']\n",
        "  if serial_number in missing_images_serial_number:\n",
        "    continue\n",
        "  image = img_to_array(load_img(f'/content/gdrive/MyDrive/AI Sem 5/AI Project/difficult Dataset Hotel Images/img{serial_number}.jpg', target_size=(224, 224)))\n",
        "  image = preprocess_input(image)\n",
        "  validation_imgs.append(image)\n",
        "  \n",
        "  if (i % 100 == 0):\n",
        "    print(i)"
      ],
      "metadata": {
        "colab": {
          "base_uri": "https://localhost:8080/"
        },
        "id": "C7vDhI3yBD3v",
        "outputId": "90957e5c-c785-4ed5-86be-11921fae2c80"
      },
      "execution_count": null,
      "outputs": [
        {
          "output_type": "stream",
          "name": "stdout",
          "text": [
            "0\n",
            "100\n",
            "200\n",
            "300\n"
          ]
        }
      ]
    },
    {
      "cell_type": "code",
      "source": [
        "test_imgs = []\n",
        "for i in range(0, len(difficult_dataset_hotels_test['hotel_id'])):\n",
        "  serial_number = difficult_dataset_hotels_test['serial_number'][i]\n",
        "  if serial_number in missing_images_serial_number:\n",
        "    continue\n",
        "  image = img_to_array(load_img(f'/content/gdrive/MyDrive/AI Sem 5/AI Project/difficult Dataset Hotel Images/img{serial_number}.jpg', target_size=(224, 224)))\n",
        "  image = preprocess_input(image)\n",
        "  test_imgs.append(image)\n",
        "  \n",
        "  if (i % 100 == 0):\n",
        "    print(i)"
      ],
      "metadata": {
        "colab": {
          "base_uri": "https://localhost:8080/"
        },
        "id": "JZ7qHzWVB80k",
        "outputId": "cfcb729f-8697-4e72-9469-534cde273318"
      },
      "execution_count": null,
      "outputs": [
        {
          "output_type": "stream",
          "name": "stdout",
          "text": [
            "0\n",
            "100\n",
            "200\n",
            "300\n"
          ]
        }
      ]
    },
    {
      "cell_type": "code",
      "source": [
        "import numpy as np\n",
        "\n",
        "train_imgs = np.array(train_imgs)\n",
        "validation_imgs = np.array(validation_imgs)\n",
        "test_imgs = np.array(test_imgs)"
      ],
      "metadata": {
        "id": "7OsZd-_5CKQL"
      },
      "execution_count": null,
      "outputs": []
    },
    {
      "cell_type": "code",
      "source": [
        "train_labels = list(difficult_dataset_hotels_train['new_hotel_id'])\n",
        "validation_labels = list(difficult_dataset_hotels_validation['new_hotel_id'])\n",
        "test_labels = list(difficult_dataset_hotels_test['new_hotel_id'])"
      ],
      "metadata": {
        "id": "YInwQ0H0CVXq"
      },
      "execution_count": null,
      "outputs": []
    },
    {
      "cell_type": "code",
      "source": [
        "# Removing the class corresponding to the missing images from the\n",
        "# labels list of train, test and validation\n",
        "\n",
        "for missing_class in missing_images_class_train:\n",
        "  train_labels.remove(missing_class)\n",
        "\n",
        "for missing_class in missing_images_class_validation:\n",
        "  validation_labels.remove(missing_class)\n",
        "\n",
        "for missing_class in missing_images_class_test:\n",
        "  test_labels.remove(missing_class)"
      ],
      "metadata": {
        "id": "Dve7An2QCfbC"
      },
      "execution_count": null,
      "outputs": []
    },
    {
      "cell_type": "code",
      "source": [
        "from tensorflow.keras.utils import to_categorical\n",
        "\n",
        "train_labels = to_categorical(train_labels)\n",
        "test_labels = to_categorical(test_labels)\n",
        "validation_labels = to_categorical(validation_labels)"
      ],
      "metadata": {
        "id": "-GxEAqAPDNXi"
      },
      "execution_count": null,
      "outputs": []
    },
    {
      "cell_type": "markdown",
      "source": [
        "The difficult dataset has 329 classes."
      ],
      "metadata": {
        "id": "JZlt6EMjTJDD"
      }
    },
    {
      "cell_type": "code",
      "source": [
        "train_labels.shape"
      ],
      "metadata": {
        "colab": {
          "base_uri": "https://localhost:8080/"
        },
        "id": "lLc7SVH2DW82",
        "outputId": "20d71b0e-b1f5-4fe4-9221-bf9bc38873d5"
      },
      "execution_count": null,
      "outputs": [
        {
          "output_type": "execute_result",
          "data": {
            "text/plain": [
              "(2612, 329)"
            ]
          },
          "metadata": {},
          "execution_count": 28
        }
      ]
    },
    {
      "cell_type": "code",
      "source": [
        "test_labels.shape"
      ],
      "metadata": {
        "colab": {
          "base_uri": "https://localhost:8080/"
        },
        "id": "F4ZDHH_YDnkp",
        "outputId": "047c979b-9c7c-4cb9-ca7d-ef60bb29afca"
      },
      "execution_count": null,
      "outputs": [
        {
          "output_type": "execute_result",
          "data": {
            "text/plain": [
              "(328, 329)"
            ]
          },
          "metadata": {},
          "execution_count": 29
        }
      ]
    },
    {
      "cell_type": "code",
      "source": [
        "validation_labels.shape"
      ],
      "metadata": {
        "colab": {
          "base_uri": "https://localhost:8080/"
        },
        "id": "7zivTccoDqJI",
        "outputId": "7b32f96a-345d-4ae2-b447-e87bef69fe6e"
      },
      "execution_count": null,
      "outputs": [
        {
          "output_type": "execute_result",
          "data": {
            "text/plain": [
              "(328, 329)"
            ]
          },
          "metadata": {},
          "execution_count": 30
        }
      ]
    },
    {
      "cell_type": "markdown",
      "source": [
        "# **Plotting Graph**"
      ],
      "metadata": {
        "id": "_34BYAd0TgX-"
      }
    },
    {
      "cell_type": "code",
      "source": [
        "from matplotlib import pyplot\n",
        "\n",
        "def summarize_model(history):\n",
        "\t# plot loss during training\n",
        "  pyplot.figure(figsize=(8,6))\n",
        "  pyplot.subplot(211)\n",
        "  pyplot.title('Loss')\n",
        "  pyplot.plot(history.history['loss'], label='train')\n",
        "  pyplot.plot(history.history['val_loss'], label='test')\n",
        "  pyplot.legend()\n",
        "  # plot accuracy during training\n",
        "  pyplot.subplot(212)\n",
        "  pyplot.title('Accuracy')\n",
        "  pyplot.plot(history.history['accuracy'], label='train')\n",
        "  pyplot.plot(history.history['val_accuracy'], label='test')\n",
        "  pyplot.legend()\n",
        "  pyplot.show()"
      ],
      "metadata": {
        "id": "s8d1K1M0JamH"
      },
      "execution_count": null,
      "outputs": []
    },
    {
      "cell_type": "markdown",
      "source": [
        "# **Model 1**"
      ],
      "metadata": {
        "id": "ZQN9i65uiVdA"
      }
    },
    {
      "cell_type": "code",
      "source": [
        "from tensorflow.keras.applications.resnet50 import ResNet50\n",
        "from tensorflow.keras.models import Model\n",
        "from tensorflow.keras.layers import Dense\n",
        "from tensorflow.keras.layers import Flatten\n",
        "from tensorflow.keras.layers import Conv2D, MaxPooling2D, Flatten, Dense, Dropout, InputLayer\n",
        "from tensorflow.keras.models import Sequential\n",
        "from tensorflow.keras import Input\n",
        "from tensorflow.keras import optimizers\n",
        "import keras\n",
        "\n",
        "model_1 = Sequential()\n",
        "input_t = Input(shape = (224,224,3))\n",
        "pretrained_model= ResNet50(include_top=False,\n",
        "                           input_tensor=input_t, \n",
        "                   pooling='avg',classes= 50,\n",
        "                   weights='imagenet')\n",
        "for layer in pretrained_model.layers:\n",
        "        layer.trainable=False\n",
        "model_1.add(pretrained_model)\n",
        "model_1.add(Flatten())\n",
        "model_1.add(Dense(512, activation='relu', input_dim = (224,224,3)))\n",
        "output = model_1.add(Dense(329, activation='softmax'))\n",
        "model_1.summary()"
      ],
      "metadata": {
        "colab": {
          "base_uri": "https://localhost:8080/"
        },
        "id": "V0FHm2jDiSxW",
        "outputId": "8da18ef0-90e0-44a8-8c05-cb459a92b3fd"
      },
      "execution_count": null,
      "outputs": [
        {
          "output_type": "stream",
          "name": "stdout",
          "text": [
            "Model: \"sequential_1\"\n",
            "_________________________________________________________________\n",
            " Layer (type)                Output Shape              Param #   \n",
            "=================================================================\n",
            " resnet50 (Functional)       (None, 2048)              23587712  \n",
            "                                                                 \n",
            " flatten_1 (Flatten)         (None, 2048)              0         \n",
            "                                                                 \n",
            " dense_3 (Dense)             (None, 512)               1049088   \n",
            "                                                                 \n",
            " dense_4 (Dense)             (None, 329)               168777    \n",
            "                                                                 \n",
            "=================================================================\n",
            "Total params: 24,805,577\n",
            "Trainable params: 1,217,865\n",
            "Non-trainable params: 23,587,712\n",
            "_________________________________________________________________\n"
          ]
        }
      ]
    },
    {
      "cell_type": "code",
      "source": [
        "model_1.compile(loss='categorical_crossentropy',\n",
        "              optimizer='adam',\n",
        "              metrics=['accuracy'])"
      ],
      "metadata": {
        "id": "Oje10GB_iYre"
      },
      "execution_count": null,
      "outputs": []
    },
    {
      "cell_type": "code",
      "source": [
        "history_difficult_1_10 = model_1.fit(x = train_imgs, y = train_labels, validation_data=(validation_imgs, validation_labels), steps_per_epoch=10, epochs=10, verbose=1)"
      ],
      "metadata": {
        "colab": {
          "base_uri": "https://localhost:8080/"
        },
        "id": "NBrEF3yQicAE",
        "outputId": "b29f7702-e82f-43bb-c714-e801b983e7ac"
      },
      "execution_count": null,
      "outputs": [
        {
          "output_type": "stream",
          "name": "stdout",
          "text": [
            "Epoch 1/10\n",
            "10/10 [==============================] - 43s 3s/step - loss: 5.9696 - accuracy: 0.0027 - val_loss: 5.7228 - val_accuracy: 0.0030\n",
            "Epoch 2/10\n",
            "10/10 [==============================] - 16s 2s/step - loss: 5.4033 - accuracy: 0.0475 - val_loss: 5.5749 - val_accuracy: 0.0244\n",
            "Epoch 3/10\n",
            "10/10 [==============================] - 17s 2s/step - loss: 4.8352 - accuracy: 0.1351 - val_loss: 5.3322 - val_accuracy: 0.0518\n",
            "Epoch 4/10\n",
            "10/10 [==============================] - 17s 2s/step - loss: 4.1745 - accuracy: 0.2580 - val_loss: 5.1511 - val_accuracy: 0.0762\n",
            "Epoch 5/10\n",
            "10/10 [==============================] - 17s 2s/step - loss: 3.5599 - accuracy: 0.3687 - val_loss: 4.9291 - val_accuracy: 0.1067\n",
            "Epoch 6/10\n",
            "10/10 [==============================] - 17s 2s/step - loss: 2.9616 - accuracy: 0.4893 - val_loss: 4.7924 - val_accuracy: 0.1372\n",
            "Epoch 7/10\n",
            "10/10 [==============================] - 17s 2s/step - loss: 2.4341 - accuracy: 0.6060 - val_loss: 4.6729 - val_accuracy: 0.1372\n",
            "Epoch 8/10\n",
            "10/10 [==============================] - 17s 2s/step - loss: 1.9814 - accuracy: 0.6895 - val_loss: 4.6093 - val_accuracy: 0.1677\n",
            "Epoch 9/10\n",
            "10/10 [==============================] - 17s 2s/step - loss: 1.6189 - accuracy: 0.7623 - val_loss: 4.5110 - val_accuracy: 0.1951\n",
            "Epoch 10/10\n",
            "10/10 [==============================] - 17s 2s/step - loss: 1.3081 - accuracy: 0.8281 - val_loss: 4.5035 - val_accuracy: 0.2073\n"
          ]
        }
      ]
    },
    {
      "cell_type": "code",
      "source": [
        "testLoss, testAccuracy = model_1.evaluate(test_imgs, test_labels)"
      ],
      "metadata": {
        "id": "W3wS8zeFifJO",
        "colab": {
          "base_uri": "https://localhost:8080/"
        },
        "outputId": "547e1bb9-0c4c-4bfe-d920-49b261c03141"
      },
      "execution_count": null,
      "outputs": [
        {
          "output_type": "stream",
          "name": "stdout",
          "text": [
            "11/11 [==============================] - 2s 199ms/step - loss: 4.2746 - accuracy: 0.2500\n"
          ]
        }
      ]
    },
    {
      "cell_type": "code",
      "source": [
        "summarize_model(history_difficult_1_10)"
      ],
      "metadata": {
        "colab": {
          "base_uri": "https://localhost:8080/",
          "height": 390
        },
        "id": "tazCqnGxJdX4",
        "outputId": "15c43eee-53e0-4631-869a-d13b8f8fd68a"
      },
      "execution_count": null,
      "outputs": [
        {
          "output_type": "display_data",
          "data": {
            "image/png": "[encoded data removed]",
            "text/plain": [
              "<Figure size 576x432 with 2 Axes>"
            ]
          },
          "metadata": {
            "needs_background": "light"
          }
        }
      ]
    },
    {
      "cell_type": "code",
      "source": [
        "history_difficult_1_20 = model_1.fit(x = train_imgs, y = train_labels, validation_data=(validation_imgs, validation_labels), steps_per_epoch=10, epochs=20, verbose=1)"
      ],
      "metadata": {
        "colab": {
          "base_uri": "https://localhost:8080/"
        },
        "id": "t2SKeq3THvQs",
        "outputId": "d68b3814-77c6-452e-ce15-81a461c46798"
      },
      "execution_count": null,
      "outputs": [
        {
          "output_type": "stream",
          "name": "stdout",
          "text": [
            "Epoch 1/20\n",
            "10/10 [==============================] - 17s 2s/step - loss: 1.0380 - accuracy: 0.8783 - val_loss: 4.4776 - val_accuracy: 0.2043\n",
            "Epoch 2/20\n",
            "10/10 [==============================] - 16s 2s/step - loss: 0.8118 - accuracy: 0.9230 - val_loss: 4.4513 - val_accuracy: 0.2256\n",
            "Epoch 3/20\n",
            "10/10 [==============================] - 17s 2s/step - loss: 0.6459 - accuracy: 0.9475 - val_loss: 4.4705 - val_accuracy: 0.2104\n",
            "Epoch 4/20\n",
            "10/10 [==============================] - 17s 2s/step - loss: 0.5088 - accuracy: 0.9675 - val_loss: 4.4701 - val_accuracy: 0.2226\n",
            "Epoch 5/20\n",
            "10/10 [==============================] - 17s 2s/step - loss: 0.4012 - accuracy: 0.9770 - val_loss: 4.4828 - val_accuracy: 0.2256\n",
            "Epoch 6/20\n",
            "10/10 [==============================] - 17s 2s/step - loss: 0.3147 - accuracy: 0.9870 - val_loss: 4.5058 - val_accuracy: 0.2378\n",
            "Epoch 7/20\n",
            "10/10 [==============================] - 17s 2s/step - loss: 0.2533 - accuracy: 0.9885 - val_loss: 4.5319 - val_accuracy: 0.2256\n",
            "Epoch 8/20\n",
            "10/10 [==============================] - 17s 2s/step - loss: 0.2080 - accuracy: 0.9904 - val_loss: 4.5525 - val_accuracy: 0.2439\n",
            "Epoch 9/20\n",
            "10/10 [==============================] - 17s 2s/step - loss: 0.1744 - accuracy: 0.9916 - val_loss: 4.5518 - val_accuracy: 0.2470\n",
            "Epoch 10/20\n",
            "10/10 [==============================] - 17s 2s/step - loss: 0.1447 - accuracy: 0.9912 - val_loss: 4.5600 - val_accuracy: 0.2409\n",
            "Epoch 11/20\n",
            "10/10 [==============================] - 17s 2s/step - loss: 0.1256 - accuracy: 0.9900 - val_loss: 4.5930 - val_accuracy: 0.2500\n",
            "Epoch 12/20\n",
            "10/10 [==============================] - 17s 2s/step - loss: 0.1099 - accuracy: 0.9920 - val_loss: 4.6107 - val_accuracy: 0.2622\n",
            "Epoch 13/20\n",
            "10/10 [==============================] - 17s 2s/step - loss: 0.1040 - accuracy: 0.9916 - val_loss: 4.6337 - val_accuracy: 0.2439\n",
            "Epoch 14/20\n",
            "10/10 [==============================] - 17s 2s/step - loss: 0.0927 - accuracy: 0.9900 - val_loss: 4.6533 - val_accuracy: 0.2591\n",
            "Epoch 15/20\n",
            "10/10 [==============================] - 17s 2s/step - loss: 0.0848 - accuracy: 0.9923 - val_loss: 4.6716 - val_accuracy: 0.2470\n",
            "Epoch 16/20\n",
            "10/10 [==============================] - 17s 2s/step - loss: 0.0744 - accuracy: 0.9923 - val_loss: 4.6798 - val_accuracy: 0.2409\n",
            "Epoch 17/20\n",
            "10/10 [==============================] - 17s 2s/step - loss: 0.0714 - accuracy: 0.9923 - val_loss: 4.6873 - val_accuracy: 0.2500\n",
            "Epoch 18/20\n",
            "10/10 [==============================] - 17s 2s/step - loss: 0.0669 - accuracy: 0.9916 - val_loss: 4.7198 - val_accuracy: 0.2591\n",
            "Epoch 19/20\n",
            "10/10 [==============================] - 17s 2s/step - loss: 0.0648 - accuracy: 0.9912 - val_loss: 4.7167 - val_accuracy: 0.2439\n",
            "Epoch 20/20\n",
            "10/10 [==============================] - 17s 2s/step - loss: 0.0612 - accuracy: 0.9927 - val_loss: 4.7191 - val_accuracy: 0.2500\n"
          ]
        }
      ]
    },
    {
      "cell_type": "code",
      "source": [
        "testLoss, testAccuracy = model_1.evaluate(test_imgs, test_labels)"
      ],
      "metadata": {
        "colab": {
          "base_uri": "https://localhost:8080/"
        },
        "id": "dEofDK2fJRYO",
        "outputId": "e785911a-8632-409e-fc9f-0911a21c5436"
      },
      "execution_count": null,
      "outputs": [
        {
          "output_type": "stream",
          "name": "stdout",
          "text": [
            "11/11 [==============================] - 2s 205ms/step - loss: 4.3774 - accuracy: 0.2957\n"
          ]
        }
      ]
    },
    {
      "cell_type": "code",
      "source": [
        "summarize_model(history_difficult_1_20)"
      ],
      "metadata": {
        "colab": {
          "base_uri": "https://localhost:8080/",
          "height": 390
        },
        "id": "Ft-i4Y5EJj6j",
        "outputId": "f9fe00d0-d71f-4718-c237-295054945c32"
      },
      "execution_count": null,
      "outputs": [
        {
          "output_type": "display_data",
          "data": {
            "image/png": "[encoded data removed]",
            "text/plain": [
              "<Figure size 576x432 with 2 Axes>"
            ]
          },
          "metadata": {
            "needs_background": "light"
          }
        }
      ]
    },
    {
      "cell_type": "code",
      "source": [
        "history_difficult_1_50 = model_1.fit(x = train_imgs, y = train_labels, validation_data=(validation_imgs, validation_labels), steps_per_epoch=10, epochs=50, verbose=1)"
      ],
      "metadata": {
        "colab": {
          "base_uri": "https://localhost:8080/"
        },
        "id": "yS8penXZRlO3",
        "outputId": "1f7b3702-c0a8-4f3b-c4a2-c998e0b81527"
      },
      "execution_count": null,
      "outputs": [
        {
          "output_type": "stream",
          "name": "stdout",
          "text": [
            "Epoch 1/50\n",
            "10/10 [==============================] - 22s 2s/step - loss: 5.9649 - accuracy: 0.0065 - val_loss: 5.7220 - val_accuracy: 0.0183\n",
            "Epoch 2/50\n",
            "10/10 [==============================] - 17s 2s/step - loss: 5.3785 - accuracy: 0.0632 - val_loss: 5.5583 - val_accuracy: 0.0274\n",
            "Epoch 3/50\n",
            "10/10 [==============================] - 17s 2s/step - loss: 4.7993 - accuracy: 0.1413 - val_loss: 5.2649 - val_accuracy: 0.0610\n",
            "Epoch 4/50\n",
            "10/10 [==============================] - 17s 2s/step - loss: 4.1244 - accuracy: 0.2653 - val_loss: 5.0501 - val_accuracy: 0.1006\n",
            "Epoch 5/50\n",
            "10/10 [==============================] - 17s 2s/step - loss: 3.4967 - accuracy: 0.3940 - val_loss: 4.8600 - val_accuracy: 0.1037\n",
            "Epoch 6/50\n",
            "10/10 [==============================] - 17s 2s/step - loss: 2.9255 - accuracy: 0.4981 - val_loss: 4.7050 - val_accuracy: 0.1524\n",
            "Epoch 7/50\n",
            "10/10 [==============================] - 17s 2s/step - loss: 2.4192 - accuracy: 0.5915 - val_loss: 4.6234 - val_accuracy: 0.1402\n",
            "Epoch 8/50\n",
            "10/10 [==============================] - 17s 2s/step - loss: 2.0015 - accuracy: 0.6765 - val_loss: 4.5833 - val_accuracy: 0.1799\n",
            "Epoch 9/50\n",
            "10/10 [==============================] - 17s 2s/step - loss: 1.6544 - accuracy: 0.7554 - val_loss: 4.5236 - val_accuracy: 0.1890\n",
            "Epoch 10/50\n",
            "10/10 [==============================] - 17s 2s/step - loss: 1.3470 - accuracy: 0.8109 - val_loss: 4.4878 - val_accuracy: 0.1738\n",
            "Epoch 11/50\n",
            "10/10 [==============================] - 17s 2s/step - loss: 1.0791 - accuracy: 0.8714 - val_loss: 4.4529 - val_accuracy: 0.2195\n",
            "Epoch 12/50\n",
            "10/10 [==============================] - 17s 2s/step - loss: 0.8550 - accuracy: 0.9089 - val_loss: 4.4522 - val_accuracy: 0.2043\n",
            "Epoch 13/50\n",
            "10/10 [==============================] - 17s 2s/step - loss: 0.6730 - accuracy: 0.9449 - val_loss: 4.4575 - val_accuracy: 0.2195\n",
            "Epoch 14/50\n",
            "10/10 [==============================] - 17s 2s/step - loss: 0.5345 - accuracy: 0.9632 - val_loss: 4.4573 - val_accuracy: 0.2256\n",
            "Epoch 15/50\n",
            "10/10 [==============================] - 17s 2s/step - loss: 0.4281 - accuracy: 0.9759 - val_loss: 4.4827 - val_accuracy: 0.2378\n",
            "Epoch 16/50\n",
            "10/10 [==============================] - 17s 2s/step - loss: 0.3381 - accuracy: 0.9828 - val_loss: 4.4832 - val_accuracy: 0.2348\n",
            "Epoch 17/50\n",
            "10/10 [==============================] - 17s 2s/step - loss: 0.2725 - accuracy: 0.9866 - val_loss: 4.5131 - val_accuracy: 0.2317\n",
            "Epoch 18/50\n",
            "10/10 [==============================] - 17s 2s/step - loss: 0.2192 - accuracy: 0.9908 - val_loss: 4.5235 - val_accuracy: 0.2409\n",
            "Epoch 19/50\n",
            "10/10 [==============================] - 17s 2s/step - loss: 0.1831 - accuracy: 0.9900 - val_loss: 4.5448 - val_accuracy: 0.2409\n",
            "Epoch 20/50\n",
            "10/10 [==============================] - 17s 2s/step - loss: 0.1518 - accuracy: 0.9916 - val_loss: 4.5717 - val_accuracy: 0.2530\n",
            "Epoch 21/50\n",
            "10/10 [==============================] - 17s 2s/step - loss: 0.1325 - accuracy: 0.9916 - val_loss: 4.5745 - val_accuracy: 0.2500\n",
            "Epoch 22/50\n",
            "10/10 [==============================] - 17s 2s/step - loss: 0.1146 - accuracy: 0.9912 - val_loss: 4.5952 - val_accuracy: 0.2470\n",
            "Epoch 23/50\n",
            "10/10 [==============================] - 17s 2s/step - loss: 0.1025 - accuracy: 0.9916 - val_loss: 4.6216 - val_accuracy: 0.2439\n",
            "Epoch 24/50\n",
            "10/10 [==============================] - 17s 2s/step - loss: 0.0951 - accuracy: 0.9912 - val_loss: 4.6400 - val_accuracy: 0.2500\n",
            "Epoch 25/50\n",
            "10/10 [==============================] - 17s 2s/step - loss: 0.0854 - accuracy: 0.9912 - val_loss: 4.6496 - val_accuracy: 0.2561\n",
            "Epoch 26/50\n",
            "10/10 [==============================] - 17s 2s/step - loss: 0.0808 - accuracy: 0.9908 - val_loss: 4.6502 - val_accuracy: 0.2622\n",
            "Epoch 27/50\n",
            "10/10 [==============================] - 17s 2s/step - loss: 0.0731 - accuracy: 0.9908 - val_loss: 4.6766 - val_accuracy: 0.2652\n",
            "Epoch 28/50\n",
            "10/10 [==============================] - 17s 2s/step - loss: 0.0660 - accuracy: 0.9923 - val_loss: 4.6980 - val_accuracy: 0.2561\n",
            "Epoch 29/50\n",
            "10/10 [==============================] - 17s 2s/step - loss: 0.0623 - accuracy: 0.9908 - val_loss: 4.6852 - val_accuracy: 0.2561\n",
            "Epoch 30/50\n",
            "10/10 [==============================] - 17s 2s/step - loss: 0.0612 - accuracy: 0.9916 - val_loss: 4.7094 - val_accuracy: 0.2683\n",
            "Epoch 31/50\n",
            "10/10 [==============================] - 17s 2s/step - loss: 0.0568 - accuracy: 0.9920 - val_loss: 4.7174 - val_accuracy: 0.2470\n",
            "Epoch 32/50\n",
            "10/10 [==============================] - 17s 2s/step - loss: 0.0571 - accuracy: 0.9923 - val_loss: 4.7473 - val_accuracy: 0.2683\n",
            "Epoch 33/50\n",
            "10/10 [==============================] - 17s 2s/step - loss: 0.0519 - accuracy: 0.9923 - val_loss: 4.7570 - val_accuracy: 0.2561\n",
            "Epoch 34/50\n",
            "10/10 [==============================] - 17s 2s/step - loss: 0.0560 - accuracy: 0.9912 - val_loss: 4.7640 - val_accuracy: 0.2622\n",
            "Epoch 35/50\n",
            "10/10 [==============================] - 17s 2s/step - loss: 0.0514 - accuracy: 0.9904 - val_loss: 4.7813 - val_accuracy: 0.2622\n",
            "Epoch 36/50\n",
            "10/10 [==============================] - 17s 2s/step - loss: 0.0475 - accuracy: 0.9920 - val_loss: 4.7929 - val_accuracy: 0.2622\n",
            "Epoch 37/50\n",
            "10/10 [==============================] - 17s 2s/step - loss: 0.0460 - accuracy: 0.9931 - val_loss: 4.7822 - val_accuracy: 0.2591\n",
            "Epoch 38/50\n",
            "10/10 [==============================] - 17s 2s/step - loss: 0.0459 - accuracy: 0.9916 - val_loss: 4.7958 - val_accuracy: 0.2622\n",
            "Epoch 39/50\n",
            "10/10 [==============================] - 17s 2s/step - loss: 0.0433 - accuracy: 0.9916 - val_loss: 4.8282 - val_accuracy: 0.2530\n",
            "Epoch 40/50\n",
            "10/10 [==============================] - 17s 2s/step - loss: 0.0418 - accuracy: 0.9916 - val_loss: 4.8129 - val_accuracy: 0.2652\n",
            "Epoch 41/50\n",
            "10/10 [==============================] - 17s 2s/step - loss: 0.0404 - accuracy: 0.9912 - val_loss: 4.8309 - val_accuracy: 0.2652\n",
            "Epoch 42/50\n",
            "10/10 [==============================] - 17s 2s/step - loss: 0.0365 - accuracy: 0.9920 - val_loss: 4.8267 - val_accuracy: 0.2683\n",
            "Epoch 43/50\n",
            "10/10 [==============================] - 17s 2s/step - loss: 0.0416 - accuracy: 0.9912 - val_loss: 4.8360 - val_accuracy: 0.2683\n",
            "Epoch 44/50\n",
            "10/10 [==============================] - 17s 2s/step - loss: 0.0415 - accuracy: 0.9900 - val_loss: 4.8503 - val_accuracy: 0.2530\n",
            "Epoch 45/50\n",
            "10/10 [==============================] - 17s 2s/step - loss: 0.0303 - accuracy: 0.9931 - val_loss: 4.8709 - val_accuracy: 0.2774\n",
            "Epoch 46/50\n",
            "10/10 [==============================] - 17s 2s/step - loss: 0.0392 - accuracy: 0.9912 - val_loss: 4.8613 - val_accuracy: 0.2622\n",
            "Epoch 47/50\n",
            "10/10 [==============================] - 17s 2s/step - loss: 0.0450 - accuracy: 0.9920 - val_loss: 4.8898 - val_accuracy: 0.2622\n",
            "Epoch 48/50\n",
            "10/10 [==============================] - 17s 2s/step - loss: 0.0419 - accuracy: 0.9916 - val_loss: 4.8988 - val_accuracy: 0.2591\n",
            "Epoch 49/50\n",
            "10/10 [==============================] - 17s 2s/step - loss: 0.0383 - accuracy: 0.9912 - val_loss: 4.9073 - val_accuracy: 0.2774\n",
            "Epoch 50/50\n",
            "10/10 [==============================] - 17s 2s/step - loss: 0.0323 - accuracy: 0.9916 - val_loss: 4.9092 - val_accuracy: 0.2622\n"
          ]
        }
      ]
    },
    {
      "cell_type": "code",
      "source": [
        "testLoss, testAccuracy = model_1.evaluate(test_imgs, test_labels)"
      ],
      "metadata": {
        "colab": {
          "base_uri": "https://localhost:8080/"
        },
        "id": "EmhI3ieOVVvi",
        "outputId": "1d1a05d2-a779-4d32-8256-6920a091784a"
      },
      "execution_count": null,
      "outputs": [
        {
          "output_type": "stream",
          "name": "stdout",
          "text": [
            "11/11 [==============================] - 2s 204ms/step - loss: 4.5336 - accuracy: 0.2988\n"
          ]
        }
      ]
    },
    {
      "cell_type": "code",
      "source": [
        "summarize_model(history_difficult_1_50)"
      ],
      "metadata": {
        "colab": {
          "base_uri": "https://localhost:8080/",
          "height": 390
        },
        "id": "q8vi5gSAVZlc",
        "outputId": "2498134d-61e6-4457-e30c-25d6411b3119"
      },
      "execution_count": null,
      "outputs": [
        {
          "output_type": "display_data",
          "data": {
            "image/png": "[encoded data removed]",
            "text/plain": [
              "<Figure size 576x432 with 2 Axes>"
            ]
          },
          "metadata": {
            "needs_background": "light"
          }
        }
      ]
    },
    {
      "cell_type": "markdown",
      "source": [
        "# **Model 2**"
      ],
      "metadata": {
        "id": "dwwas75QJU68"
      }
    },
    {
      "cell_type": "code",
      "source": [
        "from tensorflow.keras.applications.resnet50 import ResNet50\n",
        "from tensorflow.keras.models import Model\n",
        "from tensorflow.keras.layers import Dense\n",
        "from tensorflow.keras.layers import Flatten\n",
        "from tensorflow.keras.layers import Conv2D, MaxPooling2D, Flatten, Dense, Dropout, InputLayer\n",
        "from tensorflow.keras.models import Sequential\n",
        "from tensorflow.keras import Input\n",
        "from tensorflow.keras import optimizers\n",
        "import keras\n",
        "\n",
        "model_2 = Sequential()\n",
        "input_t = Input(shape = (224,224,3))\n",
        "pretrained_model= ResNet50(include_top=False,\n",
        "                           input_tensor=input_t, \n",
        "                   pooling='avg',classes= 50,\n",
        "                   weights='imagenet')\n",
        "for layer in pretrained_model.layers:\n",
        "        layer.trainable=False\n",
        "model_2.add(pretrained_model)\n",
        "model_2.add(Flatten())\n",
        "model_2.add(Dense(512, activation='relu'))\n",
        "model_2.add(Dense(1024, activation='relu', input_dim = (224,224,3)))\n",
        "output = model_2.add(Dense(329, activation='softmax'))\n",
        "model_2.summary()"
      ],
      "metadata": {
        "colab": {
          "base_uri": "https://localhost:8080/"
        },
        "id": "GtJOgAZVcPCc",
        "outputId": "3eb9d2fc-af2b-4d3d-f2c6-be6f8a844fbd"
      },
      "execution_count": null,
      "outputs": [
        {
          "output_type": "stream",
          "name": "stdout",
          "text": [
            "Model: \"sequential_2\"\n",
            "_________________________________________________________________\n",
            " Layer (type)                Output Shape              Param #   \n",
            "=================================================================\n",
            " resnet50 (Functional)       (None, 2048)              23587712  \n",
            "                                                                 \n",
            " flatten_2 (Flatten)         (None, 2048)              0         \n",
            "                                                                 \n",
            " dense_5 (Dense)             (None, 512)               1049088   \n",
            "                                                                 \n",
            " dense_6 (Dense)             (None, 1024)              525312    \n",
            "                                                                 \n",
            " dense_7 (Dense)             (None, 329)               337225    \n",
            "                                                                 \n",
            "=================================================================\n",
            "Total params: 25,499,337\n",
            "Trainable params: 1,911,625\n",
            "Non-trainable params: 23,587,712\n",
            "_________________________________________________________________\n"
          ]
        }
      ]
    },
    {
      "cell_type": "code",
      "source": [
        "model_2.compile(loss='categorical_crossentropy',\n",
        "              optimizer='adam',\n",
        "              metrics=['accuracy'])"
      ],
      "metadata": {
        "id": "VYrs1ZYCJ5eK"
      },
      "execution_count": null,
      "outputs": []
    },
    {
      "cell_type": "code",
      "source": [
        "history_difficult_2_10 = model_2.fit(x = train_imgs, y = train_labels, validation_data=(validation_imgs, validation_labels), steps_per_epoch=10, epochs=10, verbose=1)"
      ],
      "metadata": {
        "colab": {
          "base_uri": "https://localhost:8080/"
        },
        "id": "TqlEbHWWJ-if",
        "outputId": "72989723-513a-4226-e52c-70e904aa7d38"
      },
      "execution_count": null,
      "outputs": [
        {
          "output_type": "stream",
          "name": "stdout",
          "text": [
            "Epoch 1/10\n",
            "10/10 [==============================] - 44s 3s/step - loss: 5.9280 - accuracy: 0.0046 - val_loss: 5.7404 - val_accuracy: 0.0030\n",
            "Epoch 2/10\n",
            "10/10 [==============================] - 16s 2s/step - loss: 5.5152 - accuracy: 0.0417 - val_loss: 5.5175 - val_accuracy: 0.0183\n",
            "Epoch 3/10\n",
            "10/10 [==============================] - 16s 2s/step - loss: 4.8689 - accuracy: 0.1175 - val_loss: 5.2199 - val_accuracy: 0.0488\n",
            "Epoch 4/10\n",
            "10/10 [==============================] - 17s 2s/step - loss: 4.1238 - accuracy: 0.2163 - val_loss: 4.9666 - val_accuracy: 0.0976\n",
            "Epoch 5/10\n",
            "10/10 [==============================] - 17s 2s/step - loss: 3.3270 - accuracy: 0.3583 - val_loss: 4.8825 - val_accuracy: 0.1006\n",
            "Epoch 6/10\n",
            "10/10 [==============================] - 17s 2s/step - loss: 2.6800 - accuracy: 0.4537 - val_loss: 4.8311 - val_accuracy: 0.1280\n",
            "Epoch 7/10\n",
            "10/10 [==============================] - 17s 2s/step - loss: 2.0581 - accuracy: 0.6022 - val_loss: 4.6855 - val_accuracy: 0.1646\n",
            "Epoch 8/10\n",
            "10/10 [==============================] - 17s 2s/step - loss: 1.5449 - accuracy: 0.7014 - val_loss: 4.7391 - val_accuracy: 0.1921\n",
            "Epoch 9/10\n",
            "10/10 [==============================] - 17s 2s/step - loss: 1.1791 - accuracy: 0.7703 - val_loss: 4.7599 - val_accuracy: 0.2012\n",
            "Epoch 10/10\n",
            "10/10 [==============================] - 17s 2s/step - loss: 0.8171 - accuracy: 0.8717 - val_loss: 4.8389 - val_accuracy: 0.1738\n"
          ]
        }
      ]
    },
    {
      "cell_type": "code",
      "source": [
        "testLoss, testAccuracy = model_2.evaluate(test_imgs, test_labels)"
      ],
      "metadata": {
        "colab": {
          "base_uri": "https://localhost:8080/"
        },
        "id": "eJOPSidAPXQW",
        "outputId": "9b9a65e0-5b2e-4a1f-b0ee-fbafe385dd3b"
      },
      "execution_count": null,
      "outputs": [
        {
          "output_type": "stream",
          "name": "stdout",
          "text": [
            "11/11 [==============================] - 2s 203ms/step - loss: 4.5475 - accuracy: 0.2470\n"
          ]
        }
      ]
    },
    {
      "cell_type": "code",
      "source": [
        "summarize_model(history_difficult_2_10)"
      ],
      "metadata": {
        "colab": {
          "base_uri": "https://localhost:8080/",
          "height": 390
        },
        "id": "tjcfiIT3PasL",
        "outputId": "d702f97d-2b9e-4886-829c-110def1b1c33"
      },
      "execution_count": null,
      "outputs": [
        {
          "output_type": "display_data",
          "data": {
            "image/png": "[encoded data removed]",
            "text/plain": [
              "<Figure size 576x432 with 2 Axes>"
            ]
          },
          "metadata": {
            "needs_background": "light"
          }
        }
      ]
    },
    {
      "cell_type": "code",
      "source": [
        "history_2_20 = model_2.fit(x = train_imgs, y = train_labels, validation_data=(validation_imgs, validation_labels), steps_per_epoch=10, epochs=20, verbose=1)"
      ],
      "metadata": {
        "colab": {
          "base_uri": "https://localhost:8080/"
        },
        "id": "wjrxDF2CPoil",
        "outputId": "7238e597-3f3a-4658-efe7-850137b3de06"
      },
      "execution_count": null,
      "outputs": [
        {
          "output_type": "stream",
          "name": "stdout",
          "text": [
            "Epoch 1/20\n",
            "10/10 [==============================] - 17s 2s/step - loss: 0.5617 - accuracy: 0.9215 - val_loss: 4.9140 - val_accuracy: 0.2287\n",
            "Epoch 2/20\n",
            "10/10 [==============================] - 17s 2s/step - loss: 0.3876 - accuracy: 0.9548 - val_loss: 5.0072 - val_accuracy: 0.2043\n",
            "Epoch 3/20\n",
            "10/10 [==============================] - 17s 2s/step - loss: 0.2574 - accuracy: 0.9793 - val_loss: 5.0552 - val_accuracy: 0.2073\n",
            "Epoch 4/20\n",
            "10/10 [==============================] - 17s 2s/step - loss: 0.1728 - accuracy: 0.9847 - val_loss: 5.2037 - val_accuracy: 0.2104\n",
            "Epoch 5/20\n",
            "10/10 [==============================] - 17s 2s/step - loss: 0.1209 - accuracy: 0.9874 - val_loss: 5.2928 - val_accuracy: 0.2226\n",
            "Epoch 6/20\n",
            "10/10 [==============================] - 17s 2s/step - loss: 0.1077 - accuracy: 0.9866 - val_loss: 5.3155 - val_accuracy: 0.2104\n",
            "Epoch 7/20\n",
            "10/10 [==============================] - 17s 2s/step - loss: 0.0929 - accuracy: 0.9889 - val_loss: 5.3471 - val_accuracy: 0.2104\n",
            "Epoch 8/20\n",
            "10/10 [==============================] - 17s 2s/step - loss: 0.0813 - accuracy: 0.9889 - val_loss: 5.3701 - val_accuracy: 0.2134\n",
            "Epoch 9/20\n",
            "10/10 [==============================] - 17s 2s/step - loss: 0.0613 - accuracy: 0.9923 - val_loss: 5.3603 - val_accuracy: 0.2256\n",
            "Epoch 10/20\n",
            "10/10 [==============================] - 17s 2s/step - loss: 0.0578 - accuracy: 0.9920 - val_loss: 5.4539 - val_accuracy: 0.2317\n",
            "Epoch 11/20\n",
            "10/10 [==============================] - 17s 2s/step - loss: 0.0570 - accuracy: 0.9912 - val_loss: 5.4769 - val_accuracy: 0.2287\n",
            "Epoch 12/20\n",
            "10/10 [==============================] - 17s 2s/step - loss: 0.0575 - accuracy: 0.9912 - val_loss: 5.4792 - val_accuracy: 0.2256\n",
            "Epoch 13/20\n",
            "10/10 [==============================] - 17s 2s/step - loss: 0.0555 - accuracy: 0.9927 - val_loss: 5.5275 - val_accuracy: 0.2195\n",
            "Epoch 14/20\n",
            "10/10 [==============================] - 17s 2s/step - loss: 0.0547 - accuracy: 0.9920 - val_loss: 5.4344 - val_accuracy: 0.2317\n",
            "Epoch 15/20\n",
            "10/10 [==============================] - 17s 2s/step - loss: 0.0491 - accuracy: 0.9908 - val_loss: 5.4941 - val_accuracy: 0.2226\n",
            "Epoch 16/20\n",
            "10/10 [==============================] - 17s 2s/step - loss: 0.0539 - accuracy: 0.9912 - val_loss: 5.5064 - val_accuracy: 0.2287\n",
            "Epoch 17/20\n",
            "10/10 [==============================] - 17s 2s/step - loss: 0.0503 - accuracy: 0.9897 - val_loss: 5.5008 - val_accuracy: 0.2378\n",
            "Epoch 18/20\n",
            "10/10 [==============================] - 17s 2s/step - loss: 0.0448 - accuracy: 0.9908 - val_loss: 5.5260 - val_accuracy: 0.2317\n",
            "Epoch 19/20\n",
            "10/10 [==============================] - 17s 2s/step - loss: 0.0434 - accuracy: 0.9923 - val_loss: 5.5376 - val_accuracy: 0.2409\n",
            "Epoch 20/20\n",
            "10/10 [==============================] - 17s 2s/step - loss: 0.0531 - accuracy: 0.9904 - val_loss: 5.5038 - val_accuracy: 0.2378\n"
          ]
        }
      ]
    },
    {
      "cell_type": "code",
      "source": [
        "testLoss, testAccuracy = model_2.evaluate(test_imgs, test_labels)"
      ],
      "metadata": {
        "colab": {
          "base_uri": "https://localhost:8080/"
        },
        "id": "pJGHnMoURMrl",
        "outputId": "2f0f8d9a-a5a7-486e-bb1f-fb371fb5b5b6"
      },
      "execution_count": null,
      "outputs": [
        {
          "output_type": "stream",
          "name": "stdout",
          "text": [
            "11/11 [==============================] - 2s 211ms/step - loss: 5.1570 - accuracy: 0.2835\n"
          ]
        }
      ]
    },
    {
      "cell_type": "code",
      "source": [
        "summarize_model(history_2_20)"
      ],
      "metadata": {
        "colab": {
          "base_uri": "https://localhost:8080/",
          "height": 390
        },
        "id": "qL6Qd9ouRSov",
        "outputId": "8379cc48-b676-4a49-c09e-bb2869fd5f21"
      },
      "execution_count": null,
      "outputs": [
        {
          "output_type": "display_data",
          "data": {
            "image/png": "[encoded data removed]",
            "text/plain": [
              "<Figure size 576x432 with 2 Axes>"
            ]
          },
          "metadata": {
            "needs_background": "light"
          }
        }
      ]
    }
  ]
}