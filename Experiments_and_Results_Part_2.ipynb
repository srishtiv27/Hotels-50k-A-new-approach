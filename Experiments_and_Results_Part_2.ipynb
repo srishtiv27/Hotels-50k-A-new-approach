{
  "nbformat": 4,
  "nbformat_minor": 0,
  "metadata": {
    "colab": {
      "name": "Experiments and Results Part 2.ipynb",
      "provenance": [],
      "collapsed_sections": []
    },
    "kernelspec": {
      "name": "python3",
      "display_name": "Python 3"
    },
    "language_info": {
      "name": "python"
    },
    "accelerator": "GPU"
  },
  "cells": [
    {
      "cell_type": "code",
      "metadata": {
        "colab": {
          "base_uri": "https://localhost:8080/"
        },
        "id": "t1sDmq9FqH9_",
        "outputId": "0aee5d4e-351f-4067-c015-c88ae6cc561c"
      },
      "source": [
        "from google.colab import drive\n",
        "drive.mount('/content/gdrive')"
      ],
      "execution_count": null,
      "outputs": [
        {
          "output_type": "stream",
          "name": "stdout",
          "text": [
            "Mounted at /content/gdrive\n"
          ]
        }
      ]
    },
    {
      "cell_type": "markdown",
      "metadata": {
        "id": "LlfwjKEk0SR1"
      },
      "source": [
        "# **Curating a dataset for better results**\n",
        "\n",
        "Following the previous discussion, we tried to follow some points that were mentioned to improve the accuracy of the models that we created.\n",
        "\n",
        "Since we only had 100,000 images loaded on the drive, we took an initial subset of 100,000 images.\n"
      ]
    },
    {
      "cell_type": "markdown",
      "source": [
        "We noticed that some of the links of images in our dataset were no longer operational. Due to this, some of the images were now missing. Hence, we had to do the additional task of removing the missing images."
      ],
      "metadata": {
        "id": "Ex9vGjM_t4pS"
      }
    },
    {
      "cell_type": "code",
      "metadata": {
        "id": "agMXcuwuM5tx"
      },
      "source": [
        " # Opening the file containing the serial numbers of the missing images in read mode.\n",
        " # View the file by clicking on this link: https://drive.google.com/file/d/1LbcW1pO348MHPDB2iFQ_-fZoDZiGvo59/view?usp=sharing\n",
        "\n",
        "file_object = open('/content/gdrive/MyDrive/AI/Missing Images/FinalMissingImages.txt', 'r')"
      ],
      "execution_count": null,
      "outputs": []
    },
    {
      "cell_type": "code",
      "metadata": {
        "id": "7XrpTkBKNOE1"
      },
      "source": [
        "# Storing the missing images in a list from the text file\n",
        "\n",
        "missing_images_string = [word.strip() for line in file_object.readlines() for word in line.split(', ') if word.strip()]"
      ],
      "execution_count": null,
      "outputs": []
    },
    {
      "cell_type": "code",
      "metadata": {
        "colab": {
          "base_uri": "https://localhost:8080/"
        },
        "id": "vHPxyxoOO4pZ",
        "outputId": "da889c07-7085-40a3-9524-ebee96e29723"
      },
      "source": [
        "# Converting the missing images in string format to integers\n",
        "\n",
        "missing_images = []\n",
        "for x in missing_images_string:\n",
        "  try:\n",
        "    missing_images.append(int(x))\n",
        "  except:\n",
        "    print(x)"
      ],
      "execution_count": null,
      "outputs": [
        {
          "output_type": "stream",
          "name": "stdout",
          "text": [
            "﻿85509\n"
          ]
        }
      ]
    },
    {
      "cell_type": "markdown",
      "source": [
        "We noticed that there was an exception in converting the string '85509' into an integer. We suspect that this was because of some whitespace or new line character. Hence, we decided to add this number manually."
      ],
      "metadata": {
        "id": "BBKdWexDut_H"
      }
    },
    {
      "cell_type": "code",
      "metadata": {
        "id": "4FZU4wT7PNaC"
      },
      "source": [
        "missing_images.append(85509)"
      ],
      "execution_count": null,
      "outputs": []
    },
    {
      "cell_type": "code",
      "metadata": {
        "colab": {
          "base_uri": "https://localhost:8080/",
          "height": 206
        },
        "id": "LnvHX75Fuv23",
        "outputId": "62f820fb-e4dd-49fe-9264-5b66ecc45729"
      },
      "source": [
        "import pandas as pd\n",
        "\n",
        "# Get hotels_100k dataset from this link: https://drive.google.com/file/d/1q0Q-zML4ovel6oqcAynZn-ZZ7K0I3EDJ/view?usp=sharing\n",
        "hotels_100k = pd.read_csv(\"/content/gdrive/MyDrive/AI/datasets/hotels_subset_100K.csv\")\n",
        "# Displaying the dataset\n",
        "hotels_100k.head()"
      ],
      "execution_count": null,
      "outputs": [
        {
          "output_type": "execute_result",
          "data": {
            "text/html": [
              "<div>\n",
              "<style scoped>\n",
              "    .dataframe tbody tr th:only-of-type {\n",
              "        vertical-align: middle;\n",
              "    }\n",
              "\n",
              "    .dataframe tbody tr th {\n",
              "        vertical-align: top;\n",
              "    }\n",
              "\n",
              "    .dataframe thead th {\n",
              "        text-align: right;\n",
              "    }\n",
              "</style>\n",
              "<table border=\"1\" class=\"dataframe\">\n",
              "  <thead>\n",
              "    <tr style=\"text-align: right;\">\n",
              "      <th></th>\n",
              "      <th>image_id</th>\n",
              "      <th>hotel_id</th>\n",
              "      <th>image_url</th>\n",
              "      <th>image_source</th>\n",
              "      <th>upload_timestamp</th>\n",
              "    </tr>\n",
              "  </thead>\n",
              "  <tbody>\n",
              "    <tr>\n",
              "      <th>0</th>\n",
              "      <td>3485</td>\n",
              "      <td>18187</td>\n",
              "      <td>https://traffickcam.com/images/2016/10/2015090...</td>\n",
              "      <td>traffickcam</td>\n",
              "      <td>##########</td>\n",
              "    </tr>\n",
              "    <tr>\n",
              "      <th>1</th>\n",
              "      <td>3486</td>\n",
              "      <td>18187</td>\n",
              "      <td>https://traffickcam.com/images/2016/10/2015090...</td>\n",
              "      <td>traffickcam</td>\n",
              "      <td>##########</td>\n",
              "    </tr>\n",
              "    <tr>\n",
              "      <th>2</th>\n",
              "      <td>3663</td>\n",
              "      <td>73224</td>\n",
              "      <td>https://traffickcam.com/images/2016/10/2015091...</td>\n",
              "      <td>traffickcam</td>\n",
              "      <td>9/17/15 19:33</td>\n",
              "    </tr>\n",
              "    <tr>\n",
              "      <th>3</th>\n",
              "      <td>2586939</td>\n",
              "      <td>86350</td>\n",
              "      <td>https://traffickcam.com/images/2017/2/20160125...</td>\n",
              "      <td>traffickcam</td>\n",
              "      <td>1/25/16 19:12</td>\n",
              "    </tr>\n",
              "    <tr>\n",
              "      <th>4</th>\n",
              "      <td>2586950</td>\n",
              "      <td>1533</td>\n",
              "      <td>https://traffickcam.com/images/2017/2/20160125...</td>\n",
              "      <td>traffickcam</td>\n",
              "      <td>1/25/16 17:23</td>\n",
              "    </tr>\n",
              "  </tbody>\n",
              "</table>\n",
              "</div>"
            ],
            "text/plain": [
              "   image_id  hotel_id  ... image_source upload_timestamp\n",
              "0      3485     18187  ...  traffickcam       ##########\n",
              "1      3486     18187  ...  traffickcam       ##########\n",
              "2      3663     73224  ...  traffickcam    9/17/15 19:33\n",
              "3   2586939     86350  ...  traffickcam    1/25/16 19:12\n",
              "4   2586950      1533  ...  traffickcam    1/25/16 17:23\n",
              "\n",
              "[5 rows x 5 columns]"
            ]
          },
          "metadata": {},
          "execution_count": 9
        }
      ]
    },
    {
      "cell_type": "code",
      "metadata": {
        "id": "7NYVuYDA1QDP"
      },
      "source": [
        "serial_numbers = [i for i in range(100000)]"
      ],
      "execution_count": null,
      "outputs": []
    },
    {
      "cell_type": "code",
      "metadata": {
        "id": "E5hJFoSL1006"
      },
      "source": [
        "# Adding serial number column to hotels_100k dataset.\n",
        "# These serial numbers correspond to the serial number of the images in the drive.\n",
        "hotels_100k['serial_number'] = serial_numbers"
      ],
      "execution_count": null,
      "outputs": []
    },
    {
      "cell_type": "code",
      "metadata": {
        "colab": {
          "base_uri": "https://localhost:8080/",
          "height": 206
        },
        "id": "dYHvguf82AH8",
        "outputId": "a713aea6-9906-4a63-8df4-478925a21007"
      },
      "source": [
        "# Displaying the hotels_100k dataset\n",
        "hotels_100k.head()"
      ],
      "execution_count": null,
      "outputs": [
        {
          "output_type": "execute_result",
          "data": {
            "text/html": [
              "<div>\n",
              "<style scoped>\n",
              "    .dataframe tbody tr th:only-of-type {\n",
              "        vertical-align: middle;\n",
              "    }\n",
              "\n",
              "    .dataframe tbody tr th {\n",
              "        vertical-align: top;\n",
              "    }\n",
              "\n",
              "    .dataframe thead th {\n",
              "        text-align: right;\n",
              "    }\n",
              "</style>\n",
              "<table border=\"1\" class=\"dataframe\">\n",
              "  <thead>\n",
              "    <tr style=\"text-align: right;\">\n",
              "      <th></th>\n",
              "      <th>image_id</th>\n",
              "      <th>hotel_id</th>\n",
              "      <th>image_url</th>\n",
              "      <th>image_source</th>\n",
              "      <th>upload_timestamp</th>\n",
              "      <th>serial_number</th>\n",
              "    </tr>\n",
              "  </thead>\n",
              "  <tbody>\n",
              "    <tr>\n",
              "      <th>0</th>\n",
              "      <td>3485</td>\n",
              "      <td>18187</td>\n",
              "      <td>https://traffickcam.com/images/2016/10/2015090...</td>\n",
              "      <td>traffickcam</td>\n",
              "      <td>##########</td>\n",
              "      <td>0</td>\n",
              "    </tr>\n",
              "    <tr>\n",
              "      <th>1</th>\n",
              "      <td>3486</td>\n",
              "      <td>18187</td>\n",
              "      <td>https://traffickcam.com/images/2016/10/2015090...</td>\n",
              "      <td>traffickcam</td>\n",
              "      <td>##########</td>\n",
              "      <td>1</td>\n",
              "    </tr>\n",
              "    <tr>\n",
              "      <th>2</th>\n",
              "      <td>3663</td>\n",
              "      <td>73224</td>\n",
              "      <td>https://traffickcam.com/images/2016/10/2015091...</td>\n",
              "      <td>traffickcam</td>\n",
              "      <td>9/17/15 19:33</td>\n",
              "      <td>2</td>\n",
              "    </tr>\n",
              "    <tr>\n",
              "      <th>3</th>\n",
              "      <td>2586939</td>\n",
              "      <td>86350</td>\n",
              "      <td>https://traffickcam.com/images/2017/2/20160125...</td>\n",
              "      <td>traffickcam</td>\n",
              "      <td>1/25/16 19:12</td>\n",
              "      <td>3</td>\n",
              "    </tr>\n",
              "    <tr>\n",
              "      <th>4</th>\n",
              "      <td>2586950</td>\n",
              "      <td>1533</td>\n",
              "      <td>https://traffickcam.com/images/2017/2/20160125...</td>\n",
              "      <td>traffickcam</td>\n",
              "      <td>1/25/16 17:23</td>\n",
              "      <td>4</td>\n",
              "    </tr>\n",
              "  </tbody>\n",
              "</table>\n",
              "</div>"
            ],
            "text/plain": [
              "   image_id  hotel_id  ... upload_timestamp serial_number\n",
              "0      3485     18187  ...       ##########             0\n",
              "1      3486     18187  ...       ##########             1\n",
              "2      3663     73224  ...    9/17/15 19:33             2\n",
              "3   2586939     86350  ...    1/25/16 19:12             3\n",
              "4   2586950      1533  ...    1/25/16 17:23             4\n",
              "\n",
              "[5 rows x 6 columns]"
            ]
          },
          "metadata": {},
          "execution_count": 11
        }
      ]
    },
    {
      "cell_type": "code",
      "metadata": {
        "id": "ovEcWsJ0Sljo"
      },
      "source": [
        "# Creating a blank dataframe. We will populate it later with only the valid entries (with no missing images) \n",
        "# from the hotels_100k subset\n",
        "hotels = pd.DataFrame(columns=['image_id','hotel_id','image_url','image_source','upload_timestamp', 'serial_number'])"
      ],
      "execution_count": null,
      "outputs": []
    },
    {
      "cell_type": "code",
      "metadata": {
        "colab": {
          "base_uri": "https://localhost:8080/",
          "height": 49
        },
        "id": "N2giM9d-TbTO",
        "outputId": "12899e79-bfa4-4da1-8d63-c427dac1cb08"
      },
      "source": [
        "hotels"
      ],
      "execution_count": null,
      "outputs": [
        {
          "output_type": "execute_result",
          "data": {
            "text/html": [
              "<div>\n",
              "<style scoped>\n",
              "    .dataframe tbody tr th:only-of-type {\n",
              "        vertical-align: middle;\n",
              "    }\n",
              "\n",
              "    .dataframe tbody tr th {\n",
              "        vertical-align: top;\n",
              "    }\n",
              "\n",
              "    .dataframe thead th {\n",
              "        text-align: right;\n",
              "    }\n",
              "</style>\n",
              "<table border=\"1\" class=\"dataframe\">\n",
              "  <thead>\n",
              "    <tr style=\"text-align: right;\">\n",
              "      <th></th>\n",
              "      <th>image_id</th>\n",
              "      <th>hotel_id</th>\n",
              "      <th>image_url</th>\n",
              "      <th>image_source</th>\n",
              "      <th>upload_timestamp</th>\n",
              "      <th>serial_number</th>\n",
              "    </tr>\n",
              "  </thead>\n",
              "  <tbody>\n",
              "  </tbody>\n",
              "</table>\n",
              "</div>"
            ],
            "text/plain": [
              "Empty DataFrame\n",
              "Columns: [image_id, hotel_id, image_url, image_source, upload_timestamp, serial_number]\n",
              "Index: []"
            ]
          },
          "metadata": {},
          "execution_count": 14
        }
      ]
    },
    {
      "cell_type": "code",
      "metadata": {
        "id": "bBICRFo2TeEQ"
      },
      "source": [
        "# Populating the hotels dataset\n",
        "\n",
        "for i in range(0, len(hotels_100k['hotel_id'])):\n",
        "  if hotels_100k['serial_number'][i] not in missing_images:\n",
        "    hotels.loc[len(hotels)] = [hotels_100k['image_id'][i], hotels_100k['hotel_id'][i],\n",
        "                                       hotels_100k['image_url'][i], hotels_100k['image_source'][i],\n",
        "                                       hotels_100k['upload_timestamp'][i], hotels_100k['serial_number'][i]] "
      ],
      "execution_count": null,
      "outputs": []
    },
    {
      "cell_type": "code",
      "metadata": {
        "colab": {
          "base_uri": "https://localhost:8080/",
          "height": 424
        },
        "id": "OSJq7rZJUBhc",
        "outputId": "19eccb94-685a-4994-de18-4e49369d0acb"
      },
      "source": [
        "# Displaying the hotels dataset\n",
        "\n",
        "hotels"
      ],
      "execution_count": null,
      "outputs": [
        {
          "output_type": "execute_result",
          "data": {
            "text/html": [
              "<div>\n",
              "<style scoped>\n",
              "    .dataframe tbody tr th:only-of-type {\n",
              "        vertical-align: middle;\n",
              "    }\n",
              "\n",
              "    .dataframe tbody tr th {\n",
              "        vertical-align: top;\n",
              "    }\n",
              "\n",
              "    .dataframe thead th {\n",
              "        text-align: right;\n",
              "    }\n",
              "</style>\n",
              "<table border=\"1\" class=\"dataframe\">\n",
              "  <thead>\n",
              "    <tr style=\"text-align: right;\">\n",
              "      <th></th>\n",
              "      <th>image_id</th>\n",
              "      <th>hotel_id</th>\n",
              "      <th>image_url</th>\n",
              "      <th>image_source</th>\n",
              "      <th>upload_timestamp</th>\n",
              "      <th>serial_number</th>\n",
              "    </tr>\n",
              "  </thead>\n",
              "  <tbody>\n",
              "    <tr>\n",
              "      <th>0</th>\n",
              "      <td>3485</td>\n",
              "      <td>18187</td>\n",
              "      <td>https://traffickcam.com/images/2016/10/2015090...</td>\n",
              "      <td>traffickcam</td>\n",
              "      <td>##########</td>\n",
              "      <td>0</td>\n",
              "    </tr>\n",
              "    <tr>\n",
              "      <th>1</th>\n",
              "      <td>3486</td>\n",
              "      <td>18187</td>\n",
              "      <td>https://traffickcam.com/images/2016/10/2015090...</td>\n",
              "      <td>traffickcam</td>\n",
              "      <td>##########</td>\n",
              "      <td>1</td>\n",
              "    </tr>\n",
              "    <tr>\n",
              "      <th>2</th>\n",
              "      <td>3663</td>\n",
              "      <td>73224</td>\n",
              "      <td>https://traffickcam.com/images/2016/10/2015091...</td>\n",
              "      <td>traffickcam</td>\n",
              "      <td>9/17/15 19:33</td>\n",
              "      <td>2</td>\n",
              "    </tr>\n",
              "    <tr>\n",
              "      <th>3</th>\n",
              "      <td>2586939</td>\n",
              "      <td>86350</td>\n",
              "      <td>https://traffickcam.com/images/2017/2/20160125...</td>\n",
              "      <td>traffickcam</td>\n",
              "      <td>1/25/16 19:12</td>\n",
              "      <td>3</td>\n",
              "    </tr>\n",
              "    <tr>\n",
              "      <th>4</th>\n",
              "      <td>2586950</td>\n",
              "      <td>1533</td>\n",
              "      <td>https://traffickcam.com/images/2017/2/20160125...</td>\n",
              "      <td>traffickcam</td>\n",
              "      <td>1/25/16 17:23</td>\n",
              "      <td>4</td>\n",
              "    </tr>\n",
              "    <tr>\n",
              "      <th>...</th>\n",
              "      <td>...</td>\n",
              "      <td>...</td>\n",
              "      <td>...</td>\n",
              "      <td>...</td>\n",
              "      <td>...</td>\n",
              "      <td>...</td>\n",
              "    </tr>\n",
              "    <tr>\n",
              "      <th>95601</th>\n",
              "      <td>7308328</td>\n",
              "      <td>3569</td>\n",
              "      <td>https://i.travelapi.com/hotels/3000000/2440000...</td>\n",
              "      <td>travel_website</td>\n",
              "      <td>##########</td>\n",
              "      <td>99995</td>\n",
              "    </tr>\n",
              "    <tr>\n",
              "      <th>95602</th>\n",
              "      <td>7308329</td>\n",
              "      <td>3569</td>\n",
              "      <td>https://i.travelapi.com/hotels/3000000/2440000...</td>\n",
              "      <td>travel_website</td>\n",
              "      <td>##########</td>\n",
              "      <td>99996</td>\n",
              "    </tr>\n",
              "    <tr>\n",
              "      <th>95603</th>\n",
              "      <td>7308330</td>\n",
              "      <td>3569</td>\n",
              "      <td>https://i.travelapi.com/hotels/3000000/2440000...</td>\n",
              "      <td>travel_website</td>\n",
              "      <td>##########</td>\n",
              "      <td>99997</td>\n",
              "    </tr>\n",
              "    <tr>\n",
              "      <th>95604</th>\n",
              "      <td>7308331</td>\n",
              "      <td>3569</td>\n",
              "      <td>https://i.travelapi.com/hotels/3000000/2440000...</td>\n",
              "      <td>travel_website</td>\n",
              "      <td>##########</td>\n",
              "      <td>99998</td>\n",
              "    </tr>\n",
              "    <tr>\n",
              "      <th>95605</th>\n",
              "      <td>7308332</td>\n",
              "      <td>3569</td>\n",
              "      <td>https://i.travelapi.com/hotels/3000000/2440000...</td>\n",
              "      <td>travel_website</td>\n",
              "      <td>##########</td>\n",
              "      <td>99999</td>\n",
              "    </tr>\n",
              "  </tbody>\n",
              "</table>\n",
              "<p>95606 rows × 6 columns</p>\n",
              "</div>"
            ],
            "text/plain": [
              "      image_id hotel_id  ... upload_timestamp serial_number\n",
              "0         3485    18187  ...       ##########             0\n",
              "1         3486    18187  ...       ##########             1\n",
              "2         3663    73224  ...    9/17/15 19:33             2\n",
              "3      2586939    86350  ...    1/25/16 19:12             3\n",
              "4      2586950     1533  ...    1/25/16 17:23             4\n",
              "...        ...      ...  ...              ...           ...\n",
              "95601  7308328     3569  ...       ##########         99995\n",
              "95602  7308329     3569  ...       ##########         99996\n",
              "95603  7308330     3569  ...       ##########         99997\n",
              "95604  7308331     3569  ...       ##########         99998\n",
              "95605  7308332     3569  ...       ##########         99999\n",
              "\n",
              "[95606 rows x 6 columns]"
            ]
          },
          "metadata": {},
          "execution_count": 16
        }
      ]
    },
    {
      "cell_type": "markdown",
      "source": [
        "We created a dataframe with two columns\n",
        "*  hotel_id\n",
        "*  Count of the number of images corresponding to that hotel_id\n",
        "\n",
        "We sorted the dataframe in descending order of the count. \n"
      ],
      "metadata": {
        "id": "Cp49w8F_wny-"
      }
    },
    {
      "cell_type": "code",
      "metadata": {
        "id": "xjbpefTItA_i"
      },
      "source": [
        "hotels_id_dist = pd.DataFrame(hotels['hotel_id'].value_counts()).reset_index()"
      ],
      "execution_count": null,
      "outputs": []
    },
    {
      "cell_type": "code",
      "metadata": {
        "id": "kG2AFcXOtsUC"
      },
      "source": [
        "# Renaming the columns of the dataframe\n",
        "\n",
        "hotels_id_dist.rename(columns={'index': 'hotel_id', 'hotel_id': 'count'}, inplace=True)"
      ],
      "execution_count": null,
      "outputs": []
    },
    {
      "cell_type": "code",
      "metadata": {
        "colab": {
          "base_uri": "https://localhost:8080/",
          "height": 424
        },
        "id": "bseymMvWtSCg",
        "outputId": "f87965c2-9005-488c-dcfe-fcf8290a9ba9"
      },
      "source": [
        "# Displaying the dataframe\n",
        "\n",
        "hotels_id_dist"
      ],
      "execution_count": null,
      "outputs": [
        {
          "output_type": "execute_result",
          "data": {
            "text/html": [
              "<div>\n",
              "<style scoped>\n",
              "    .dataframe tbody tr th:only-of-type {\n",
              "        vertical-align: middle;\n",
              "    }\n",
              "\n",
              "    .dataframe tbody tr th {\n",
              "        vertical-align: top;\n",
              "    }\n",
              "\n",
              "    .dataframe thead th {\n",
              "        text-align: right;\n",
              "    }\n",
              "</style>\n",
              "<table border=\"1\" class=\"dataframe\">\n",
              "  <thead>\n",
              "    <tr style=\"text-align: right;\">\n",
              "      <th></th>\n",
              "      <th>hotel_id</th>\n",
              "      <th>count</th>\n",
              "    </tr>\n",
              "  </thead>\n",
              "  <tbody>\n",
              "    <tr>\n",
              "      <th>0</th>\n",
              "      <td>1240</td>\n",
              "      <td>260</td>\n",
              "    </tr>\n",
              "    <tr>\n",
              "      <th>1</th>\n",
              "      <td>873</td>\n",
              "      <td>244</td>\n",
              "    </tr>\n",
              "    <tr>\n",
              "      <th>2</th>\n",
              "      <td>1687</td>\n",
              "      <td>158</td>\n",
              "    </tr>\n",
              "    <tr>\n",
              "      <th>3</th>\n",
              "      <td>2591</td>\n",
              "      <td>133</td>\n",
              "    </tr>\n",
              "    <tr>\n",
              "      <th>4</th>\n",
              "      <td>1719</td>\n",
              "      <td>131</td>\n",
              "    </tr>\n",
              "    <tr>\n",
              "      <th>...</th>\n",
              "      <td>...</td>\n",
              "      <td>...</td>\n",
              "    </tr>\n",
              "    <tr>\n",
              "      <th>12967</th>\n",
              "      <td>44189</td>\n",
              "      <td>1</td>\n",
              "    </tr>\n",
              "    <tr>\n",
              "      <th>12968</th>\n",
              "      <td>11427</td>\n",
              "      <td>1</td>\n",
              "    </tr>\n",
              "    <tr>\n",
              "      <th>12969</th>\n",
              "      <td>76990</td>\n",
              "      <td>1</td>\n",
              "    </tr>\n",
              "    <tr>\n",
              "      <th>12970</th>\n",
              "      <td>461</td>\n",
              "      <td>1</td>\n",
              "    </tr>\n",
              "    <tr>\n",
              "      <th>12971</th>\n",
              "      <td>131072</td>\n",
              "      <td>1</td>\n",
              "    </tr>\n",
              "  </tbody>\n",
              "</table>\n",
              "<p>12972 rows × 2 columns</p>\n",
              "</div>"
            ],
            "text/plain": [
              "       hotel_id  count\n",
              "0          1240    260\n",
              "1           873    244\n",
              "2          1687    158\n",
              "3          2591    133\n",
              "4          1719    131\n",
              "...         ...    ...\n",
              "12967     44189      1\n",
              "12968     11427      1\n",
              "12969     76990      1\n",
              "12970       461      1\n",
              "12971    131072      1\n",
              "\n",
              "[12972 rows x 2 columns]"
            ]
          },
          "metadata": {},
          "execution_count": 19
        }
      ]
    },
    {
      "cell_type": "code",
      "metadata": {
        "id": "vs6WwFPnxWzP"
      },
      "source": [
        "# Getting the top 50 classes with the most number of images from the dataframe\n",
        "\n",
        "top_50_hotels_dist = hotels_id_dist['hotel_id'][:50]"
      ],
      "execution_count": null,
      "outputs": []
    },
    {
      "cell_type": "code",
      "metadata": {
        "id": "adRz19T5xmzp"
      },
      "source": [
        "top_50_hotels_dist = list(top_50_hotels_dist)"
      ],
      "execution_count": null,
      "outputs": []
    },
    {
      "cell_type": "code",
      "metadata": {
        "id": "mE8j_gFOx01n"
      },
      "source": [
        "# Creating a blank dataframe. We will populate it with \n",
        "# all the information corresponding to the top 50 classes.\n",
        "\n",
        "top_50_hotels = pd.DataFrame(columns=['image_id','hotel_id','image_url','image_source','upload_timestamp', 'serial_number'])"
      ],
      "execution_count": null,
      "outputs": []
    },
    {
      "cell_type": "code",
      "metadata": {
        "id": "0yb7xd3Oyl2I"
      },
      "source": [
        "for i in range(0, len(hotels['hotel_id'])):\n",
        "  try:\n",
        "    if hotels['hotel_id'][i] in top_50_hotels_dist:\n",
        "      top_50_hotels.loc[len(top_50_hotels)] = [hotels['image_id'][i], hotels['hotel_id'][i],\n",
        "                                               hotels['image_url'][i], hotels['image_source'][i],\n",
        "                                               hotels['upload_timestamp'][i], hotels['serial_number'][i]] \n",
        "  except:\n",
        "    print(i)"
      ],
      "execution_count": null,
      "outputs": []
    },
    {
      "cell_type": "code",
      "metadata": {
        "colab": {
          "base_uri": "https://localhost:8080/",
          "height": 424
        },
        "id": "4u7KcqzPzUj_",
        "outputId": "6eae275a-1c95-4385-be83-5e67dfc74e6f"
      },
      "source": [
        "top_50_hotels"
      ],
      "execution_count": null,
      "outputs": [
        {
          "output_type": "execute_result",
          "data": {
            "text/html": [
              "<div>\n",
              "<style scoped>\n",
              "    .dataframe tbody tr th:only-of-type {\n",
              "        vertical-align: middle;\n",
              "    }\n",
              "\n",
              "    .dataframe tbody tr th {\n",
              "        vertical-align: top;\n",
              "    }\n",
              "\n",
              "    .dataframe thead th {\n",
              "        text-align: right;\n",
              "    }\n",
              "</style>\n",
              "<table border=\"1\" class=\"dataframe\">\n",
              "  <thead>\n",
              "    <tr style=\"text-align: right;\">\n",
              "      <th></th>\n",
              "      <th>image_id</th>\n",
              "      <th>hotel_id</th>\n",
              "      <th>image_url</th>\n",
              "      <th>image_source</th>\n",
              "      <th>upload_timestamp</th>\n",
              "      <th>serial_number</th>\n",
              "    </tr>\n",
              "  </thead>\n",
              "  <tbody>\n",
              "    <tr>\n",
              "      <th>0</th>\n",
              "      <td>2586950</td>\n",
              "      <td>1533</td>\n",
              "      <td>https://traffickcam.com/images/2017/2/20160125...</td>\n",
              "      <td>traffickcam</td>\n",
              "      <td>1/25/16 17:23</td>\n",
              "      <td>4</td>\n",
              "    </tr>\n",
              "    <tr>\n",
              "      <th>1</th>\n",
              "      <td>2586951</td>\n",
              "      <td>1533</td>\n",
              "      <td>https://traffickcam.com/images/2017/2/20160125...</td>\n",
              "      <td>traffickcam</td>\n",
              "      <td>1/25/16 17:23</td>\n",
              "      <td>5</td>\n",
              "    </tr>\n",
              "    <tr>\n",
              "      <th>2</th>\n",
              "      <td>2586952</td>\n",
              "      <td>1533</td>\n",
              "      <td>https://traffickcam.com/images/2017/2/20160125...</td>\n",
              "      <td>traffickcam</td>\n",
              "      <td>1/25/16 17:23</td>\n",
              "      <td>6</td>\n",
              "    </tr>\n",
              "    <tr>\n",
              "      <th>3</th>\n",
              "      <td>2588337</td>\n",
              "      <td>430</td>\n",
              "      <td>https://traffickcam.com/images/2017/7/20160623...</td>\n",
              "      <td>traffickcam</td>\n",
              "      <td>6/23/16 23:24</td>\n",
              "      <td>192</td>\n",
              "    </tr>\n",
              "    <tr>\n",
              "      <th>4</th>\n",
              "      <td>2588338</td>\n",
              "      <td>430</td>\n",
              "      <td>https://traffickcam.com/images/2017/7/20160623...</td>\n",
              "      <td>traffickcam</td>\n",
              "      <td>6/23/16 23:24</td>\n",
              "      <td>193</td>\n",
              "    </tr>\n",
              "    <tr>\n",
              "      <th>...</th>\n",
              "      <td>...</td>\n",
              "      <td>...</td>\n",
              "      <td>...</td>\n",
              "      <td>...</td>\n",
              "      <td>...</td>\n",
              "      <td>...</td>\n",
              "    </tr>\n",
              "    <tr>\n",
              "      <th>4885</th>\n",
              "      <td>7885812</td>\n",
              "      <td>3568</td>\n",
              "      <td>https://i.travelapi.com/hotels/5000000/4740000...</td>\n",
              "      <td>travel_website</td>\n",
              "      <td>##########</td>\n",
              "      <td>99948</td>\n",
              "    </tr>\n",
              "    <tr>\n",
              "      <th>4886</th>\n",
              "      <td>7885813</td>\n",
              "      <td>3568</td>\n",
              "      <td>https://i.travelapi.com/hotels/5000000/4740000...</td>\n",
              "      <td>travel_website</td>\n",
              "      <td>##########</td>\n",
              "      <td>99949</td>\n",
              "    </tr>\n",
              "    <tr>\n",
              "      <th>4887</th>\n",
              "      <td>7885814</td>\n",
              "      <td>3568</td>\n",
              "      <td>https://i.travelapi.com/hotels/5000000/4740000...</td>\n",
              "      <td>travel_website</td>\n",
              "      <td>##########</td>\n",
              "      <td>99950</td>\n",
              "    </tr>\n",
              "    <tr>\n",
              "      <th>4888</th>\n",
              "      <td>7885815</td>\n",
              "      <td>3568</td>\n",
              "      <td>https://i.travelapi.com/hotels/5000000/4740000...</td>\n",
              "      <td>travel_website</td>\n",
              "      <td>##########</td>\n",
              "      <td>99951</td>\n",
              "    </tr>\n",
              "    <tr>\n",
              "      <th>4889</th>\n",
              "      <td>7885816</td>\n",
              "      <td>3568</td>\n",
              "      <td>https://i.travelapi.com/hotels/5000000/4740000...</td>\n",
              "      <td>travel_website</td>\n",
              "      <td>##########</td>\n",
              "      <td>99952</td>\n",
              "    </tr>\n",
              "  </tbody>\n",
              "</table>\n",
              "<p>4890 rows × 6 columns</p>\n",
              "</div>"
            ],
            "text/plain": [
              "     image_id hotel_id  ... upload_timestamp serial_number\n",
              "0     2586950     1533  ...    1/25/16 17:23             4\n",
              "1     2586951     1533  ...    1/25/16 17:23             5\n",
              "2     2586952     1533  ...    1/25/16 17:23             6\n",
              "3     2588337      430  ...    6/23/16 23:24           192\n",
              "4     2588338      430  ...    6/23/16 23:24           193\n",
              "...       ...      ...  ...              ...           ...\n",
              "4885  7885812     3568  ...       ##########         99948\n",
              "4886  7885813     3568  ...       ##########         99949\n",
              "4887  7885814     3568  ...       ##########         99950\n",
              "4888  7885815     3568  ...       ##########         99951\n",
              "4889  7885816     3568  ...       ##########         99952\n",
              "\n",
              "[4890 rows x 6 columns]"
            ]
          },
          "metadata": {},
          "execution_count": 26
        }
      ]
    },
    {
      "cell_type": "code",
      "metadata": {
        "colab": {
          "base_uri": "https://localhost:8080/",
          "height": 206
        },
        "id": "NwXxDyX5olkS",
        "outputId": "4abdf9e5-3f53-4195-97da-66b56e755e0c"
      },
      "source": [
        "# Label encoding the hotel_id column and storing the labels in the new_hotel_id column\n",
        "\n",
        "from sklearn import preprocessing\n",
        "\n",
        "label_encoder = preprocessing.LabelEncoder()\n",
        "top_50_hotels['new_hotel_id'] = label_encoder.fit_transform(top_50_hotels['hotel_id'])\n",
        "top_50_hotels.head()"
      ],
      "execution_count": null,
      "outputs": [
        {
          "output_type": "execute_result",
          "data": {
            "text/html": [
              "<div>\n",
              "<style scoped>\n",
              "    .dataframe tbody tr th:only-of-type {\n",
              "        vertical-align: middle;\n",
              "    }\n",
              "\n",
              "    .dataframe tbody tr th {\n",
              "        vertical-align: top;\n",
              "    }\n",
              "\n",
              "    .dataframe thead th {\n",
              "        text-align: right;\n",
              "    }\n",
              "</style>\n",
              "<table border=\"1\" class=\"dataframe\">\n",
              "  <thead>\n",
              "    <tr style=\"text-align: right;\">\n",
              "      <th></th>\n",
              "      <th>image_id</th>\n",
              "      <th>hotel_id</th>\n",
              "      <th>image_url</th>\n",
              "      <th>image_source</th>\n",
              "      <th>upload_timestamp</th>\n",
              "      <th>serial_number</th>\n",
              "      <th>new_hotel_id</th>\n",
              "    </tr>\n",
              "  </thead>\n",
              "  <tbody>\n",
              "    <tr>\n",
              "      <th>0</th>\n",
              "      <td>2586950</td>\n",
              "      <td>1533</td>\n",
              "      <td>https://traffickcam.com/images/2017/2/20160125...</td>\n",
              "      <td>traffickcam</td>\n",
              "      <td>1/25/16 17:23</td>\n",
              "      <td>4</td>\n",
              "      <td>18</td>\n",
              "    </tr>\n",
              "    <tr>\n",
              "      <th>1</th>\n",
              "      <td>2586951</td>\n",
              "      <td>1533</td>\n",
              "      <td>https://traffickcam.com/images/2017/2/20160125...</td>\n",
              "      <td>traffickcam</td>\n",
              "      <td>1/25/16 17:23</td>\n",
              "      <td>5</td>\n",
              "      <td>18</td>\n",
              "    </tr>\n",
              "    <tr>\n",
              "      <th>2</th>\n",
              "      <td>2586952</td>\n",
              "      <td>1533</td>\n",
              "      <td>https://traffickcam.com/images/2017/2/20160125...</td>\n",
              "      <td>traffickcam</td>\n",
              "      <td>1/25/16 17:23</td>\n",
              "      <td>6</td>\n",
              "      <td>18</td>\n",
              "    </tr>\n",
              "    <tr>\n",
              "      <th>3</th>\n",
              "      <td>2588337</td>\n",
              "      <td>430</td>\n",
              "      <td>https://traffickcam.com/images/2017/7/20160623...</td>\n",
              "      <td>traffickcam</td>\n",
              "      <td>6/23/16 23:24</td>\n",
              "      <td>192</td>\n",
              "      <td>1</td>\n",
              "    </tr>\n",
              "    <tr>\n",
              "      <th>4</th>\n",
              "      <td>2588338</td>\n",
              "      <td>430</td>\n",
              "      <td>https://traffickcam.com/images/2017/7/20160623...</td>\n",
              "      <td>traffickcam</td>\n",
              "      <td>6/23/16 23:24</td>\n",
              "      <td>193</td>\n",
              "      <td>1</td>\n",
              "    </tr>\n",
              "  </tbody>\n",
              "</table>\n",
              "</div>"
            ],
            "text/plain": [
              "  image_id hotel_id  ... serial_number new_hotel_id\n",
              "0  2586950     1533  ...             4           18\n",
              "1  2586951     1533  ...             5           18\n",
              "2  2586952     1533  ...             6           18\n",
              "3  2588337      430  ...           192            1\n",
              "4  2588338      430  ...           193            1\n",
              "\n",
              "[5 rows x 7 columns]"
            ]
          },
          "metadata": {},
          "execution_count": 28
        }
      ]
    },
    {
      "cell_type": "code",
      "metadata": {
        "id": "Y5wKH-K1BxCX"
      },
      "source": [
        "# Getting 20 percent of the data from the dataset using startified sampling.\n",
        "top_50_hotels_20perc = top_50_hotels.groupby('hotel_id', group_keys=False).apply(lambda x: x.sample(frac=0.2))"
      ],
      "execution_count": null,
      "outputs": []
    },
    {
      "cell_type": "code",
      "metadata": {
        "colab": {
          "base_uri": "https://localhost:8080/",
          "height": 424
        },
        "id": "4U3Zlj2eEGvp",
        "outputId": "44bc1b5a-5389-43f1-95aa-e0167b14509a"
      },
      "source": [
        "top_50_hotels_20perc"
      ],
      "execution_count": null,
      "outputs": [
        {
          "output_type": "execute_result",
          "data": {
            "text/html": [
              "<div>\n",
              "<style scoped>\n",
              "    .dataframe tbody tr th:only-of-type {\n",
              "        vertical-align: middle;\n",
              "    }\n",
              "\n",
              "    .dataframe tbody tr th {\n",
              "        vertical-align: top;\n",
              "    }\n",
              "\n",
              "    .dataframe thead th {\n",
              "        text-align: right;\n",
              "    }\n",
              "</style>\n",
              "<table border=\"1\" class=\"dataframe\">\n",
              "  <thead>\n",
              "    <tr style=\"text-align: right;\">\n",
              "      <th></th>\n",
              "      <th>image_id</th>\n",
              "      <th>hotel_id</th>\n",
              "      <th>image_url</th>\n",
              "      <th>image_source</th>\n",
              "      <th>upload_timestamp</th>\n",
              "      <th>serial_number</th>\n",
              "      <th>new_hotel_id</th>\n",
              "    </tr>\n",
              "  </thead>\n",
              "  <tbody>\n",
              "    <tr>\n",
              "      <th>162</th>\n",
              "      <td>6503525</td>\n",
              "      <td>414</td>\n",
              "      <td>https://i.travelapi.com/hotels/1000000/670000/...</td>\n",
              "      <td>travel_website</td>\n",
              "      <td>##########</td>\n",
              "      <td>45076</td>\n",
              "      <td>0</td>\n",
              "    </tr>\n",
              "    <tr>\n",
              "      <th>124</th>\n",
              "      <td>6503464</td>\n",
              "      <td>414</td>\n",
              "      <td>https://i.travelapi.com/hotels/1000000/670000/...</td>\n",
              "      <td>travel_website</td>\n",
              "      <td>##########</td>\n",
              "      <td>45038</td>\n",
              "      <td>0</td>\n",
              "    </tr>\n",
              "    <tr>\n",
              "      <th>210</th>\n",
              "      <td>6503573</td>\n",
              "      <td>414</td>\n",
              "      <td>https://i.travelapi.com/hotels/1000000/670000/...</td>\n",
              "      <td>travel_website</td>\n",
              "      <td>##########</td>\n",
              "      <td>45124</td>\n",
              "      <td>0</td>\n",
              "    </tr>\n",
              "    <tr>\n",
              "      <th>200</th>\n",
              "      <td>6503563</td>\n",
              "      <td>414</td>\n",
              "      <td>https://i.travelapi.com/hotels/1000000/670000/...</td>\n",
              "      <td>travel_website</td>\n",
              "      <td>##########</td>\n",
              "      <td>45114</td>\n",
              "      <td>0</td>\n",
              "    </tr>\n",
              "    <tr>\n",
              "      <th>151</th>\n",
              "      <td>6503514</td>\n",
              "      <td>414</td>\n",
              "      <td>https://i.travelapi.com/hotels/1000000/670000/...</td>\n",
              "      <td>travel_website</td>\n",
              "      <td>##########</td>\n",
              "      <td>45065</td>\n",
              "      <td>0</td>\n",
              "    </tr>\n",
              "    <tr>\n",
              "      <th>...</th>\n",
              "      <td>...</td>\n",
              "      <td>...</td>\n",
              "      <td>...</td>\n",
              "      <td>...</td>\n",
              "      <td>...</td>\n",
              "      <td>...</td>\n",
              "      <td>...</td>\n",
              "    </tr>\n",
              "    <tr>\n",
              "      <th>4853</th>\n",
              "      <td>7885780</td>\n",
              "      <td>3568</td>\n",
              "      <td>https://i.travelapi.com/hotels/5000000/4740000...</td>\n",
              "      <td>travel_website</td>\n",
              "      <td>##########</td>\n",
              "      <td>99916</td>\n",
              "      <td>49</td>\n",
              "    </tr>\n",
              "    <tr>\n",
              "      <th>4799</th>\n",
              "      <td>7885694</td>\n",
              "      <td>3568</td>\n",
              "      <td>https://i.travelapi.com/hotels/5000000/4740000...</td>\n",
              "      <td>travel_website</td>\n",
              "      <td>##########</td>\n",
              "      <td>99862</td>\n",
              "      <td>49</td>\n",
              "    </tr>\n",
              "    <tr>\n",
              "      <th>4806</th>\n",
              "      <td>7885701</td>\n",
              "      <td>3568</td>\n",
              "      <td>https://i.travelapi.com/hotels/5000000/4740000...</td>\n",
              "      <td>travel_website</td>\n",
              "      <td>##########</td>\n",
              "      <td>99869</td>\n",
              "      <td>49</td>\n",
              "    </tr>\n",
              "    <tr>\n",
              "      <th>4864</th>\n",
              "      <td>7885791</td>\n",
              "      <td>3568</td>\n",
              "      <td>https://i.travelapi.com/hotels/5000000/4740000...</td>\n",
              "      <td>travel_website</td>\n",
              "      <td>##########</td>\n",
              "      <td>99927</td>\n",
              "      <td>49</td>\n",
              "    </tr>\n",
              "    <tr>\n",
              "      <th>4880</th>\n",
              "      <td>7885807</td>\n",
              "      <td>3568</td>\n",
              "      <td>https://i.travelapi.com/hotels/5000000/4740000...</td>\n",
              "      <td>travel_website</td>\n",
              "      <td>##########</td>\n",
              "      <td>99943</td>\n",
              "      <td>49</td>\n",
              "    </tr>\n",
              "  </tbody>\n",
              "</table>\n",
              "<p>978 rows × 7 columns</p>\n",
              "</div>"
            ],
            "text/plain": [
              "     image_id hotel_id  ... serial_number new_hotel_id\n",
              "162   6503525      414  ...         45076            0\n",
              "124   6503464      414  ...         45038            0\n",
              "210   6503573      414  ...         45124            0\n",
              "200   6503563      414  ...         45114            0\n",
              "151   6503514      414  ...         45065            0\n",
              "...       ...      ...  ...           ...          ...\n",
              "4853  7885780     3568  ...         99916           49\n",
              "4799  7885694     3568  ...         99862           49\n",
              "4806  7885701     3568  ...         99869           49\n",
              "4864  7885791     3568  ...         99927           49\n",
              "4880  7885807     3568  ...         99943           49\n",
              "\n",
              "[978 rows x 7 columns]"
            ]
          },
          "metadata": {},
          "execution_count": 30
        }
      ]
    },
    {
      "cell_type": "code",
      "metadata": {
        "id": "LuU0NLxNETZy"
      },
      "source": [
        "# Storing 50 percent of 20 percent of the hotels_top_50 dataset to create validation subset (total 10% of the original dataset)\n",
        "top_50_hotels_validation = top_50_hotels_20perc.groupby('hotel_id', group_keys=False).apply(lambda x: x.sample(frac=0.5))"
      ],
      "execution_count": null,
      "outputs": []
    },
    {
      "cell_type": "code",
      "metadata": {
        "colab": {
          "base_uri": "https://localhost:8080/",
          "height": 424
        },
        "id": "QQqopL8HEdeO",
        "outputId": "3baf1d18-4954-4ed6-e32d-d3f2ee77a17c"
      },
      "source": [
        "top_50_hotels_validation"
      ],
      "execution_count": null,
      "outputs": [
        {
          "output_type": "execute_result",
          "data": {
            "text/html": [
              "<div>\n",
              "<style scoped>\n",
              "    .dataframe tbody tr th:only-of-type {\n",
              "        vertical-align: middle;\n",
              "    }\n",
              "\n",
              "    .dataframe tbody tr th {\n",
              "        vertical-align: top;\n",
              "    }\n",
              "\n",
              "    .dataframe thead th {\n",
              "        text-align: right;\n",
              "    }\n",
              "</style>\n",
              "<table border=\"1\" class=\"dataframe\">\n",
              "  <thead>\n",
              "    <tr style=\"text-align: right;\">\n",
              "      <th></th>\n",
              "      <th>image_id</th>\n",
              "      <th>hotel_id</th>\n",
              "      <th>image_url</th>\n",
              "      <th>image_source</th>\n",
              "      <th>upload_timestamp</th>\n",
              "      <th>serial_number</th>\n",
              "      <th>new_hotel_id</th>\n",
              "    </tr>\n",
              "  </thead>\n",
              "  <tbody>\n",
              "    <tr>\n",
              "      <th>169</th>\n",
              "      <td>6503532</td>\n",
              "      <td>414</td>\n",
              "      <td>https://i.travelapi.com/hotels/1000000/670000/...</td>\n",
              "      <td>travel_website</td>\n",
              "      <td>##########</td>\n",
              "      <td>45083</td>\n",
              "      <td>0</td>\n",
              "    </tr>\n",
              "    <tr>\n",
              "      <th>162</th>\n",
              "      <td>6503525</td>\n",
              "      <td>414</td>\n",
              "      <td>https://i.travelapi.com/hotels/1000000/670000/...</td>\n",
              "      <td>travel_website</td>\n",
              "      <td>##########</td>\n",
              "      <td>45076</td>\n",
              "      <td>0</td>\n",
              "    </tr>\n",
              "    <tr>\n",
              "      <th>153</th>\n",
              "      <td>6503516</td>\n",
              "      <td>414</td>\n",
              "      <td>https://i.travelapi.com/hotels/1000000/670000/...</td>\n",
              "      <td>travel_website</td>\n",
              "      <td>##########</td>\n",
              "      <td>45067</td>\n",
              "      <td>0</td>\n",
              "    </tr>\n",
              "    <tr>\n",
              "      <th>214</th>\n",
              "      <td>6503577</td>\n",
              "      <td>414</td>\n",
              "      <td>https://i.travelapi.com/hotels/1000000/670000/...</td>\n",
              "      <td>travel_website</td>\n",
              "      <td>##########</td>\n",
              "      <td>45128</td>\n",
              "      <td>0</td>\n",
              "    </tr>\n",
              "    <tr>\n",
              "      <th>184</th>\n",
              "      <td>6503547</td>\n",
              "      <td>414</td>\n",
              "      <td>https://i.travelapi.com/hotels/1000000/670000/...</td>\n",
              "      <td>travel_website</td>\n",
              "      <td>##########</td>\n",
              "      <td>45098</td>\n",
              "      <td>0</td>\n",
              "    </tr>\n",
              "    <tr>\n",
              "      <th>...</th>\n",
              "      <td>...</td>\n",
              "      <td>...</td>\n",
              "      <td>...</td>\n",
              "      <td>...</td>\n",
              "      <td>...</td>\n",
              "      <td>...</td>\n",
              "      <td>...</td>\n",
              "    </tr>\n",
              "    <tr>\n",
              "      <th>4847</th>\n",
              "      <td>7885774</td>\n",
              "      <td>3568</td>\n",
              "      <td>https://i.travelapi.com/hotels/5000000/4740000...</td>\n",
              "      <td>travel_website</td>\n",
              "      <td>##########</td>\n",
              "      <td>99910</td>\n",
              "      <td>49</td>\n",
              "    </tr>\n",
              "    <tr>\n",
              "      <th>4837</th>\n",
              "      <td>7885764</td>\n",
              "      <td>3568</td>\n",
              "      <td>https://i.travelapi.com/hotels/5000000/4740000...</td>\n",
              "      <td>travel_website</td>\n",
              "      <td>##########</td>\n",
              "      <td>99900</td>\n",
              "      <td>49</td>\n",
              "    </tr>\n",
              "    <tr>\n",
              "      <th>4806</th>\n",
              "      <td>7885701</td>\n",
              "      <td>3568</td>\n",
              "      <td>https://i.travelapi.com/hotels/5000000/4740000...</td>\n",
              "      <td>travel_website</td>\n",
              "      <td>##########</td>\n",
              "      <td>99869</td>\n",
              "      <td>49</td>\n",
              "    </tr>\n",
              "    <tr>\n",
              "      <th>4801</th>\n",
              "      <td>7885696</td>\n",
              "      <td>3568</td>\n",
              "      <td>https://i.travelapi.com/hotels/5000000/4740000...</td>\n",
              "      <td>travel_website</td>\n",
              "      <td>##########</td>\n",
              "      <td>99864</td>\n",
              "      <td>49</td>\n",
              "    </tr>\n",
              "    <tr>\n",
              "      <th>4812</th>\n",
              "      <td>7885707</td>\n",
              "      <td>3568</td>\n",
              "      <td>https://i.travelapi.com/hotels/5000000/4740000...</td>\n",
              "      <td>travel_website</td>\n",
              "      <td>##########</td>\n",
              "      <td>99875</td>\n",
              "      <td>49</td>\n",
              "    </tr>\n",
              "  </tbody>\n",
              "</table>\n",
              "<p>491 rows × 7 columns</p>\n",
              "</div>"
            ],
            "text/plain": [
              "     image_id hotel_id  ... serial_number new_hotel_id\n",
              "169   6503532      414  ...         45083            0\n",
              "162   6503525      414  ...         45076            0\n",
              "153   6503516      414  ...         45067            0\n",
              "214   6503577      414  ...         45128            0\n",
              "184   6503547      414  ...         45098            0\n",
              "...       ...      ...  ...           ...          ...\n",
              "4847  7885774     3568  ...         99910           49\n",
              "4837  7885764     3568  ...         99900           49\n",
              "4806  7885701     3568  ...         99869           49\n",
              "4801  7885696     3568  ...         99864           49\n",
              "4812  7885707     3568  ...         99875           49\n",
              "\n",
              "[491 rows x 7 columns]"
            ]
          },
          "metadata": {},
          "execution_count": 32
        }
      ]
    },
    {
      "cell_type": "code",
      "metadata": {
        "id": "g6kuY9jKo0w6"
      },
      "source": [
        "# Creating a blank dataframe for the testing dataset. This dataframe will be populated with the remaining data \n",
        "# from the 20 per cent dataset which was not in the validation subset.\n",
        "top_50_hotels_test = pd.DataFrame(columns=['image_id','hotel_id','image_url','image_source','upload_timestamp', 'serial_number', 'new_hotel_id'])"
      ],
      "execution_count": null,
      "outputs": []
    },
    {
      "cell_type": "code",
      "metadata": {
        "colab": {
          "base_uri": "https://localhost:8080/",
          "height": 49
        },
        "id": "UM733Kfho3Vw",
        "outputId": "10cdde87-729b-4baa-87ee-cda9ad8a654a"
      },
      "source": [
        "top_50_hotels_test"
      ],
      "execution_count": null,
      "outputs": [
        {
          "output_type": "execute_result",
          "data": {
            "text/html": [
              "<div>\n",
              "<style scoped>\n",
              "    .dataframe tbody tr th:only-of-type {\n",
              "        vertical-align: middle;\n",
              "    }\n",
              "\n",
              "    .dataframe tbody tr th {\n",
              "        vertical-align: top;\n",
              "    }\n",
              "\n",
              "    .dataframe thead th {\n",
              "        text-align: right;\n",
              "    }\n",
              "</style>\n",
              "<table border=\"1\" class=\"dataframe\">\n",
              "  <thead>\n",
              "    <tr style=\"text-align: right;\">\n",
              "      <th></th>\n",
              "      <th>image_id</th>\n",
              "      <th>hotel_id</th>\n",
              "      <th>image_url</th>\n",
              "      <th>image_source</th>\n",
              "      <th>upload_timestamp</th>\n",
              "      <th>serial_number</th>\n",
              "      <th>new_hotel_id</th>\n",
              "    </tr>\n",
              "  </thead>\n",
              "  <tbody>\n",
              "  </tbody>\n",
              "</table>\n",
              "</div>"
            ],
            "text/plain": [
              "Empty DataFrame\n",
              "Columns: [image_id, hotel_id, image_url, image_source, upload_timestamp, serial_number, new_hotel_id]\n",
              "Index: []"
            ]
          },
          "metadata": {},
          "execution_count": 34
        }
      ]
    },
    {
      "cell_type": "code",
      "metadata": {
        "id": "_OL_Q7Fuo4Uu"
      },
      "source": [
        "for i in range(0, len(top_50_hotels_20perc['hotel_id'])):\n",
        "    if top_50_hotels_20perc.iloc[i]['serial_number'] not in list(top_50_hotels_validation['serial_number']):\n",
        "      top_50_hotels_test.loc[len(top_50_hotels_test)] = [top_50_hotels_20perc.iloc[i]['image_id'], top_50_hotels_20perc.iloc[i]['hotel_id'],\n",
        "                                                        top_50_hotels_20perc.iloc[i]['image_url'], top_50_hotels_20perc.iloc[i]['image_source'],\n",
        "                                                        top_50_hotels_20perc.iloc[i]['upload_timestamp'], top_50_hotels_20perc.iloc[i]['serial_number'],\n",
        "                                                        top_50_hotels_20perc.iloc[i]['new_hotel_id']]"
      ],
      "execution_count": null,
      "outputs": []
    },
    {
      "cell_type": "code",
      "metadata": {
        "colab": {
          "base_uri": "https://localhost:8080/",
          "height": 424
        },
        "id": "ZbBaF8Vho74n",
        "outputId": "4c5fdeb9-b383-434b-90ea-ee7d8aa12c10"
      },
      "source": [
        "top_50_hotels_test"
      ],
      "execution_count": null,
      "outputs": [
        {
          "output_type": "execute_result",
          "data": {
            "text/html": [
              "<div>\n",
              "<style scoped>\n",
              "    .dataframe tbody tr th:only-of-type {\n",
              "        vertical-align: middle;\n",
              "    }\n",
              "\n",
              "    .dataframe tbody tr th {\n",
              "        vertical-align: top;\n",
              "    }\n",
              "\n",
              "    .dataframe thead th {\n",
              "        text-align: right;\n",
              "    }\n",
              "</style>\n",
              "<table border=\"1\" class=\"dataframe\">\n",
              "  <thead>\n",
              "    <tr style=\"text-align: right;\">\n",
              "      <th></th>\n",
              "      <th>Unnamed: 0</th>\n",
              "      <th>image_id</th>\n",
              "      <th>hotel_id</th>\n",
              "      <th>image_url</th>\n",
              "      <th>image_source</th>\n",
              "      <th>upload_timestamp</th>\n",
              "      <th>serial_number</th>\n",
              "      <th>new_hotel_id</th>\n",
              "    </tr>\n",
              "  </thead>\n",
              "  <tbody>\n",
              "    <tr>\n",
              "      <th>0</th>\n",
              "      <td>0</td>\n",
              "      <td>6503444</td>\n",
              "      <td>414</td>\n",
              "      <td>https://i.travelapi.com/hotels/1000000/670000/...</td>\n",
              "      <td>travel_website</td>\n",
              "      <td>##########</td>\n",
              "      <td>45018</td>\n",
              "      <td>0</td>\n",
              "    </tr>\n",
              "    <tr>\n",
              "      <th>1</th>\n",
              "      <td>1</td>\n",
              "      <td>6503541</td>\n",
              "      <td>414</td>\n",
              "      <td>https://i.travelapi.com/hotels/1000000/670000/...</td>\n",
              "      <td>travel_website</td>\n",
              "      <td>##########</td>\n",
              "      <td>45092</td>\n",
              "      <td>0</td>\n",
              "    </tr>\n",
              "    <tr>\n",
              "      <th>2</th>\n",
              "      <td>2</td>\n",
              "      <td>6503478</td>\n",
              "      <td>414</td>\n",
              "      <td>https://i.travelapi.com/hotels/1000000/670000/...</td>\n",
              "      <td>travel_website</td>\n",
              "      <td>##########</td>\n",
              "      <td>45052</td>\n",
              "      <td>0</td>\n",
              "    </tr>\n",
              "    <tr>\n",
              "      <th>3</th>\n",
              "      <td>3</td>\n",
              "      <td>6503440</td>\n",
              "      <td>414</td>\n",
              "      <td>https://i.travelapi.com/hotels/1000000/670000/...</td>\n",
              "      <td>travel_website</td>\n",
              "      <td>##########</td>\n",
              "      <td>45014</td>\n",
              "      <td>0</td>\n",
              "    </tr>\n",
              "    <tr>\n",
              "      <th>4</th>\n",
              "      <td>4</td>\n",
              "      <td>6503530</td>\n",
              "      <td>414</td>\n",
              "      <td>https://i.travelapi.com/hotels/1000000/670000/...</td>\n",
              "      <td>travel_website</td>\n",
              "      <td>##########</td>\n",
              "      <td>45081</td>\n",
              "      <td>0</td>\n",
              "    </tr>\n",
              "    <tr>\n",
              "      <th>...</th>\n",
              "      <td>...</td>\n",
              "      <td>...</td>\n",
              "      <td>...</td>\n",
              "      <td>...</td>\n",
              "      <td>...</td>\n",
              "      <td>...</td>\n",
              "      <td>...</td>\n",
              "      <td>...</td>\n",
              "    </tr>\n",
              "    <tr>\n",
              "      <th>482</th>\n",
              "      <td>482</td>\n",
              "      <td>7885708</td>\n",
              "      <td>3568</td>\n",
              "      <td>https://i.travelapi.com/hotels/5000000/4740000...</td>\n",
              "      <td>travel_website</td>\n",
              "      <td>##########</td>\n",
              "      <td>99876</td>\n",
              "      <td>49</td>\n",
              "    </tr>\n",
              "    <tr>\n",
              "      <th>483</th>\n",
              "      <td>483</td>\n",
              "      <td>7885755</td>\n",
              "      <td>3568</td>\n",
              "      <td>https://i.travelapi.com/hotels/5000000/4740000...</td>\n",
              "      <td>travel_website</td>\n",
              "      <td>##########</td>\n",
              "      <td>99891</td>\n",
              "      <td>49</td>\n",
              "    </tr>\n",
              "    <tr>\n",
              "      <th>484</th>\n",
              "      <td>484</td>\n",
              "      <td>7885801</td>\n",
              "      <td>3568</td>\n",
              "      <td>https://i.travelapi.com/hotels/5000000/4740000...</td>\n",
              "      <td>travel_website</td>\n",
              "      <td>##########</td>\n",
              "      <td>99937</td>\n",
              "      <td>49</td>\n",
              "    </tr>\n",
              "    <tr>\n",
              "      <th>485</th>\n",
              "      <td>485</td>\n",
              "      <td>7885816</td>\n",
              "      <td>3568</td>\n",
              "      <td>https://i.travelapi.com/hotels/5000000/4740000...</td>\n",
              "      <td>travel_website</td>\n",
              "      <td>##########</td>\n",
              "      <td>99952</td>\n",
              "      <td>49</td>\n",
              "    </tr>\n",
              "    <tr>\n",
              "      <th>486</th>\n",
              "      <td>486</td>\n",
              "      <td>7885757</td>\n",
              "      <td>3568</td>\n",
              "      <td>https://i.travelapi.com/hotels/5000000/4740000...</td>\n",
              "      <td>travel_website</td>\n",
              "      <td>##########</td>\n",
              "      <td>99893</td>\n",
              "      <td>49</td>\n",
              "    </tr>\n",
              "  </tbody>\n",
              "</table>\n",
              "<p>487 rows × 8 columns</p>\n",
              "</div>"
            ],
            "text/plain": [
              "     Unnamed: 0  image_id  ...  serial_number new_hotel_id\n",
              "0             0   6503444  ...          45018            0\n",
              "1             1   6503541  ...          45092            0\n",
              "2             2   6503478  ...          45052            0\n",
              "3             3   6503440  ...          45014            0\n",
              "4             4   6503530  ...          45081            0\n",
              "..          ...       ...  ...            ...          ...\n",
              "482         482   7885708  ...          99876           49\n",
              "483         483   7885755  ...          99891           49\n",
              "484         484   7885801  ...          99937           49\n",
              "485         485   7885816  ...          99952           49\n",
              "486         486   7885757  ...          99893           49\n",
              "\n",
              "[487 rows x 8 columns]"
            ]
          },
          "metadata": {},
          "execution_count": 6
        }
      ]
    },
    {
      "cell_type": "code",
      "metadata": {
        "id": "f5_POGHBpFPg"
      },
      "source": [
        "# Creating a blank dataframe for the training dataset. This will be populated with 80% of the data in the hotels_top_50 dataset.\n",
        "top_50_hotels_train = pd.DataFrame(columns=['image_id','hotel_id','image_url','image_source','upload_timestamp', 'serial_number', 'new_hotel_id'])"
      ],
      "execution_count": null,
      "outputs": []
    },
    {
      "cell_type": "code",
      "metadata": {
        "colab": {
          "base_uri": "https://localhost:8080/",
          "height": 49
        },
        "id": "t-p3UEDBFX_r",
        "outputId": "d62360f5-d6eb-40e2-bc58-07ad35a39c92"
      },
      "source": [
        "top_50_hotels_train"
      ],
      "execution_count": null,
      "outputs": [
        {
          "output_type": "execute_result",
          "data": {
            "text/html": [
              "<div>\n",
              "<style scoped>\n",
              "    .dataframe tbody tr th:only-of-type {\n",
              "        vertical-align: middle;\n",
              "    }\n",
              "\n",
              "    .dataframe tbody tr th {\n",
              "        vertical-align: top;\n",
              "    }\n",
              "\n",
              "    .dataframe thead th {\n",
              "        text-align: right;\n",
              "    }\n",
              "</style>\n",
              "<table border=\"1\" class=\"dataframe\">\n",
              "  <thead>\n",
              "    <tr style=\"text-align: right;\">\n",
              "      <th></th>\n",
              "      <th>image_id</th>\n",
              "      <th>hotel_id</th>\n",
              "      <th>image_url</th>\n",
              "      <th>image_source</th>\n",
              "      <th>upload_timestamp</th>\n",
              "      <th>serial_number</th>\n",
              "      <th>new_hotel_id</th>\n",
              "    </tr>\n",
              "  </thead>\n",
              "  <tbody>\n",
              "  </tbody>\n",
              "</table>\n",
              "</div>"
            ],
            "text/plain": [
              "Empty DataFrame\n",
              "Columns: [image_id, hotel_id, image_url, image_source, upload_timestamp, serial_number, new_hotel_id]\n",
              "Index: []"
            ]
          },
          "metadata": {},
          "execution_count": 39
        }
      ]
    },
    {
      "cell_type": "code",
      "metadata": {
        "id": "2KFfQj1ppLf1"
      },
      "source": [
        "for i in range(0, len(top_50_hotels['hotel_id'])):\n",
        "    if top_50_hotels.iloc[i]['serial_number'] not in list(top_50_hotels_20perc['serial_number']):\n",
        "      top_50_hotels_train.loc[len(top_50_hotels_train)] = [top_50_hotels.iloc[i]['image_id'], top_50_hotels.iloc[i]['hotel_id'],\n",
        "                                                           top_50_hotels.iloc[i]['image_url'], top_50_hotels.iloc[i]['image_source'],\n",
        "                                                           top_50_hotels.iloc[i]['upload_timestamp'], top_50_hotels.iloc[i]['serial_number'],\n",
        "                                                           top_50_hotels.iloc[i]['new_hotel_id']]"
      ],
      "execution_count": null,
      "outputs": []
    },
    {
      "cell_type": "code",
      "metadata": {
        "colab": {
          "base_uri": "https://localhost:8080/",
          "height": 424
        },
        "id": "G1-8esZnpN4R",
        "outputId": "6ca71ac0-6247-484b-e6de-2f67a7fd8e77"
      },
      "source": [
        "top_50_hotels_train"
      ],
      "execution_count": null,
      "outputs": [
        {
          "output_type": "execute_result",
          "data": {
            "text/html": [
              "<div>\n",
              "<style scoped>\n",
              "    .dataframe tbody tr th:only-of-type {\n",
              "        vertical-align: middle;\n",
              "    }\n",
              "\n",
              "    .dataframe tbody tr th {\n",
              "        vertical-align: top;\n",
              "    }\n",
              "\n",
              "    .dataframe thead th {\n",
              "        text-align: right;\n",
              "    }\n",
              "</style>\n",
              "<table border=\"1\" class=\"dataframe\">\n",
              "  <thead>\n",
              "    <tr style=\"text-align: right;\">\n",
              "      <th></th>\n",
              "      <th>image_id</th>\n",
              "      <th>hotel_id</th>\n",
              "      <th>image_url</th>\n",
              "      <th>image_source</th>\n",
              "      <th>upload_timestamp</th>\n",
              "      <th>serial_number</th>\n",
              "      <th>new_hotel_id</th>\n",
              "    </tr>\n",
              "  </thead>\n",
              "  <tbody>\n",
              "    <tr>\n",
              "      <th>0</th>\n",
              "      <td>2586950</td>\n",
              "      <td>1533</td>\n",
              "      <td>https://traffickcam.com/images/2017/2/20160125...</td>\n",
              "      <td>traffickcam</td>\n",
              "      <td>1/25/16 17:23</td>\n",
              "      <td>4</td>\n",
              "      <td>18</td>\n",
              "    </tr>\n",
              "    <tr>\n",
              "      <th>1</th>\n",
              "      <td>2586951</td>\n",
              "      <td>1533</td>\n",
              "      <td>https://traffickcam.com/images/2017/2/20160125...</td>\n",
              "      <td>traffickcam</td>\n",
              "      <td>1/25/16 17:23</td>\n",
              "      <td>5</td>\n",
              "      <td>18</td>\n",
              "    </tr>\n",
              "    <tr>\n",
              "      <th>2</th>\n",
              "      <td>2586952</td>\n",
              "      <td>1533</td>\n",
              "      <td>https://traffickcam.com/images/2017/2/20160125...</td>\n",
              "      <td>traffickcam</td>\n",
              "      <td>1/25/16 17:23</td>\n",
              "      <td>6</td>\n",
              "      <td>18</td>\n",
              "    </tr>\n",
              "    <tr>\n",
              "      <th>3</th>\n",
              "      <td>2588337</td>\n",
              "      <td>430</td>\n",
              "      <td>https://traffickcam.com/images/2017/7/20160623...</td>\n",
              "      <td>traffickcam</td>\n",
              "      <td>6/23/16 23:24</td>\n",
              "      <td>192</td>\n",
              "      <td>1</td>\n",
              "    </tr>\n",
              "    <tr>\n",
              "      <th>4</th>\n",
              "      <td>2596185</td>\n",
              "      <td>1533</td>\n",
              "      <td>https://traffickcam.com/images/2017/7/20160626...</td>\n",
              "      <td>traffickcam</td>\n",
              "      <td>6/26/16 13:25</td>\n",
              "      <td>1719</td>\n",
              "      <td>18</td>\n",
              "    </tr>\n",
              "    <tr>\n",
              "      <th>...</th>\n",
              "      <td>...</td>\n",
              "      <td>...</td>\n",
              "      <td>...</td>\n",
              "      <td>...</td>\n",
              "      <td>...</td>\n",
              "      <td>...</td>\n",
              "      <td>...</td>\n",
              "    </tr>\n",
              "    <tr>\n",
              "      <th>3907</th>\n",
              "      <td>7885812</td>\n",
              "      <td>3568</td>\n",
              "      <td>https://i.travelapi.com/hotels/5000000/4740000...</td>\n",
              "      <td>travel_website</td>\n",
              "      <td>##########</td>\n",
              "      <td>99948</td>\n",
              "      <td>49</td>\n",
              "    </tr>\n",
              "    <tr>\n",
              "      <th>3908</th>\n",
              "      <td>7885813</td>\n",
              "      <td>3568</td>\n",
              "      <td>https://i.travelapi.com/hotels/5000000/4740000...</td>\n",
              "      <td>travel_website</td>\n",
              "      <td>##########</td>\n",
              "      <td>99949</td>\n",
              "      <td>49</td>\n",
              "    </tr>\n",
              "    <tr>\n",
              "      <th>3909</th>\n",
              "      <td>7885814</td>\n",
              "      <td>3568</td>\n",
              "      <td>https://i.travelapi.com/hotels/5000000/4740000...</td>\n",
              "      <td>travel_website</td>\n",
              "      <td>##########</td>\n",
              "      <td>99950</td>\n",
              "      <td>49</td>\n",
              "    </tr>\n",
              "    <tr>\n",
              "      <th>3910</th>\n",
              "      <td>7885815</td>\n",
              "      <td>3568</td>\n",
              "      <td>https://i.travelapi.com/hotels/5000000/4740000...</td>\n",
              "      <td>travel_website</td>\n",
              "      <td>##########</td>\n",
              "      <td>99951</td>\n",
              "      <td>49</td>\n",
              "    </tr>\n",
              "    <tr>\n",
              "      <th>3911</th>\n",
              "      <td>7885816</td>\n",
              "      <td>3568</td>\n",
              "      <td>https://i.travelapi.com/hotels/5000000/4740000...</td>\n",
              "      <td>travel_website</td>\n",
              "      <td>##########</td>\n",
              "      <td>99952</td>\n",
              "      <td>49</td>\n",
              "    </tr>\n",
              "  </tbody>\n",
              "</table>\n",
              "<p>3912 rows × 7 columns</p>\n",
              "</div>"
            ],
            "text/plain": [
              "     image_id hotel_id  ... serial_number new_hotel_id\n",
              "0     2586950     1533  ...             4           18\n",
              "1     2586951     1533  ...             5           18\n",
              "2     2586952     1533  ...             6           18\n",
              "3     2588337      430  ...           192            1\n",
              "4     2596185     1533  ...          1719           18\n",
              "...       ...      ...  ...           ...          ...\n",
              "3907  7885812     3568  ...         99948           49\n",
              "3908  7885813     3568  ...         99949           49\n",
              "3909  7885814     3568  ...         99950           49\n",
              "3910  7885815     3568  ...         99951           49\n",
              "3911  7885816     3568  ...         99952           49\n",
              "\n",
              "[3912 rows x 7 columns]"
            ]
          },
          "metadata": {},
          "execution_count": 41
        }
      ]
    },
    {
      "cell_type": "markdown",
      "source": [
        "Note: In case you do not want to perform all this preprocessing to get the datasets, we have saved these datasets in csvs for ready use.\n",
        "The links are as follows:\n",
        "\n",
        "\n",
        "*   top_50_hotels: \n",
        "*   top_50_hotels_train: https://drive.google.com/file/d/1ecKo-5tVw8CLWk7MXR52y7CJoGG92R47/view?usp=sharing\n",
        "*   top_50_hotels_test: https://drive.google.com/file/d/1069eijineY-kFzhU8BPGWipjFrZnrDDY/view?usp=sharing\n",
        "*   top_50_hotels_validation: https://drive.google.com/file/d/1SZweAsd0Ggl2wIu6NUhT04uiGMuD0GT4/view?usp=sharing\n",
        "\n",
        "\n"
      ],
      "metadata": {
        "id": "mtNMnzV7ykUr"
      }
    },
    {
      "cell_type": "markdown",
      "metadata": {
        "id": "Gvf0gbaYpWKT"
      },
      "source": [
        "# **We will apply our three models to the new dataset**"
      ]
    },
    {
      "cell_type": "code",
      "metadata": {
        "id": "isauJwJOpUjh"
      },
      "source": [
        "from tensorflow.keras.applications.resnet50 import preprocess_input\n",
        "from tensorflow.keras.applications.resnet50 import decode_predictions\n",
        "from keras.preprocessing.image import load_img\n",
        "from keras.preprocessing.image import img_to_array\n",
        "\n",
        "# Creating the list of training images to feed in our model (X_train)\n",
        "train_imgs = []\n",
        "for i in range(0, len(top_50_hotels_train['hotel_id'])):\n",
        "  serial_number = top_50_hotels_train['serial_number'][i]\n",
        "  image = img_to_array(load_img(f'/content/gdrive/MyDrive/AI/images/img{serial_number}.jpg', target_size=(224, 224)))\n",
        "  image = preprocess_input(image)\n",
        "  train_imgs.append(image)\n",
        "  if (i % 1000 == 0):\n",
        "    print(i)"
      ],
      "execution_count": null,
      "outputs": []
    },
    {
      "cell_type": "code",
      "metadata": {
        "id": "kSWafNsepgqI"
      },
      "source": [
        "# Creating the list of validation images to feed in our model (X_val)\n",
        "validation_imgs = []\n",
        "for i in range(0, len(top_50_hotels_validation['hotel_id'])):\n",
        "  serial_number = top_50_hotels_validation.iloc[i]['serial_number']\n",
        "  image = img_to_array(load_img(f'/content/gdrive/MyDrive/AI/images/img{serial_number}.jpg', target_size=(224, 224)))\n",
        "  image = preprocess_input(image)\n",
        "  validation_imgs.append(image)\n",
        "  if (i % 100 == 0):\n",
        "    print(i)"
      ],
      "execution_count": null,
      "outputs": []
    },
    {
      "cell_type": "code",
      "metadata": {
        "colab": {
          "base_uri": "https://localhost:8080/"
        },
        "id": "bnJMi8ZCwHMh",
        "outputId": "5d9d23a5-6f95-45b0-8b0f-581c88c5411b"
      },
      "source": [
        "# Creating the list of test images to feed in our model (X_test)\n",
        "test_imgs = []\n",
        "for i in range(0, len(top_50_hotels_test['hotel_id'])):\n",
        "  serial_number = top_50_hotels_test['serial_number'][i]\n",
        "  image = img_to_array(load_img(f'/content/gdrive/MyDrive/AI/images/img{serial_number}.jpg', target_size=(224, 224)))\n",
        "  image = preprocess_input(image)\n",
        "  test_imgs.append(image)\n",
        "  if (i % 100 == 0):\n",
        "    print(i)"
      ],
      "execution_count": null,
      "outputs": [
        {
          "output_type": "stream",
          "name": "stdout",
          "text": [
            "0\n",
            "100\n",
            "200\n",
            "300\n",
            "400\n"
          ]
        }
      ]
    },
    {
      "cell_type": "code",
      "metadata": {
        "id": "uFRuVASL76bo"
      },
      "source": [
        "import numpy as np\n",
        "\n",
        "# Converting the list into a numpy array before feeding it into the model\n",
        "train_imgs = np.array(train_imgs)\n",
        "validation_imgs = np.array(validation_imgs)\n",
        "test_imgs = np.array(test_imgs)"
      ],
      "execution_count": null,
      "outputs": []
    },
    {
      "cell_type": "code",
      "metadata": {
        "id": "86ABpGxw9Ajp"
      },
      "source": [
        "# Getting the train_labels (y_train), validation_labels (y_val)\n",
        "# and test labels(y_test) from the dataset to feed in the model\n",
        "\n",
        "train_labels = list(top_50_hotels_train['new_hotel_id'])\n",
        "validation_labels = list(top_50_hotels_validation['new_hotel_id'])\n",
        "test_labels = list(top_50_hotels_test['new_hotel_id'])"
      ],
      "execution_count": null,
      "outputs": []
    },
    {
      "cell_type": "code",
      "metadata": {
        "id": "QdBFablg9WvG"
      },
      "source": [
        "from tensorflow.keras.utils import to_categorical\n",
        "\n",
        "# Converting the labels into one hot vectors (with 50 classes) to feed in the model\n",
        "train_labels = to_categorical(train_labels, 50)\n",
        "test_labels = to_categorical(test_labels, 50)\n",
        "validation_labels = to_categorical(validation_labels, 50)"
      ],
      "execution_count": null,
      "outputs": []
    },
    {
      "cell_type": "markdown",
      "source": [
        "# **Function to plot learning curves**"
      ],
      "metadata": {
        "id": "AvhpHksw1PUm"
      }
    },
    {
      "cell_type": "code",
      "source": [
        "from matplotlib import pyplot\n",
        "\n",
        "def summarize_model(history):\n",
        "\t# plot loss during training\n",
        "  pyplot.figure(figsize=(8,6))\n",
        "  pyplot.subplot(211)\n",
        "  pyplot.title('Loss')\n",
        "  pyplot.plot(history.history['loss'], label='train')\n",
        "  pyplot.plot(history.history['val_loss'], label='test')\n",
        "  pyplot.legend()\n",
        "  # plot accuracy during training\n",
        "  pyplot.subplot(212)\n",
        "  pyplot.title('Accuracy')\n",
        "  pyplot.plot(history.history['accuracy'], label='train')\n",
        "  pyplot.plot(history.history['val_accuracy'], label='test')\n",
        "  pyplot.legend()\n",
        "  pyplot.show()"
      ],
      "metadata": {
        "id": "96G59rwt1QoK"
      },
      "execution_count": null,
      "outputs": []
    },
    {
      "cell_type": "markdown",
      "metadata": {
        "id": "3hTIqoNd-AT-"
      },
      "source": [
        "# **Model 1**"
      ]
    },
    {
      "cell_type": "code",
      "metadata": {
        "colab": {
          "base_uri": "https://localhost:8080/"
        },
        "id": "XvG5AoK19qzR",
        "outputId": "3f7a0ac7-c37c-4fb6-ae15-1245f170a474"
      },
      "source": [
        "# Creating model 1 by applying transfer learning on ResNet50\n",
        "\n",
        "from tensorflow.keras.applications.resnet50 import ResNet50\n",
        "from tensorflow.keras.models import Model\n",
        "from tensorflow.keras.layers import Dense\n",
        "from tensorflow.keras.layers import Flatten\n",
        "from tensorflow.keras.layers import Conv2D, MaxPooling2D, Flatten, Dense, Dropout, InputLayer\n",
        "from tensorflow.keras.models import Sequential\n",
        "from tensorflow.keras import Input\n",
        "from tensorflow.keras import optimizers\n",
        "import keras\n",
        "\n",
        "model_1 = Sequential()\n",
        "input_t = Input(shape = (224,224,3))\n",
        "pretrained_model= ResNet50(include_top=False,\n",
        "                           input_tensor=input_t, \n",
        "                   pooling='avg',classes= 554,\n",
        "                   weights='imagenet')\n",
        "for layer in pretrained_model.layers:\n",
        "        layer.trainable=False\n",
        "model_1.add(pretrained_model)\n",
        "model_1.add(Flatten())\n",
        "model_1.add(Dense(512, activation='relu', input_dim = (224,224,3)))\n",
        "output = model_1.add(Dense(50, activation='softmax'))\n",
        "model_1.summary()"
      ],
      "execution_count": null,
      "outputs": [
        {
          "output_type": "stream",
          "name": "stdout",
          "text": [
            "Model: \"sequential_3\"\n",
            "_________________________________________________________________\n",
            " Layer (type)                Output Shape              Param #   \n",
            "=================================================================\n",
            " resnet50 (Functional)       (None, 2048)              23587712  \n",
            "                                                                 \n",
            " flatten_3 (Flatten)         (None, 2048)              0         \n",
            "                                                                 \n",
            " dense_6 (Dense)             (None, 512)               1049088   \n",
            "                                                                 \n",
            " dense_7 (Dense)             (None, 50)                25650     \n",
            "                                                                 \n",
            "=================================================================\n",
            "Total params: 24,662,450\n",
            "Trainable params: 1,074,738\n",
            "Non-trainable params: 23,587,712\n",
            "_________________________________________________________________\n"
          ]
        }
      ]
    },
    {
      "cell_type": "code",
      "metadata": {
        "id": "Jb9gR01N-D6n"
      },
      "source": [
        "# Compiling model 1\n",
        "\n",
        "model_1.compile(loss='categorical_crossentropy',\n",
        "              optimizer='adam',\n",
        "              metrics=['accuracy'])"
      ],
      "execution_count": null,
      "outputs": []
    },
    {
      "cell_type": "code",
      "metadata": {
        "colab": {
          "base_uri": "https://localhost:8080/"
        },
        "id": "XzWGoF_y-KHp",
        "outputId": "37237e52-266b-4760-b499-057ece6f85bb"
      },
      "source": [
        "# Training model 1 with 10 epochs \n",
        "\n",
        "history_1_10 = model_1.fit(x = train_imgs, y = train_labels, validation_data=(validation_imgs, validation_labels), steps_per_epoch=10, epochs=10, verbose=1)"
      ],
      "execution_count": null,
      "outputs": [
        {
          "output_type": "stream",
          "name": "stdout",
          "text": [
            "Epoch 1/10\n",
            "10/10 [==============================] - 708s 71s/step - loss: 3.9081 - accuracy: 0.1122 - val_loss: 3.1311 - val_accuracy: 0.2607\n",
            "Epoch 2/10\n",
            "10/10 [==============================] - 691s 70s/step - loss: 2.5605 - accuracy: 0.3857 - val_loss: 2.3726 - val_accuracy: 0.4277\n",
            "Epoch 3/10\n",
            "10/10 [==============================] - 706s 72s/step - loss: 1.7586 - accuracy: 0.5831 - val_loss: 1.8638 - val_accuracy: 0.5397\n",
            "Epoch 4/10\n",
            "10/10 [==============================] - 706s 71s/step - loss: 1.2698 - accuracy: 0.6958 - val_loss: 1.5595 - val_accuracy: 0.6232\n",
            "Epoch 5/10\n",
            "10/10 [==============================] - 712s 72s/step - loss: 0.9585 - accuracy: 0.7771 - val_loss: 1.4156 - val_accuracy: 0.6314\n",
            "Epoch 6/10\n",
            "10/10 [==============================] - 713s 72s/step - loss: 0.7091 - accuracy: 0.8548 - val_loss: 1.2889 - val_accuracy: 0.6782\n",
            "Epoch 7/10\n",
            "10/10 [==============================] - 710s 72s/step - loss: 0.5381 - accuracy: 0.9036 - val_loss: 1.2355 - val_accuracy: 0.6965\n",
            "Epoch 8/10\n",
            "10/10 [==============================] - 717s 73s/step - loss: 0.4241 - accuracy: 0.9320 - val_loss: 1.1677 - val_accuracy: 0.6904\n",
            "Epoch 9/10\n",
            "10/10 [==============================] - 727s 73s/step - loss: 0.3403 - accuracy: 0.9573 - val_loss: 1.1378 - val_accuracy: 0.7047\n",
            "Epoch 10/10\n",
            "10/10 [==============================] - 731s 74s/step - loss: 0.2751 - accuracy: 0.9665 - val_loss: 1.0982 - val_accuracy: 0.7210\n"
          ]
        }
      ]
    },
    {
      "cell_type": "code",
      "metadata": {
        "colab": {
          "base_uri": "https://localhost:8080/",
          "height": 390
        },
        "id": "74JyT_6_SoZc",
        "outputId": "787ea1b6-4f9e-4f00-9cd1-660617746848"
      },
      "source": [
        "# Plotting learning curve for model 1 with 10 epochs \n",
        "\n",
        "summarize_model(history_1_10)"
      ],
      "execution_count": null,
      "outputs": [
        {
          "output_type": "display_data",
          "data": {
            "image/png": "[encoded data removed]",
            "text/plain": [
              "<Figure size 576x432 with 2 Axes>"
            ]
          },
          "metadata": {
            "needs_background": "light"
          }
        }
      ]
    },
    {
      "cell_type": "code",
      "metadata": {
        "colab": {
          "base_uri": "https://localhost:8080/"
        },
        "id": "xAV5-nIs-OzN",
        "outputId": "efb9b847-ae3c-4987-f6f8-30f50ad99510"
      },
      "source": [
        "# Testing model 1 with 10 epochs \n",
        "\n",
        "testLoss, testAccuracy = model_1.evaluate(test_imgs, test_labels)"
      ],
      "execution_count": null,
      "outputs": [
        {
          "output_type": "stream",
          "name": "stdout",
          "text": [
            "16/16 [==============================] - 82s 5s/step - loss: 1.1505 - accuracy: 0.7064\n"
          ]
        }
      ]
    },
    {
      "cell_type": "code",
      "metadata": {
        "colab": {
          "base_uri": "https://localhost:8080/"
        },
        "id": "LXekpQ9zaM4u",
        "outputId": "2e2effdf-a850-4322-e577-635186d55fe4"
      },
      "source": [
        "# Training model 1 with 20 epochs \n",
        "\n",
        "history_1_20 = model_1.fit(x = train_imgs, y = train_labels, validation_data=(validation_imgs, validation_labels), steps_per_epoch=10, epochs=20, verbose=1)"
      ],
      "execution_count": null,
      "outputs": [
        {
          "output_type": "stream",
          "name": "stdout",
          "text": [
            "Epoch 1/20\n",
            "10/10 [==============================] - 732s 74s/step - loss: 3.5878 - accuracy: 0.1582 - val_loss: 2.8112 - val_accuracy: 0.3238\n",
            "Epoch 2/20\n",
            "10/10 [==============================] - 730s 74s/step - loss: 2.1447 - accuracy: 0.4936 - val_loss: 2.0577 - val_accuracy: 0.5010\n",
            "Epoch 3/20\n",
            "10/10 [==============================] - 743s 75s/step - loss: 1.4153 - accuracy: 0.6572 - val_loss: 1.6450 - val_accuracy: 0.5906\n",
            "Epoch 4/20\n",
            "10/10 [==============================] - 728s 73s/step - loss: 0.9721 - accuracy: 0.7789 - val_loss: 1.4339 - val_accuracy: 0.6456\n",
            "Epoch 5/20\n",
            "10/10 [==============================] - 715s 72s/step - loss: 0.7123 - accuracy: 0.8479 - val_loss: 1.3111 - val_accuracy: 0.6701\n",
            "Epoch 6/20\n",
            "10/10 [==============================] - 714s 72s/step - loss: 0.5138 - accuracy: 0.9016 - val_loss: 1.2354 - val_accuracy: 0.6884\n",
            "Epoch 7/20\n",
            "10/10 [==============================] - 719s 73s/step - loss: 0.3864 - accuracy: 0.9433 - val_loss: 1.1644 - val_accuracy: 0.7067\n",
            "Epoch 8/20\n",
            "10/10 [==============================] - 708s 72s/step - loss: 0.2972 - accuracy: 0.9617 - val_loss: 1.1594 - val_accuracy: 0.7312\n",
            "Epoch 9/20\n",
            "10/10 [==============================] - 717s 73s/step - loss: 0.2266 - accuracy: 0.9808 - val_loss: 1.1250 - val_accuracy: 0.7149\n",
            "Epoch 10/20\n",
            "10/10 [==============================] - 701s 71s/step - loss: 0.1761 - accuracy: 0.9888 - val_loss: 1.0980 - val_accuracy: 0.7230\n",
            "Epoch 11/20\n",
            "10/10 [==============================] - 711s 72s/step - loss: 0.1381 - accuracy: 0.9951 - val_loss: 1.0988 - val_accuracy: 0.7189\n",
            "Epoch 12/20\n",
            "10/10 [==============================] - 710s 72s/step - loss: 0.1119 - accuracy: 0.9969 - val_loss: 1.0957 - val_accuracy: 0.7352\n",
            "Epoch 13/20\n",
            "10/10 [==============================] - 716s 72s/step - loss: 0.0914 - accuracy: 0.9992 - val_loss: 1.0737 - val_accuracy: 0.7291\n",
            "Epoch 14/20\n",
            "10/10 [==============================] - 716s 72s/step - loss: 0.0741 - accuracy: 0.9995 - val_loss: 1.0534 - val_accuracy: 0.7454\n",
            "Epoch 15/20\n",
            "10/10 [==============================] - 718s 73s/step - loss: 0.0619 - accuracy: 0.9997 - val_loss: 1.0646 - val_accuracy: 0.7495\n",
            "Epoch 16/20\n",
            "10/10 [==============================] - 710s 72s/step - loss: 0.0526 - accuracy: 0.9997 - val_loss: 1.0573 - val_accuracy: 0.7373\n",
            "Epoch 17/20\n",
            "10/10 [==============================] - 706s 71s/step - loss: 0.0454 - accuracy: 0.9997 - val_loss: 1.0559 - val_accuracy: 0.7454\n",
            "Epoch 18/20\n",
            "10/10 [==============================] - 719s 73s/step - loss: 0.0400 - accuracy: 1.0000 - val_loss: 1.0476 - val_accuracy: 0.7373\n",
            "Epoch 19/20\n",
            "10/10 [==============================] - 717s 73s/step - loss: 0.0354 - accuracy: 1.0000 - val_loss: 1.0583 - val_accuracy: 0.7454\n",
            "Epoch 20/20\n",
            "10/10 [==============================] - 717s 73s/step - loss: 0.0315 - accuracy: 1.0000 - val_loss: 1.0561 - val_accuracy: 0.7434\n"
          ]
        }
      ]
    },
    {
      "cell_type": "code",
      "metadata": {
        "colab": {
          "base_uri": "https://localhost:8080/"
        },
        "id": "9FJfPKiJRm55",
        "outputId": "2ecccbaf-74c6-4e74-8945-87eb61c85990"
      },
      "source": [
        "# Testing model 1 with 20 epochs\n",
        " \n",
        "testLoss, testAccuracy = model_1.evaluate(test_imgs, test_labels)"
      ],
      "execution_count": null,
      "outputs": [
        {
          "output_type": "stream",
          "name": "stdout",
          "text": [
            "16/16 [==============================] - 81s 5s/step - loss: 0.9963 - accuracy: 0.7310\n"
          ]
        }
      ]
    },
    {
      "cell_type": "code",
      "metadata": {
        "colab": {
          "base_uri": "https://localhost:8080/",
          "height": 390
        },
        "id": "nyn0fzFASj4q",
        "outputId": "f8a62301-94b1-4168-db00-6adcdf0fe6b5"
      },
      "source": [
        "# Plotting learning curve for model 1 with 20 epochs \n",
        "\n",
        "summarize_model(history_1_20)"
      ],
      "execution_count": null,
      "outputs": [
        {
          "output_type": "display_data",
          "data": {
            "image/png": "[encoded data removed]",
            "text/plain": [
              "<Figure size 576x432 with 2 Axes>"
            ]
          },
          "metadata": {
            "needs_background": "light"
          }
        }
      ]
    },
    {
      "cell_type": "markdown",
      "metadata": {
        "id": "IrSzItkq0fJq"
      },
      "source": [
        "# **Model 2**"
      ]
    },
    {
      "cell_type": "code",
      "metadata": {
        "colab": {
          "base_uri": "https://localhost:8080/"
        },
        "id": "pX9IrhWE0kLw",
        "outputId": "57bf3ace-3ac3-4ad6-ef26-7d8b6f46e864"
      },
      "source": [
        "from tensorflow.keras.applications.resnet50 import ResNet50\n",
        "from tensorflow.keras.models import Model\n",
        "from tensorflow.keras.layers import Dense\n",
        "from tensorflow.keras.layers import Flatten\n",
        "from tensorflow.keras.layers import Conv2D, MaxPooling2D, Flatten, Dense, Dropout, InputLayer\n",
        "from tensorflow.keras.models import Sequential\n",
        "from tensorflow.keras import Input\n",
        "from tensorflow.keras import optimizers\n",
        "import keras\n",
        "\n",
        "model_2 = Sequential()\n",
        "input_t = Input(shape = (224,224,3))\n",
        "pretrained_model= ResNet50(include_top=False,\n",
        "                           input_tensor=input_t, \n",
        "                   pooling='avg',classes= 50,\n",
        "                   weights='imagenet')\n",
        "for layer in pretrained_model.layers:\n",
        "        layer.trainable=False\n",
        "model_2.add(pretrained_model)\n",
        "model_2.add(Flatten())\n",
        "model_2.add(Dense(512, activation='relu'))\n",
        "model_2.add(Dense(1024, activation='relu', input_dim = (224,224,3)))\n",
        "output = model_2.add(Dense(50, activation='softmax'))\n",
        "model_2.summary()"
      ],
      "execution_count": null,
      "outputs": [
        {
          "output_type": "stream",
          "name": "stdout",
          "text": [
            "Downloading data from https://storage.googleapis.com/tensorflow/keras-applications/resnet/resnet50_weights_tf_dim_ordering_tf_kernels_notop.h5\n",
            "94773248/94765736 [==============================] - 1s 0us/step\n",
            "94781440/94765736 [==============================] - 1s 0us/step\n",
            "Model: \"sequential\"\n",
            "_________________________________________________________________\n",
            " Layer (type)                Output Shape              Param #   \n",
            "=================================================================\n",
            " resnet50 (Functional)       (None, 2048)              23587712  \n",
            "                                                                 \n",
            " flatten (Flatten)           (None, 2048)              0         \n",
            "                                                                 \n",
            " dense (Dense)               (None, 512)               1049088   \n",
            "                                                                 \n",
            " dense_1 (Dense)             (None, 1024)              525312    \n",
            "                                                                 \n",
            " dense_2 (Dense)             (None, 50)                51250     \n",
            "                                                                 \n",
            "=================================================================\n",
            "Total params: 25,213,362\n",
            "Trainable params: 1,625,650\n",
            "Non-trainable params: 23,587,712\n",
            "_________________________________________________________________\n"
          ]
        }
      ]
    },
    {
      "cell_type": "code",
      "metadata": {
        "id": "D11ffswz0sr4"
      },
      "source": [
        "# Compiling model 2\n",
        "\n",
        "model_2.compile(loss='categorical_crossentropy',\n",
        "              optimizer='adam',\n",
        "              metrics=['accuracy'])"
      ],
      "execution_count": null,
      "outputs": []
    },
    {
      "cell_type": "code",
      "source": [
        "# Training model 2 with 10 epochs\n",
        "\n",
        "history_2_10 = model_2.fit(x = train_imgs, y = train_labels, validation_data=(validation_imgs, validation_labels), steps_per_epoch=10, epochs=10, verbose=1)"
      ],
      "metadata": {
        "id": "yoCe5owL2HTc"
      },
      "execution_count": null,
      "outputs": []
    },
    {
      "cell_type": "code",
      "source": [
        "# Plotting learning curve for model 2 with 10 epochs\n",
        "\n",
        "summarize_model(history_2_10)"
      ],
      "metadata": {
        "id": "Peb6Z9RG2Jhw"
      },
      "execution_count": null,
      "outputs": []
    },
    {
      "cell_type": "code",
      "source": [
        "# Testing model 2 with 10 epochs\n",
        "\n",
        "testLoss, testAccuracy = model_2.evaluate(test_imgs, test_labels)"
      ],
      "metadata": {
        "id": "Xa1MegT72Lul"
      },
      "execution_count": null,
      "outputs": []
    },
    {
      "cell_type": "code",
      "metadata": {
        "id": "RRFIU9sE0v2Z"
      },
      "source": [
        "# Training model 2 with 20 epochs\n",
        "\n",
        "history_2_20 = model_2.fit(x = train_imgs, y = train_labels, validation_data=(validation_imgs, validation_labels), steps_per_epoch=10, epochs=20, verbose=1)"
      ],
      "execution_count": null,
      "outputs": []
    },
    {
      "cell_type": "code",
      "source": [
        "# Plotting learning curve for model 2 with 20 epochs\n",
        "\n",
        "summarize_model(history_2_20)"
      ],
      "metadata": {
        "id": "BAFe3Jv92SiS"
      },
      "execution_count": null,
      "outputs": []
    },
    {
      "cell_type": "code",
      "source": [
        "# Testing model 2 with 20 epochs\n",
        "\n",
        "testLoss, testAccuracy = model_2.evaluate(test_imgs, test_labels)"
      ],
      "metadata": {
        "id": "cAPqb6552UqF"
      },
      "execution_count": null,
      "outputs": []
    }
  ]
}