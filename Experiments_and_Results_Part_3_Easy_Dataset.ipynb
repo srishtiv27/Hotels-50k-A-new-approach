{
  "nbformat": 4,
  "nbformat_minor": 0,
  "metadata": {
    "colab": {
      "name": "Experiments and Results Part 3: Easy Dataset.ipynb",
      "provenance": []
    },
    "kernelspec": {
      "name": "python3",
      "display_name": "Python 3"
    },
    "language_info": {
      "name": "python"
    },
    "accelerator": "GPU"
  },
  "cells": [
    {
      "cell_type": "code",
      "execution_count": null,
      "metadata": {
        "colab": {
          "base_uri": "https://localhost:8080/"
        },
        "id": "YebTTKb5lWjb",
        "outputId": "76b5290c-23c4-469c-afef-e0c0e9c92893"
      },
      "outputs": [
        {
          "output_type": "stream",
          "name": "stdout",
          "text": [
            "Mounted at /content/gdrive\n"
          ]
        }
      ],
      "source": [
        "from google.colab import drive\n",
        "drive.mount('/content/gdrive')"
      ]
    },
    {
      "cell_type": "code",
      "source": [
        "import pandas as pd\n",
        "\n",
        "# Get the all_hotels dataset from this link: https://drive.google.com/file/d/1A4xz_dILkVvBkyamQDdP7Mt_m_6LqSO8/view?usp=sharing\n",
        "all_hotels = pd.read_csv(\"/content/gdrive/MyDrive/AI/datasets/project dataset/train_set.csv\", names=[\"image_id\", \"hotel_id\", \"image_url\", \"image_source\", \"upload_timestamp\"])\n",
        "# Displaying the dataset\n",
        "all_hotels.head()"
      ],
      "metadata": {
        "id": "2z1To3eRlo8J",
        "colab": {
          "base_uri": "https://localhost:8080/",
          "height": 206
        },
        "outputId": "8731c976-0aca-4a99-d09e-502a773dd14d"
      },
      "execution_count": null,
      "outputs": [
        {
          "output_type": "execute_result",
          "data": {
            "text/html": [
              "<div>\n",
              "<style scoped>\n",
              "    .dataframe tbody tr th:only-of-type {\n",
              "        vertical-align: middle;\n",
              "    }\n",
              "\n",
              "    .dataframe tbody tr th {\n",
              "        vertical-align: top;\n",
              "    }\n",
              "\n",
              "    .dataframe thead th {\n",
              "        text-align: right;\n",
              "    }\n",
              "</style>\n",
              "<table border=\"1\" class=\"dataframe\">\n",
              "  <thead>\n",
              "    <tr style=\"text-align: right;\">\n",
              "      <th></th>\n",
              "      <th>image_id</th>\n",
              "      <th>hotel_id</th>\n",
              "      <th>image_url</th>\n",
              "      <th>image_source</th>\n",
              "      <th>upload_timestamp</th>\n",
              "    </tr>\n",
              "  </thead>\n",
              "  <tbody>\n",
              "    <tr>\n",
              "      <th>0</th>\n",
              "      <td>3485</td>\n",
              "      <td>18187</td>\n",
              "      <td>https://traffickcam.com/images/2016/10/2015090...</td>\n",
              "      <td>traffickcam</td>\n",
              "      <td>9/9/15 17:23</td>\n",
              "    </tr>\n",
              "    <tr>\n",
              "      <th>1</th>\n",
              "      <td>3486</td>\n",
              "      <td>18187</td>\n",
              "      <td>https://traffickcam.com/images/2016/10/2015090...</td>\n",
              "      <td>traffickcam</td>\n",
              "      <td>9/9/15 17:23</td>\n",
              "    </tr>\n",
              "    <tr>\n",
              "      <th>2</th>\n",
              "      <td>3663</td>\n",
              "      <td>73224</td>\n",
              "      <td>https://traffickcam.com/images/2016/10/2015091...</td>\n",
              "      <td>traffickcam</td>\n",
              "      <td>9/17/15 19:33</td>\n",
              "    </tr>\n",
              "    <tr>\n",
              "      <th>3</th>\n",
              "      <td>2586939</td>\n",
              "      <td>86350</td>\n",
              "      <td>https://traffickcam.com/images/2017/2/20160125...</td>\n",
              "      <td>traffickcam</td>\n",
              "      <td>1/25/16 19:12</td>\n",
              "    </tr>\n",
              "    <tr>\n",
              "      <th>4</th>\n",
              "      <td>2586950</td>\n",
              "      <td>1533</td>\n",
              "      <td>https://traffickcam.com/images/2017/2/20160125...</td>\n",
              "      <td>traffickcam</td>\n",
              "      <td>1/25/16 17:23</td>\n",
              "    </tr>\n",
              "  </tbody>\n",
              "</table>\n",
              "</div>"
            ],
            "text/plain": [
              "   image_id  hotel_id  ... image_source upload_timestamp\n",
              "0      3485     18187  ...  traffickcam     9/9/15 17:23\n",
              "1      3486     18187  ...  traffickcam     9/9/15 17:23\n",
              "2      3663     73224  ...  traffickcam    9/17/15 19:33\n",
              "3   2586939     86350  ...  traffickcam    1/25/16 19:12\n",
              "4   2586950      1533  ...  traffickcam    1/25/16 17:23\n",
              "\n",
              "[5 rows x 5 columns]"
            ]
          },
          "metadata": {},
          "execution_count": 14
        }
      ]
    },
    {
      "cell_type": "code",
      "source": [
        "# Getting a subset of all_hotels containing 170k rows\n",
        "hotels_170k = all_hotels[:170000]"
      ],
      "metadata": {
        "id": "UuptcFgmnfz4"
      },
      "execution_count": null,
      "outputs": []
    },
    {
      "cell_type": "code",
      "source": [
        " # Opening the file containing the serial numbers of the missing images in read mode.\n",
        " # View the file by clicking on this link: https://drive.google.com/file/d/1irsjiJfvqF3zrZJ0by1a_0iLfYEUAqdD/view?usp=sharing\n",
        "file_object = open('/content/gdrive/MyDrive/AI/Missing Images/missing_images_till_170k.txt', 'r')"
      ],
      "metadata": {
        "id": "F0vT0FgsoYMw"
      },
      "execution_count": null,
      "outputs": []
    },
    {
      "cell_type": "code",
      "source": [
        "# Storing the missing images in a list from the text file\n",
        "missing_images_string = [word.strip() for line in file_object.readlines() for word in line.split(', ') if word.strip()]"
      ],
      "metadata": {
        "id": "3PO4sm0Q1GHD"
      },
      "execution_count": null,
      "outputs": []
    },
    {
      "cell_type": "code",
      "source": [
        "# Converting the missing images in string format to integers\n",
        "missing_images = []\n",
        "for x in missing_images_string:\n",
        "  try:\n",
        "    missing_images.append(int(x))\n",
        "  except:\n",
        "    print(x)"
      ],
      "metadata": {
        "colab": {
          "base_uri": "https://localhost:8080/"
        },
        "id": "UvXetrpA1jm6",
        "outputId": "3cf9b7df-405a-4514-d7b6-1e78e555eb89"
      },
      "execution_count": null,
      "outputs": [
        {
          "output_type": "stream",
          "name": "stdout",
          "text": [
            "﻿85509\n"
          ]
        }
      ]
    },
    {
      "cell_type": "markdown",
      "source": [
        "We noticed that there was an exception in converting the string '85509' into an integer. We suspect that this was because of some whitespace or new line character. Hence, we decided to add this number manually."
      ],
      "metadata": {
        "id": "jqMdwQoiHA12"
      }
    },
    {
      "cell_type": "code",
      "source": [
        "missing_images.append(85509)"
      ],
      "metadata": {
        "id": "TSnejxbY1mES"
      },
      "execution_count": null,
      "outputs": []
    },
    {
      "cell_type": "code",
      "source": [
        "serial_numbers = [i for i in range(170000)]"
      ],
      "metadata": {
        "id": "h39WoPsX13m7"
      },
      "execution_count": null,
      "outputs": []
    },
    {
      "cell_type": "code",
      "source": [
        "# Adding serial number column to hotels_170k dataset.\n",
        "# These serial numbers correspond to the serial number of the images in the drive.\n",
        "\n",
        "hotels_170k['serial_number'] = serial_numbers"
      ],
      "metadata": {
        "id": "bIMLbxBh2TPG"
      },
      "execution_count": null,
      "outputs": []
    },
    {
      "cell_type": "code",
      "source": [
        "# Displaying the hotels_170k dataset\n",
        "hotels_170k.head()"
      ],
      "metadata": {
        "colab": {
          "base_uri": "https://localhost:8080/",
          "height": 206
        },
        "id": "1OTTMRyY3DY2",
        "outputId": "6993b397-8ca8-49a9-ec82-fadcbf307d31"
      },
      "execution_count": null,
      "outputs": [
        {
          "output_type": "execute_result",
          "data": {
            "text/html": [
              "<div>\n",
              "<style scoped>\n",
              "    .dataframe tbody tr th:only-of-type {\n",
              "        vertical-align: middle;\n",
              "    }\n",
              "\n",
              "    .dataframe tbody tr th {\n",
              "        vertical-align: top;\n",
              "    }\n",
              "\n",
              "    .dataframe thead th {\n",
              "        text-align: right;\n",
              "    }\n",
              "</style>\n",
              "<table border=\"1\" class=\"dataframe\">\n",
              "  <thead>\n",
              "    <tr style=\"text-align: right;\">\n",
              "      <th></th>\n",
              "      <th>image_id</th>\n",
              "      <th>hotel_id</th>\n",
              "      <th>image_url</th>\n",
              "      <th>image_source</th>\n",
              "      <th>upload_timestamp</th>\n",
              "      <th>serial_number</th>\n",
              "    </tr>\n",
              "  </thead>\n",
              "  <tbody>\n",
              "    <tr>\n",
              "      <th>0</th>\n",
              "      <td>3485</td>\n",
              "      <td>18187</td>\n",
              "      <td>https://traffickcam.com/images/2016/10/2015090...</td>\n",
              "      <td>traffickcam</td>\n",
              "      <td>9/9/15 17:23</td>\n",
              "      <td>0</td>\n",
              "    </tr>\n",
              "    <tr>\n",
              "      <th>1</th>\n",
              "      <td>3486</td>\n",
              "      <td>18187</td>\n",
              "      <td>https://traffickcam.com/images/2016/10/2015090...</td>\n",
              "      <td>traffickcam</td>\n",
              "      <td>9/9/15 17:23</td>\n",
              "      <td>1</td>\n",
              "    </tr>\n",
              "    <tr>\n",
              "      <th>2</th>\n",
              "      <td>3663</td>\n",
              "      <td>73224</td>\n",
              "      <td>https://traffickcam.com/images/2016/10/2015091...</td>\n",
              "      <td>traffickcam</td>\n",
              "      <td>9/17/15 19:33</td>\n",
              "      <td>2</td>\n",
              "    </tr>\n",
              "    <tr>\n",
              "      <th>3</th>\n",
              "      <td>2586939</td>\n",
              "      <td>86350</td>\n",
              "      <td>https://traffickcam.com/images/2017/2/20160125...</td>\n",
              "      <td>traffickcam</td>\n",
              "      <td>1/25/16 19:12</td>\n",
              "      <td>3</td>\n",
              "    </tr>\n",
              "    <tr>\n",
              "      <th>4</th>\n",
              "      <td>2586950</td>\n",
              "      <td>1533</td>\n",
              "      <td>https://traffickcam.com/images/2017/2/20160125...</td>\n",
              "      <td>traffickcam</td>\n",
              "      <td>1/25/16 17:23</td>\n",
              "      <td>4</td>\n",
              "    </tr>\n",
              "  </tbody>\n",
              "</table>\n",
              "</div>"
            ],
            "text/plain": [
              "   image_id  hotel_id  ... upload_timestamp serial_number\n",
              "0      3485     18187  ...     9/9/15 17:23             0\n",
              "1      3486     18187  ...     9/9/15 17:23             1\n",
              "2      3663     73224  ...    9/17/15 19:33             2\n",
              "3   2586939     86350  ...    1/25/16 19:12             3\n",
              "4   2586950      1533  ...    1/25/16 17:23             4\n",
              "\n",
              "[5 rows x 6 columns]"
            ]
          },
          "metadata": {},
          "execution_count": 25
        }
      ]
    },
    {
      "cell_type": "code",
      "source": [
        "# Creating a blank dataframe. We will populate it later with only the valid entries (with no missing images) \n",
        "# from the hotels_170k subset\n",
        "hotels = pd.DataFrame(columns=['image_id','hotel_id','image_url','image_source','upload_timestamp', 'serial_number'])"
      ],
      "metadata": {
        "id": "o14xeVBT42nV"
      },
      "execution_count": null,
      "outputs": []
    },
    {
      "cell_type": "code",
      "source": [
        "hotels"
      ],
      "metadata": {
        "colab": {
          "base_uri": "https://localhost:8080/",
          "height": 49
        },
        "id": "gqFFobUN44nS",
        "outputId": "a5c24ca9-18ee-4164-db89-a57e2e8fbb2a"
      },
      "execution_count": null,
      "outputs": [
        {
          "output_type": "execute_result",
          "data": {
            "text/html": [
              "<div>\n",
              "<style scoped>\n",
              "    .dataframe tbody tr th:only-of-type {\n",
              "        vertical-align: middle;\n",
              "    }\n",
              "\n",
              "    .dataframe tbody tr th {\n",
              "        vertical-align: top;\n",
              "    }\n",
              "\n",
              "    .dataframe thead th {\n",
              "        text-align: right;\n",
              "    }\n",
              "</style>\n",
              "<table border=\"1\" class=\"dataframe\">\n",
              "  <thead>\n",
              "    <tr style=\"text-align: right;\">\n",
              "      <th></th>\n",
              "      <th>image_id</th>\n",
              "      <th>hotel_id</th>\n",
              "      <th>image_url</th>\n",
              "      <th>image_source</th>\n",
              "      <th>upload_timestamp</th>\n",
              "      <th>serial_number</th>\n",
              "    </tr>\n",
              "  </thead>\n",
              "  <tbody>\n",
              "  </tbody>\n",
              "</table>\n",
              "</div>"
            ],
            "text/plain": [
              "Empty DataFrame\n",
              "Columns: [image_id, hotel_id, image_url, image_source, upload_timestamp, serial_number]\n",
              "Index: []"
            ]
          },
          "metadata": {},
          "execution_count": 30
        }
      ]
    },
    {
      "cell_type": "code",
      "source": [
        "# Populating the hotels dataset\n",
        "for i in range(0, len(hotels_170k['hotel_id'])):\n",
        "  if hotels_170k['serial_number'][i] not in missing_images:\n",
        "    hotels.loc[len(hotels)] = [hotels_170k['image_id'][i], hotels_170k['hotel_id'][i],\n",
        "                                       hotels_170k['image_url'][i], hotels_170k['image_source'][i],\n",
        "                                       hotels_170k['upload_timestamp'][i], hotels_170k['serial_number'][i]] "
      ],
      "metadata": {
        "id": "0FvbfiDX46hc"
      },
      "execution_count": null,
      "outputs": []
    },
    {
      "cell_type": "code",
      "source": [
        "# Displaying the hotels dataset\n",
        "hotels"
      ],
      "metadata": {
        "colab": {
          "base_uri": "https://localhost:8080/",
          "height": 424
        },
        "id": "p6WfmE6e5CjT",
        "outputId": "51581e65-a4f4-4319-fdf0-8d41e8164ba5"
      },
      "execution_count": null,
      "outputs": [
        {
          "output_type": "execute_result",
          "data": {
            "text/html": [
              "<div>\n",
              "<style scoped>\n",
              "    .dataframe tbody tr th:only-of-type {\n",
              "        vertical-align: middle;\n",
              "    }\n",
              "\n",
              "    .dataframe tbody tr th {\n",
              "        vertical-align: top;\n",
              "    }\n",
              "\n",
              "    .dataframe thead th {\n",
              "        text-align: right;\n",
              "    }\n",
              "</style>\n",
              "<table border=\"1\" class=\"dataframe\">\n",
              "  <thead>\n",
              "    <tr style=\"text-align: right;\">\n",
              "      <th></th>\n",
              "      <th>image_id</th>\n",
              "      <th>hotel_id</th>\n",
              "      <th>image_url</th>\n",
              "      <th>image_source</th>\n",
              "      <th>upload_timestamp</th>\n",
              "      <th>serial_number</th>\n",
              "    </tr>\n",
              "  </thead>\n",
              "  <tbody>\n",
              "    <tr>\n",
              "      <th>0</th>\n",
              "      <td>3485</td>\n",
              "      <td>18187</td>\n",
              "      <td>https://traffickcam.com/images/2016/10/2015090...</td>\n",
              "      <td>traffickcam</td>\n",
              "      <td>9/9/15 17:23</td>\n",
              "      <td>0</td>\n",
              "    </tr>\n",
              "    <tr>\n",
              "      <th>1</th>\n",
              "      <td>3486</td>\n",
              "      <td>18187</td>\n",
              "      <td>https://traffickcam.com/images/2016/10/2015090...</td>\n",
              "      <td>traffickcam</td>\n",
              "      <td>9/9/15 17:23</td>\n",
              "      <td>1</td>\n",
              "    </tr>\n",
              "    <tr>\n",
              "      <th>2</th>\n",
              "      <td>3663</td>\n",
              "      <td>73224</td>\n",
              "      <td>https://traffickcam.com/images/2016/10/2015091...</td>\n",
              "      <td>traffickcam</td>\n",
              "      <td>9/17/15 19:33</td>\n",
              "      <td>2</td>\n",
              "    </tr>\n",
              "    <tr>\n",
              "      <th>3</th>\n",
              "      <td>2586939</td>\n",
              "      <td>86350</td>\n",
              "      <td>https://traffickcam.com/images/2017/2/20160125...</td>\n",
              "      <td>traffickcam</td>\n",
              "      <td>1/25/16 19:12</td>\n",
              "      <td>3</td>\n",
              "    </tr>\n",
              "    <tr>\n",
              "      <th>4</th>\n",
              "      <td>2586950</td>\n",
              "      <td>1533</td>\n",
              "      <td>https://traffickcam.com/images/2017/2/20160125...</td>\n",
              "      <td>traffickcam</td>\n",
              "      <td>1/25/16 17:23</td>\n",
              "      <td>4</td>\n",
              "    </tr>\n",
              "    <tr>\n",
              "      <th>...</th>\n",
              "      <td>...</td>\n",
              "      <td>...</td>\n",
              "      <td>...</td>\n",
              "      <td>...</td>\n",
              "      <td>...</td>\n",
              "      <td>...</td>\n",
              "    </tr>\n",
              "    <tr>\n",
              "      <th>160048</th>\n",
              "      <td>7057086</td>\n",
              "      <td>7671</td>\n",
              "      <td>https://i.travelapi.com/hotels/1000000/50000/4...</td>\n",
              "      <td>travel_website</td>\n",
              "      <td>2019-12-19 20:39:39</td>\n",
              "      <td>169994</td>\n",
              "    </tr>\n",
              "    <tr>\n",
              "      <th>160049</th>\n",
              "      <td>7057087</td>\n",
              "      <td>7671</td>\n",
              "      <td>https://i.travelapi.com/hotels/1000000/50000/4...</td>\n",
              "      <td>travel_website</td>\n",
              "      <td>2019-12-19 20:39:39</td>\n",
              "      <td>169995</td>\n",
              "    </tr>\n",
              "    <tr>\n",
              "      <th>160050</th>\n",
              "      <td>7057088</td>\n",
              "      <td>7671</td>\n",
              "      <td>https://i.travelapi.com/hotels/1000000/50000/4...</td>\n",
              "      <td>travel_website</td>\n",
              "      <td>2019-12-19 20:39:39</td>\n",
              "      <td>169996</td>\n",
              "    </tr>\n",
              "    <tr>\n",
              "      <th>160051</th>\n",
              "      <td>7057089</td>\n",
              "      <td>7671</td>\n",
              "      <td>https://i.travelapi.com/hotels/1000000/50000/4...</td>\n",
              "      <td>travel_website</td>\n",
              "      <td>2019-12-19 20:39:39</td>\n",
              "      <td>169997</td>\n",
              "    </tr>\n",
              "    <tr>\n",
              "      <th>160052</th>\n",
              "      <td>7057090</td>\n",
              "      <td>7671</td>\n",
              "      <td>https://i.travelapi.com/hotels/1000000/50000/4...</td>\n",
              "      <td>travel_website</td>\n",
              "      <td>2019-12-19 20:39:39</td>\n",
              "      <td>169998</td>\n",
              "    </tr>\n",
              "  </tbody>\n",
              "</table>\n",
              "<p>160053 rows × 6 columns</p>\n",
              "</div>"
            ],
            "text/plain": [
              "       image_id hotel_id  ...     upload_timestamp serial_number\n",
              "0          3485    18187  ...         9/9/15 17:23             0\n",
              "1          3486    18187  ...         9/9/15 17:23             1\n",
              "2          3663    73224  ...        9/17/15 19:33             2\n",
              "3       2586939    86350  ...        1/25/16 19:12             3\n",
              "4       2586950     1533  ...        1/25/16 17:23             4\n",
              "...         ...      ...  ...                  ...           ...\n",
              "160048  7057086     7671  ...  2019-12-19 20:39:39        169994\n",
              "160049  7057087     7671  ...  2019-12-19 20:39:39        169995\n",
              "160050  7057088     7671  ...  2019-12-19 20:39:39        169996\n",
              "160051  7057089     7671  ...  2019-12-19 20:39:39        169997\n",
              "160052  7057090     7671  ...  2019-12-19 20:39:39        169998\n",
              "\n",
              "[160053 rows x 6 columns]"
            ]
          },
          "metadata": {},
          "execution_count": 32
        }
      ]
    },
    {
      "cell_type": "markdown",
      "source": [
        "We created a dataframe with two columns\n",
        "*  hotel_id\n",
        "*  Count of the number of images corresponding to that hotel_id\n",
        "\n",
        "We sorted the dataframe in descending order of the count. "
      ],
      "metadata": {
        "id": "lKCU1zTxH4yE"
      }
    },
    {
      "cell_type": "code",
      "source": [
        "hotels_id_dist = pd.DataFrame(hotels['hotel_id'].value_counts()).reset_index()"
      ],
      "metadata": {
        "id": "WKRKb-HlM8m9"
      },
      "execution_count": null,
      "outputs": []
    },
    {
      "cell_type": "code",
      "source": [
        "# Renaming the columns of the dataframe\n",
        "hotels_id_dist.rename(columns={'index': 'hotel_id', 'hotel_id': 'count'}, inplace=True)"
      ],
      "metadata": {
        "id": "lbRJSYE7M_tY"
      },
      "execution_count": null,
      "outputs": []
    },
    {
      "cell_type": "code",
      "source": [
        "# Displaying the dataframe\n",
        "hotels_id_dist"
      ],
      "metadata": {
        "colab": {
          "base_uri": "https://localhost:8080/",
          "height": 424
        },
        "id": "tmBXdaV5NBhS",
        "outputId": "60e07df1-cb02-4f91-fce7-fc13f1be6829"
      },
      "execution_count": null,
      "outputs": [
        {
          "output_type": "execute_result",
          "data": {
            "text/html": [
              "<div>\n",
              "<style scoped>\n",
              "    .dataframe tbody tr th:only-of-type {\n",
              "        vertical-align: middle;\n",
              "    }\n",
              "\n",
              "    .dataframe tbody tr th {\n",
              "        vertical-align: top;\n",
              "    }\n",
              "\n",
              "    .dataframe thead th {\n",
              "        text-align: right;\n",
              "    }\n",
              "</style>\n",
              "<table border=\"1\" class=\"dataframe\">\n",
              "  <thead>\n",
              "    <tr style=\"text-align: right;\">\n",
              "      <th></th>\n",
              "      <th>hotel_id</th>\n",
              "      <th>count</th>\n",
              "    </tr>\n",
              "  </thead>\n",
              "  <tbody>\n",
              "    <tr>\n",
              "      <th>0</th>\n",
              "      <td>6798</td>\n",
              "      <td>328</td>\n",
              "    </tr>\n",
              "    <tr>\n",
              "      <th>1</th>\n",
              "      <td>1240</td>\n",
              "      <td>260</td>\n",
              "    </tr>\n",
              "    <tr>\n",
              "      <th>2</th>\n",
              "      <td>873</td>\n",
              "      <td>244</td>\n",
              "    </tr>\n",
              "    <tr>\n",
              "      <th>3</th>\n",
              "      <td>5201</td>\n",
              "      <td>166</td>\n",
              "    </tr>\n",
              "    <tr>\n",
              "      <th>4</th>\n",
              "      <td>6611</td>\n",
              "      <td>165</td>\n",
              "    </tr>\n",
              "    <tr>\n",
              "      <th>...</th>\n",
              "      <td>...</td>\n",
              "      <td>...</td>\n",
              "    </tr>\n",
              "    <tr>\n",
              "      <th>15315</th>\n",
              "      <td>12080</td>\n",
              "      <td>1</td>\n",
              "    </tr>\n",
              "    <tr>\n",
              "      <th>15316</th>\n",
              "      <td>12068</td>\n",
              "      <td>1</td>\n",
              "    </tr>\n",
              "    <tr>\n",
              "      <th>15317</th>\n",
              "      <td>12064</td>\n",
              "      <td>1</td>\n",
              "    </tr>\n",
              "    <tr>\n",
              "      <th>15318</th>\n",
              "      <td>26906</td>\n",
              "      <td>1</td>\n",
              "    </tr>\n",
              "    <tr>\n",
              "      <th>15319</th>\n",
              "      <td>131072</td>\n",
              "      <td>1</td>\n",
              "    </tr>\n",
              "  </tbody>\n",
              "</table>\n",
              "<p>15320 rows × 2 columns</p>\n",
              "</div>"
            ],
            "text/plain": [
              "       hotel_id  count\n",
              "0          6798    328\n",
              "1          1240    260\n",
              "2           873    244\n",
              "3          5201    166\n",
              "4          6611    165\n",
              "...         ...    ...\n",
              "15315     12080      1\n",
              "15316     12068      1\n",
              "15317     12064      1\n",
              "15318     26906      1\n",
              "15319    131072      1\n",
              "\n",
              "[15320 rows x 2 columns]"
            ]
          },
          "metadata": {},
          "execution_count": 35
        }
      ]
    },
    {
      "cell_type": "code",
      "source": [
        "# Getting the top 50 classes with the most number of images from the dataframe\n",
        "top_50_hotels_dist = hotels_id_dist['hotel_id'][:50]"
      ],
      "metadata": {
        "id": "jLH4B-JDNHYY"
      },
      "execution_count": null,
      "outputs": []
    },
    {
      "cell_type": "code",
      "source": [
        "top_50_hotels_dist = list(top_50_hotels_dist)"
      ],
      "metadata": {
        "id": "pPECxJ4SNP7h"
      },
      "execution_count": null,
      "outputs": []
    },
    {
      "cell_type": "code",
      "source": [
        "# Creating a blank dataframe. We will populate it with \n",
        "# all the information corresponding to the top 50 classes.\n",
        "\n",
        "top_50_hotels = pd.DataFrame(columns=['image_id','hotel_id','image_url','image_source','upload_timestamp', 'serial_number'])"
      ],
      "metadata": {
        "id": "PDT-fERFNR2d"
      },
      "execution_count": null,
      "outputs": []
    },
    {
      "cell_type": "code",
      "source": [
        "for i in range(0, len(hotels['hotel_id'])):\n",
        "  try:\n",
        "    if hotels['hotel_id'][i] in top_50_hotels_dist:\n",
        "      top_50_hotels.loc[len(top_50_hotels)] = [hotels['image_id'][i], hotels['hotel_id'][i],\n",
        "                                               hotels['image_url'][i], hotels['image_source'][i],\n",
        "                                               hotels['upload_timestamp'][i], hotels['serial_number'][i]] \n",
        "  except:\n",
        "    print(i)"
      ],
      "metadata": {
        "id": "_e9l8ZfkNTcW"
      },
      "execution_count": null,
      "outputs": []
    },
    {
      "cell_type": "code",
      "source": [
        "top_50_hotels"
      ],
      "metadata": {
        "colab": {
          "base_uri": "https://localhost:8080/",
          "height": 424
        },
        "id": "Fkm9I_kJNXYU",
        "outputId": "079bfe72-5241-4920-e4f7-91735ee12462"
      },
      "execution_count": null,
      "outputs": [
        {
          "output_type": "execute_result",
          "data": {
            "text/html": [
              "<div>\n",
              "<style scoped>\n",
              "    .dataframe tbody tr th:only-of-type {\n",
              "        vertical-align: middle;\n",
              "    }\n",
              "\n",
              "    .dataframe tbody tr th {\n",
              "        vertical-align: top;\n",
              "    }\n",
              "\n",
              "    .dataframe thead th {\n",
              "        text-align: right;\n",
              "    }\n",
              "</style>\n",
              "<table border=\"1\" class=\"dataframe\">\n",
              "  <thead>\n",
              "    <tr style=\"text-align: right;\">\n",
              "      <th></th>\n",
              "      <th>image_id</th>\n",
              "      <th>hotel_id</th>\n",
              "      <th>image_url</th>\n",
              "      <th>image_source</th>\n",
              "      <th>upload_timestamp</th>\n",
              "      <th>serial_number</th>\n",
              "    </tr>\n",
              "  </thead>\n",
              "  <tbody>\n",
              "    <tr>\n",
              "      <th>0</th>\n",
              "      <td>2603768</td>\n",
              "      <td>6111</td>\n",
              "      <td>https://traffickcam.com/images/2017/7/20160630...</td>\n",
              "      <td>traffickcam</td>\n",
              "      <td>6/30/16 10:01</td>\n",
              "      <td>3152</td>\n",
              "    </tr>\n",
              "    <tr>\n",
              "      <th>1</th>\n",
              "      <td>2603769</td>\n",
              "      <td>6111</td>\n",
              "      <td>https://traffickcam.com/images/2017/7/20160630...</td>\n",
              "      <td>traffickcam</td>\n",
              "      <td>6/30/16 10:01</td>\n",
              "      <td>3153</td>\n",
              "    </tr>\n",
              "    <tr>\n",
              "      <th>2</th>\n",
              "      <td>2626781</td>\n",
              "      <td>1719</td>\n",
              "      <td>https://traffickcam.com/images/2017/8/20160723...</td>\n",
              "      <td>traffickcam</td>\n",
              "      <td>7/23/16 20:55</td>\n",
              "      <td>7463</td>\n",
              "    </tr>\n",
              "    <tr>\n",
              "      <th>3</th>\n",
              "      <td>2628735</td>\n",
              "      <td>4656</td>\n",
              "      <td>https://traffickcam.com/images/2017/8/20160726...</td>\n",
              "      <td>traffickcam</td>\n",
              "      <td>7/26/16 18:36</td>\n",
              "      <td>7869</td>\n",
              "    </tr>\n",
              "    <tr>\n",
              "      <th>4</th>\n",
              "      <td>2628736</td>\n",
              "      <td>4656</td>\n",
              "      <td>https://traffickcam.com/images/2017/8/20160726...</td>\n",
              "      <td>traffickcam</td>\n",
              "      <td>7/26/16 18:36</td>\n",
              "      <td>7870</td>\n",
              "    </tr>\n",
              "    <tr>\n",
              "      <th>...</th>\n",
              "      <td>...</td>\n",
              "      <td>...</td>\n",
              "      <td>...</td>\n",
              "      <td>...</td>\n",
              "      <td>...</td>\n",
              "      <td>...</td>\n",
              "    </tr>\n",
              "    <tr>\n",
              "      <th>6125</th>\n",
              "      <td>7412172</td>\n",
              "      <td>7670</td>\n",
              "      <td>https://i.travelapi.com/hotels/3000000/2820000...</td>\n",
              "      <td>travel_website</td>\n",
              "      <td>2019-12-20 10:55:27</td>\n",
              "      <td>169984</td>\n",
              "    </tr>\n",
              "    <tr>\n",
              "      <th>6126</th>\n",
              "      <td>7412173</td>\n",
              "      <td>7670</td>\n",
              "      <td>https://i.travelapi.com/hotels/3000000/2820000...</td>\n",
              "      <td>travel_website</td>\n",
              "      <td>2019-12-20 10:55:27</td>\n",
              "      <td>169985</td>\n",
              "    </tr>\n",
              "    <tr>\n",
              "      <th>6127</th>\n",
              "      <td>7412174</td>\n",
              "      <td>7670</td>\n",
              "      <td>https://i.travelapi.com/hotels/3000000/2820000...</td>\n",
              "      <td>travel_website</td>\n",
              "      <td>2019-12-20 10:55:27</td>\n",
              "      <td>169986</td>\n",
              "    </tr>\n",
              "    <tr>\n",
              "      <th>6128</th>\n",
              "      <td>7412175</td>\n",
              "      <td>7670</td>\n",
              "      <td>https://i.travelapi.com/hotels/3000000/2820000...</td>\n",
              "      <td>travel_website</td>\n",
              "      <td>2019-12-20 10:55:27</td>\n",
              "      <td>169987</td>\n",
              "    </tr>\n",
              "    <tr>\n",
              "      <th>6129</th>\n",
              "      <td>7412176</td>\n",
              "      <td>7670</td>\n",
              "      <td>https://i.travelapi.com/hotels/3000000/2820000...</td>\n",
              "      <td>travel_website</td>\n",
              "      <td>2019-12-20 10:55:27</td>\n",
              "      <td>169988</td>\n",
              "    </tr>\n",
              "  </tbody>\n",
              "</table>\n",
              "<p>6130 rows × 6 columns</p>\n",
              "</div>"
            ],
            "text/plain": [
              "     image_id hotel_id  ...     upload_timestamp serial_number\n",
              "0     2603768     6111  ...        6/30/16 10:01          3152\n",
              "1     2603769     6111  ...        6/30/16 10:01          3153\n",
              "2     2626781     1719  ...        7/23/16 20:55          7463\n",
              "3     2628735     4656  ...        7/26/16 18:36          7869\n",
              "4     2628736     4656  ...        7/26/16 18:36          7870\n",
              "...       ...      ...  ...                  ...           ...\n",
              "6125  7412172     7670  ...  2019-12-20 10:55:27        169984\n",
              "6126  7412173     7670  ...  2019-12-20 10:55:27        169985\n",
              "6127  7412174     7670  ...  2019-12-20 10:55:27        169986\n",
              "6128  7412175     7670  ...  2019-12-20 10:55:27        169987\n",
              "6129  7412176     7670  ...  2019-12-20 10:55:27        169988\n",
              "\n",
              "[6130 rows x 6 columns]"
            ]
          },
          "metadata": {},
          "execution_count": 42
        }
      ]
    },
    {
      "cell_type": "code",
      "source": [
        "# Label encoding the hotel_id column and storing the labels in the new_hotel_id column\n",
        "from sklearn import preprocessing\n",
        "\n",
        "label_encoder = preprocessing.LabelEncoder()\n",
        "top_50_hotels['new_hotel_id'] = label_encoder.fit_transform(top_50_hotels['hotel_id'])\n",
        "top_50_hotels.head()"
      ],
      "metadata": {
        "colab": {
          "base_uri": "https://localhost:8080/",
          "height": 206
        },
        "id": "6Ypp-9BsN2F9",
        "outputId": "f510ae06-c00e-4ac5-876f-b247b40a1c3a"
      },
      "execution_count": null,
      "outputs": [
        {
          "output_type": "execute_result",
          "data": {
            "text/html": [
              "<div>\n",
              "<style scoped>\n",
              "    .dataframe tbody tr th:only-of-type {\n",
              "        vertical-align: middle;\n",
              "    }\n",
              "\n",
              "    .dataframe tbody tr th {\n",
              "        vertical-align: top;\n",
              "    }\n",
              "\n",
              "    .dataframe thead th {\n",
              "        text-align: right;\n",
              "    }\n",
              "</style>\n",
              "<table border=\"1\" class=\"dataframe\">\n",
              "  <thead>\n",
              "    <tr style=\"text-align: right;\">\n",
              "      <th></th>\n",
              "      <th>image_id</th>\n",
              "      <th>hotel_id</th>\n",
              "      <th>image_url</th>\n",
              "      <th>image_source</th>\n",
              "      <th>upload_timestamp</th>\n",
              "      <th>serial_number</th>\n",
              "      <th>new_hotel_id</th>\n",
              "    </tr>\n",
              "  </thead>\n",
              "  <tbody>\n",
              "    <tr>\n",
              "      <th>0</th>\n",
              "      <td>2603768</td>\n",
              "      <td>6111</td>\n",
              "      <td>https://traffickcam.com/images/2017/7/20160630...</td>\n",
              "      <td>traffickcam</td>\n",
              "      <td>6/30/16 10:01</td>\n",
              "      <td>3152</td>\n",
              "      <td>38</td>\n",
              "    </tr>\n",
              "    <tr>\n",
              "      <th>1</th>\n",
              "      <td>2603769</td>\n",
              "      <td>6111</td>\n",
              "      <td>https://traffickcam.com/images/2017/7/20160630...</td>\n",
              "      <td>traffickcam</td>\n",
              "      <td>6/30/16 10:01</td>\n",
              "      <td>3153</td>\n",
              "      <td>38</td>\n",
              "    </tr>\n",
              "    <tr>\n",
              "      <th>2</th>\n",
              "      <td>2626781</td>\n",
              "      <td>1719</td>\n",
              "      <td>https://traffickcam.com/images/2017/8/20160723...</td>\n",
              "      <td>traffickcam</td>\n",
              "      <td>7/23/16 20:55</td>\n",
              "      <td>7463</td>\n",
              "      <td>9</td>\n",
              "    </tr>\n",
              "    <tr>\n",
              "      <th>3</th>\n",
              "      <td>2628735</td>\n",
              "      <td>4656</td>\n",
              "      <td>https://traffickcam.com/images/2017/8/20160726...</td>\n",
              "      <td>traffickcam</td>\n",
              "      <td>7/26/16 18:36</td>\n",
              "      <td>7869</td>\n",
              "      <td>30</td>\n",
              "    </tr>\n",
              "    <tr>\n",
              "      <th>4</th>\n",
              "      <td>2628736</td>\n",
              "      <td>4656</td>\n",
              "      <td>https://traffickcam.com/images/2017/8/20160726...</td>\n",
              "      <td>traffickcam</td>\n",
              "      <td>7/26/16 18:36</td>\n",
              "      <td>7870</td>\n",
              "      <td>30</td>\n",
              "    </tr>\n",
              "  </tbody>\n",
              "</table>\n",
              "</div>"
            ],
            "text/plain": [
              "  image_id hotel_id  ... serial_number new_hotel_id\n",
              "0  2603768     6111  ...          3152           38\n",
              "1  2603769     6111  ...          3153           38\n",
              "2  2626781     1719  ...          7463            9\n",
              "3  2628735     4656  ...          7869           30\n",
              "4  2628736     4656  ...          7870           30\n",
              "\n",
              "[5 rows x 7 columns]"
            ]
          },
          "metadata": {},
          "execution_count": 45
        }
      ]
    },
    {
      "cell_type": "code",
      "source": [
        "# Getting 20 percent of the data from the dataset using startified sampling.\n",
        "top_50_hotels_20perc = top_50_hotels.groupby('hotel_id', group_keys=False).apply(lambda x: x.sample(frac=0.2))"
      ],
      "metadata": {
        "id": "DtBC4SLyN68G"
      },
      "execution_count": null,
      "outputs": []
    },
    {
      "cell_type": "code",
      "source": [
        "top_50_hotels_20perc"
      ],
      "metadata": {
        "colab": {
          "base_uri": "https://localhost:8080/",
          "height": 424
        },
        "id": "hB-9W-80N-N4",
        "outputId": "59dfd900-05f8-4f27-ffde-a264c64acb2e"
      },
      "execution_count": null,
      "outputs": [
        {
          "output_type": "execute_result",
          "data": {
            "text/html": [
              "<div>\n",
              "<style scoped>\n",
              "    .dataframe tbody tr th:only-of-type {\n",
              "        vertical-align: middle;\n",
              "    }\n",
              "\n",
              "    .dataframe tbody tr th {\n",
              "        vertical-align: top;\n",
              "    }\n",
              "\n",
              "    .dataframe thead th {\n",
              "        text-align: right;\n",
              "    }\n",
              "</style>\n",
              "<table border=\"1\" class=\"dataframe\">\n",
              "  <thead>\n",
              "    <tr style=\"text-align: right;\">\n",
              "      <th></th>\n",
              "      <th>image_id</th>\n",
              "      <th>hotel_id</th>\n",
              "      <th>image_url</th>\n",
              "      <th>image_source</th>\n",
              "      <th>upload_timestamp</th>\n",
              "      <th>serial_number</th>\n",
              "      <th>new_hotel_id</th>\n",
              "    </tr>\n",
              "  </thead>\n",
              "  <tbody>\n",
              "    <tr>\n",
              "      <th>66</th>\n",
              "      <td>6503470</td>\n",
              "      <td>414</td>\n",
              "      <td>https://i.travelapi.com/hotels/1000000/670000/...</td>\n",
              "      <td>travel_website</td>\n",
              "      <td>2019-12-19 6:46:22</td>\n",
              "      <td>45044</td>\n",
              "      <td>0</td>\n",
              "    </tr>\n",
              "    <tr>\n",
              "      <th>72</th>\n",
              "      <td>6503476</td>\n",
              "      <td>414</td>\n",
              "      <td>https://i.travelapi.com/hotels/1000000/670000/...</td>\n",
              "      <td>travel_website</td>\n",
              "      <td>2019-12-19 6:46:22</td>\n",
              "      <td>45050</td>\n",
              "      <td>0</td>\n",
              "    </tr>\n",
              "    <tr>\n",
              "      <th>97</th>\n",
              "      <td>6503524</td>\n",
              "      <td>414</td>\n",
              "      <td>https://i.travelapi.com/hotels/1000000/670000/...</td>\n",
              "      <td>travel_website</td>\n",
              "      <td>2019-12-19 6:48:09</td>\n",
              "      <td>45075</td>\n",
              "      <td>0</td>\n",
              "    </tr>\n",
              "    <tr>\n",
              "      <th>140</th>\n",
              "      <td>6503567</td>\n",
              "      <td>414</td>\n",
              "      <td>https://i.travelapi.com/hotels/1000000/670000/...</td>\n",
              "      <td>travel_website</td>\n",
              "      <td>2019-12-19 6:48:09</td>\n",
              "      <td>45118</td>\n",
              "      <td>0</td>\n",
              "    </tr>\n",
              "    <tr>\n",
              "      <th>114</th>\n",
              "      <td>6503541</td>\n",
              "      <td>414</td>\n",
              "      <td>https://i.travelapi.com/hotels/1000000/670000/...</td>\n",
              "      <td>travel_website</td>\n",
              "      <td>2019-12-19 6:48:09</td>\n",
              "      <td>45092</td>\n",
              "      <td>0</td>\n",
              "    </tr>\n",
              "    <tr>\n",
              "      <th>...</th>\n",
              "      <td>...</td>\n",
              "      <td>...</td>\n",
              "      <td>...</td>\n",
              "      <td>...</td>\n",
              "      <td>...</td>\n",
              "      <td>...</td>\n",
              "      <td>...</td>\n",
              "    </tr>\n",
              "    <tr>\n",
              "      <th>6054</th>\n",
              "      <td>7412101</td>\n",
              "      <td>7670</td>\n",
              "      <td>https://i.travelapi.com/hotels/3000000/2820000...</td>\n",
              "      <td>travel_website</td>\n",
              "      <td>2019-12-20 10:55:27</td>\n",
              "      <td>169913</td>\n",
              "      <td>49</td>\n",
              "    </tr>\n",
              "    <tr>\n",
              "      <th>6041</th>\n",
              "      <td>7412088</td>\n",
              "      <td>7670</td>\n",
              "      <td>https://i.travelapi.com/hotels/3000000/2820000...</td>\n",
              "      <td>travel_website</td>\n",
              "      <td>2019-12-20 10:55:27</td>\n",
              "      <td>169900</td>\n",
              "      <td>49</td>\n",
              "    </tr>\n",
              "    <tr>\n",
              "      <th>6097</th>\n",
              "      <td>7412144</td>\n",
              "      <td>7670</td>\n",
              "      <td>https://i.travelapi.com/hotels/3000000/2820000...</td>\n",
              "      <td>travel_website</td>\n",
              "      <td>2019-12-20 10:55:27</td>\n",
              "      <td>169956</td>\n",
              "      <td>49</td>\n",
              "    </tr>\n",
              "    <tr>\n",
              "      <th>6082</th>\n",
              "      <td>7412129</td>\n",
              "      <td>7670</td>\n",
              "      <td>https://i.travelapi.com/hotels/3000000/2820000...</td>\n",
              "      <td>travel_website</td>\n",
              "      <td>2019-12-20 10:55:27</td>\n",
              "      <td>169941</td>\n",
              "      <td>49</td>\n",
              "    </tr>\n",
              "    <tr>\n",
              "      <th>6040</th>\n",
              "      <td>7412087</td>\n",
              "      <td>7670</td>\n",
              "      <td>https://i.travelapi.com/hotels/3000000/2820000...</td>\n",
              "      <td>travel_website</td>\n",
              "      <td>2019-12-20 10:55:27</td>\n",
              "      <td>169899</td>\n",
              "      <td>49</td>\n",
              "    </tr>\n",
              "  </tbody>\n",
              "</table>\n",
              "<p>1228 rows × 7 columns</p>\n",
              "</div>"
            ],
            "text/plain": [
              "     image_id hotel_id  ... serial_number new_hotel_id\n",
              "66    6503470      414  ...         45044            0\n",
              "72    6503476      414  ...         45050            0\n",
              "97    6503524      414  ...         45075            0\n",
              "140   6503567      414  ...         45118            0\n",
              "114   6503541      414  ...         45092            0\n",
              "...       ...      ...  ...           ...          ...\n",
              "6054  7412101     7670  ...        169913           49\n",
              "6041  7412088     7670  ...        169900           49\n",
              "6097  7412144     7670  ...        169956           49\n",
              "6082  7412129     7670  ...        169941           49\n",
              "6040  7412087     7670  ...        169899           49\n",
              "\n",
              "[1228 rows x 7 columns]"
            ]
          },
          "metadata": {},
          "execution_count": 47
        }
      ]
    },
    {
      "cell_type": "code",
      "source": [
        "# Storing 50 percent of 20 percent of the hotels_top_50 dataset to create validation subset (total 10% of the original dataset)\n",
        "top_50_hotels_validation = top_50_hotels_20perc.groupby('hotel_id', group_keys=False).apply(lambda x: x.sample(frac=0.5))"
      ],
      "metadata": {
        "id": "WhW9WOfNOAVh"
      },
      "execution_count": null,
      "outputs": []
    },
    {
      "cell_type": "code",
      "source": [
        "top_50_hotels_validation"
      ],
      "metadata": {
        "colab": {
          "base_uri": "https://localhost:8080/",
          "height": 424
        },
        "id": "e3-yViJNOEL8",
        "outputId": "8be10305-c1ea-44c2-b358-67e416157c81"
      },
      "execution_count": null,
      "outputs": [
        {
          "output_type": "execute_result",
          "data": {
            "text/html": [
              "<div>\n",
              "<style scoped>\n",
              "    .dataframe tbody tr th:only-of-type {\n",
              "        vertical-align: middle;\n",
              "    }\n",
              "\n",
              "    .dataframe tbody tr th {\n",
              "        vertical-align: top;\n",
              "    }\n",
              "\n",
              "    .dataframe thead th {\n",
              "        text-align: right;\n",
              "    }\n",
              "</style>\n",
              "<table border=\"1\" class=\"dataframe\">\n",
              "  <thead>\n",
              "    <tr style=\"text-align: right;\">\n",
              "      <th></th>\n",
              "      <th>image_id</th>\n",
              "      <th>hotel_id</th>\n",
              "      <th>image_url</th>\n",
              "      <th>image_source</th>\n",
              "      <th>upload_timestamp</th>\n",
              "      <th>serial_number</th>\n",
              "      <th>new_hotel_id</th>\n",
              "    </tr>\n",
              "  </thead>\n",
              "  <tbody>\n",
              "    <tr>\n",
              "      <th>82</th>\n",
              "      <td>6503486</td>\n",
              "      <td>414</td>\n",
              "      <td>https://i.travelapi.com/hotels/1000000/670000/...</td>\n",
              "      <td>travel_website</td>\n",
              "      <td>2019-12-19 6:46:22</td>\n",
              "      <td>45060</td>\n",
              "      <td>0</td>\n",
              "    </tr>\n",
              "    <tr>\n",
              "      <th>138</th>\n",
              "      <td>6503565</td>\n",
              "      <td>414</td>\n",
              "      <td>https://i.travelapi.com/hotels/1000000/670000/...</td>\n",
              "      <td>travel_website</td>\n",
              "      <td>2019-12-19 6:48:09</td>\n",
              "      <td>45116</td>\n",
              "      <td>0</td>\n",
              "    </tr>\n",
              "    <tr>\n",
              "      <th>141</th>\n",
              "      <td>6503568</td>\n",
              "      <td>414</td>\n",
              "      <td>https://i.travelapi.com/hotels/1000000/670000/...</td>\n",
              "      <td>travel_website</td>\n",
              "      <td>2019-12-19 6:48:09</td>\n",
              "      <td>45119</td>\n",
              "      <td>0</td>\n",
              "    </tr>\n",
              "    <tr>\n",
              "      <th>61</th>\n",
              "      <td>6503465</td>\n",
              "      <td>414</td>\n",
              "      <td>https://i.travelapi.com/hotels/1000000/670000/...</td>\n",
              "      <td>travel_website</td>\n",
              "      <td>2019-12-19 6:46:22</td>\n",
              "      <td>45039</td>\n",
              "      <td>0</td>\n",
              "    </tr>\n",
              "    <tr>\n",
              "      <th>145</th>\n",
              "      <td>6503572</td>\n",
              "      <td>414</td>\n",
              "      <td>https://i.travelapi.com/hotels/1000000/670000/...</td>\n",
              "      <td>travel_website</td>\n",
              "      <td>2019-12-19 6:48:09</td>\n",
              "      <td>45123</td>\n",
              "      <td>0</td>\n",
              "    </tr>\n",
              "    <tr>\n",
              "      <th>...</th>\n",
              "      <td>...</td>\n",
              "      <td>...</td>\n",
              "      <td>...</td>\n",
              "      <td>...</td>\n",
              "      <td>...</td>\n",
              "      <td>...</td>\n",
              "      <td>...</td>\n",
              "    </tr>\n",
              "    <tr>\n",
              "      <th>6071</th>\n",
              "      <td>7412118</td>\n",
              "      <td>7670</td>\n",
              "      <td>https://i.travelapi.com/hotels/3000000/2820000...</td>\n",
              "      <td>travel_website</td>\n",
              "      <td>2019-12-20 10:55:27</td>\n",
              "      <td>169930</td>\n",
              "      <td>49</td>\n",
              "    </tr>\n",
              "    <tr>\n",
              "      <th>6066</th>\n",
              "      <td>7412113</td>\n",
              "      <td>7670</td>\n",
              "      <td>https://i.travelapi.com/hotels/3000000/2820000...</td>\n",
              "      <td>travel_website</td>\n",
              "      <td>2019-12-20 10:55:27</td>\n",
              "      <td>169925</td>\n",
              "      <td>49</td>\n",
              "    </tr>\n",
              "    <tr>\n",
              "      <th>6082</th>\n",
              "      <td>7412129</td>\n",
              "      <td>7670</td>\n",
              "      <td>https://i.travelapi.com/hotels/3000000/2820000...</td>\n",
              "      <td>travel_website</td>\n",
              "      <td>2019-12-20 10:55:27</td>\n",
              "      <td>169941</td>\n",
              "      <td>49</td>\n",
              "    </tr>\n",
              "    <tr>\n",
              "      <th>6052</th>\n",
              "      <td>7412099</td>\n",
              "      <td>7670</td>\n",
              "      <td>https://i.travelapi.com/hotels/3000000/2820000...</td>\n",
              "      <td>travel_website</td>\n",
              "      <td>2019-12-20 10:55:27</td>\n",
              "      <td>169911</td>\n",
              "      <td>49</td>\n",
              "    </tr>\n",
              "    <tr>\n",
              "      <th>6128</th>\n",
              "      <td>7412175</td>\n",
              "      <td>7670</td>\n",
              "      <td>https://i.travelapi.com/hotels/3000000/2820000...</td>\n",
              "      <td>travel_website</td>\n",
              "      <td>2019-12-20 10:55:27</td>\n",
              "      <td>169987</td>\n",
              "      <td>49</td>\n",
              "    </tr>\n",
              "  </tbody>\n",
              "</table>\n",
              "<p>614 rows × 7 columns</p>\n",
              "</div>"
            ],
            "text/plain": [
              "     image_id hotel_id  ... serial_number new_hotel_id\n",
              "82    6503486      414  ...         45060            0\n",
              "138   6503565      414  ...         45116            0\n",
              "141   6503568      414  ...         45119            0\n",
              "61    6503465      414  ...         45039            0\n",
              "145   6503572      414  ...         45123            0\n",
              "...       ...      ...  ...           ...          ...\n",
              "6071  7412118     7670  ...        169930           49\n",
              "6066  7412113     7670  ...        169925           49\n",
              "6082  7412129     7670  ...        169941           49\n",
              "6052  7412099     7670  ...        169911           49\n",
              "6128  7412175     7670  ...        169987           49\n",
              "\n",
              "[614 rows x 7 columns]"
            ]
          },
          "metadata": {},
          "execution_count": 49
        }
      ]
    },
    {
      "cell_type": "code",
      "source": [
        "# Creating a blank dataframe for the testing dataset. This dataframe will be populated with the remaining data \n",
        "# from the 20 per cent dataset which was not in the validation subset.\n",
        "top_50_hotels_test = pd.DataFrame(columns=['image_id','hotel_id','image_url','image_source','upload_timestamp', 'serial_number', 'new_hotel_id'])"
      ],
      "metadata": {
        "id": "ljShalJPOZhf"
      },
      "execution_count": null,
      "outputs": []
    },
    {
      "cell_type": "code",
      "source": [
        "top_50_hotels_test"
      ],
      "metadata": {
        "colab": {
          "base_uri": "https://localhost:8080/",
          "height": 49
        },
        "id": "hPvoEkuaOdc6",
        "outputId": "687981df-5fcb-406d-b7b8-e3be7b07caa5"
      },
      "execution_count": null,
      "outputs": [
        {
          "output_type": "execute_result",
          "data": {
            "text/html": [
              "<div>\n",
              "<style scoped>\n",
              "    .dataframe tbody tr th:only-of-type {\n",
              "        vertical-align: middle;\n",
              "    }\n",
              "\n",
              "    .dataframe tbody tr th {\n",
              "        vertical-align: top;\n",
              "    }\n",
              "\n",
              "    .dataframe thead th {\n",
              "        text-align: right;\n",
              "    }\n",
              "</style>\n",
              "<table border=\"1\" class=\"dataframe\">\n",
              "  <thead>\n",
              "    <tr style=\"text-align: right;\">\n",
              "      <th></th>\n",
              "      <th>image_id</th>\n",
              "      <th>hotel_id</th>\n",
              "      <th>image_url</th>\n",
              "      <th>image_source</th>\n",
              "      <th>upload_timestamp</th>\n",
              "      <th>serial_number</th>\n",
              "      <th>new_hotel_id</th>\n",
              "    </tr>\n",
              "  </thead>\n",
              "  <tbody>\n",
              "  </tbody>\n",
              "</table>\n",
              "</div>"
            ],
            "text/plain": [
              "Empty DataFrame\n",
              "Columns: [image_id, hotel_id, image_url, image_source, upload_timestamp, serial_number, new_hotel_id]\n",
              "Index: []"
            ]
          },
          "metadata": {},
          "execution_count": 52
        }
      ]
    },
    {
      "cell_type": "code",
      "source": [
        "for i in range(0, len(top_50_hotels_20perc['hotel_id'])):\n",
        "    if top_50_hotels_20perc.iloc[i]['serial_number'] not in list(top_50_hotels_validation['serial_number']):\n",
        "      top_50_hotels_test.loc[len(top_50_hotels_test)] = [top_50_hotels_20perc.iloc[i]['image_id'], top_50_hotels_20perc.iloc[i]['hotel_id'],\n",
        "                                                        top_50_hotels_20perc.iloc[i]['image_url'], top_50_hotels_20perc.iloc[i]['image_source'],\n",
        "                                                        top_50_hotels_20perc.iloc[i]['upload_timestamp'], top_50_hotels_20perc.iloc[i]['serial_number'],\n",
        "                                                        top_50_hotels_20perc.iloc[i]['new_hotel_id']]"
      ],
      "metadata": {
        "id": "19dUDUSvOfn-"
      },
      "execution_count": null,
      "outputs": []
    },
    {
      "cell_type": "code",
      "source": [
        "top_50_hotels_test"
      ],
      "metadata": {
        "colab": {
          "base_uri": "https://localhost:8080/",
          "height": 424
        },
        "id": "_n67HsviOhXO",
        "outputId": "5aa0f326-a2ea-4138-9b39-c116356ecdf8"
      },
      "execution_count": null,
      "outputs": [
        {
          "output_type": "execute_result",
          "data": {
            "text/html": [
              "<div>\n",
              "<style scoped>\n",
              "    .dataframe tbody tr th:only-of-type {\n",
              "        vertical-align: middle;\n",
              "    }\n",
              "\n",
              "    .dataframe tbody tr th {\n",
              "        vertical-align: top;\n",
              "    }\n",
              "\n",
              "    .dataframe thead th {\n",
              "        text-align: right;\n",
              "    }\n",
              "</style>\n",
              "<table border=\"1\" class=\"dataframe\">\n",
              "  <thead>\n",
              "    <tr style=\"text-align: right;\">\n",
              "      <th></th>\n",
              "      <th>image_id</th>\n",
              "      <th>hotel_id</th>\n",
              "      <th>image_url</th>\n",
              "      <th>image_source</th>\n",
              "      <th>upload_timestamp</th>\n",
              "      <th>serial_number</th>\n",
              "      <th>new_hotel_id</th>\n",
              "    </tr>\n",
              "  </thead>\n",
              "  <tbody>\n",
              "    <tr>\n",
              "      <th>0</th>\n",
              "      <td>6503476</td>\n",
              "      <td>414</td>\n",
              "      <td>https://i.travelapi.com/hotels/1000000/670000/...</td>\n",
              "      <td>travel_website</td>\n",
              "      <td>2019-12-19 6:46:22</td>\n",
              "      <td>45050</td>\n",
              "      <td>0</td>\n",
              "    </tr>\n",
              "    <tr>\n",
              "      <th>1</th>\n",
              "      <td>6503541</td>\n",
              "      <td>414</td>\n",
              "      <td>https://i.travelapi.com/hotels/1000000/670000/...</td>\n",
              "      <td>travel_website</td>\n",
              "      <td>2019-12-19 6:48:09</td>\n",
              "      <td>45092</td>\n",
              "      <td>0</td>\n",
              "    </tr>\n",
              "    <tr>\n",
              "      <th>2</th>\n",
              "      <td>6503549</td>\n",
              "      <td>414</td>\n",
              "      <td>https://i.travelapi.com/hotels/1000000/670000/...</td>\n",
              "      <td>travel_website</td>\n",
              "      <td>2019-12-19 6:48:09</td>\n",
              "      <td>45100</td>\n",
              "      <td>0</td>\n",
              "    </tr>\n",
              "    <tr>\n",
              "      <th>3</th>\n",
              "      <td>6503488</td>\n",
              "      <td>414</td>\n",
              "      <td>https://i.travelapi.com/hotels/1000000/670000/...</td>\n",
              "      <td>travel_website</td>\n",
              "      <td>2019-12-19 6:46:22</td>\n",
              "      <td>45062</td>\n",
              "      <td>0</td>\n",
              "    </tr>\n",
              "    <tr>\n",
              "      <th>4</th>\n",
              "      <td>6503487</td>\n",
              "      <td>414</td>\n",
              "      <td>https://i.travelapi.com/hotels/1000000/670000/...</td>\n",
              "      <td>travel_website</td>\n",
              "      <td>2019-12-19 6:46:22</td>\n",
              "      <td>45061</td>\n",
              "      <td>0</td>\n",
              "    </tr>\n",
              "    <tr>\n",
              "      <th>...</th>\n",
              "      <td>...</td>\n",
              "      <td>...</td>\n",
              "      <td>...</td>\n",
              "      <td>...</td>\n",
              "      <td>...</td>\n",
              "      <td>...</td>\n",
              "      <td>...</td>\n",
              "    </tr>\n",
              "    <tr>\n",
              "      <th>609</th>\n",
              "      <td>7412091</td>\n",
              "      <td>7670</td>\n",
              "      <td>https://i.travelapi.com/hotels/3000000/2820000...</td>\n",
              "      <td>travel_website</td>\n",
              "      <td>2019-12-20 10:55:27</td>\n",
              "      <td>169903</td>\n",
              "      <td>49</td>\n",
              "    </tr>\n",
              "    <tr>\n",
              "      <th>610</th>\n",
              "      <td>7412153</td>\n",
              "      <td>7670</td>\n",
              "      <td>https://i.travelapi.com/hotels/3000000/2820000...</td>\n",
              "      <td>travel_website</td>\n",
              "      <td>2019-12-20 10:55:27</td>\n",
              "      <td>169965</td>\n",
              "      <td>49</td>\n",
              "    </tr>\n",
              "    <tr>\n",
              "      <th>611</th>\n",
              "      <td>7412145</td>\n",
              "      <td>7670</td>\n",
              "      <td>https://i.travelapi.com/hotels/3000000/2820000...</td>\n",
              "      <td>travel_website</td>\n",
              "      <td>2019-12-20 10:55:27</td>\n",
              "      <td>169957</td>\n",
              "      <td>49</td>\n",
              "    </tr>\n",
              "    <tr>\n",
              "      <th>612</th>\n",
              "      <td>7412101</td>\n",
              "      <td>7670</td>\n",
              "      <td>https://i.travelapi.com/hotels/3000000/2820000...</td>\n",
              "      <td>travel_website</td>\n",
              "      <td>2019-12-20 10:55:27</td>\n",
              "      <td>169913</td>\n",
              "      <td>49</td>\n",
              "    </tr>\n",
              "    <tr>\n",
              "      <th>613</th>\n",
              "      <td>7412087</td>\n",
              "      <td>7670</td>\n",
              "      <td>https://i.travelapi.com/hotels/3000000/2820000...</td>\n",
              "      <td>travel_website</td>\n",
              "      <td>2019-12-20 10:55:27</td>\n",
              "      <td>169899</td>\n",
              "      <td>49</td>\n",
              "    </tr>\n",
              "  </tbody>\n",
              "</table>\n",
              "<p>614 rows × 7 columns</p>\n",
              "</div>"
            ],
            "text/plain": [
              "    image_id hotel_id  ... serial_number new_hotel_id\n",
              "0    6503476      414  ...         45050            0\n",
              "1    6503541      414  ...         45092            0\n",
              "2    6503549      414  ...         45100            0\n",
              "3    6503488      414  ...         45062            0\n",
              "4    6503487      414  ...         45061            0\n",
              "..       ...      ...  ...           ...          ...\n",
              "609  7412091     7670  ...        169903           49\n",
              "610  7412153     7670  ...        169965           49\n",
              "611  7412145     7670  ...        169957           49\n",
              "612  7412101     7670  ...        169913           49\n",
              "613  7412087     7670  ...        169899           49\n",
              "\n",
              "[614 rows x 7 columns]"
            ]
          },
          "metadata": {},
          "execution_count": 54
        }
      ]
    },
    {
      "cell_type": "code",
      "source": [
        "# Creating a blank dataframe for the training dataset. This will be populated with 80% of the data in the hotels_top_50 dataset.\n",
        "top_50_hotels_train = pd.DataFrame(columns=['image_id','hotel_id','image_url','image_source','upload_timestamp', 'serial_number', 'new_hotel_id'])"
      ],
      "metadata": {
        "id": "NIIwSetBPBgN"
      },
      "execution_count": null,
      "outputs": []
    },
    {
      "cell_type": "code",
      "source": [
        "top_50_hotels_train"
      ],
      "metadata": {
        "colab": {
          "base_uri": "https://localhost:8080/",
          "height": 49
        },
        "id": "MFpdNEIpPFSp",
        "outputId": "c4c8bb1b-ba40-4e12-c959-aed41fb64bd6"
      },
      "execution_count": null,
      "outputs": [
        {
          "output_type": "execute_result",
          "data": {
            "text/html": [
              "<div>\n",
              "<style scoped>\n",
              "    .dataframe tbody tr th:only-of-type {\n",
              "        vertical-align: middle;\n",
              "    }\n",
              "\n",
              "    .dataframe tbody tr th {\n",
              "        vertical-align: top;\n",
              "    }\n",
              "\n",
              "    .dataframe thead th {\n",
              "        text-align: right;\n",
              "    }\n",
              "</style>\n",
              "<table border=\"1\" class=\"dataframe\">\n",
              "  <thead>\n",
              "    <tr style=\"text-align: right;\">\n",
              "      <th></th>\n",
              "      <th>image_id</th>\n",
              "      <th>hotel_id</th>\n",
              "      <th>image_url</th>\n",
              "      <th>image_source</th>\n",
              "      <th>upload_timestamp</th>\n",
              "      <th>serial_number</th>\n",
              "      <th>new_hotel_id</th>\n",
              "    </tr>\n",
              "  </thead>\n",
              "  <tbody>\n",
              "  </tbody>\n",
              "</table>\n",
              "</div>"
            ],
            "text/plain": [
              "Empty DataFrame\n",
              "Columns: [image_id, hotel_id, image_url, image_source, upload_timestamp, serial_number, new_hotel_id]\n",
              "Index: []"
            ]
          },
          "metadata": {},
          "execution_count": 57
        }
      ]
    },
    {
      "cell_type": "code",
      "source": [
        "for i in range(0, len(top_50_hotels['hotel_id'])):\n",
        "    if top_50_hotels.iloc[i]['serial_number'] not in list(top_50_hotels_20perc['serial_number']):\n",
        "      top_50_hotels_train.loc[len(top_50_hotels_train)] = [top_50_hotels.iloc[i]['image_id'], top_50_hotels.iloc[i]['hotel_id'],\n",
        "                                                           top_50_hotels.iloc[i]['image_url'], top_50_hotels.iloc[i]['image_source'],\n",
        "                                                           top_50_hotels.iloc[i]['upload_timestamp'], top_50_hotels.iloc[i]['serial_number'],\n",
        "                                                           top_50_hotels.iloc[i]['new_hotel_id']]"
      ],
      "metadata": {
        "id": "KWOmaGFXPHLY"
      },
      "execution_count": null,
      "outputs": []
    },
    {
      "cell_type": "code",
      "source": [
        "top_50_hotels_train"
      ],
      "metadata": {
        "colab": {
          "base_uri": "https://localhost:8080/",
          "height": 424
        },
        "id": "SZBXpMPpPJHi",
        "outputId": "6b09a90b-95a7-4a86-ec8e-e9c399edab4d"
      },
      "execution_count": null,
      "outputs": [
        {
          "output_type": "execute_result",
          "data": {
            "text/html": [
              "<div>\n",
              "<style scoped>\n",
              "    .dataframe tbody tr th:only-of-type {\n",
              "        vertical-align: middle;\n",
              "    }\n",
              "\n",
              "    .dataframe tbody tr th {\n",
              "        vertical-align: top;\n",
              "    }\n",
              "\n",
              "    .dataframe thead th {\n",
              "        text-align: right;\n",
              "    }\n",
              "</style>\n",
              "<table border=\"1\" class=\"dataframe\">\n",
              "  <thead>\n",
              "    <tr style=\"text-align: right;\">\n",
              "      <th></th>\n",
              "      <th>image_id</th>\n",
              "      <th>hotel_id</th>\n",
              "      <th>image_url</th>\n",
              "      <th>image_source</th>\n",
              "      <th>upload_timestamp</th>\n",
              "      <th>serial_number</th>\n",
              "      <th>new_hotel_id</th>\n",
              "    </tr>\n",
              "  </thead>\n",
              "  <tbody>\n",
              "    <tr>\n",
              "      <th>0</th>\n",
              "      <td>2603768</td>\n",
              "      <td>6111</td>\n",
              "      <td>https://traffickcam.com/images/2017/7/20160630...</td>\n",
              "      <td>traffickcam</td>\n",
              "      <td>6/30/16 10:01</td>\n",
              "      <td>3152</td>\n",
              "      <td>38</td>\n",
              "    </tr>\n",
              "    <tr>\n",
              "      <th>1</th>\n",
              "      <td>2603769</td>\n",
              "      <td>6111</td>\n",
              "      <td>https://traffickcam.com/images/2017/7/20160630...</td>\n",
              "      <td>traffickcam</td>\n",
              "      <td>6/30/16 10:01</td>\n",
              "      <td>3153</td>\n",
              "      <td>38</td>\n",
              "    </tr>\n",
              "    <tr>\n",
              "      <th>2</th>\n",
              "      <td>2626781</td>\n",
              "      <td>1719</td>\n",
              "      <td>https://traffickcam.com/images/2017/8/20160723...</td>\n",
              "      <td>traffickcam</td>\n",
              "      <td>7/23/16 20:55</td>\n",
              "      <td>7463</td>\n",
              "      <td>9</td>\n",
              "    </tr>\n",
              "    <tr>\n",
              "      <th>3</th>\n",
              "      <td>2628735</td>\n",
              "      <td>4656</td>\n",
              "      <td>https://traffickcam.com/images/2017/8/20160726...</td>\n",
              "      <td>traffickcam</td>\n",
              "      <td>7/26/16 18:36</td>\n",
              "      <td>7869</td>\n",
              "      <td>30</td>\n",
              "    </tr>\n",
              "    <tr>\n",
              "      <th>4</th>\n",
              "      <td>2628736</td>\n",
              "      <td>4656</td>\n",
              "      <td>https://traffickcam.com/images/2017/8/20160726...</td>\n",
              "      <td>traffickcam</td>\n",
              "      <td>7/26/16 18:36</td>\n",
              "      <td>7870</td>\n",
              "      <td>30</td>\n",
              "    </tr>\n",
              "    <tr>\n",
              "      <th>...</th>\n",
              "      <td>...</td>\n",
              "      <td>...</td>\n",
              "      <td>...</td>\n",
              "      <td>...</td>\n",
              "      <td>...</td>\n",
              "      <td>...</td>\n",
              "      <td>...</td>\n",
              "    </tr>\n",
              "    <tr>\n",
              "      <th>4897</th>\n",
              "      <td>7412171</td>\n",
              "      <td>7670</td>\n",
              "      <td>https://i.travelapi.com/hotels/3000000/2820000...</td>\n",
              "      <td>travel_website</td>\n",
              "      <td>2019-12-20 10:55:27</td>\n",
              "      <td>169983</td>\n",
              "      <td>49</td>\n",
              "    </tr>\n",
              "    <tr>\n",
              "      <th>4898</th>\n",
              "      <td>7412172</td>\n",
              "      <td>7670</td>\n",
              "      <td>https://i.travelapi.com/hotels/3000000/2820000...</td>\n",
              "      <td>travel_website</td>\n",
              "      <td>2019-12-20 10:55:27</td>\n",
              "      <td>169984</td>\n",
              "      <td>49</td>\n",
              "    </tr>\n",
              "    <tr>\n",
              "      <th>4899</th>\n",
              "      <td>7412173</td>\n",
              "      <td>7670</td>\n",
              "      <td>https://i.travelapi.com/hotels/3000000/2820000...</td>\n",
              "      <td>travel_website</td>\n",
              "      <td>2019-12-20 10:55:27</td>\n",
              "      <td>169985</td>\n",
              "      <td>49</td>\n",
              "    </tr>\n",
              "    <tr>\n",
              "      <th>4900</th>\n",
              "      <td>7412174</td>\n",
              "      <td>7670</td>\n",
              "      <td>https://i.travelapi.com/hotels/3000000/2820000...</td>\n",
              "      <td>travel_website</td>\n",
              "      <td>2019-12-20 10:55:27</td>\n",
              "      <td>169986</td>\n",
              "      <td>49</td>\n",
              "    </tr>\n",
              "    <tr>\n",
              "      <th>4901</th>\n",
              "      <td>7412176</td>\n",
              "      <td>7670</td>\n",
              "      <td>https://i.travelapi.com/hotels/3000000/2820000...</td>\n",
              "      <td>travel_website</td>\n",
              "      <td>2019-12-20 10:55:27</td>\n",
              "      <td>169988</td>\n",
              "      <td>49</td>\n",
              "    </tr>\n",
              "  </tbody>\n",
              "</table>\n",
              "<p>4902 rows × 7 columns</p>\n",
              "</div>"
            ],
            "text/plain": [
              "     image_id hotel_id  ... serial_number new_hotel_id\n",
              "0     2603768     6111  ...          3152           38\n",
              "1     2603769     6111  ...          3153           38\n",
              "2     2626781     1719  ...          7463            9\n",
              "3     2628735     4656  ...          7869           30\n",
              "4     2628736     4656  ...          7870           30\n",
              "...       ...      ...  ...           ...          ...\n",
              "4897  7412171     7670  ...        169983           49\n",
              "4898  7412172     7670  ...        169984           49\n",
              "4899  7412173     7670  ...        169985           49\n",
              "4900  7412174     7670  ...        169986           49\n",
              "4901  7412176     7670  ...        169988           49\n",
              "\n",
              "[4902 rows x 7 columns]"
            ]
          },
          "metadata": {},
          "execution_count": 59
        }
      ]
    },
    {
      "cell_type": "markdown",
      "source": [
        "Note: In case you do not want to perform all this preprocessing to get the datasets, we have saved these datasets in csvs for ready use.\n",
        "The links are as follows:\n",
        "\n",
        "*   top_50_hotels_train: https://drive.google.com/file/d/1aRtLrAUzQBHRidM6GD4G2u_erBAfSubo/view?usp=sharing\n",
        "*   top_50_hotels_test: https://drive.google.com/file/d/1aiD9_Gp07_TvGr5YXhSex681uyLP7naf/view?usp=sharing\n",
        "*   top_50_hotels_validation: https://drive.google.com/file/d/1ARfKBcjBQaHtlBYin33ZRFBsm1h8d1u2/view?usp=sharing\n"
      ],
      "metadata": {
        "id": "Gjzvu-s_ImOG"
      }
    },
    {
      "cell_type": "code",
      "source": [
        "top_50_hotels.to_csv('/content/gdrive/MyDrive/AI/datasets/170k/top_50_hotels.csv')"
      ],
      "metadata": {
        "id": "gibevWM_P5nr"
      },
      "execution_count": null,
      "outputs": []
    },
    {
      "cell_type": "markdown",
      "source": [
        "# **We will apply our three models to the new dataset**"
      ],
      "metadata": {
        "id": "yw6mpsaihQPV"
      }
    },
    {
      "cell_type": "code",
      "source": [
        "from tensorflow.keras.applications.resnet50 import preprocess_input\n",
        "from tensorflow.keras.applications.resnet50 import decode_predictions\n",
        "from keras.preprocessing.image import load_img\n",
        "from keras.preprocessing.image import img_to_array\n",
        "train_imgs = []\n",
        "for i in range(0, len(top_50_hotels_train['hotel_id'])):\n",
        "  # We noticed that two more images have disfunctional links\n",
        "  # so we are simply skipping them\n",
        "  if i == 676 or i == 680:\n",
        "    continue\n",
        "  serial_number = top_50_hotels_train['serial_number'][i]\n",
        "  image = img_to_array(load_img(f'/content/gdrive/MyDrive/AI/top_50_hotels_images_170k/img{serial_number}.jpg', target_size=(224, 224)))\n",
        "  image = preprocess_input(image)\n",
        "  train_imgs.append(image)\n",
        "  if (i % 1000 == 0):\n",
        "    print(i)"
      ],
      "metadata": {
        "colab": {
          "base_uri": "https://localhost:8080/"
        },
        "id": "FFh9tKZwhHUD",
        "outputId": "60f469ab-2f2f-457f-c8ad-7c03d31eaf75"
      },
      "execution_count": null,
      "outputs": [
        {
          "output_type": "stream",
          "name": "stdout",
          "text": [
            "0\n",
            "1000\n",
            "2000\n",
            "3000\n",
            "4000\n"
          ]
        }
      ]
    },
    {
      "cell_type": "code",
      "source": [
        "validation_imgs = []\n",
        "for i in range(0, len(top_50_hotels_validation['hotel_id'])):\n",
        "  try:\n",
        "    serial_number = top_50_hotels_validation.iloc[i]['serial_number']\n",
        "    image = img_to_array(load_img(f'/content/gdrive/MyDrive/AI/top_50_hotels_images_170k/img{serial_number}.jpg', target_size=(224, 224)))\n",
        "    image = preprocess_input(image)\n",
        "    validation_imgs.append(image)\n",
        "  except:\n",
        "    print(i)\n",
        "  if (i % 100 == 0):\n",
        "    print(i)"
      ],
      "metadata": {
        "colab": {
          "base_uri": "https://localhost:8080/"
        },
        "id": "wHCreLOyhcJ9",
        "outputId": "dd44e1b7-7152-43e6-93a0-b0ca0f87eced"
      },
      "execution_count": null,
      "outputs": [
        {
          "output_type": "stream",
          "name": "stdout",
          "text": [
            "0\n",
            "100\n",
            "200\n",
            "300\n",
            "400\n",
            "500\n",
            "600\n"
          ]
        }
      ]
    },
    {
      "cell_type": "code",
      "source": [
        "test_imgs = []\n",
        "for i in range(0, len(top_50_hotels_test['hotel_id'])):\n",
        "  serial_number = top_50_hotels_test['serial_number'][i]\n",
        "  image = img_to_array(load_img(f'/content/gdrive/MyDrive/AI/top_50_hotels_images_170k/img{serial_number}.jpg', target_size=(224, 224)))\n",
        "  image = preprocess_input(image)\n",
        "  test_imgs.append(image)\n",
        "  if (i % 100 == 0):\n",
        "    print(i)"
      ],
      "metadata": {
        "colab": {
          "base_uri": "https://localhost:8080/"
        },
        "id": "tWCinK4uiDdS",
        "outputId": "9c25819d-aa57-43fd-ee27-719b646f1650"
      },
      "execution_count": null,
      "outputs": [
        {
          "output_type": "stream",
          "name": "stdout",
          "text": [
            "0\n",
            "100\n",
            "200\n",
            "300\n",
            "400\n",
            "500\n",
            "600\n"
          ]
        }
      ]
    },
    {
      "cell_type": "code",
      "source": [
        "import numpy as np\n",
        "\n",
        "train_imgs = np.array(train_imgs)\n",
        "validation_imgs = np.array(validation_imgs)\n",
        "test_imgs = np.array(test_imgs)"
      ],
      "metadata": {
        "id": "JrpPM9eHiJCz"
      },
      "execution_count": null,
      "outputs": []
    },
    {
      "cell_type": "code",
      "source": [
        "train_labels = list(top_50_hotels_train['new_hotel_id'])\n",
        "validation_labels = list(top_50_hotels_validation['new_hotel_id'])\n",
        "test_labels = list(top_50_hotels_test['new_hotel_id'])"
      ],
      "metadata": {
        "id": "ZMOmvslPiMTo"
      },
      "execution_count": null,
      "outputs": []
    },
    {
      "cell_type": "code",
      "source": [
        "# We are removing the labels for the two additional missing images\n",
        "train_labels.remove(6)\n",
        "train_labels.remove(6)"
      ],
      "metadata": {
        "id": "yEb2HyfPJK19"
      },
      "execution_count": null,
      "outputs": []
    },
    {
      "cell_type": "code",
      "source": [
        "from tensorflow.keras.utils import to_categorical\n",
        "\n",
        "train_labels = to_categorical(train_labels, 50)\n",
        "test_labels = to_categorical(test_labels, 50)\n",
        "validation_labels = to_categorical(validation_labels, 50)"
      ],
      "metadata": {
        "id": "HoI1qty9iRPh"
      },
      "execution_count": null,
      "outputs": []
    },
    {
      "cell_type": "markdown",
      "source": [
        "# **Function to plot learning curves**"
      ],
      "metadata": {
        "id": "q_Rt4R76LUqs"
      }
    },
    {
      "cell_type": "code",
      "source": [
        "from matplotlib import pyplot\n",
        "\n",
        "def summarize_model(history):\n",
        "\t# plot loss during training\n",
        "  pyplot.figure(figsize=(8,6))\n",
        "  pyplot.subplot(211)\n",
        "  pyplot.title('Loss')\n",
        "  pyplot.plot(history.history['loss'], label='train')\n",
        "  pyplot.plot(history.history['val_loss'], label='test')\n",
        "  pyplot.legend()\n",
        "  # plot accuracy during training\n",
        "  pyplot.subplot(212)\n",
        "  pyplot.title('Accuracy')\n",
        "  pyplot.plot(history.history['accuracy'], label='train')\n",
        "  pyplot.plot(history.history['val_accuracy'], label='test')\n",
        "  pyplot.legend()\n",
        "  pyplot.show()"
      ],
      "metadata": {
        "id": "-5OAvZDTLXnf"
      },
      "execution_count": null,
      "outputs": []
    },
    {
      "cell_type": "markdown",
      "source": [
        "# **Model 1**"
      ],
      "metadata": {
        "id": "ZQN9i65uiVdA"
      }
    },
    {
      "cell_type": "code",
      "source": [
        "from tensorflow.keras.applications.resnet50 import ResNet50\n",
        "from tensorflow.keras.models import Model\n",
        "from tensorflow.keras.layers import Dense\n",
        "from tensorflow.keras.layers import Flatten\n",
        "from tensorflow.keras.layers import Conv2D, MaxPooling2D, Flatten, Dense, Dropout, InputLayer\n",
        "from tensorflow.keras.models import Sequential\n",
        "from tensorflow.keras import Input\n",
        "from tensorflow.keras import optimizers\n",
        "import keras\n",
        "\n",
        "model_1 = Sequential()\n",
        "input_t = Input(shape = (224,224,3))\n",
        "pretrained_model= ResNet50(include_top=False,\n",
        "                           input_tensor=input_t, \n",
        "                   pooling='avg',classes= 50,\n",
        "                   weights='imagenet')\n",
        "for layer in pretrained_model.layers:\n",
        "        layer.trainable=False\n",
        "model_1.add(pretrained_model)\n",
        "model_1.add(Flatten())\n",
        "model_1.add(Dense(512, activation='relu', input_dim = (224,224,3)))\n",
        "output = our_model.add(Dense(50, activation='softmax'))\n",
        "model_1.summary()"
      ],
      "metadata": {
        "colab": {
          "base_uri": "https://localhost:8080/"
        },
        "id": "V0FHm2jDiSxW",
        "outputId": "3be734a9-9f62-47d7-b551-0cbd1078b788"
      },
      "execution_count": null,
      "outputs": [
        {
          "output_type": "stream",
          "name": "stdout",
          "text": [
            "Model: \"sequential\"\n",
            "_________________________________________________________________\n",
            " Layer (type)                Output Shape              Param #   \n",
            "=================================================================\n",
            " resnet50 (Functional)       (None, 2048)              23587712  \n",
            "                                                                 \n",
            " flatten (Flatten)           (None, 2048)              0         \n",
            "                                                                 \n",
            " dense (Dense)               (None, 512)               1049088   \n",
            "                                                                 \n",
            " dense_1 (Dense)             (None, 50)                25650     \n",
            "                                                                 \n",
            "=================================================================\n",
            "Total params: 24,662,450\n",
            "Trainable params: 1,074,738\n",
            "Non-trainable params: 23,587,712\n",
            "_________________________________________________________________\n"
          ]
        }
      ]
    },
    {
      "cell_type": "code",
      "source": [
        "model_1.compile(loss='categorical_crossentropy',\n",
        "              optimizer='adam',\n",
        "              metrics=['accuracy'])"
      ],
      "metadata": {
        "id": "Oje10GB_iYre"
      },
      "execution_count": null,
      "outputs": []
    },
    {
      "cell_type": "code",
      "source": [
        "history_1_10 = model_1.fit(x = train_imgs, y = train_labels, validation_data=(validation_imgs, validation_labels), steps_per_epoch=10, epochs=10, verbose=1)"
      ],
      "metadata": {
        "colab": {
          "base_uri": "https://localhost:8080/"
        },
        "id": "NBrEF3yQicAE",
        "outputId": "b10895ac-9928-43e9-a886-335680e9561f"
      },
      "execution_count": null,
      "outputs": [
        {
          "output_type": "stream",
          "name": "stdout",
          "text": [
            "Epoch 1/10\n",
            "10/10 [==============================] - 35s 3s/step - loss: 3.8550 - accuracy: 0.1153 - val_loss: 3.1266 - val_accuracy: 0.2264\n",
            "Epoch 2/10\n",
            "10/10 [==============================] - 30s 3s/step - loss: 2.5372 - accuracy: 0.3718 - val_loss: 2.3793 - val_accuracy: 0.3909\n",
            "Epoch 3/10\n",
            "10/10 [==============================] - 31s 3s/step - loss: 1.7727 - accuracy: 0.5673 - val_loss: 1.9193 - val_accuracy: 0.4984\n",
            "Epoch 4/10\n",
            "10/10 [==============================] - 30s 3s/step - loss: 1.2943 - accuracy: 0.6822 - val_loss: 1.6630 - val_accuracy: 0.5831\n",
            "Epoch 5/10\n",
            "10/10 [==============================] - 30s 3s/step - loss: 0.9803 - accuracy: 0.7747 - val_loss: 1.4917 - val_accuracy: 0.6205\n",
            "Epoch 6/10\n",
            "10/10 [==============================] - 30s 3s/step - loss: 0.7850 - accuracy: 0.8331 - val_loss: 1.4260 - val_accuracy: 0.6336\n",
            "Epoch 7/10\n",
            "10/10 [==============================] - 30s 3s/step - loss: 0.6333 - accuracy: 0.8684 - val_loss: 1.3336 - val_accuracy: 0.6515\n",
            "Epoch 8/10\n",
            "10/10 [==============================] - 30s 3s/step - loss: 0.5127 - accuracy: 0.9049 - val_loss: 1.2388 - val_accuracy: 0.6547\n",
            "Epoch 9/10\n",
            "10/10 [==============================] - 30s 3s/step - loss: 0.4152 - accuracy: 0.9333 - val_loss: 1.2362 - val_accuracy: 0.6743\n",
            "Epoch 10/10\n",
            "10/10 [==============================] - 30s 3s/step - loss: 0.3413 - accuracy: 0.9535 - val_loss: 1.1734 - val_accuracy: 0.6987\n"
          ]
        }
      ]
    },
    {
      "cell_type": "code",
      "source": [
        "testLoss, testAccuracy = model_1.evaluate(test_imgs, test_labels)"
      ],
      "metadata": {
        "colab": {
          "base_uri": "https://localhost:8080/"
        },
        "id": "W3wS8zeFifJO",
        "outputId": "4b0f4c4b-fdd7-48fa-e416-04e0454afe2b"
      },
      "execution_count": null,
      "outputs": [
        {
          "output_type": "stream",
          "name": "stdout",
          "text": [
            "20/20 [==============================] - 4s 198ms/step - loss: 1.1622 - accuracy: 0.7036\n"
          ]
        }
      ]
    },
    {
      "cell_type": "code",
      "source": [
        "summarize_model(history_1_10)"
      ],
      "metadata": {
        "colab": {
          "base_uri": "https://localhost:8080/",
          "height": 390
        },
        "id": "ZTRX57W4WfOb",
        "outputId": "3417e20d-c231-4446-8a56-02e08dd59e5d"
      },
      "execution_count": null,
      "outputs": [
        {
          "output_type": "display_data",
          "data": {
            "image/png": "[encoded data removed]",
            "text/plain": [
              "<Figure size 576x432 with 2 Axes>"
            ]
          },
          "metadata": {
            "needs_background": "light"
          }
        }
      ]
    },
    {
      "cell_type": "code",
      "source": [
        "history_1_20 = model_1.fit(x = train_imgs, y = train_labels, validation_data=(validation_imgs, validation_labels), steps_per_epoch=10, epochs=20, verbose=1)"
      ],
      "metadata": {
        "colab": {
          "base_uri": "https://localhost:8080/"
        },
        "id": "Y29FZ1hBL00-",
        "outputId": "ab6923cc-46ec-445a-d4e3-655502a9b3ef"
      },
      "execution_count": null,
      "outputs": [
        {
          "output_type": "stream",
          "name": "stdout",
          "text": [
            "Epoch 1/20\n",
            "10/10 [==============================] - 54s 3s/step - loss: 3.7143 - accuracy: 0.1331 - val_loss: 2.9996 - val_accuracy: 0.2573\n",
            "Epoch 2/20\n",
            "10/10 [==============================] - 30s 3s/step - loss: 2.3899 - accuracy: 0.4145 - val_loss: 2.2184 - val_accuracy: 0.4397\n",
            "Epoch 3/20\n",
            "10/10 [==============================] - 30s 3s/step - loss: 1.6511 - accuracy: 0.5882 - val_loss: 1.8585 - val_accuracy: 0.4951\n",
            "Epoch 4/20\n",
            "10/10 [==============================] - 30s 3s/step - loss: 1.2063 - accuracy: 0.7137 - val_loss: 1.6167 - val_accuracy: 0.5847\n",
            "Epoch 5/20\n",
            "10/10 [==============================] - 30s 3s/step - loss: 0.9194 - accuracy: 0.7890 - val_loss: 1.4195 - val_accuracy: 0.6336\n",
            "Epoch 6/20\n",
            "10/10 [==============================] - 30s 3s/step - loss: 0.7135 - accuracy: 0.8476 - val_loss: 1.3357 - val_accuracy: 0.6384\n",
            "Epoch 7/20\n",
            "10/10 [==============================] - 30s 3s/step - loss: 0.5645 - accuracy: 0.8910 - val_loss: 1.2494 - val_accuracy: 0.6694\n",
            "Epoch 8/20\n",
            "10/10 [==============================] - 30s 3s/step - loss: 0.4533 - accuracy: 0.9192 - val_loss: 1.1849 - val_accuracy: 0.6726\n",
            "Epoch 9/20\n",
            "10/10 [==============================] - 30s 3s/step - loss: 0.3611 - accuracy: 0.9451 - val_loss: 1.1599 - val_accuracy: 0.6743\n",
            "Epoch 10/20\n",
            "10/10 [==============================] - 30s 3s/step - loss: 0.2932 - accuracy: 0.9655 - val_loss: 1.1275 - val_accuracy: 0.6922\n",
            "Epoch 11/20\n",
            "10/10 [==============================] - 30s 3s/step - loss: 0.2375 - accuracy: 0.9782 - val_loss: 1.0914 - val_accuracy: 0.7020\n",
            "Epoch 12/20\n",
            "10/10 [==============================] - 30s 3s/step - loss: 0.1953 - accuracy: 0.9841 - val_loss: 1.0739 - val_accuracy: 0.7101\n",
            "Epoch 13/20\n",
            "10/10 [==============================] - 30s 3s/step - loss: 0.1600 - accuracy: 0.9912 - val_loss: 1.0522 - val_accuracy: 0.7166\n",
            "Epoch 14/20\n",
            "10/10 [==============================] - 30s 3s/step - loss: 0.1356 - accuracy: 0.9937 - val_loss: 1.0461 - val_accuracy: 0.7117\n",
            "Epoch 15/20\n",
            "10/10 [==============================] - 30s 3s/step - loss: 0.1152 - accuracy: 0.9961 - val_loss: 1.0358 - val_accuracy: 0.7231\n",
            "Epoch 16/20\n",
            "10/10 [==============================] - 30s 3s/step - loss: 0.0955 - accuracy: 0.9984 - val_loss: 1.0265 - val_accuracy: 0.7248\n",
            "Epoch 17/20\n",
            "10/10 [==============================] - 31s 3s/step - loss: 0.0822 - accuracy: 0.9990 - val_loss: 1.0308 - val_accuracy: 0.7101\n",
            "Epoch 18/20\n",
            "10/10 [==============================] - 30s 3s/step - loss: 0.0695 - accuracy: 0.9994 - val_loss: 1.0287 - val_accuracy: 0.7166\n",
            "Epoch 19/20\n",
            "10/10 [==============================] - 31s 3s/step - loss: 0.0605 - accuracy: 0.9998 - val_loss: 1.0183 - val_accuracy: 0.7166\n",
            "Epoch 20/20\n",
            "10/10 [==============================] - 30s 3s/step - loss: 0.0532 - accuracy: 1.0000 - val_loss: 1.0159 - val_accuracy: 0.7248\n"
          ]
        }
      ]
    },
    {
      "cell_type": "code",
      "source": [
        "testLoss, testAccuracy = model_1.evaluate(test_imgs, test_labels)"
      ],
      "metadata": {
        "colab": {
          "base_uri": "https://localhost:8080/"
        },
        "id": "QWwMzVJjMLPF",
        "outputId": "95083f68-ce68-4132-fa04-32265473d8ad"
      },
      "execution_count": null,
      "outputs": [
        {
          "output_type": "stream",
          "name": "stdout",
          "text": [
            "20/20 [==============================] - 4s 196ms/step - loss: 1.1111 - accuracy: 0.7231\n"
          ]
        }
      ]
    },
    {
      "cell_type": "code",
      "source": [
        "summarize_model(history_1_20)"
      ],
      "metadata": {
        "colab": {
          "base_uri": "https://localhost:8080/",
          "height": 390
        },
        "id": "pGEhwZKOYU99",
        "outputId": "dc7df124-f3e4-498b-cfab-44ba7331b12f"
      },
      "execution_count": null,
      "outputs": [
        {
          "output_type": "display_data",
          "data": {
            "image/png": "[encoded data removed]",
            "text/plain": [
              "<Figure size 576x432 with 2 Axes>"
            ]
          },
          "metadata": {
            "needs_background": "light"
          }
        }
      ]
    },
    {
      "cell_type": "code",
      "source": [
        "history_1_50 = model_1.fit(x = train_imgs, y = train_labels, validation_data=(validation_imgs, validation_labels), steps_per_epoch=10, epochs=50, verbose=1)"
      ],
      "metadata": {
        "colab": {
          "base_uri": "https://localhost:8080/"
        },
        "id": "sq5MCIe0PHep",
        "outputId": "86b4ad1c-49b2-4cf4-f810-dad94669682e"
      },
      "execution_count": null,
      "outputs": [
        {
          "output_type": "stream",
          "name": "stdout",
          "text": [
            "Epoch 1/50\n",
            "10/10 [==============================] - 54s 3s/step - loss: 3.6555 - accuracy: 0.1667 - val_loss: 2.9504 - val_accuracy: 0.2866\n",
            "Epoch 2/50\n",
            "10/10 [==============================] - 30s 3s/step - loss: 2.3297 - accuracy: 0.4390 - val_loss: 2.2556 - val_accuracy: 0.4300\n",
            "Epoch 3/50\n",
            "10/10 [==============================] - 30s 3s/step - loss: 1.5993 - accuracy: 0.6153 - val_loss: 1.8561 - val_accuracy: 0.5326\n",
            "Epoch 4/50\n",
            "10/10 [==============================] - 30s 3s/step - loss: 1.1648 - accuracy: 0.7255 - val_loss: 1.5928 - val_accuracy: 0.5912\n",
            "Epoch 5/50\n",
            "10/10 [==============================] - 30s 3s/step - loss: 0.8763 - accuracy: 0.8059 - val_loss: 1.4570 - val_accuracy: 0.6221\n",
            "Epoch 6/50\n",
            "10/10 [==============================] - 30s 3s/step - loss: 0.6887 - accuracy: 0.8555 - val_loss: 1.3694 - val_accuracy: 0.6515\n",
            "Epoch 7/50\n",
            "10/10 [==============================] - 30s 3s/step - loss: 0.5464 - accuracy: 0.8904 - val_loss: 1.3001 - val_accuracy: 0.6564\n",
            "Epoch 8/50\n",
            "10/10 [==============================] - 30s 3s/step - loss: 0.4293 - accuracy: 0.9276 - val_loss: 1.2557 - val_accuracy: 0.6694\n",
            "Epoch 9/50\n",
            "10/10 [==============================] - 30s 3s/step - loss: 0.3534 - accuracy: 0.9455 - val_loss: 1.1902 - val_accuracy: 0.6857\n",
            "Epoch 10/50\n",
            "10/10 [==============================] - 30s 3s/step - loss: 0.2848 - accuracy: 0.9641 - val_loss: 1.1828 - val_accuracy: 0.6824\n",
            "Epoch 11/50\n",
            "10/10 [==============================] - 30s 3s/step - loss: 0.2356 - accuracy: 0.9763 - val_loss: 1.1673 - val_accuracy: 0.6889\n",
            "Epoch 12/50\n",
            "10/10 [==============================] - 30s 3s/step - loss: 0.1940 - accuracy: 0.9863 - val_loss: 1.1274 - val_accuracy: 0.6889\n",
            "Epoch 13/50\n",
            "10/10 [==============================] - 30s 3s/step - loss: 0.1625 - accuracy: 0.9894 - val_loss: 1.1269 - val_accuracy: 0.7020\n",
            "Epoch 14/50\n",
            "10/10 [==============================] - 30s 3s/step - loss: 0.1357 - accuracy: 0.9941 - val_loss: 1.1174 - val_accuracy: 0.7036\n",
            "Epoch 15/50\n",
            "10/10 [==============================] - 30s 3s/step - loss: 0.1146 - accuracy: 0.9965 - val_loss: 1.1163 - val_accuracy: 0.7068\n",
            "Epoch 16/50\n",
            "10/10 [==============================] - 30s 3s/step - loss: 0.0965 - accuracy: 0.9986 - val_loss: 1.0996 - val_accuracy: 0.7003\n",
            "Epoch 17/50\n",
            "10/10 [==============================] - 30s 3s/step - loss: 0.0842 - accuracy: 0.9994 - val_loss: 1.1171 - val_accuracy: 0.7117\n",
            "Epoch 18/50\n",
            "10/10 [==============================] - 31s 3s/step - loss: 0.0701 - accuracy: 0.9994 - val_loss: 1.0956 - val_accuracy: 0.7199\n",
            "Epoch 19/50\n",
            "10/10 [==============================] - 30s 3s/step - loss: 0.0623 - accuracy: 0.9996 - val_loss: 1.0955 - val_accuracy: 0.7150\n",
            "Epoch 20/50\n",
            "10/10 [==============================] - 30s 3s/step - loss: 0.0543 - accuracy: 0.9996 - val_loss: 1.0928 - val_accuracy: 0.7117\n",
            "Epoch 21/50\n",
            "10/10 [==============================] - 30s 3s/step - loss: 0.0493 - accuracy: 1.0000 - val_loss: 1.0988 - val_accuracy: 0.7166\n",
            "Epoch 22/50\n",
            "10/10 [==============================] - 30s 3s/step - loss: 0.0436 - accuracy: 1.0000 - val_loss: 1.1109 - val_accuracy: 0.7199\n",
            "Epoch 23/50\n",
            "10/10 [==============================] - 30s 3s/step - loss: 0.0387 - accuracy: 1.0000 - val_loss: 1.0848 - val_accuracy: 0.7166\n",
            "Epoch 24/50\n",
            "10/10 [==============================] - 30s 3s/step - loss: 0.0349 - accuracy: 1.0000 - val_loss: 1.0938 - val_accuracy: 0.7296\n",
            "Epoch 25/50\n",
            "10/10 [==============================] - 30s 3s/step - loss: 0.0323 - accuracy: 1.0000 - val_loss: 1.1051 - val_accuracy: 0.7166\n",
            "Epoch 26/50\n",
            "10/10 [==============================] - 30s 3s/step - loss: 0.0294 - accuracy: 1.0000 - val_loss: 1.1002 - val_accuracy: 0.7166\n",
            "Epoch 27/50\n",
            "10/10 [==============================] - 30s 3s/step - loss: 0.0272 - accuracy: 1.0000 - val_loss: 1.1030 - val_accuracy: 0.7231\n",
            "Epoch 28/50\n",
            "10/10 [==============================] - 30s 3s/step - loss: 0.0253 - accuracy: 1.0000 - val_loss: 1.1005 - val_accuracy: 0.7215\n",
            "Epoch 29/50\n",
            "10/10 [==============================] - 30s 3s/step - loss: 0.0235 - accuracy: 1.0000 - val_loss: 1.1112 - val_accuracy: 0.7150\n",
            "Epoch 30/50\n",
            "10/10 [==============================] - 30s 3s/step - loss: 0.0218 - accuracy: 1.0000 - val_loss: 1.1058 - val_accuracy: 0.7231\n",
            "Epoch 31/50\n",
            "10/10 [==============================] - 30s 3s/step - loss: 0.0205 - accuracy: 1.0000 - val_loss: 1.1087 - val_accuracy: 0.7215\n",
            "Epoch 32/50\n",
            "10/10 [==============================] - 30s 3s/step - loss: 0.0191 - accuracy: 1.0000 - val_loss: 1.1129 - val_accuracy: 0.7182\n",
            "Epoch 33/50\n",
            "10/10 [==============================] - 30s 3s/step - loss: 0.0178 - accuracy: 1.0000 - val_loss: 1.1073 - val_accuracy: 0.7231\n",
            "Epoch 34/50\n",
            "10/10 [==============================] - 31s 3s/step - loss: 0.0168 - accuracy: 1.0000 - val_loss: 1.1175 - val_accuracy: 0.7248\n",
            "Epoch 35/50\n",
            "10/10 [==============================] - 30s 3s/step - loss: 0.0159 - accuracy: 1.0000 - val_loss: 1.1182 - val_accuracy: 0.7215\n",
            "Epoch 36/50\n",
            "10/10 [==============================] - 30s 3s/step - loss: 0.0150 - accuracy: 1.0000 - val_loss: 1.1224 - val_accuracy: 0.7248\n",
            "Epoch 37/50\n",
            "10/10 [==============================] - 30s 3s/step - loss: 0.0143 - accuracy: 1.0000 - val_loss: 1.1182 - val_accuracy: 0.7264\n",
            "Epoch 38/50\n",
            "10/10 [==============================] - 30s 3s/step - loss: 0.0135 - accuracy: 1.0000 - val_loss: 1.1182 - val_accuracy: 0.7231\n",
            "Epoch 39/50\n",
            "10/10 [==============================] - 31s 3s/step - loss: 0.0128 - accuracy: 1.0000 - val_loss: 1.1256 - val_accuracy: 0.7280\n",
            "Epoch 40/50\n",
            "10/10 [==============================] - 30s 3s/step - loss: 0.0121 - accuracy: 1.0000 - val_loss: 1.1227 - val_accuracy: 0.7264\n",
            "Epoch 41/50\n",
            "10/10 [==============================] - 30s 3s/step - loss: 0.0115 - accuracy: 1.0000 - val_loss: 1.1293 - val_accuracy: 0.7280\n",
            "Epoch 42/50\n",
            "10/10 [==============================] - 30s 3s/step - loss: 0.0110 - accuracy: 1.0000 - val_loss: 1.1296 - val_accuracy: 0.7264\n",
            "Epoch 43/50\n",
            "10/10 [==============================] - 30s 3s/step - loss: 0.0105 - accuracy: 1.0000 - val_loss: 1.1266 - val_accuracy: 0.7280\n",
            "Epoch 44/50\n",
            "10/10 [==============================] - 31s 3s/step - loss: 0.0101 - accuracy: 1.0000 - val_loss: 1.1339 - val_accuracy: 0.7280\n",
            "Epoch 45/50\n",
            "10/10 [==============================] - 30s 3s/step - loss: 0.0096 - accuracy: 1.0000 - val_loss: 1.1359 - val_accuracy: 0.7296\n",
            "Epoch 46/50\n",
            "10/10 [==============================] - 30s 3s/step - loss: 0.0092 - accuracy: 1.0000 - val_loss: 1.1341 - val_accuracy: 0.7264\n",
            "Epoch 47/50\n",
            "10/10 [==============================] - 30s 3s/step - loss: 0.0088 - accuracy: 1.0000 - val_loss: 1.1352 - val_accuracy: 0.7296\n",
            "Epoch 48/50\n",
            "10/10 [==============================] - 30s 3s/step - loss: 0.0085 - accuracy: 1.0000 - val_loss: 1.1409 - val_accuracy: 0.7248\n",
            "Epoch 49/50\n",
            "10/10 [==============================] - 30s 3s/step - loss: 0.0081 - accuracy: 1.0000 - val_loss: 1.1396 - val_accuracy: 0.7313\n",
            "Epoch 50/50\n",
            "10/10 [==============================] - 30s 3s/step - loss: 0.0078 - accuracy: 1.0000 - val_loss: 1.1395 - val_accuracy: 0.7313\n"
          ]
        }
      ]
    },
    {
      "cell_type": "code",
      "source": [
        "testLoss, testAccuracy = model_1.evaluate(test_imgs, test_labels)"
      ],
      "metadata": {
        "colab": {
          "base_uri": "https://localhost:8080/"
        },
        "id": "GpXEQzymPUgd",
        "outputId": "9301a1c3-c906-4bf4-e8c7-47843490ee35"
      },
      "execution_count": null,
      "outputs": [
        {
          "output_type": "stream",
          "name": "stdout",
          "text": [
            "20/20 [==============================] - 4s 195ms/step - loss: 1.1752 - accuracy: 0.7427\n"
          ]
        }
      ]
    },
    {
      "cell_type": "code",
      "source": [
        "summarize_model(history_1_50)"
      ],
      "metadata": {
        "colab": {
          "base_uri": "https://localhost:8080/",
          "height": 390
        },
        "id": "_pR5f5GAWcVD",
        "outputId": "c6ed1bd0-2418-4982-d3eb-7739a3c7d4e6"
      },
      "execution_count": null,
      "outputs": [
        {
          "output_type": "display_data",
          "data": {
            "image/png": "[encoded data removed]",
            "text/plain": [
              "<Figure size 576x432 with 2 Axes>"
            ]
          },
          "metadata": {
            "needs_background": "light"
          }
        }
      ]
    },
    {
      "cell_type": "markdown",
      "source": [
        "# **Model 2**"
      ],
      "metadata": {
        "id": "XSLERZcccKtG"
      }
    },
    {
      "cell_type": "code",
      "source": [
        "from tensorflow.keras.applications.resnet50 import ResNet50\n",
        "from tensorflow.keras.models import Model\n",
        "from tensorflow.keras.layers import Dense\n",
        "from tensorflow.keras.layers import Flatten\n",
        "from tensorflow.keras.layers import Conv2D, MaxPooling2D, Flatten, Dense, Dropout, InputLayer\n",
        "from tensorflow.keras.models import Sequential\n",
        "from tensorflow.keras import Input\n",
        "from tensorflow.keras import optimizers\n",
        "import keras\n",
        "\n",
        "model_2 = Sequential()\n",
        "input_t = Input(shape = (224,224,3))\n",
        "pretrained_model= ResNet50(include_top=False,\n",
        "                           input_tensor=input_t, \n",
        "                   pooling='avg',classes= 50,\n",
        "                   weights='imagenet')\n",
        "for layer in pretrained_model.layers:\n",
        "        layer.trainable=False\n",
        "model_2.add(pretrained_model)\n",
        "model_2.add(Flatten())\n",
        "model_2.add(Dense(512, activation='relu'))\n",
        "model_2.add(Dense(1024, activation='relu', input_dim = (224,224,3)))\n",
        "output = model_2.add(Dense(50, activation='softmax'))\n",
        "model_2.summary()"
      ],
      "metadata": {
        "colab": {
          "base_uri": "https://localhost:8080/"
        },
        "id": "GtJOgAZVcPCc",
        "outputId": "1a6ee225-638d-4c60-fa4b-2c87b1722a5f"
      },
      "execution_count": null,
      "outputs": [
        {
          "output_type": "stream",
          "name": "stdout",
          "text": [
            "Model: \"sequential\"\n",
            "_________________________________________________________________\n",
            " Layer (type)                Output Shape              Param #   \n",
            "=================================================================\n",
            " resnet50 (Functional)       (None, 2048)              23587712  \n",
            "                                                                 \n",
            " flatten (Flatten)           (None, 2048)              0         \n",
            "                                                                 \n",
            " dense (Dense)               (None, 512)               1049088   \n",
            "                                                                 \n",
            " dense_1 (Dense)             (None, 1024)              525312    \n",
            "                                                                 \n",
            " dense_2 (Dense)             (None, 50)                51250     \n",
            "                                                                 \n",
            "=================================================================\n",
            "Total params: 25,213,362\n",
            "Trainable params: 1,625,650\n",
            "Non-trainable params: 23,587,712\n",
            "_________________________________________________________________\n"
          ]
        }
      ]
    },
    {
      "cell_type": "code",
      "source": [
        "model_2.compile(loss='categorical_crossentropy',\n",
        "              optimizer='adam',\n",
        "              metrics=['accuracy'])"
      ],
      "metadata": {
        "id": "BcgETNPZcTIj"
      },
      "execution_count": null,
      "outputs": []
    },
    {
      "cell_type": "code",
      "source": [
        "history_2_10 = model_2.fit(x = train_imgs, y = train_labels, validation_data=(validation_imgs, validation_labels), steps_per_epoch=10, epochs=10, verbose=1)"
      ],
      "metadata": {
        "colab": {
          "base_uri": "https://localhost:8080/"
        },
        "id": "nfOe5jfxcV53",
        "outputId": "f7be9115-2aca-4fb8-fb2e-a851b94bcc0f"
      },
      "execution_count": null,
      "outputs": [
        {
          "output_type": "stream",
          "name": "stdout",
          "text": [
            "Epoch 1/10\n",
            "10/10 [==============================] - 35s 3s/step - loss: 3.7778 - accuracy: 0.1006 - val_loss: 3.2401 - val_accuracy: 0.2182\n",
            "Epoch 2/10\n",
            "10/10 [==============================] - 30s 3s/step - loss: 2.6238 - accuracy: 0.3559 - val_loss: 2.3084 - val_accuracy: 0.4153\n",
            "Epoch 3/10\n",
            "10/10 [==============================] - 30s 3s/step - loss: 1.7897 - accuracy: 0.5412 - val_loss: 1.8473 - val_accuracy: 0.5163\n",
            "Epoch 4/10\n",
            "10/10 [==============================] - 30s 3s/step - loss: 1.2735 - accuracy: 0.6698 - val_loss: 1.5567 - val_accuracy: 0.5912\n",
            "Epoch 5/10\n",
            "10/10 [==============================] - 30s 3s/step - loss: 0.9427 - accuracy: 0.7624 - val_loss: 1.4660 - val_accuracy: 0.6124\n",
            "Epoch 6/10\n",
            "10/10 [==============================] - 30s 3s/step - loss: 0.7008 - accuracy: 0.8316 - val_loss: 1.4185 - val_accuracy: 0.6189\n",
            "Epoch 7/10\n",
            "10/10 [==============================] - 30s 3s/step - loss: 0.5336 - accuracy: 0.8671 - val_loss: 1.2245 - val_accuracy: 0.6645\n",
            "Epoch 8/10\n",
            "10/10 [==============================] - 30s 3s/step - loss: 0.3748 - accuracy: 0.9212 - val_loss: 1.1332 - val_accuracy: 0.6840\n",
            "Epoch 9/10\n",
            "10/10 [==============================] - 30s 3s/step - loss: 0.2617 - accuracy: 0.9516 - val_loss: 1.1698 - val_accuracy: 0.6775\n",
            "Epoch 10/10\n",
            "10/10 [==============================] - 30s 3s/step - loss: 0.1932 - accuracy: 0.9676 - val_loss: 1.1546 - val_accuracy: 0.6726\n"
          ]
        }
      ]
    },
    {
      "cell_type": "code",
      "source": [
        "testLoss, testAccuracy = model_2.evaluate(test_imgs, test_labels)"
      ],
      "metadata": {
        "colab": {
          "base_uri": "https://localhost:8080/"
        },
        "id": "1Bcv3PdbccMy",
        "outputId": "48640570-9516-4aba-f617-2f07971ade9c"
      },
      "execution_count": null,
      "outputs": [
        {
          "output_type": "stream",
          "name": "stdout",
          "text": [
            "20/20 [==============================] - 4s 194ms/step - loss: 1.2102 - accuracy: 0.6987\n"
          ]
        }
      ]
    },
    {
      "cell_type": "code",
      "source": [
        "summarize_model(history_2_10)"
      ],
      "metadata": {
        "colab": {
          "base_uri": "https://localhost:8080/",
          "height": 390
        },
        "id": "174QgcCWdqiz",
        "outputId": "f55aa59b-c992-46d5-93d7-52321ac9decf"
      },
      "execution_count": null,
      "outputs": [
        {
          "output_type": "display_data",
          "data": {
            "image/png": "[encoded data removed]",
            "text/plain": [
              "<Figure size 576x432 with 2 Axes>"
            ]
          },
          "metadata": {
            "needs_background": "light"
          }
        }
      ]
    },
    {
      "cell_type": "code",
      "source": [
        "history_2_20 = model_2.fit(x = train_imgs, y = train_labels, validation_data=(validation_imgs, validation_labels), steps_per_epoch=10, epochs=20, verbose=1)"
      ],
      "metadata": {
        "colab": {
          "base_uri": "https://localhost:8080/"
        },
        "id": "MkwRIkZLdwPq",
        "outputId": "58ab8534-0930-4040-8e27-b3ade352edef"
      },
      "execution_count": null,
      "outputs": [
        {
          "output_type": "stream",
          "name": "stdout",
          "text": [
            "Epoch 1/20\n",
            "10/10 [==============================] - 54s 3s/step - loss: 3.7163 - accuracy: 0.1124 - val_loss: 3.1480 - val_accuracy: 0.2150\n",
            "Epoch 2/20\n",
            "10/10 [==============================] - 30s 3s/step - loss: 2.4467 - accuracy: 0.3861 - val_loss: 2.1898 - val_accuracy: 0.4365\n",
            "Epoch 3/20\n",
            "10/10 [==============================] - 30s 3s/step - loss: 1.6039 - accuracy: 0.5778 - val_loss: 1.7613 - val_accuracy: 0.5293\n",
            "Epoch 4/20\n",
            "10/10 [==============================] - 30s 3s/step - loss: 1.1118 - accuracy: 0.7157 - val_loss: 1.5065 - val_accuracy: 0.5977\n",
            "Epoch 5/20\n",
            "10/10 [==============================] - 30s 3s/step - loss: 0.8184 - accuracy: 0.7849 - val_loss: 1.3511 - val_accuracy: 0.6368\n",
            "Epoch 6/20\n",
            "10/10 [==============================] - 30s 3s/step - loss: 0.6117 - accuracy: 0.8422 - val_loss: 1.2917 - val_accuracy: 0.6629\n",
            "Epoch 7/20\n",
            "10/10 [==============================] - 30s 3s/step - loss: 0.4192 - accuracy: 0.9106 - val_loss: 1.1526 - val_accuracy: 0.6889\n",
            "Epoch 8/20\n",
            "10/10 [==============================] - 30s 3s/step - loss: 0.2894 - accuracy: 0.9422 - val_loss: 1.1592 - val_accuracy: 0.6873\n",
            "Epoch 9/20\n",
            "10/10 [==============================] - 30s 3s/step - loss: 0.2099 - accuracy: 0.9657 - val_loss: 1.1183 - val_accuracy: 0.7052\n",
            "Epoch 10/20\n",
            "10/10 [==============================] - 30s 3s/step - loss: 0.1444 - accuracy: 0.9849 - val_loss: 1.0937 - val_accuracy: 0.7020\n",
            "Epoch 11/20\n",
            "10/10 [==============================] - 30s 3s/step - loss: 0.1023 - accuracy: 0.9910 - val_loss: 1.1280 - val_accuracy: 0.7101\n",
            "Epoch 12/20\n",
            "10/10 [==============================] - 30s 3s/step - loss: 0.0726 - accuracy: 0.9951 - val_loss: 1.1038 - val_accuracy: 0.7182\n",
            "Epoch 13/20\n",
            "10/10 [==============================] - 30s 3s/step - loss: 0.0509 - accuracy: 0.9986 - val_loss: 1.0987 - val_accuracy: 0.7329\n",
            "Epoch 14/20\n",
            "10/10 [==============================] - 30s 3s/step - loss: 0.0360 - accuracy: 1.0000 - val_loss: 1.1051 - val_accuracy: 0.7296\n",
            "Epoch 15/20\n",
            "10/10 [==============================] - 30s 3s/step - loss: 0.0275 - accuracy: 1.0000 - val_loss: 1.0964 - val_accuracy: 0.7378\n",
            "Epoch 16/20\n",
            "10/10 [==============================] - 30s 3s/step - loss: 0.0228 - accuracy: 1.0000 - val_loss: 1.0936 - val_accuracy: 0.7378\n",
            "Epoch 17/20\n",
            "10/10 [==============================] - 30s 3s/step - loss: 0.0178 - accuracy: 1.0000 - val_loss: 1.0897 - val_accuracy: 0.7443\n",
            "Epoch 18/20\n",
            "10/10 [==============================] - 30s 3s/step - loss: 0.0149 - accuracy: 1.0000 - val_loss: 1.0937 - val_accuracy: 0.7443\n",
            "Epoch 19/20\n",
            "10/10 [==============================] - 30s 3s/step - loss: 0.0123 - accuracy: 1.0000 - val_loss: 1.0901 - val_accuracy: 0.7410\n",
            "Epoch 20/20\n",
            "10/10 [==============================] - 30s 3s/step - loss: 0.0108 - accuracy: 1.0000 - val_loss: 1.1071 - val_accuracy: 0.7443\n"
          ]
        }
      ]
    },
    {
      "cell_type": "code",
      "source": [
        "testLoss, testAccuracy = model_2.evaluate(test_imgs, test_labels)"
      ],
      "metadata": {
        "colab": {
          "base_uri": "https://localhost:8080/"
        },
        "id": "nYlltcl0eXCZ",
        "outputId": "d1fae52c-fad6-4c9f-d991-f9b1cb6b52a3"
      },
      "execution_count": null,
      "outputs": [
        {
          "output_type": "stream",
          "name": "stdout",
          "text": [
            "20/20 [==============================] - 4s 193ms/step - loss: 1.2034 - accuracy: 0.7524\n"
          ]
        }
      ]
    },
    {
      "cell_type": "code",
      "source": [
        "summarize_model(history_2_20)"
      ],
      "metadata": {
        "colab": {
          "base_uri": "https://localhost:8080/",
          "height": 390
        },
        "id": "A0p9pjPOhqkM",
        "outputId": "a7122910-801e-4df8-d7ef-d570860d415d"
      },
      "execution_count": null,
      "outputs": [
        {
          "output_type": "display_data",
          "data": {
            "image/png": "[encoded data removed]",
            "text/plain": [
              "<Figure size 576x432 with 2 Axes>"
            ]
          },
          "metadata": {
            "needs_background": "light"
          }
        }
      ]
    },
    {
      "cell_type": "code",
      "source": [
        "history_2_50 = model_2.fit(x = train_imgs, y = train_labels, validation_data=(validation_imgs, validation_labels), steps_per_epoch=10, epochs=50, verbose=1)"
      ],
      "metadata": {
        "colab": {
          "base_uri": "https://localhost:8080/"
        },
        "id": "c1WDKtEnhufr",
        "outputId": "bdb39721-f9bf-4387-8952-c8374a45178f"
      },
      "execution_count": null,
      "outputs": [
        {
          "output_type": "stream",
          "name": "stdout",
          "text": [
            "Epoch 1/50\n",
            "10/10 [==============================] - 54s 3s/step - loss: 3.5179 - accuracy: 0.1565 - val_loss: 2.8350 - val_accuracy: 0.2883\n",
            "Epoch 2/50\n",
            "10/10 [==============================] - 30s 3s/step - loss: 2.1815 - accuracy: 0.4580 - val_loss: 2.0948 - val_accuracy: 0.4739\n",
            "Epoch 3/50\n",
            "10/10 [==============================] - 30s 3s/step - loss: 1.4454 - accuracy: 0.6235 - val_loss: 1.7722 - val_accuracy: 0.5179\n",
            "Epoch 4/50\n",
            "10/10 [==============================] - 30s 3s/step - loss: 1.0158 - accuracy: 0.7392 - val_loss: 1.4914 - val_accuracy: 0.5912\n",
            "Epoch 5/50\n",
            "10/10 [==============================] - 30s 3s/step - loss: 0.7331 - accuracy: 0.8157 - val_loss: 1.3473 - val_accuracy: 0.6482\n",
            "Epoch 6/50\n",
            "10/10 [==============================] - 30s 3s/step - loss: 0.5462 - accuracy: 0.8653 - val_loss: 1.2569 - val_accuracy: 0.6743\n",
            "Epoch 7/50\n",
            "10/10 [==============================] - 30s 3s/step - loss: 0.3817 - accuracy: 0.9169 - val_loss: 1.2303 - val_accuracy: 0.6710\n",
            "Epoch 8/50\n",
            "10/10 [==============================] - 30s 3s/step - loss: 0.2634 - accuracy: 0.9504 - val_loss: 1.1283 - val_accuracy: 0.7134\n",
            "Epoch 9/50\n",
            "10/10 [==============================] - 30s 3s/step - loss: 0.1861 - accuracy: 0.9684 - val_loss: 1.1605 - val_accuracy: 0.6922\n",
            "Epoch 10/50\n",
            "10/10 [==============================] - 30s 3s/step - loss: 0.1317 - accuracy: 0.9857 - val_loss: 1.0634 - val_accuracy: 0.7248\n",
            "Epoch 11/50\n",
            "10/10 [==============================] - 30s 3s/step - loss: 0.0861 - accuracy: 0.9943 - val_loss: 1.0820 - val_accuracy: 0.7003\n",
            "Epoch 12/50\n",
            "10/10 [==============================] - 30s 3s/step - loss: 0.0601 - accuracy: 0.9978 - val_loss: 1.0827 - val_accuracy: 0.7199\n",
            "Epoch 13/50\n",
            "10/10 [==============================] - 30s 3s/step - loss: 0.0436 - accuracy: 0.9990 - val_loss: 1.1369 - val_accuracy: 0.7117\n",
            "Epoch 14/50\n",
            "10/10 [==============================] - 30s 3s/step - loss: 0.0331 - accuracy: 0.9998 - val_loss: 1.0980 - val_accuracy: 0.7280\n",
            "Epoch 15/50\n",
            "10/10 [==============================] - 30s 3s/step - loss: 0.0251 - accuracy: 1.0000 - val_loss: 1.1059 - val_accuracy: 0.7248\n",
            "Epoch 16/50\n",
            "10/10 [==============================] - 30s 3s/step - loss: 0.0198 - accuracy: 1.0000 - val_loss: 1.0958 - val_accuracy: 0.7199\n",
            "Epoch 17/50\n",
            "10/10 [==============================] - 30s 3s/step - loss: 0.0159 - accuracy: 1.0000 - val_loss: 1.0942 - val_accuracy: 0.7329\n",
            "Epoch 18/50\n",
            "10/10 [==============================] - 30s 3s/step - loss: 0.0135 - accuracy: 1.0000 - val_loss: 1.1137 - val_accuracy: 0.7313\n",
            "Epoch 19/50\n",
            "10/10 [==============================] - 31s 3s/step - loss: 0.0115 - accuracy: 1.0000 - val_loss: 1.1168 - val_accuracy: 0.7329\n",
            "Epoch 20/50\n",
            "10/10 [==============================] - 30s 3s/step - loss: 0.0100 - accuracy: 1.0000 - val_loss: 1.1088 - val_accuracy: 0.7378\n",
            "Epoch 21/50\n",
            "10/10 [==============================] - 30s 3s/step - loss: 0.0090 - accuracy: 1.0000 - val_loss: 1.1304 - val_accuracy: 0.7280\n",
            "Epoch 22/50\n",
            "10/10 [==============================] - 30s 3s/step - loss: 0.0080 - accuracy: 1.0000 - val_loss: 1.1215 - val_accuracy: 0.7345\n",
            "Epoch 23/50\n",
            "10/10 [==============================] - 30s 3s/step - loss: 0.0073 - accuracy: 1.0000 - val_loss: 1.1331 - val_accuracy: 0.7313\n",
            "Epoch 24/50\n",
            "10/10 [==============================] - 30s 3s/step - loss: 0.0066 - accuracy: 1.0000 - val_loss: 1.1384 - val_accuracy: 0.7394\n",
            "Epoch 25/50\n",
            "10/10 [==============================] - 30s 3s/step - loss: 0.0062 - accuracy: 1.0000 - val_loss: 1.1214 - val_accuracy: 0.7427\n",
            "Epoch 26/50\n",
            "10/10 [==============================] - 30s 3s/step - loss: 0.0057 - accuracy: 1.0000 - val_loss: 1.1483 - val_accuracy: 0.7296\n",
            "Epoch 27/50\n",
            "10/10 [==============================] - 30s 3s/step - loss: 0.0052 - accuracy: 1.0000 - val_loss: 1.1459 - val_accuracy: 0.7459\n",
            "Epoch 28/50\n",
            "10/10 [==============================] - 30s 3s/step - loss: 0.0048 - accuracy: 1.0000 - val_loss: 1.1442 - val_accuracy: 0.7329\n",
            "Epoch 29/50\n",
            "10/10 [==============================] - 30s 3s/step - loss: 0.0044 - accuracy: 1.0000 - val_loss: 1.1573 - val_accuracy: 0.7410\n",
            "Epoch 30/50\n",
            "10/10 [==============================] - 31s 3s/step - loss: 0.0042 - accuracy: 1.0000 - val_loss: 1.1657 - val_accuracy: 0.7362\n",
            "Epoch 31/50\n",
            "10/10 [==============================] - 30s 3s/step - loss: 0.0039 - accuracy: 1.0000 - val_loss: 1.1571 - val_accuracy: 0.7394\n",
            "Epoch 32/50\n",
            "10/10 [==============================] - 32s 3s/step - loss: 0.0036 - accuracy: 1.0000 - val_loss: 1.1681 - val_accuracy: 0.7443\n",
            "Epoch 33/50\n",
            "10/10 [==============================] - 30s 3s/step - loss: 0.0034 - accuracy: 1.0000 - val_loss: 1.1716 - val_accuracy: 0.7362\n",
            "Epoch 34/50\n",
            "10/10 [==============================] - 30s 3s/step - loss: 0.0032 - accuracy: 1.0000 - val_loss: 1.1697 - val_accuracy: 0.7394\n",
            "Epoch 35/50\n",
            "10/10 [==============================] - 30s 3s/step - loss: 0.0030 - accuracy: 1.0000 - val_loss: 1.1827 - val_accuracy: 0.7443\n",
            "Epoch 36/50\n",
            "10/10 [==============================] - 30s 3s/step - loss: 0.0028 - accuracy: 1.0000 - val_loss: 1.1779 - val_accuracy: 0.7427\n",
            "Epoch 37/50\n",
            "10/10 [==============================] - 30s 3s/step - loss: 0.0027 - accuracy: 1.0000 - val_loss: 1.1862 - val_accuracy: 0.7427\n",
            "Epoch 38/50\n",
            "10/10 [==============================] - 30s 3s/step - loss: 0.0026 - accuracy: 1.0000 - val_loss: 1.1887 - val_accuracy: 0.7410\n",
            "Epoch 39/50\n",
            "10/10 [==============================] - 30s 3s/step - loss: 0.0024 - accuracy: 1.0000 - val_loss: 1.1921 - val_accuracy: 0.7427\n",
            "Epoch 40/50\n",
            "10/10 [==============================] - 30s 3s/step - loss: 0.0023 - accuracy: 1.0000 - val_loss: 1.1993 - val_accuracy: 0.7427\n",
            "Epoch 41/50\n",
            "10/10 [==============================] - 30s 3s/step - loss: 0.0022 - accuracy: 1.0000 - val_loss: 1.1993 - val_accuracy: 0.7443\n",
            "Epoch 42/50\n",
            "10/10 [==============================] - 30s 3s/step - loss: 0.0021 - accuracy: 1.0000 - val_loss: 1.2044 - val_accuracy: 0.7427\n",
            "Epoch 43/50\n",
            "10/10 [==============================] - 30s 3s/step - loss: 0.0020 - accuracy: 1.0000 - val_loss: 1.2061 - val_accuracy: 0.7427\n",
            "Epoch 44/50\n",
            "10/10 [==============================] - 30s 3s/step - loss: 0.0019 - accuracy: 1.0000 - val_loss: 1.2083 - val_accuracy: 0.7443\n",
            "Epoch 45/50\n",
            "10/10 [==============================] - 30s 3s/step - loss: 0.0018 - accuracy: 1.0000 - val_loss: 1.2156 - val_accuracy: 0.7427\n",
            "Epoch 46/50\n",
            "10/10 [==============================] - 30s 3s/step - loss: 0.0017 - accuracy: 1.0000 - val_loss: 1.2142 - val_accuracy: 0.7443\n",
            "Epoch 47/50\n",
            "10/10 [==============================] - 30s 3s/step - loss: 0.0016 - accuracy: 1.0000 - val_loss: 1.2198 - val_accuracy: 0.7427\n",
            "Epoch 48/50\n",
            "10/10 [==============================] - 30s 3s/step - loss: 0.0016 - accuracy: 1.0000 - val_loss: 1.2232 - val_accuracy: 0.7443\n",
            "Epoch 49/50\n",
            "10/10 [==============================] - 30s 3s/step - loss: 0.0015 - accuracy: 1.0000 - val_loss: 1.2235 - val_accuracy: 0.7443\n",
            "Epoch 50/50\n",
            "10/10 [==============================] - 30s 3s/step - loss: 0.0015 - accuracy: 1.0000 - val_loss: 1.2308 - val_accuracy: 0.7443\n"
          ]
        }
      ]
    },
    {
      "cell_type": "code",
      "source": [
        "testLoss, testAccuracy = model_2.evaluate(test_imgs, test_labels)"
      ],
      "metadata": {
        "colab": {
          "base_uri": "https://localhost:8080/"
        },
        "id": "rqisyn1UiK3X",
        "outputId": "a8e633e6-ae33-49dd-91f7-75fd90cf042d"
      },
      "execution_count": null,
      "outputs": [
        {
          "output_type": "stream",
          "name": "stdout",
          "text": [
            "20/20 [==============================] - 4s 194ms/step - loss: 1.3466 - accuracy: 0.7476\n"
          ]
        }
      ]
    },
    {
      "cell_type": "code",
      "source": [
        "summarize_model(history_2_50)"
      ],
      "metadata": {
        "colab": {
          "base_uri": "https://localhost:8080/",
          "height": 390
        },
        "id": "Q2CvMlvbot4z",
        "outputId": "f778980f-d4b9-4af4-c8f7-b365435e1bec"
      },
      "execution_count": null,
      "outputs": [
        {
          "output_type": "display_data",
          "data": {
            "image/png": "[encoded data removed]",
            "text/plain": [
              "<Figure size 576x432 with 2 Axes>"
            ]
          },
          "metadata": {
            "needs_background": "light"
          }
        }
      ]
    }
  ]
}